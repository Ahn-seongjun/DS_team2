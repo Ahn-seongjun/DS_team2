{
 "cells": [
  {
   "cell_type": "code",
   "execution_count": 1,
   "id": "49eba345",
   "metadata": {},
   "outputs": [],
   "source": [
    "# 대표값 card_category 활용 결측치 Unkown 대체\n",
    "\n",
    "\n",
    "from IPython.core.interactiveshell import InteractiveShell\n",
    "InteractiveShell.ast_node_interactivity = \"all\"\n",
    "import numpy as np\n",
    "import pandas as pd\n",
    "import matplotlib.pyplot as plt\n",
    "\n",
    "import seaborn as sns\n",
    "%matplotlib inline\n",
    "%config InlineBackend.figure_format = 'retina'\n",
    "\n",
    "\n",
    "data = pd.read_csv(\"./BankChurners_del.csv\")"
   ]
  },
  {
   "cell_type": "code",
   "execution_count": 2,
   "id": "460a4d0c",
   "metadata": {},
   "outputs": [],
   "source": [
    "# 범주형 변수들  INT형태로 변환\n",
    "\n",
    "\n",
    "from sklearn import preprocessing\n",
    "\n",
    "def encode_features(dataDf):\n",
    "    data['Attrition_Flag'] = data['Attrition_Flag'].str[:1]\n",
    "    data['Gender'] = data['Gender'].str[:1]\n",
    "    data['Education_Level'] = data['Education_Level'].str[:3]\n",
    "    data['Marital_Status'] = data['Marital_Status'].str[:1]\n",
    "    data['Card_Category'] = data['Card_Category'].str[:1]\n",
    "    data['Income_Category'] = data['Income_Category'].str[:2]\n",
    "    features = ['Attrition_Flag','Gender','Card_Category','Education_Level','Marital_Status','Card_Category','Income_Category'] #,'Education_Level','Marital_Status','Card_Category','Income_Category']\n",
    "    for feature in features:\n",
    "        le = preprocessing.LabelEncoder()\n",
    "        le = le.fit(dataDf[feature])\n",
    "        dataDf[feature] = le.transform(dataDf[feature])\n",
    "        \n",
    "    return dataDf\n",
    "\n",
    "\n",
    "data = encode_features(data)\n"
   ]
  },
  {
   "cell_type": "code",
   "execution_count": 3,
   "id": "c049073f",
   "metadata": {},
   "outputs": [],
   "source": [
    "# data[\"Education_Level\"].replace({\"Unknown\":np.nan,\n",
    "#                                 \"Graduate\":0,\n",
    "#                                 \"Post-Graduate\":1,\n",
    "#                                 \"Uneducated\":2,\n",
    "#                                 \"College\":3,\n",
    "#                                 \"Doctorate\":4,\n",
    "#                                 \"High School\":5,\n",
    "#                                  },inplace=True)\n"
   ]
  },
  {
   "cell_type": "code",
   "execution_count": 4,
   "id": "c2573cda",
   "metadata": {},
   "outputs": [],
   "source": [
    "# data[\"Income_Category\"].replace({\"Unknown\":np.nan,\n",
    "#                                 \"Less than $40K\":0,\n",
    "#                                 \"$40K - $60K\":1,\n",
    "#                                 \"$60K - $80K\":2,\n",
    "#                                 \"$80K - $120K\":3,\n",
    "#                                 \"$120K +\":4,\n",
    "#                                  },inplace=True)\n"
   ]
  },
  {
   "cell_type": "code",
   "execution_count": 5,
   "id": "5c32be03",
   "metadata": {},
   "outputs": [],
   "source": [
    "# data[\"Marital_Status\"].replace({\"Unknown\":np.nan,\n",
    "#                                 \"Married\":0,\n",
    "#                                 \"Single\":1,\n",
    "#                                 \"Divorced\":2,\n",
    "#                                  },inplace=True)\n"
   ]
  },
  {
   "cell_type": "code",
   "execution_count": 6,
   "id": "2a8e36dc",
   "metadata": {},
   "outputs": [],
   "source": [
    "data_drop = data.drop(['CLIENTNUM','Attrition_Flag'], axis = 1)"
   ]
  },
  {
   "cell_type": "code",
   "execution_count": 7,
   "id": "1798b5f4",
   "metadata": {},
   "outputs": [
    {
     "data": {
      "text/plain": [
       "PCA(n_components=5)"
      ]
     },
     "execution_count": 7,
     "metadata": {},
     "output_type": "execute_result"
    },
    {
     "name": "stdout",
     "output_type": "stream",
     "text": [
      "(10127, 5)\n"
     ]
    }
   ],
   "source": [
    "from sklearn.decomposition import PCA\n",
    "\n",
    "pca = PCA(n_components=5) # 변환할 차원의 수\n",
    "\n",
    "pca.fit(data_drop)\n",
    "data_pca = pca.transform(data_drop)\n",
    "print(data_pca.shape)\n",
    "\n",
    "# 2차원 변환\n",
    "# 150 * 2 넘파이 행렬"
   ]
  },
  {
   "cell_type": "code",
   "execution_count": null,
   "id": "475a8c16",
   "metadata": {},
   "outputs": [],
   "source": [
    "data_cont\n",
    "data_cont = data.drop(['CLIENTNUM','Attrition_Flag','Gender','Marital_Status','Education_Level','Income_Category','Card_Category'],axis=1)\n",
    "data_cont.head()\n",
    "Customer_Age\tDependent_count\tMonths_on_book\tTotal_Relationship_Count\tMonths_Inactive_12_mon\tContacts_Count_12_mon\tCredit_Limit\tTotal_Revolving_Bal\tAvg_Open_To_Buy\tTotal_Amt_Chng_Q4_Q1\tTotal_Trans_Amt\tTotal_Trans_Ct\tTotal_Ct_Chng_Q4_Q1\tAvg_Utilization_Ratio\n",
    "0\t45\t3\t39\t5\t1\t3\t12691.0\t777\t11914.0\t1.335\t1144\t42\t1.625\t0.061\n",
    "1\t49\t5\t44\t6\t1\t2\t8256.0\t864\t7392.0\t1.541\t1291\t33\t3.714\t0.105\n",
    "2\t51\t3\t36\t4\t1\t0\t3418.0\t0\t3418.0\t2.594\t1887\t20\t2.333\t0.000\n",
    "3\t40\t4\t34\t3\t4\t1\t3313.0\t2517\t796.0\t1.405\t1171\t20\t2.333\t0.760\n",
    "4\t40\t3\t21\t5\t1\t0\t4716.0\t0\t4716.0\t2.175\t816\t28\t2.500\t0.000\n",
    "#평균이 0 분산이 1인 분포로 변환\n",
    "from sklearn.preprocessing import StandardScaler\n",
    "​\n",
    "data_scaled = StandardScaler().fit_transform(data_cont.iloc[:,:-1])\n",
    "from sklearn.decomposition import PCA\n",
    "​\n",
    "pca = PCA(n_components=2) # 변환할 차원의 수\n",
    "​\n",
    "pca.fit(data_scaled)\n",
    "data_pca = pca.transform(data_scaled)\n",
    "print(data_pca.shape)\n",
    "​\n",
    "# 2차원 변환\n",
    "# 150 * 2 넘파이 행렬\n",
    "PCA(n_components=2)\n",
    "(10127, 2)\n",
    "# DF 로 변환\n",
    "​\n",
    "pca_columns = ['pca_component_1','pca_component_2']\n",
    "dataDF_pca = pd.DataFrame(data_pca, columns=pca_columns)\n",
    "dataDF_pca.head(3)\n",
    "pca_component_1\tpca_component_2\n",
    "0\t-0.164897\t-0.136651\n",
    "1\t0.037126\t-1.389378\n",
    "2\t-0.445458\t-1.911678\n",
    "print(pca.explained_variance_ratio_)\n",
    "# pca 2개 요소만 변환해도 원본데이터의 변동성을 95% 설명할 수 있음\n",
    "[0.17715684 0.14423904]\n",
    "from sklearn.ensemble import RandomForestClassifier\n",
    "from sklearn.model_selection import cross_val_score\n",
    "import numpy as np\n",
    "### pca 데이터를 사용해서 학습 분류\n",
    "​\n",
    "rcf = RandomForestClassifier(random_state=156)\n",
    "pca_X = dataDF_pca[['pca_component_1', 'pca_component_2']]\n",
    "scores_pca = cross_val_score(rcf,pca_X,data.Attrition_Flag,scoring='accuracy', cv=3)\n",
    "​\n",
    "print('pca 데이터 교차 검증 개별 정확도 :', scores_pca)\n",
    "print('pca 데이터 평균 정확도 : ', np.mean(scores_pca))\n",
    "pca 데이터 교차 검증 개별 정확도 : [0.569609   0.81753555 0.84681481]\n",
    "pca 데이터 평균 정확도 :  0.7446531215259493\n",
    "ata.Attrition_Flag\n",
    "scores = cross_val_score(rcf, data_cont, data.Attrition_Flag, scoring='accuracy', cv=3)\n",
    "print('원본 데이터 교차 검증 개별 정확도 :', scores)\n",
    "print('원본 데이터 평균 정확도 : ', np.mean(scores))\n",
    "원본 데이터 교차 검증 개별 정확도 : [0.72037915 0.95112559 0.90251852]\n",
    "원본 데이터 평균 정확도 :  0.8580077526183372\n"
   ]
  },
  {
   "cell_type": "code",
   "execution_count": null,
   "id": "ec38f0a2",
   "metadata": {},
   "outputs": [],
   "source": []
  },
  {
   "cell_type": "code",
   "execution_count": null,
   "id": "485b5a8d",
   "metadata": {},
   "outputs": [],
   "source": []
  },
  {
   "cell_type": "code",
   "execution_count": null,
   "id": "89fdbc7a",
   "metadata": {},
   "outputs": [],
   "source": []
  },
  {
   "cell_type": "code",
   "execution_count": null,
   "id": "a656a1a0",
   "metadata": {},
   "outputs": [],
   "source": []
  },
  {
   "cell_type": "code",
   "execution_count": null,
   "id": "f07af616",
   "metadata": {},
   "outputs": [],
   "source": []
  },
  {
   "cell_type": "code",
   "execution_count": null,
   "id": "9f006418",
   "metadata": {},
   "outputs": [],
   "source": []
  },
  {
   "cell_type": "code",
   "execution_count": null,
   "id": "297034d6",
   "metadata": {},
   "outputs": [],
   "source": []
  },
  {
   "cell_type": "code",
   "execution_count": null,
   "id": "5bdfd074",
   "metadata": {},
   "outputs": [],
   "source": []
  }
 ],
 "metadata": {
  "kernelspec": {
   "display_name": "Python 3",
   "language": "python",
   "name": "python3"
  },
  "language_info": {
   "codemirror_mode": {
    "name": "ipython",
    "version": 3
   },
   "file_extension": ".py",
   "mimetype": "text/x-python",
   "name": "python",
   "nbconvert_exporter": "python",
   "pygments_lexer": "ipython3",
   "version": "3.8.8"
  }
 },
 "nbformat": 4,
 "nbformat_minor": 5
}
