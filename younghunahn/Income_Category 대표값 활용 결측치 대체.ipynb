{
 "cells": [
  {
   "cell_type": "code",
   "execution_count": null,
   "id": "a0b60af9",
   "metadata": {},
   "outputs": [],
   "source": [
    "# 대표값 card_category 활용 결측치 Unkown 대체\n",
    "\n",
    "\n",
    "from IPython.core.interactiveshell import InteractiveShell\n",
    "InteractiveShell.ast_node_interactivity = \"all\"\n",
    "import numpy as np\n",
    "import pandas as pd\n",
    "import matplotlib.pyplot as plt\n",
    "\n",
    "import seaborn as sns\n",
    "%matplotlib inline\n",
    "%config InlineBackend.figure_format = 'retina'\n",
    "\n",
    "\n",
    "data = pd.read_csv(\"./BankChurners_del.csv\")\n"
   ]
  },
  {
   "cell_type": "code",
   "execution_count": null,
   "id": "b380e310",
   "metadata": {
    "scrolled": true
   },
   "outputs": [],
   "source": [
    "\n",
    "data.head()"
   ]
  },
  {
   "cell_type": "code",
   "execution_count": null,
   "id": "54d5dbcd",
   "metadata": {},
   "outputs": [],
   "source": [
    "# # 범주형 변수들  INT형태로 변환\n",
    "\n",
    "\n",
    "# from sklearn import preprocessing\n",
    "\n",
    "# def encode_features(dataDf):\n",
    "#     data['Attrition_Flag'] = data['Attrition_Flag'].str[:1]\n",
    "#     data['Gender'] = data['Gender'].str[:1]\n",
    "# #     data['Education_Level'] = data['Education_Level'].str[:3]\n",
    "# #     data['Marital_Status'] = data['Marital_Status'].str[:1]\n",
    "#     data['Card_Category'] = data['Card_Category'].str[:1]\n",
    "# #     data['Income_Category'] = data['Income_Category'].str[:2]\n",
    "#     features = ['Attrition_Flag','Gender','Card_Category'] #,'Education_Level','Marital_Status','Card_Category','Income_Category']\n",
    "#     for feature in features:\n",
    "#         le = preprocessing.LabelEncoder()\n",
    "#         le = le.fit(dataDf[feature])\n",
    "#         dataDf[feature] = le.transform(dataDf[feature])\n",
    "        \n",
    "#     return dataDf\n",
    "\n",
    "\n",
    "# data = encode_features(data)\n"
   ]
  },
  {
   "cell_type": "code",
   "execution_count": null,
   "id": "e011e6e2",
   "metadata": {},
   "outputs": [],
   "source": [
    "data[\"Attrition_Flag\"].replace({\"Existing Customer\":0,\n",
    "                            \"Attrited Customer\":1,\n",
    "                            },inplace=True)"
   ]
  },
  {
   "cell_type": "code",
   "execution_count": null,
   "id": "1fd4952c",
   "metadata": {},
   "outputs": [],
   "source": [
    "data[\"Gender\"].replace({\"F\":1, \"M\":0},inplace=True)"
   ]
  },
  {
   "cell_type": "code",
   "execution_count": null,
   "id": "87bb8cf9",
   "metadata": {},
   "outputs": [],
   "source": [
    "data[\"Card_Category\"].replace({\"Blue\":0,\n",
    "                                 \"Silver\":1,\n",
    "                                 \"Gold\":2,\n",
    "                                 \"Platinum\":3,\n",
    "                                 },inplace=True)"
   ]
  },
  {
   "cell_type": "code",
   "execution_count": null,
   "id": "210110f3",
   "metadata": {},
   "outputs": [],
   "source": [
    "data[\"Education_Level\"].replace({\"Unknown\":np.nan,\n",
    "                                \"Graduate\":0,\n",
    "                                \"Post-Graduate\":1,\n",
    "                                \"Uneducated\":2,\n",
    "                                \"College\":3,\n",
    "                                \"Doctorate\":4,\n",
    "                                \"High School\":5,\n",
    "                                 },inplace=True)\n"
   ]
  },
  {
   "cell_type": "code",
   "execution_count": null,
   "id": "6861627a",
   "metadata": {},
   "outputs": [],
   "source": [
    "data[\"Income_Category\"].replace({\"Unknown\":np.nan,\n",
    "                                \"Less than $40K\":0,\n",
    "                                \"$40K - $60K\":1,\n",
    "                                \"$60K - $80K\":2,\n",
    "                                \"$80K - $120K\":3,\n",
    "                                \"$120K +\":4,\n",
    "                                 },inplace=True)\n"
   ]
  },
  {
   "cell_type": "code",
   "execution_count": null,
   "id": "6ce603ae",
   "metadata": {},
   "outputs": [],
   "source": [
    "data[\"Marital_Status\"].replace({\"Unknown\":np.nan,\n",
    "                                \"Married\":0,\n",
    "                                \"Single\":1,\n",
    "                                \"Divorced\":2,\n",
    "                                 },inplace=True)\n"
   ]
  },
  {
   "cell_type": "code",
   "execution_count": null,
   "id": "cce3234f",
   "metadata": {
    "scrolled": false
   },
   "outputs": [],
   "source": [
    "data"
   ]
  },
  {
   "cell_type": "code",
   "execution_count": null,
   "id": "76599608",
   "metadata": {
    "scrolled": true
   },
   "outputs": [],
   "source": [
    "# 범주형 데이터\n",
    "\n",
    "data_cate = data[['CLIENTNUM','Attrition_Flag','Gender','Marital_Status','Education_Level','Income_Category','Card_Category']]\n",
    "data_cate"
   ]
  },
  {
   "cell_type": "code",
   "execution_count": null,
   "id": "41131a3a",
   "metadata": {},
   "outputs": [],
   "source": [
    "# 대표값 이용 결측치 대체\n",
    "\n",
    "from sklearn.impute import SimpleImputer\n",
    "\n",
    "\n",
    "# 각 데이터에 사용할 인스턴스 생성ㅠ\n",
    "\n",
    "SI_mode =SimpleImputer(strategy = 'most_frequent') # 대표값 최빈값\n",
    "\n",
    "SI_mean = SimpleImputer(strategy = 'mean') # 대표값 평균"
   ]
  },
  {
   "cell_type": "code",
   "execution_count": null,
   "id": "0dc394a5",
   "metadata": {},
   "outputs": [],
   "source": [
    "# 학습\n",
    "\n",
    "SI_mode.fit(data_cate)\n",
    "data_finish_cate = pd.DataFrame(SI_mode.transform(data_cate),\n",
    "                            columns = data_cate.columns)\n",
    "data_finish_cate"
   ]
  },
  {
   "cell_type": "code",
   "execution_count": null,
   "id": "1c719be1",
   "metadata": {
    "scrolled": true
   },
   "outputs": [],
   "source": [
    "data_cont = data.drop(['CLIENTNUM','Attrition_Flag','Gender','Marital_Status','Education_Level','Income_Category','Card_Category'],axis=1)\n",
    "data_cont.head()"
   ]
  },
  {
   "cell_type": "code",
   "execution_count": null,
   "id": "41fc60b0",
   "metadata": {},
   "outputs": [],
   "source": [
    "# #평균이 0 분산이 1인 분포로 변환\n",
    "# from sklearn.preprocessing import StandardScaler\n",
    "\n",
    "# data_scaled = StandardScaler().fit_transform(data_cont.iloc[:,:-1])"
   ]
  },
  {
   "cell_type": "code",
   "execution_count": null,
   "id": "1c8c36f4",
   "metadata": {},
   "outputs": [],
   "source": [
    "# from sklearn.decomposition import PCA\n",
    "\n",
    "# pca = PCA(n_components=10) # 변환할 차원의 수\n",
    "\n",
    "# pca.fit(data_scaled)\n",
    "# data_pca = pca.transform(data_scaled)\n",
    "# print(data_pca.shape)\n",
    "\n",
    "# # 2차원 변환\n",
    "# # 150 * 2 넘파이 행렬"
   ]
  },
  {
   "cell_type": "code",
   "execution_count": null,
   "id": "0650334a",
   "metadata": {
    "scrolled": true
   },
   "outputs": [],
   "source": [
    "# pca_num = ['pca_component_'+str(i) for i in range(1,11)]\n",
    "# print(pca_num)"
   ]
  },
  {
   "cell_type": "code",
   "execution_count": null,
   "id": "170b9624",
   "metadata": {},
   "outputs": [],
   "source": [
    "# # DF 로 변환\n",
    "\n",
    "# pca_columns = [pca_num]\n",
    "# dataDF_pca = pd.DataFrame(data_pca, columns=pca_columns)\n",
    "# dataDF_pca\n"
   ]
  },
  {
   "cell_type": "code",
   "execution_count": null,
   "id": "6c836e52",
   "metadata": {
    "scrolled": true
   },
   "outputs": [],
   "source": [
    "# print(pca.explained_variance_ratio_)\n",
    "# # pca 2개 요소만 변환해도 원본데이터의 변동성을 95% 설명할 수 있음"
   ]
  },
  {
   "cell_type": "code",
   "execution_count": null,
   "id": "5d8bc790",
   "metadata": {},
   "outputs": [],
   "source": [
    "df = pd.concat([data_finish_cate,data_cont],axis=1)"
   ]
  },
  {
   "cell_type": "code",
   "execution_count": null,
   "id": "82afd3e4",
   "metadata": {
    "scrolled": true
   },
   "outputs": [],
   "source": [
    "df"
   ]
  },
  {
   "cell_type": "code",
   "execution_count": null,
   "id": "50c1676e",
   "metadata": {},
   "outputs": [],
   "source": [
    "# # X,y 분할\n",
    "\n",
    "# X = df.drop(['CLIENTNUM','Attrition_Flag'], axis = 1)\n",
    "# Y = df['Attrition_Flag']"
   ]
  },
  {
   "cell_type": "code",
   "execution_count": null,
   "id": "8f933eee",
   "metadata": {},
   "outputs": [],
   "source": [
    "# 모듈 import\n",
    "\n",
    "import xgboost as xgb\n",
    "\n",
    "from xgboost import plot_importance\n",
    "\n",
    "\n",
    "import pandas as pd\n",
    "import numpy as np\n",
    "from sklearn.datasets import load_breast_cancer\n",
    "from sklearn.model_selection import train_test_split\n",
    "import warnings\n",
    "warnings.filterwarnings('ignore')"
   ]
  },
  {
   "cell_type": "code",
   "execution_count": null,
   "id": "c309c9af",
   "metadata": {},
   "outputs": [],
   "source": [
    "# X,y 분할\n",
    "\n",
    "X = df.drop(['CLIENTNUM','Attrition_Flag','Avg_Open_To_Buy','Total_Trans_Amt','Avg_Utilization_Ratio','Total_Amt_Chng_Q4_Q1'], axis = 1)\n",
    "Y = df['Attrition_Flag']\n"
   ]
  },
  {
   "cell_type": "code",
   "execution_count": null,
   "id": "6a0c7090",
   "metadata": {},
   "outputs": [],
   "source": [
    "# 학습 데이터와 평가 데이터로 분리\n",
    "from sklearn.model_selection import train_test_split\n",
    "Train_X, Test_X, Train_Y, Test_Y = train_test_split(X, Y,random_state=4,stratify=Y)"
   ]
  },
  {
   "cell_type": "code",
   "execution_count": null,
   "id": "121cb071",
   "metadata": {
    "scrolled": false
   },
   "outputs": [],
   "source": [
    "# 결측치 확인\n",
    "\n",
    "Train_X.isnull().sum()"
   ]
  },
  {
   "cell_type": "code",
   "execution_count": null,
   "id": "f09c1739",
   "metadata": {},
   "outputs": [],
   "source": [
    "# 학습용/테스트용 모두 변환 해야 함\n",
    "\n",
    "dtrain = xgb.DMatrix(data=Train_X,label = Train_Y)\n",
    "\n",
    "dtest = xgb.DMatrix(data= Test_X,label=Test_Y)"
   ]
  },
  {
   "cell_type": "code",
   "execution_count": null,
   "id": "44c9ba53",
   "metadata": {},
   "outputs": [],
   "source": [
    "params = { 'max_depth':6,\n",
    "           'eta': 0.1,  # learning_rate\n",
    "           'objective':'binary:logistic', \n",
    "           'eval_metric':'logloss',\n",
    "#          'silent' : 0,  # 출력메시지 간략화\n",
    "#           'verbosity':0\n",
    "        }\n",
    "num_rounds = 400  # 부스팅 반복 횟수"
   ]
  },
  {
   "cell_type": "code",
   "execution_count": null,
   "id": "c1982ebb",
   "metadata": {},
   "outputs": [],
   "source": [
    "# train 데이터 셋은 ‘train’ , evaluation 데이터 셋은 ‘eval'로 명기\n",
    "wlist = [(dtrain,'train'),(dtest,'eval') ] # eval 평가용\n"
   ]
  },
  {
   "cell_type": "code",
   "execution_count": null,
   "id": "54b4c5fc",
   "metadata": {},
   "outputs": [],
   "source": [
    "xgb_model = xgb.train(params =params,\n",
    "                     dtrain = dtrain,\n",
    "                     num_boost_round = num_rounds,\n",
    "                     early_stopping_rounds = 100, #조기종료 설정 # 너무 낮게 설명하면 최소 오차를 찾지 못함\n",
    "                     evals = wlist)\n",
    "\n",
    "\n",
    "# 211이후 100번 더 반복 동안 성능 평가 지수가 향상되지 못해서 학습 종료 - 단 311까지 학습을 종료한 모델을 사용\n",
    "# 211이 best여도 311까지는 학습을 해야 성능을 높일 수 있음"
   ]
  },
  {
   "cell_type": "code",
   "execution_count": null,
   "id": "94d2ee10",
   "metadata": {},
   "outputs": [],
   "source": [
    "pred_probs = xgb_model.predict(dtest)\n",
    "\n",
    "\n",
    "print('predict( ) 수행 결과값을 10개만 표시, 예측 확률 값으로 표시됨')\n",
    "print(np.round(pred_probs[:10],3))"
   ]
  },
  {
   "cell_type": "code",
   "execution_count": null,
   "id": "d19be0b6",
   "metadata": {},
   "outputs": [],
   "source": [
    "# 예측 확률로 예측값이 반환 되므로 임계값을 정해 0또는 1로 변환해야 함\n",
    "\n",
    "preds = [1 if x > 0.5 else 0 for x in pred_probs]\n",
    "\n",
    "print(np.round(preds[:10],3))"
   ]
  },
  {
   "cell_type": "code",
   "execution_count": null,
   "id": "93c37098",
   "metadata": {},
   "outputs": [],
   "source": [
    "from sklearn.metrics import confusion_matrix, accuracy_score\n",
    "from sklearn.metrics import precision_score, recall_score\n",
    "from sklearn.metrics import f1_score, roc_auc_score\n",
    "\n",
    "# 수정된 get_clf_eval() 함수 \n",
    "def get_clf_eval(y_test, pred=None, pred_proba=None):\n",
    "    confusion = confusion_matrix( y_test, pred)\n",
    "    accuracy = accuracy_score(y_test , pred)\n",
    "    precision = precision_score(y_test , pred)\n",
    "    recall = recall_score(y_test , pred)\n",
    "    f1 = f1_score(y_test,pred)\n",
    "    # ROC-AUC 추가 \n",
    "    roc_auc = roc_auc_score(y_test, pred_proba)\n",
    "    print('오차 행렬')\n",
    "    print(confusion)\n",
    "    # ROC-AUC print 추가\n",
    "    print('정확도: {0:.4f}, 정밀도: {1:.4f}, 재현율: {2:.4f},\\\n",
    "    F1: {3:.4f}, AUC:{4:.4f}'.format(accuracy, precision, recall, f1, roc_auc))\n"
   ]
  },
  {
   "cell_type": "code",
   "execution_count": null,
   "id": "cf0a6742",
   "metadata": {},
   "outputs": [],
   "source": [
    "# 테스트 레이블 y_test 예측/레이블 /예측확률\n",
    "get_clf_eval(Test_Y,preds,pred_probs)"
   ]
  },
  {
   "cell_type": "code",
   "execution_count": null,
   "id": "77d08c53",
   "metadata": {},
   "outputs": [],
   "source": []
  },
  {
   "cell_type": "code",
   "execution_count": null,
   "id": "3df6d572",
   "metadata": {},
   "outputs": [],
   "source": []
  },
  {
   "cell_type": "code",
   "execution_count": null,
   "id": "0b38b66a",
   "metadata": {},
   "outputs": [],
   "source": []
  },
  {
   "cell_type": "code",
   "execution_count": null,
   "id": "6e652d6b",
   "metadata": {},
   "outputs": [],
   "source": []
  },
  {
   "cell_type": "code",
   "execution_count": null,
   "id": "ee33b86a",
   "metadata": {},
   "outputs": [],
   "source": [
    "## 학습데이터와 테스트 데이터 레이블 분포 확인\n",
    "print('학습 데이터 레이블 값 비율')\n",
    "print(Train_Y.value_counts()/Train_Y.shape[0] * 100)\n",
    "print('테스트 데이터 레이블 값 비율')\n",
    "print(Train_Y.value_counts()/Train_Y.shape[0] * 100)"
   ]
  },
  {
   "cell_type": "code",
   "execution_count": null,
   "id": "39e9ac85",
   "metadata": {},
   "outputs": [],
   "source": [
    "from sklearn.metrics import confusion_matrix, accuracy_score, precision_score, recall_score, f1_score\n",
    "from sklearn.metrics import roc_auc_score\n",
    "\n",
    "# 수정된 get_clf_eval() 함수 \n",
    "def get_clf_eval(Test_Y, pred=None, pred_proba=None):\n",
    "    confusion = confusion_matrix(Test_Y, pred)\n",
    "    accuracy = accuracy_score(Test_Y , pred)\n",
    "    precision = precision_score(Test_Y, pred)\n",
    "    recall = recall_score(Test_Y, pred)\n",
    "    f1 = f1_score(Test_Y,pred)\n",
    "    # ROC-AUC 추가 \n",
    "    roc_auc = roc_auc_score(Test_Y, pred_proba)\n",
    "    print('오차 행렬')\n",
    "    print(confusion)\n",
    "    # ROC-AUC print 추가\n",
    "    print('정확도: {0:.4f}, 정밀도: {1:.4f}, 재현율: {2:.4f},\\\n",
    "    F1: {3:.4f}, AUC:{4:.4f}'.format(accuracy, precision, recall, f1, roc_auc))"
   ]
  },
  {
   "cell_type": "code",
   "execution_count": null,
   "id": "ef7bdc45",
   "metadata": {
    "scrolled": true
   },
   "outputs": [],
   "source": [
    "from sklearn.linear_model import LogisticRegression\n",
    "\n",
    "lr_clf = LogisticRegression()\n",
    "lr_clf.fit(Train_X, Train_Y)\n",
    "\n",
    "lr_pred = lr_clf.predict(Test_X)\n",
    "lr_pred_proba  = lr_clf.predict_proba(Test_X)[:,1]\n",
    "\n",
    "get_clf_eval(Test_Y,lr_pred,lr_pred_proba)"
   ]
  },
  {
   "cell_type": "code",
   "execution_count": null,
   "id": "f641ad84",
   "metadata": {},
   "outputs": [],
   "source": []
  },
  {
   "cell_type": "code",
   "execution_count": null,
   "id": "6a003b66",
   "metadata": {},
   "outputs": [],
   "source": [
    "def get_model_train_eval(model, ftr_train=None, ftr_test=None, tgt_train=None, tgt_test=None) :\n",
    "    model.fit(ftr_train, tgt_train)\n",
    "    pred = model.predict(ftr_test)\n",
    "    pred_proba = model.predict_proba(ftr_test)[:,1]\n",
    "    get_clf_eval(tgt_test,pred,pred_proba) ## 평가진행 함수 호출"
   ]
  },
  {
   "cell_type": "code",
   "execution_count": null,
   "id": "a0df039d",
   "metadata": {},
   "outputs": [],
   "source": [
    "from lightgbm import LGBMClassifier\n",
    "\n",
    "lgbm_clf = LGBMClassifier(n_estimators=1000, num_leaves=64, n_jobs=-1,boost_from_average=False)\n",
    "get_model_train_eval(lgbm_clf, ftr_train=Train_X, ftr_test=Test_X, tgt_train=Train_Y, tgt_test=Test_Y)"
   ]
  },
  {
   "cell_type": "code",
   "execution_count": null,
   "id": "5a5d1919",
   "metadata": {},
   "outputs": [],
   "source": [
    "from sklearn.tree import DecisionTreeClassifier\n",
    "import warnings\n",
    "warnings.filterwarnings('ignore')\n",
    "dt_clf = DecisionTreeClassifier(max_depth = 3, random_state=156)\n",
    "dt_clf.fit(Train_X,Train_Y)"
   ]
  },
  {
   "cell_type": "code",
   "execution_count": null,
   "id": "0e023086",
   "metadata": {},
   "outputs": [],
   "source": [
    "from sklearn.tree import export_graphviz\n",
    "\n",
    "# export_graphviz()의 호출 결과로 out_file로 지정된 tree.dot 파일을 생성함. \n",
    "export_graphviz(dt_clf, out_file=\"tree.dot\", impurity=True, filled=True)\n"
   ]
  },
  {
   "cell_type": "code",
   "execution_count": null,
   "id": "7fea2389",
   "metadata": {},
   "outputs": [],
   "source": [
    "import graphviz\n",
    "\n",
    "with open(\"tree.dot\") as f:\n",
    "    dot_graph = f.read()\n",
    "graphviz.Source(dot_graph)"
   ]
  },
  {
   "cell_type": "code",
   "execution_count": null,
   "id": "62371aa6",
   "metadata": {},
   "outputs": [],
   "source": []
  }
 ],
 "metadata": {
  "kernelspec": {
   "display_name": "Python 3",
   "language": "python",
   "name": "python3"
  },
  "language_info": {
   "codemirror_mode": {
    "name": "ipython",
    "version": 3
   },
   "file_extension": ".py",
   "mimetype": "text/x-python",
   "name": "python",
   "nbconvert_exporter": "python",
   "pygments_lexer": "ipython3",
   "version": "3.8.8"
  }
 },
 "nbformat": 4,
 "nbformat_minor": 5
}
