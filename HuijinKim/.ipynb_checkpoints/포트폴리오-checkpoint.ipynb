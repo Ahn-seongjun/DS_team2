{
 "cells": [
  {
   "cell_type": "markdown",
   "id": "267c5463",
   "metadata": {},
   "source": [
    "### 머신러닝 기반 카드 이탈고객 예측\n",
    "     1. 개요\n",
    "     2. 데이터 수집\n",
    "     3. 데이터 확인 및 시각화\n",
    "     4. 데이터 전처리 및 피쳐 엔지니어링\n",
    "         (1) 타겟 데이터 전처리\n",
    "         (2) 피처 데이터 전처리 \n",
    "         (3) 피처 데이터 변수 선택\n",
    "         (4) 피처 엔지니어링\n",
    "         (5) 전처리 함수화\n",
    "     5. 모델링\n",
    "         지도학습"
   ]
  },
  {
   "cell_type": "code",
   "execution_count": null,
   "id": "dba78033",
   "metadata": {},
   "outputs": [],
   "source": []
  },
  {
   "cell_type": "code",
   "execution_count": null,
   "id": "71de0963",
   "metadata": {},
   "outputs": [],
   "source": []
  },
  {
   "cell_type": "markdown",
   "id": "846c79fa",
   "metadata": {},
   "source": [
    "## 1. 개요\n",
    "\n",
    "- 카드 회사들은 고객 유치를 위해 많은 프로모션을 진행\n",
    "- 새로운 고객을 유치하는 것보다 기존 고객을 유지하는 것이 경제적 효과큼\n",
    "- 기존 고객의 이탈 여부를 사전에 예측 가능한 모델 구축"
   ]
  },
  {
   "cell_type": "code",
   "execution_count": null,
   "id": "dab50c36",
   "metadata": {},
   "outputs": [],
   "source": []
  },
  {
   "cell_type": "code",
   "execution_count": null,
   "id": "82228ded",
   "metadata": {},
   "outputs": [],
   "source": []
  },
  {
   "cell_type": "markdown",
   "id": "c6989ecc",
   "metadata": {},
   "source": [
    "## 2. 데이터 수집\n",
    "\n",
    "- 데이터 출처 (링크 [kaggle](https://www.kaggle.com/sakshigoyal7/credit-card-customers))\n",
    "- 은행의 고객 중에서 신용카드 고객 이탈자에 대한 자료\n",
    "- 이탈 고객의 16.07%만 자료를 가지고 있어서 한계가 있는 데이터임\n",
    "- 연령, 급여, 결혼 여부, 신용카드 한도, 신용카드 등급 등 여러 정보를 가지고 이탈 고객 분석"
   ]
  },
  {
   "cell_type": "code",
   "execution_count": null,
   "id": "7deafdb1",
   "metadata": {},
   "outputs": [],
   "source": []
  },
  {
   "cell_type": "code",
   "execution_count": null,
   "id": "80462081",
   "metadata": {},
   "outputs": [],
   "source": []
  },
  {
   "cell_type": "markdown",
   "id": "507cf60a",
   "metadata": {},
   "source": [
    "## 3. 데이터 확인 및 시각화"
   ]
  },
  {
   "cell_type": "markdown",
   "id": "9dc659ea",
   "metadata": {},
   "source": [
    "**모듈 임포트**"
   ]
  },
  {
   "cell_type": "code",
   "execution_count": 1,
   "id": "0d195ffa",
   "metadata": {},
   "outputs": [],
   "source": [
    "import pandas as pd # 데이터 핸들링 \n",
    "import numpy as np \n",
    "import matplotlib.pyplot as plt # 데이터 시각화 \n",
    "%matplotlib inline\n",
    "import seaborn as sns # 데이터 시각화(고급분석)"
   ]
  },
  {
   "cell_type": "code",
   "execution_count": 2,
   "id": "8a8d56b3",
   "metadata": {},
   "outputs": [],
   "source": [
    "from IPython.core.interactiveshell import InteractiveShell\n",
    "InteractiveShell.ast_node_interactivity=\"all\" "
   ]
  },
  {
   "cell_type": "code",
   "execution_count": null,
   "id": "0a015697",
   "metadata": {},
   "outputs": [],
   "source": []
  },
  {
   "cell_type": "markdown",
   "id": "c42f301c",
   "metadata": {},
   "source": [
    "**데이터 불러오기**\n"
   ]
  },
  {
   "cell_type": "code",
   "execution_count": 3,
   "id": "35ad9745",
   "metadata": {},
   "outputs": [
    {
     "data": {
      "text/html": [
       "<div>\n",
       "<style scoped>\n",
       "    .dataframe tbody tr th:only-of-type {\n",
       "        vertical-align: middle;\n",
       "    }\n",
       "\n",
       "    .dataframe tbody tr th {\n",
       "        vertical-align: top;\n",
       "    }\n",
       "\n",
       "    .dataframe thead th {\n",
       "        text-align: right;\n",
       "    }\n",
       "</style>\n",
       "<table border=\"1\" class=\"dataframe\">\n",
       "  <thead>\n",
       "    <tr style=\"text-align: right;\">\n",
       "      <th></th>\n",
       "      <th>CLIENTNUM</th>\n",
       "      <th>Attrition_Flag</th>\n",
       "      <th>Customer_Age</th>\n",
       "      <th>Gender</th>\n",
       "      <th>Dependent_count</th>\n",
       "      <th>Education_Level</th>\n",
       "      <th>Marital_Status</th>\n",
       "      <th>Income_Category</th>\n",
       "      <th>Card_Category</th>\n",
       "      <th>Months_on_book</th>\n",
       "      <th>...</th>\n",
       "      <th>Credit_Limit</th>\n",
       "      <th>Total_Revolving_Bal</th>\n",
       "      <th>Avg_Open_To_Buy</th>\n",
       "      <th>Total_Amt_Chng_Q4_Q1</th>\n",
       "      <th>Total_Trans_Amt</th>\n",
       "      <th>Total_Trans_Ct</th>\n",
       "      <th>Total_Ct_Chng_Q4_Q1</th>\n",
       "      <th>Avg_Utilization_Ratio</th>\n",
       "      <th>Naive_Bayes_Classifier_Attrition_Flag_Card_Category_Contacts_Count_12_mon_Dependent_count_Education_Level_Months_Inactive_12_mon_1</th>\n",
       "      <th>Naive_Bayes_Classifier_Attrition_Flag_Card_Category_Contacts_Count_12_mon_Dependent_count_Education_Level_Months_Inactive_12_mon_2</th>\n",
       "    </tr>\n",
       "  </thead>\n",
       "  <tbody>\n",
       "    <tr>\n",
       "      <th>0</th>\n",
       "      <td>768805383</td>\n",
       "      <td>Existing Customer</td>\n",
       "      <td>45</td>\n",
       "      <td>M</td>\n",
       "      <td>3</td>\n",
       "      <td>High School</td>\n",
       "      <td>Married</td>\n",
       "      <td>$60K - $80K</td>\n",
       "      <td>Blue</td>\n",
       "      <td>39</td>\n",
       "      <td>...</td>\n",
       "      <td>12691.0</td>\n",
       "      <td>777</td>\n",
       "      <td>11914.0</td>\n",
       "      <td>1.335</td>\n",
       "      <td>1144</td>\n",
       "      <td>42</td>\n",
       "      <td>1.625</td>\n",
       "      <td>0.061</td>\n",
       "      <td>0.000093</td>\n",
       "      <td>0.999910</td>\n",
       "    </tr>\n",
       "    <tr>\n",
       "      <th>1</th>\n",
       "      <td>818770008</td>\n",
       "      <td>Existing Customer</td>\n",
       "      <td>49</td>\n",
       "      <td>F</td>\n",
       "      <td>5</td>\n",
       "      <td>Graduate</td>\n",
       "      <td>Single</td>\n",
       "      <td>Less than $40K</td>\n",
       "      <td>Blue</td>\n",
       "      <td>44</td>\n",
       "      <td>...</td>\n",
       "      <td>8256.0</td>\n",
       "      <td>864</td>\n",
       "      <td>7392.0</td>\n",
       "      <td>1.541</td>\n",
       "      <td>1291</td>\n",
       "      <td>33</td>\n",
       "      <td>3.714</td>\n",
       "      <td>0.105</td>\n",
       "      <td>0.000057</td>\n",
       "      <td>0.999940</td>\n",
       "    </tr>\n",
       "    <tr>\n",
       "      <th>2</th>\n",
       "      <td>713982108</td>\n",
       "      <td>Existing Customer</td>\n",
       "      <td>51</td>\n",
       "      <td>M</td>\n",
       "      <td>3</td>\n",
       "      <td>Graduate</td>\n",
       "      <td>Married</td>\n",
       "      <td>$80K - $120K</td>\n",
       "      <td>Blue</td>\n",
       "      <td>36</td>\n",
       "      <td>...</td>\n",
       "      <td>3418.0</td>\n",
       "      <td>0</td>\n",
       "      <td>3418.0</td>\n",
       "      <td>2.594</td>\n",
       "      <td>1887</td>\n",
       "      <td>20</td>\n",
       "      <td>2.333</td>\n",
       "      <td>0.000</td>\n",
       "      <td>0.000021</td>\n",
       "      <td>0.999980</td>\n",
       "    </tr>\n",
       "    <tr>\n",
       "      <th>3</th>\n",
       "      <td>769911858</td>\n",
       "      <td>Existing Customer</td>\n",
       "      <td>40</td>\n",
       "      <td>F</td>\n",
       "      <td>4</td>\n",
       "      <td>High School</td>\n",
       "      <td>Unknown</td>\n",
       "      <td>Less than $40K</td>\n",
       "      <td>Blue</td>\n",
       "      <td>34</td>\n",
       "      <td>...</td>\n",
       "      <td>3313.0</td>\n",
       "      <td>2517</td>\n",
       "      <td>796.0</td>\n",
       "      <td>1.405</td>\n",
       "      <td>1171</td>\n",
       "      <td>20</td>\n",
       "      <td>2.333</td>\n",
       "      <td>0.760</td>\n",
       "      <td>0.000134</td>\n",
       "      <td>0.999870</td>\n",
       "    </tr>\n",
       "    <tr>\n",
       "      <th>4</th>\n",
       "      <td>709106358</td>\n",
       "      <td>Existing Customer</td>\n",
       "      <td>40</td>\n",
       "      <td>M</td>\n",
       "      <td>3</td>\n",
       "      <td>Uneducated</td>\n",
       "      <td>Married</td>\n",
       "      <td>$60K - $80K</td>\n",
       "      <td>Blue</td>\n",
       "      <td>21</td>\n",
       "      <td>...</td>\n",
       "      <td>4716.0</td>\n",
       "      <td>0</td>\n",
       "      <td>4716.0</td>\n",
       "      <td>2.175</td>\n",
       "      <td>816</td>\n",
       "      <td>28</td>\n",
       "      <td>2.500</td>\n",
       "      <td>0.000</td>\n",
       "      <td>0.000022</td>\n",
       "      <td>0.999980</td>\n",
       "    </tr>\n",
       "    <tr>\n",
       "      <th>...</th>\n",
       "      <td>...</td>\n",
       "      <td>...</td>\n",
       "      <td>...</td>\n",
       "      <td>...</td>\n",
       "      <td>...</td>\n",
       "      <td>...</td>\n",
       "      <td>...</td>\n",
       "      <td>...</td>\n",
       "      <td>...</td>\n",
       "      <td>...</td>\n",
       "      <td>...</td>\n",
       "      <td>...</td>\n",
       "      <td>...</td>\n",
       "      <td>...</td>\n",
       "      <td>...</td>\n",
       "      <td>...</td>\n",
       "      <td>...</td>\n",
       "      <td>...</td>\n",
       "      <td>...</td>\n",
       "      <td>...</td>\n",
       "      <td>...</td>\n",
       "    </tr>\n",
       "    <tr>\n",
       "      <th>10122</th>\n",
       "      <td>772366833</td>\n",
       "      <td>Existing Customer</td>\n",
       "      <td>50</td>\n",
       "      <td>M</td>\n",
       "      <td>2</td>\n",
       "      <td>Graduate</td>\n",
       "      <td>Single</td>\n",
       "      <td>$40K - $60K</td>\n",
       "      <td>Blue</td>\n",
       "      <td>40</td>\n",
       "      <td>...</td>\n",
       "      <td>4003.0</td>\n",
       "      <td>1851</td>\n",
       "      <td>2152.0</td>\n",
       "      <td>0.703</td>\n",
       "      <td>15476</td>\n",
       "      <td>117</td>\n",
       "      <td>0.857</td>\n",
       "      <td>0.462</td>\n",
       "      <td>0.000191</td>\n",
       "      <td>0.999810</td>\n",
       "    </tr>\n",
       "    <tr>\n",
       "      <th>10123</th>\n",
       "      <td>710638233</td>\n",
       "      <td>Attrited Customer</td>\n",
       "      <td>41</td>\n",
       "      <td>M</td>\n",
       "      <td>2</td>\n",
       "      <td>Unknown</td>\n",
       "      <td>Divorced</td>\n",
       "      <td>$40K - $60K</td>\n",
       "      <td>Blue</td>\n",
       "      <td>25</td>\n",
       "      <td>...</td>\n",
       "      <td>4277.0</td>\n",
       "      <td>2186</td>\n",
       "      <td>2091.0</td>\n",
       "      <td>0.804</td>\n",
       "      <td>8764</td>\n",
       "      <td>69</td>\n",
       "      <td>0.683</td>\n",
       "      <td>0.511</td>\n",
       "      <td>0.995270</td>\n",
       "      <td>0.004729</td>\n",
       "    </tr>\n",
       "    <tr>\n",
       "      <th>10124</th>\n",
       "      <td>716506083</td>\n",
       "      <td>Attrited Customer</td>\n",
       "      <td>44</td>\n",
       "      <td>F</td>\n",
       "      <td>1</td>\n",
       "      <td>High School</td>\n",
       "      <td>Married</td>\n",
       "      <td>Less than $40K</td>\n",
       "      <td>Blue</td>\n",
       "      <td>36</td>\n",
       "      <td>...</td>\n",
       "      <td>5409.0</td>\n",
       "      <td>0</td>\n",
       "      <td>5409.0</td>\n",
       "      <td>0.819</td>\n",
       "      <td>10291</td>\n",
       "      <td>60</td>\n",
       "      <td>0.818</td>\n",
       "      <td>0.000</td>\n",
       "      <td>0.997880</td>\n",
       "      <td>0.002118</td>\n",
       "    </tr>\n",
       "    <tr>\n",
       "      <th>10125</th>\n",
       "      <td>717406983</td>\n",
       "      <td>Attrited Customer</td>\n",
       "      <td>30</td>\n",
       "      <td>M</td>\n",
       "      <td>2</td>\n",
       "      <td>Graduate</td>\n",
       "      <td>Unknown</td>\n",
       "      <td>$40K - $60K</td>\n",
       "      <td>Blue</td>\n",
       "      <td>36</td>\n",
       "      <td>...</td>\n",
       "      <td>5281.0</td>\n",
       "      <td>0</td>\n",
       "      <td>5281.0</td>\n",
       "      <td>0.535</td>\n",
       "      <td>8395</td>\n",
       "      <td>62</td>\n",
       "      <td>0.722</td>\n",
       "      <td>0.000</td>\n",
       "      <td>0.996710</td>\n",
       "      <td>0.003294</td>\n",
       "    </tr>\n",
       "    <tr>\n",
       "      <th>10126</th>\n",
       "      <td>714337233</td>\n",
       "      <td>Attrited Customer</td>\n",
       "      <td>43</td>\n",
       "      <td>F</td>\n",
       "      <td>2</td>\n",
       "      <td>Graduate</td>\n",
       "      <td>Married</td>\n",
       "      <td>Less than $40K</td>\n",
       "      <td>Silver</td>\n",
       "      <td>25</td>\n",
       "      <td>...</td>\n",
       "      <td>10388.0</td>\n",
       "      <td>1961</td>\n",
       "      <td>8427.0</td>\n",
       "      <td>0.703</td>\n",
       "      <td>10294</td>\n",
       "      <td>61</td>\n",
       "      <td>0.649</td>\n",
       "      <td>0.189</td>\n",
       "      <td>0.996620</td>\n",
       "      <td>0.003377</td>\n",
       "    </tr>\n",
       "  </tbody>\n",
       "</table>\n",
       "<p>10127 rows × 23 columns</p>\n",
       "</div>"
      ],
      "text/plain": [
       "       CLIENTNUM     Attrition_Flag  Customer_Age Gender  Dependent_count  \\\n",
       "0      768805383  Existing Customer            45      M                3   \n",
       "1      818770008  Existing Customer            49      F                5   \n",
       "2      713982108  Existing Customer            51      M                3   \n",
       "3      769911858  Existing Customer            40      F                4   \n",
       "4      709106358  Existing Customer            40      M                3   \n",
       "...          ...                ...           ...    ...              ...   \n",
       "10122  772366833  Existing Customer            50      M                2   \n",
       "10123  710638233  Attrited Customer            41      M                2   \n",
       "10124  716506083  Attrited Customer            44      F                1   \n",
       "10125  717406983  Attrited Customer            30      M                2   \n",
       "10126  714337233  Attrited Customer            43      F                2   \n",
       "\n",
       "      Education_Level Marital_Status Income_Category Card_Category  \\\n",
       "0         High School        Married     $60K - $80K          Blue   \n",
       "1            Graduate         Single  Less than $40K          Blue   \n",
       "2            Graduate        Married    $80K - $120K          Blue   \n",
       "3         High School        Unknown  Less than $40K          Blue   \n",
       "4          Uneducated        Married     $60K - $80K          Blue   \n",
       "...               ...            ...             ...           ...   \n",
       "10122        Graduate         Single     $40K - $60K          Blue   \n",
       "10123         Unknown       Divorced     $40K - $60K          Blue   \n",
       "10124     High School        Married  Less than $40K          Blue   \n",
       "10125        Graduate        Unknown     $40K - $60K          Blue   \n",
       "10126        Graduate        Married  Less than $40K        Silver   \n",
       "\n",
       "       Months_on_book  ...  Credit_Limit  Total_Revolving_Bal  \\\n",
       "0                  39  ...       12691.0                  777   \n",
       "1                  44  ...        8256.0                  864   \n",
       "2                  36  ...        3418.0                    0   \n",
       "3                  34  ...        3313.0                 2517   \n",
       "4                  21  ...        4716.0                    0   \n",
       "...               ...  ...           ...                  ...   \n",
       "10122              40  ...        4003.0                 1851   \n",
       "10123              25  ...        4277.0                 2186   \n",
       "10124              36  ...        5409.0                    0   \n",
       "10125              36  ...        5281.0                    0   \n",
       "10126              25  ...       10388.0                 1961   \n",
       "\n",
       "       Avg_Open_To_Buy  Total_Amt_Chng_Q4_Q1  Total_Trans_Amt  Total_Trans_Ct  \\\n",
       "0              11914.0                 1.335             1144              42   \n",
       "1               7392.0                 1.541             1291              33   \n",
       "2               3418.0                 2.594             1887              20   \n",
       "3                796.0                 1.405             1171              20   \n",
       "4               4716.0                 2.175              816              28   \n",
       "...                ...                   ...              ...             ...   \n",
       "10122           2152.0                 0.703            15476             117   \n",
       "10123           2091.0                 0.804             8764              69   \n",
       "10124           5409.0                 0.819            10291              60   \n",
       "10125           5281.0                 0.535             8395              62   \n",
       "10126           8427.0                 0.703            10294              61   \n",
       "\n",
       "       Total_Ct_Chng_Q4_Q1  Avg_Utilization_Ratio  \\\n",
       "0                    1.625                  0.061   \n",
       "1                    3.714                  0.105   \n",
       "2                    2.333                  0.000   \n",
       "3                    2.333                  0.760   \n",
       "4                    2.500                  0.000   \n",
       "...                    ...                    ...   \n",
       "10122                0.857                  0.462   \n",
       "10123                0.683                  0.511   \n",
       "10124                0.818                  0.000   \n",
       "10125                0.722                  0.000   \n",
       "10126                0.649                  0.189   \n",
       "\n",
       "       Naive_Bayes_Classifier_Attrition_Flag_Card_Category_Contacts_Count_12_mon_Dependent_count_Education_Level_Months_Inactive_12_mon_1  \\\n",
       "0                                               0.000093                                                                                    \n",
       "1                                               0.000057                                                                                    \n",
       "2                                               0.000021                                                                                    \n",
       "3                                               0.000134                                                                                    \n",
       "4                                               0.000022                                                                                    \n",
       "...                                                  ...                                                                                    \n",
       "10122                                           0.000191                                                                                    \n",
       "10123                                           0.995270                                                                                    \n",
       "10124                                           0.997880                                                                                    \n",
       "10125                                           0.996710                                                                                    \n",
       "10126                                           0.996620                                                                                    \n",
       "\n",
       "       Naive_Bayes_Classifier_Attrition_Flag_Card_Category_Contacts_Count_12_mon_Dependent_count_Education_Level_Months_Inactive_12_mon_2  \n",
       "0                                               0.999910                                                                                   \n",
       "1                                               0.999940                                                                                   \n",
       "2                                               0.999980                                                                                   \n",
       "3                                               0.999870                                                                                   \n",
       "4                                               0.999980                                                                                   \n",
       "...                                                  ...                                                                                   \n",
       "10122                                           0.999810                                                                                   \n",
       "10123                                           0.004729                                                                                   \n",
       "10124                                           0.002118                                                                                   \n",
       "10125                                           0.003294                                                                                   \n",
       "10126                                           0.003377                                                                                   \n",
       "\n",
       "[10127 rows x 23 columns]"
      ]
     },
     "execution_count": 3,
     "metadata": {},
     "output_type": "execute_result"
    }
   ],
   "source": [
    "df = pd.read_csv(\"./data/BankChurners.csv\")\n",
    "\n",
    "df"
   ]
  },
  {
   "cell_type": "code",
   "execution_count": 4,
   "id": "a4f57073",
   "metadata": {
    "scrolled": true
   },
   "outputs": [
    {
     "data": {
      "text/plain": [
       "Index(['CLIENTNUM', 'Attrition_Flag', 'Customer_Age', 'Gender',\n",
       "       'Dependent_count', 'Education_Level', 'Marital_Status',\n",
       "       'Income_Category', 'Card_Category', 'Months_on_book',\n",
       "       'Total_Relationship_Count', 'Months_Inactive_12_mon',\n",
       "       'Contacts_Count_12_mon', 'Credit_Limit', 'Total_Revolving_Bal',\n",
       "       'Avg_Open_To_Buy', 'Total_Amt_Chng_Q4_Q1', 'Total_Trans_Amt',\n",
       "       'Total_Trans_Ct', 'Total_Ct_Chng_Q4_Q1', 'Avg_Utilization_Ratio',\n",
       "       'Naive_Bayes_Classifier_Attrition_Flag_Card_Category_Contacts_Count_12_mon_Dependent_count_Education_Level_Months_Inactive_12_mon_1',\n",
       "       'Naive_Bayes_Classifier_Attrition_Flag_Card_Category_Contacts_Count_12_mon_Dependent_count_Education_Level_Months_Inactive_12_mon_2'],\n",
       "      dtype='object')"
      ]
     },
     "execution_count": 4,
     "metadata": {},
     "output_type": "execute_result"
    }
   ],
   "source": [
    "df.keys()"
   ]
  },
  {
   "cell_type": "markdown",
   "id": "dbf04dc5",
   "metadata": {},
   "source": [
    "####  데이터 정보\n",
    "- ~'CLIENTNUM' : 고객 식별 번호~\n",
    "- 'Attrition_Flag' : 신용 카드 이탈 여부 **``Target 값``**\n",
    "    - Existing Customer : 잔류\n",
    "    - Attrited Customer : 이탈\n",
    "- 'Customer_Age' : 고객 나이\n",
    "- 'Gender' : 성별\n",
    "- 'Dependent_count' : 부양 가족 수\n",
    "- 'Education_Level' : 학력 수준\n",
    "- 'Marital_Status' : 결혼 여부\n",
    "- 'Income_Category' : 연 소득 구간\n",
    "- 'Card_Category' : 카드 등급\n",
    "- 'Months_on_book' : 카드 할부 기간\n",
    "- 'Total_Relationship_Count' : 가입 상품 수\n",
    "- 'Months_Inactive_12_mon' : 1년 동안 카드 결재 내역이 없는 비활성 기간(개월)\n",
    "- 'Contacts_Count_12_mon' : 연락 빈도\n",
    "- 'Credit_Limit' : 신용 한도\n",
    "- 'Total_Revolving_Bal' : 할부 잔액\n",
    "- ~'Avg_Open_To_Buy' : 평균 실 사용 가능 금액 :  'Credit_Limit' -  'Total_Revolving_Bal'~\n",
    "- ~'Total_Amt_Chng_Q4_Q1'~ : 결제 대금 기준 1분기 대비 4분기 (비율) \n",
    "- ~'Total_Trans_Amt'~ : 실제 사용 총액\n",
    "- 'Total_Trans_Ct' : 실제 사용 횟수\n",
    "- 'Total_Ct_Chng_Q4_Q1' : 1분기 대비 4분기 결제 대금 횟수 비율\n",
    "- ~'Avg_Utilization_Ratio' : 'Total_Revolving_Bal'/ 'Credit_Limit' (할부 비율)~"
   ]
  },
  {
   "cell_type": "markdown",
   "id": "d109e2bf",
   "metadata": {},
   "source": [
    "#### 변수 정보\n",
    "\n",
    "| 변수명                   | 변수형태 | 구분     |\n",
    "| :------------------------: | :--------: | :--------: |\n",
    "| CLIENTNUM                | INT      | 피처변수 |\n",
    "| Customer_Age             | INT      | 피처변수 |\n",
    "| Gender                   | Object   | 피처변수 |\n",
    "| Dependent_count          | INT      | 피처변수 |\n",
    "| Education_Level          | Object   | 피처변수 |\n",
    "| Marital_Status           | Object   | 피처변수 |\n",
    "| Income_Category          | Object   | 피처변수 |\n",
    "| Card_Category            | Object   | 피처변수 |\n",
    "| Months_on_book           | INT      | 피처변수 |\n",
    "| Total_Relationship_Count | INT      | 피처변수 |\n",
    "| Months_Inactive_12_mon   | INT      | 피처변수 |\n",
    "| Contacts_Count_12_mon    | INT      | 피처변수 |\n",
    "| Credit_Limit             | INT      | 피처변수 |\n",
    "| Total_Revolving_Bal      | INT      | 피처변수 |\n",
    "| Avg_Open_To_Buy          | INT      | 피처변수 |\n",
    "| Total_Amt_Chng_Q4_Q1     | INT      | 피처변수 |\n",
    "| Total_Trans_Amt          | INT      | 피처변수 |\n",
    "| Total_Trans_Ct           | INT      | 피처변수 |\n",
    "| Total_Ct_Chng_Q4_Q1      | INT      | 피처변수 |\n",
    "| Avg_Utilization_Ratio    | INT      | 피처변수 |"
   ]
  },
  {
   "cell_type": "code",
   "execution_count": null,
   "id": "e522bba4",
   "metadata": {},
   "outputs": [],
   "source": []
  },
  {
   "cell_type": "markdown",
   "id": "67f3e6a7",
   "metadata": {},
   "source": [
    "**데이터 확인**"
   ]
  },
  {
   "cell_type": "code",
   "execution_count": 5,
   "id": "059e31dc",
   "metadata": {
    "scrolled": true
   },
   "outputs": [
    {
     "name": "stdout",
     "output_type": "stream",
     "text": [
      "<class 'pandas.core.frame.DataFrame'>\n",
      "RangeIndex: 10127 entries, 0 to 10126\n",
      "Data columns (total 23 columns):\n",
      " #   Column                                                                                                                              Non-Null Count  Dtype  \n",
      "---  ------                                                                                                                              --------------  -----  \n",
      " 0   CLIENTNUM                                                                                                                           10127 non-null  int64  \n",
      " 1   Attrition_Flag                                                                                                                      10127 non-null  object \n",
      " 2   Customer_Age                                                                                                                        10127 non-null  int64  \n",
      " 3   Gender                                                                                                                              10127 non-null  object \n",
      " 4   Dependent_count                                                                                                                     10127 non-null  int64  \n",
      " 5   Education_Level                                                                                                                     10127 non-null  object \n",
      " 6   Marital_Status                                                                                                                      10127 non-null  object \n",
      " 7   Income_Category                                                                                                                     10127 non-null  object \n",
      " 8   Card_Category                                                                                                                       10127 non-null  object \n",
      " 9   Months_on_book                                                                                                                      10127 non-null  int64  \n",
      " 10  Total_Relationship_Count                                                                                                            10127 non-null  int64  \n",
      " 11  Months_Inactive_12_mon                                                                                                              10127 non-null  int64  \n",
      " 12  Contacts_Count_12_mon                                                                                                               10127 non-null  int64  \n",
      " 13  Credit_Limit                                                                                                                        10127 non-null  float64\n",
      " 14  Total_Revolving_Bal                                                                                                                 10127 non-null  int64  \n",
      " 15  Avg_Open_To_Buy                                                                                                                     10127 non-null  float64\n",
      " 16  Total_Amt_Chng_Q4_Q1                                                                                                                10127 non-null  float64\n",
      " 17  Total_Trans_Amt                                                                                                                     10127 non-null  int64  \n",
      " 18  Total_Trans_Ct                                                                                                                      10127 non-null  int64  \n",
      " 19  Total_Ct_Chng_Q4_Q1                                                                                                                 10127 non-null  float64\n",
      " 20  Avg_Utilization_Ratio                                                                                                               10127 non-null  float64\n",
      " 21  Naive_Bayes_Classifier_Attrition_Flag_Card_Category_Contacts_Count_12_mon_Dependent_count_Education_Level_Months_Inactive_12_mon_1  10127 non-null  float64\n",
      " 22  Naive_Bayes_Classifier_Attrition_Flag_Card_Category_Contacts_Count_12_mon_Dependent_count_Education_Level_Months_Inactive_12_mon_2  10127 non-null  float64\n",
      "dtypes: float64(7), int64(10), object(6)\n",
      "memory usage: 1.8+ MB\n"
     ]
    }
   ],
   "source": [
    "## 데이터 유형 및 결측치 확인\n",
    "df.info()"
   ]
  },
  {
   "cell_type": "code",
   "execution_count": 6,
   "id": "fc540909",
   "metadata": {},
   "outputs": [
    {
     "data": {
      "text/html": [
       "<div>\n",
       "<style scoped>\n",
       "    .dataframe tbody tr th:only-of-type {\n",
       "        vertical-align: middle;\n",
       "    }\n",
       "\n",
       "    .dataframe tbody tr th {\n",
       "        vertical-align: top;\n",
       "    }\n",
       "\n",
       "    .dataframe thead th {\n",
       "        text-align: right;\n",
       "    }\n",
       "</style>\n",
       "<table border=\"1\" class=\"dataframe\">\n",
       "  <thead>\n",
       "    <tr style=\"text-align: right;\">\n",
       "      <th></th>\n",
       "      <th>CLIENTNUM</th>\n",
       "      <th>Attrition_Flag</th>\n",
       "      <th>Customer_Age</th>\n",
       "      <th>Gender</th>\n",
       "      <th>Dependent_count</th>\n",
       "      <th>Education_Level</th>\n",
       "      <th>Marital_Status</th>\n",
       "      <th>Income_Category</th>\n",
       "      <th>Card_Category</th>\n",
       "      <th>Months_on_book</th>\n",
       "      <th>...</th>\n",
       "      <th>Credit_Limit</th>\n",
       "      <th>Total_Revolving_Bal</th>\n",
       "      <th>Avg_Open_To_Buy</th>\n",
       "      <th>Total_Amt_Chng_Q4_Q1</th>\n",
       "      <th>Total_Trans_Amt</th>\n",
       "      <th>Total_Trans_Ct</th>\n",
       "      <th>Total_Ct_Chng_Q4_Q1</th>\n",
       "      <th>Avg_Utilization_Ratio</th>\n",
       "      <th>Naive_Bayes_Classifier_Attrition_Flag_Card_Category_Contacts_Count_12_mon_Dependent_count_Education_Level_Months_Inactive_12_mon_1</th>\n",
       "      <th>Naive_Bayes_Classifier_Attrition_Flag_Card_Category_Contacts_Count_12_mon_Dependent_count_Education_Level_Months_Inactive_12_mon_2</th>\n",
       "    </tr>\n",
       "  </thead>\n",
       "  <tbody>\n",
       "    <tr>\n",
       "      <th>0</th>\n",
       "      <td>768805383</td>\n",
       "      <td>Existing Customer</td>\n",
       "      <td>45</td>\n",
       "      <td>M</td>\n",
       "      <td>3</td>\n",
       "      <td>High School</td>\n",
       "      <td>Married</td>\n",
       "      <td>$60K - $80K</td>\n",
       "      <td>Blue</td>\n",
       "      <td>39</td>\n",
       "      <td>...</td>\n",
       "      <td>12691.0</td>\n",
       "      <td>777</td>\n",
       "      <td>11914.0</td>\n",
       "      <td>1.335</td>\n",
       "      <td>1144</td>\n",
       "      <td>42</td>\n",
       "      <td>1.625</td>\n",
       "      <td>0.061</td>\n",
       "      <td>0.000093</td>\n",
       "      <td>0.99991</td>\n",
       "    </tr>\n",
       "    <tr>\n",
       "      <th>1</th>\n",
       "      <td>818770008</td>\n",
       "      <td>Existing Customer</td>\n",
       "      <td>49</td>\n",
       "      <td>F</td>\n",
       "      <td>5</td>\n",
       "      <td>Graduate</td>\n",
       "      <td>Single</td>\n",
       "      <td>Less than $40K</td>\n",
       "      <td>Blue</td>\n",
       "      <td>44</td>\n",
       "      <td>...</td>\n",
       "      <td>8256.0</td>\n",
       "      <td>864</td>\n",
       "      <td>7392.0</td>\n",
       "      <td>1.541</td>\n",
       "      <td>1291</td>\n",
       "      <td>33</td>\n",
       "      <td>3.714</td>\n",
       "      <td>0.105</td>\n",
       "      <td>0.000057</td>\n",
       "      <td>0.99994</td>\n",
       "    </tr>\n",
       "    <tr>\n",
       "      <th>2</th>\n",
       "      <td>713982108</td>\n",
       "      <td>Existing Customer</td>\n",
       "      <td>51</td>\n",
       "      <td>M</td>\n",
       "      <td>3</td>\n",
       "      <td>Graduate</td>\n",
       "      <td>Married</td>\n",
       "      <td>$80K - $120K</td>\n",
       "      <td>Blue</td>\n",
       "      <td>36</td>\n",
       "      <td>...</td>\n",
       "      <td>3418.0</td>\n",
       "      <td>0</td>\n",
       "      <td>3418.0</td>\n",
       "      <td>2.594</td>\n",
       "      <td>1887</td>\n",
       "      <td>20</td>\n",
       "      <td>2.333</td>\n",
       "      <td>0.000</td>\n",
       "      <td>0.000021</td>\n",
       "      <td>0.99998</td>\n",
       "    </tr>\n",
       "    <tr>\n",
       "      <th>3</th>\n",
       "      <td>769911858</td>\n",
       "      <td>Existing Customer</td>\n",
       "      <td>40</td>\n",
       "      <td>F</td>\n",
       "      <td>4</td>\n",
       "      <td>High School</td>\n",
       "      <td>Unknown</td>\n",
       "      <td>Less than $40K</td>\n",
       "      <td>Blue</td>\n",
       "      <td>34</td>\n",
       "      <td>...</td>\n",
       "      <td>3313.0</td>\n",
       "      <td>2517</td>\n",
       "      <td>796.0</td>\n",
       "      <td>1.405</td>\n",
       "      <td>1171</td>\n",
       "      <td>20</td>\n",
       "      <td>2.333</td>\n",
       "      <td>0.760</td>\n",
       "      <td>0.000134</td>\n",
       "      <td>0.99987</td>\n",
       "    </tr>\n",
       "    <tr>\n",
       "      <th>4</th>\n",
       "      <td>709106358</td>\n",
       "      <td>Existing Customer</td>\n",
       "      <td>40</td>\n",
       "      <td>M</td>\n",
       "      <td>3</td>\n",
       "      <td>Uneducated</td>\n",
       "      <td>Married</td>\n",
       "      <td>$60K - $80K</td>\n",
       "      <td>Blue</td>\n",
       "      <td>21</td>\n",
       "      <td>...</td>\n",
       "      <td>4716.0</td>\n",
       "      <td>0</td>\n",
       "      <td>4716.0</td>\n",
       "      <td>2.175</td>\n",
       "      <td>816</td>\n",
       "      <td>28</td>\n",
       "      <td>2.500</td>\n",
       "      <td>0.000</td>\n",
       "      <td>0.000022</td>\n",
       "      <td>0.99998</td>\n",
       "    </tr>\n",
       "  </tbody>\n",
       "</table>\n",
       "<p>5 rows × 23 columns</p>\n",
       "</div>"
      ],
      "text/plain": [
       "   CLIENTNUM     Attrition_Flag  Customer_Age Gender  Dependent_count  \\\n",
       "0  768805383  Existing Customer            45      M                3   \n",
       "1  818770008  Existing Customer            49      F                5   \n",
       "2  713982108  Existing Customer            51      M                3   \n",
       "3  769911858  Existing Customer            40      F                4   \n",
       "4  709106358  Existing Customer            40      M                3   \n",
       "\n",
       "  Education_Level Marital_Status Income_Category Card_Category  \\\n",
       "0     High School        Married     $60K - $80K          Blue   \n",
       "1        Graduate         Single  Less than $40K          Blue   \n",
       "2        Graduate        Married    $80K - $120K          Blue   \n",
       "3     High School        Unknown  Less than $40K          Blue   \n",
       "4      Uneducated        Married     $60K - $80K          Blue   \n",
       "\n",
       "   Months_on_book  ...  Credit_Limit  Total_Revolving_Bal  Avg_Open_To_Buy  \\\n",
       "0              39  ...       12691.0                  777          11914.0   \n",
       "1              44  ...        8256.0                  864           7392.0   \n",
       "2              36  ...        3418.0                    0           3418.0   \n",
       "3              34  ...        3313.0                 2517            796.0   \n",
       "4              21  ...        4716.0                    0           4716.0   \n",
       "\n",
       "   Total_Amt_Chng_Q4_Q1  Total_Trans_Amt  Total_Trans_Ct  Total_Ct_Chng_Q4_Q1  \\\n",
       "0                 1.335             1144              42                1.625   \n",
       "1                 1.541             1291              33                3.714   \n",
       "2                 2.594             1887              20                2.333   \n",
       "3                 1.405             1171              20                2.333   \n",
       "4                 2.175              816              28                2.500   \n",
       "\n",
       "   Avg_Utilization_Ratio  \\\n",
       "0                  0.061   \n",
       "1                  0.105   \n",
       "2                  0.000   \n",
       "3                  0.760   \n",
       "4                  0.000   \n",
       "\n",
       "   Naive_Bayes_Classifier_Attrition_Flag_Card_Category_Contacts_Count_12_mon_Dependent_count_Education_Level_Months_Inactive_12_mon_1  \\\n",
       "0                                           0.000093                                                                                    \n",
       "1                                           0.000057                                                                                    \n",
       "2                                           0.000021                                                                                    \n",
       "3                                           0.000134                                                                                    \n",
       "4                                           0.000022                                                                                    \n",
       "\n",
       "   Naive_Bayes_Classifier_Attrition_Flag_Card_Category_Contacts_Count_12_mon_Dependent_count_Education_Level_Months_Inactive_12_mon_2  \n",
       "0                                            0.99991                                                                                   \n",
       "1                                            0.99994                                                                                   \n",
       "2                                            0.99998                                                                                   \n",
       "3                                            0.99987                                                                                   \n",
       "4                                            0.99998                                                                                   \n",
       "\n",
       "[5 rows x 23 columns]"
      ]
     },
     "execution_count": 6,
     "metadata": {},
     "output_type": "execute_result"
    }
   ],
   "source": [
    "df.head()"
   ]
  },
  {
   "cell_type": "code",
   "execution_count": 7,
   "id": "6a31e00f",
   "metadata": {},
   "outputs": [
    {
     "data": {
      "text/html": [
       "<div>\n",
       "<style scoped>\n",
       "    .dataframe tbody tr th:only-of-type {\n",
       "        vertical-align: middle;\n",
       "    }\n",
       "\n",
       "    .dataframe tbody tr th {\n",
       "        vertical-align: top;\n",
       "    }\n",
       "\n",
       "    .dataframe thead th {\n",
       "        text-align: right;\n",
       "    }\n",
       "</style>\n",
       "<table border=\"1\" class=\"dataframe\">\n",
       "  <thead>\n",
       "    <tr style=\"text-align: right;\">\n",
       "      <th></th>\n",
       "      <th>CLIENTNUM</th>\n",
       "      <th>Customer_Age</th>\n",
       "      <th>Dependent_count</th>\n",
       "      <th>Months_on_book</th>\n",
       "      <th>Total_Relationship_Count</th>\n",
       "      <th>Months_Inactive_12_mon</th>\n",
       "      <th>Contacts_Count_12_mon</th>\n",
       "      <th>Credit_Limit</th>\n",
       "      <th>Total_Revolving_Bal</th>\n",
       "      <th>Avg_Open_To_Buy</th>\n",
       "      <th>Total_Amt_Chng_Q4_Q1</th>\n",
       "      <th>Total_Trans_Amt</th>\n",
       "      <th>Total_Trans_Ct</th>\n",
       "      <th>Total_Ct_Chng_Q4_Q1</th>\n",
       "      <th>Avg_Utilization_Ratio</th>\n",
       "      <th>Naive_Bayes_Classifier_Attrition_Flag_Card_Category_Contacts_Count_12_mon_Dependent_count_Education_Level_Months_Inactive_12_mon_1</th>\n",
       "      <th>Naive_Bayes_Classifier_Attrition_Flag_Card_Category_Contacts_Count_12_mon_Dependent_count_Education_Level_Months_Inactive_12_mon_2</th>\n",
       "    </tr>\n",
       "  </thead>\n",
       "  <tbody>\n",
       "    <tr>\n",
       "      <th>count</th>\n",
       "      <td>1.012700e+04</td>\n",
       "      <td>10127.000000</td>\n",
       "      <td>10127.000000</td>\n",
       "      <td>10127.000000</td>\n",
       "      <td>10127.000000</td>\n",
       "      <td>10127.000000</td>\n",
       "      <td>10127.000000</td>\n",
       "      <td>10127.000000</td>\n",
       "      <td>10127.000000</td>\n",
       "      <td>10127.000000</td>\n",
       "      <td>10127.000000</td>\n",
       "      <td>10127.000000</td>\n",
       "      <td>10127.000000</td>\n",
       "      <td>10127.000000</td>\n",
       "      <td>10127.000000</td>\n",
       "      <td>10127.000000</td>\n",
       "      <td>10127.000000</td>\n",
       "    </tr>\n",
       "    <tr>\n",
       "      <th>mean</th>\n",
       "      <td>7.391776e+08</td>\n",
       "      <td>46.325960</td>\n",
       "      <td>2.346203</td>\n",
       "      <td>35.928409</td>\n",
       "      <td>3.812580</td>\n",
       "      <td>2.341167</td>\n",
       "      <td>2.455317</td>\n",
       "      <td>8631.953698</td>\n",
       "      <td>1162.814061</td>\n",
       "      <td>7469.139637</td>\n",
       "      <td>0.759941</td>\n",
       "      <td>4404.086304</td>\n",
       "      <td>64.858695</td>\n",
       "      <td>0.712222</td>\n",
       "      <td>0.274894</td>\n",
       "      <td>0.159997</td>\n",
       "      <td>0.840003</td>\n",
       "    </tr>\n",
       "    <tr>\n",
       "      <th>std</th>\n",
       "      <td>3.690378e+07</td>\n",
       "      <td>8.016814</td>\n",
       "      <td>1.298908</td>\n",
       "      <td>7.986416</td>\n",
       "      <td>1.554408</td>\n",
       "      <td>1.010622</td>\n",
       "      <td>1.106225</td>\n",
       "      <td>9088.776650</td>\n",
       "      <td>814.987335</td>\n",
       "      <td>9090.685324</td>\n",
       "      <td>0.219207</td>\n",
       "      <td>3397.129254</td>\n",
       "      <td>23.472570</td>\n",
       "      <td>0.238086</td>\n",
       "      <td>0.275691</td>\n",
       "      <td>0.365301</td>\n",
       "      <td>0.365301</td>\n",
       "    </tr>\n",
       "    <tr>\n",
       "      <th>min</th>\n",
       "      <td>7.080821e+08</td>\n",
       "      <td>26.000000</td>\n",
       "      <td>0.000000</td>\n",
       "      <td>13.000000</td>\n",
       "      <td>1.000000</td>\n",
       "      <td>0.000000</td>\n",
       "      <td>0.000000</td>\n",
       "      <td>1438.300000</td>\n",
       "      <td>0.000000</td>\n",
       "      <td>3.000000</td>\n",
       "      <td>0.000000</td>\n",
       "      <td>510.000000</td>\n",
       "      <td>10.000000</td>\n",
       "      <td>0.000000</td>\n",
       "      <td>0.000000</td>\n",
       "      <td>0.000008</td>\n",
       "      <td>0.000420</td>\n",
       "    </tr>\n",
       "    <tr>\n",
       "      <th>25%</th>\n",
       "      <td>7.130368e+08</td>\n",
       "      <td>41.000000</td>\n",
       "      <td>1.000000</td>\n",
       "      <td>31.000000</td>\n",
       "      <td>3.000000</td>\n",
       "      <td>2.000000</td>\n",
       "      <td>2.000000</td>\n",
       "      <td>2555.000000</td>\n",
       "      <td>359.000000</td>\n",
       "      <td>1324.500000</td>\n",
       "      <td>0.631000</td>\n",
       "      <td>2155.500000</td>\n",
       "      <td>45.000000</td>\n",
       "      <td>0.582000</td>\n",
       "      <td>0.023000</td>\n",
       "      <td>0.000099</td>\n",
       "      <td>0.999660</td>\n",
       "    </tr>\n",
       "    <tr>\n",
       "      <th>50%</th>\n",
       "      <td>7.179264e+08</td>\n",
       "      <td>46.000000</td>\n",
       "      <td>2.000000</td>\n",
       "      <td>36.000000</td>\n",
       "      <td>4.000000</td>\n",
       "      <td>2.000000</td>\n",
       "      <td>2.000000</td>\n",
       "      <td>4549.000000</td>\n",
       "      <td>1276.000000</td>\n",
       "      <td>3474.000000</td>\n",
       "      <td>0.736000</td>\n",
       "      <td>3899.000000</td>\n",
       "      <td>67.000000</td>\n",
       "      <td>0.702000</td>\n",
       "      <td>0.176000</td>\n",
       "      <td>0.000181</td>\n",
       "      <td>0.999820</td>\n",
       "    </tr>\n",
       "    <tr>\n",
       "      <th>75%</th>\n",
       "      <td>7.731435e+08</td>\n",
       "      <td>52.000000</td>\n",
       "      <td>3.000000</td>\n",
       "      <td>40.000000</td>\n",
       "      <td>5.000000</td>\n",
       "      <td>3.000000</td>\n",
       "      <td>3.000000</td>\n",
       "      <td>11067.500000</td>\n",
       "      <td>1784.000000</td>\n",
       "      <td>9859.000000</td>\n",
       "      <td>0.859000</td>\n",
       "      <td>4741.000000</td>\n",
       "      <td>81.000000</td>\n",
       "      <td>0.818000</td>\n",
       "      <td>0.503000</td>\n",
       "      <td>0.000337</td>\n",
       "      <td>0.999900</td>\n",
       "    </tr>\n",
       "    <tr>\n",
       "      <th>max</th>\n",
       "      <td>8.283431e+08</td>\n",
       "      <td>73.000000</td>\n",
       "      <td>5.000000</td>\n",
       "      <td>56.000000</td>\n",
       "      <td>6.000000</td>\n",
       "      <td>6.000000</td>\n",
       "      <td>6.000000</td>\n",
       "      <td>34516.000000</td>\n",
       "      <td>2517.000000</td>\n",
       "      <td>34516.000000</td>\n",
       "      <td>3.397000</td>\n",
       "      <td>18484.000000</td>\n",
       "      <td>139.000000</td>\n",
       "      <td>3.714000</td>\n",
       "      <td>0.999000</td>\n",
       "      <td>0.999580</td>\n",
       "      <td>0.999990</td>\n",
       "    </tr>\n",
       "  </tbody>\n",
       "</table>\n",
       "</div>"
      ],
      "text/plain": [
       "          CLIENTNUM  Customer_Age  Dependent_count  Months_on_book  \\\n",
       "count  1.012700e+04  10127.000000     10127.000000    10127.000000   \n",
       "mean   7.391776e+08     46.325960         2.346203       35.928409   \n",
       "std    3.690378e+07      8.016814         1.298908        7.986416   \n",
       "min    7.080821e+08     26.000000         0.000000       13.000000   \n",
       "25%    7.130368e+08     41.000000         1.000000       31.000000   \n",
       "50%    7.179264e+08     46.000000         2.000000       36.000000   \n",
       "75%    7.731435e+08     52.000000         3.000000       40.000000   \n",
       "max    8.283431e+08     73.000000         5.000000       56.000000   \n",
       "\n",
       "       Total_Relationship_Count  Months_Inactive_12_mon  \\\n",
       "count              10127.000000            10127.000000   \n",
       "mean                   3.812580                2.341167   \n",
       "std                    1.554408                1.010622   \n",
       "min                    1.000000                0.000000   \n",
       "25%                    3.000000                2.000000   \n",
       "50%                    4.000000                2.000000   \n",
       "75%                    5.000000                3.000000   \n",
       "max                    6.000000                6.000000   \n",
       "\n",
       "       Contacts_Count_12_mon  Credit_Limit  Total_Revolving_Bal  \\\n",
       "count           10127.000000  10127.000000         10127.000000   \n",
       "mean                2.455317   8631.953698          1162.814061   \n",
       "std                 1.106225   9088.776650           814.987335   \n",
       "min                 0.000000   1438.300000             0.000000   \n",
       "25%                 2.000000   2555.000000           359.000000   \n",
       "50%                 2.000000   4549.000000          1276.000000   \n",
       "75%                 3.000000  11067.500000          1784.000000   \n",
       "max                 6.000000  34516.000000          2517.000000   \n",
       "\n",
       "       Avg_Open_To_Buy  Total_Amt_Chng_Q4_Q1  Total_Trans_Amt  Total_Trans_Ct  \\\n",
       "count     10127.000000          10127.000000     10127.000000    10127.000000   \n",
       "mean       7469.139637              0.759941      4404.086304       64.858695   \n",
       "std        9090.685324              0.219207      3397.129254       23.472570   \n",
       "min           3.000000              0.000000       510.000000       10.000000   \n",
       "25%        1324.500000              0.631000      2155.500000       45.000000   \n",
       "50%        3474.000000              0.736000      3899.000000       67.000000   \n",
       "75%        9859.000000              0.859000      4741.000000       81.000000   \n",
       "max       34516.000000              3.397000     18484.000000      139.000000   \n",
       "\n",
       "       Total_Ct_Chng_Q4_Q1  Avg_Utilization_Ratio  \\\n",
       "count         10127.000000           10127.000000   \n",
       "mean              0.712222               0.274894   \n",
       "std               0.238086               0.275691   \n",
       "min               0.000000               0.000000   \n",
       "25%               0.582000               0.023000   \n",
       "50%               0.702000               0.176000   \n",
       "75%               0.818000               0.503000   \n",
       "max               3.714000               0.999000   \n",
       "\n",
       "       Naive_Bayes_Classifier_Attrition_Flag_Card_Category_Contacts_Count_12_mon_Dependent_count_Education_Level_Months_Inactive_12_mon_1  \\\n",
       "count                                       10127.000000                                                                                    \n",
       "mean                                            0.159997                                                                                    \n",
       "std                                             0.365301                                                                                    \n",
       "min                                             0.000008                                                                                    \n",
       "25%                                             0.000099                                                                                    \n",
       "50%                                             0.000181                                                                                    \n",
       "75%                                             0.000337                                                                                    \n",
       "max                                             0.999580                                                                                    \n",
       "\n",
       "       Naive_Bayes_Classifier_Attrition_Flag_Card_Category_Contacts_Count_12_mon_Dependent_count_Education_Level_Months_Inactive_12_mon_2  \n",
       "count                                       10127.000000                                                                                   \n",
       "mean                                            0.840003                                                                                   \n",
       "std                                             0.365301                                                                                   \n",
       "min                                             0.000420                                                                                   \n",
       "25%                                             0.999660                                                                                   \n",
       "50%                                             0.999820                                                                                   \n",
       "75%                                             0.999900                                                                                   \n",
       "max                                             0.999990                                                                                   "
      ]
     },
     "execution_count": 7,
     "metadata": {},
     "output_type": "execute_result"
    }
   ],
   "source": [
    "# 통계치 정보 확인\n",
    "df.describe()"
   ]
  },
  {
   "cell_type": "code",
   "execution_count": null,
   "id": "3ef20985",
   "metadata": {},
   "outputs": [],
   "source": []
  },
  {
   "cell_type": "markdown",
   "id": "b8c30d7c",
   "metadata": {},
   "source": [
    "**시각화 ( sns.pairplot(df) )** \n",
    "- 사용할 데이터의 상관관계를 파악하기 위해 시각화\n",
    "- 모든 칼럼에 대한 시각화 "
   ]
  },
  {
   "cell_type": "code",
   "execution_count": null,
   "id": "b75dc7aa",
   "metadata": {},
   "outputs": [
    {
     "name": "stderr",
     "output_type": "stream",
     "text": [
      "/Users/heejinkim/miniforge3/lib/python3.9/site-packages/seaborn/axisgrid.py:64: UserWarning: Tight layout not applied. tight_layout cannot make axes width small enough to accommodate all axes decorations\n",
      "  self.fig.tight_layout(*args, **kwargs)\n"
     ]
    },
    {
     "data": {
      "text/plain": [
       "<seaborn.axisgrid.PairGrid at 0x15fa659a0>"
      ]
     },
     "execution_count": 8,
     "metadata": {},
     "output_type": "execute_result"
    }
   ],
   "source": [
    "sns.pairplot(df)"
   ]
  },
  {
   "cell_type": "code",
   "execution_count": null,
   "id": "c2ba7ae3",
   "metadata": {},
   "outputs": [],
   "source": []
  },
  {
   "cell_type": "markdown",
   "id": "58a9525a",
   "metadata": {},
   "source": [
    "**결측치 확인**\n",
    "- isnull().sum() 코드에서는 결측치가 존재하지 않는 것을 확인\n",
    "- 각각의 피처를 분석해서 결측치 존재 여부 확인 필요"
   ]
  },
  {
   "cell_type": "code",
   "execution_count": null,
   "id": "067f7c0c",
   "metadata": {},
   "outputs": [],
   "source": [
    "# 결측치 존재 X (각 피쳐마다 추가적인 정보 확인 필요)\n",
    "df.isnull().sum()"
   ]
  },
  {
   "cell_type": "code",
   "execution_count": null,
   "id": "44451cd4",
   "metadata": {},
   "outputs": [],
   "source": []
  },
  {
   "cell_type": "code",
   "execution_count": null,
   "id": "044b6854",
   "metadata": {},
   "outputs": [],
   "source": []
  },
  {
   "cell_type": "markdown",
   "id": "95bc784b",
   "metadata": {},
   "source": [
    "### 4. 데이터 전처리 및 피쳐 엔지니어링"
   ]
  },
  {
   "cell_type": "markdown",
   "id": "5f430880",
   "metadata": {},
   "source": [
    "#### 4 - (1) 타겟 데이터 전처리\n",
    "- 관측 대상 : **``\"Attrited Customer\"``** 1로 설정 (카드 탈퇴)\n",
    "- 비관측 대상 : **``\"Existing Cumstomer\"``** 0으로 설정 (카드 유지)"
   ]
  },
  {
   "cell_type": "code",
   "execution_count": null,
   "id": "3246b230",
   "metadata": {},
   "outputs": [],
   "source": [
    "df[\"Attrition_Flag\"].value_counts()"
   ]
  },
  {
   "cell_type": "code",
   "execution_count": null,
   "id": "3900f8a2",
   "metadata": {},
   "outputs": [],
   "source": [
    "# 타겟 데이터의 분포를 바 플롯을 이용하여 시각화\n",
    "df[\"Attrition_Flag\"].value_counts().plot(kind = 'bar') \n",
    "plt.xticks(rotation=360)"
   ]
  },
  {
   "cell_type": "markdown",
   "id": "0e013e65",
   "metadata": {},
   "source": [
    "**Existing Cumstomer(잔존)과 Attrited Customer(이탈)의 비율에 차이 존재**"
   ]
  },
  {
   "cell_type": "code",
   "execution_count": null,
   "id": "5016dd51",
   "metadata": {},
   "outputs": [],
   "source": [
    "# 타겟 데이터의 분포를 파이 플롯을 이용하여 시각화\n",
    "labels = ['Existing Customer', 'Attrited Customer']\n",
    "size = df['Attrition_Flag'].value_counts()\n",
    "colors = ['#5bc959','#d5b1aa' ]\n",
    "explode = [0, 0.1]\n",
    "\n",
    "plt.style.use('seaborn-deep')\n",
    "plt.rcParams['figure.figsize'] = (6, 6)\n",
    "plt.pie(size, labels =labels, colors = colors, explode = explode, autopct = \"%.1f%%\", shadow = True, textprops = {'fontsize':15})\n",
    "plt.axis('off')\n",
    "plt.title('Attrition (비율)', fontsize = 20)\n",
    "plt.legend()\n",
    "plt.show()"
   ]
  },
  {
   "cell_type": "markdown",
   "id": "d91eb12c",
   "metadata": {},
   "source": [
    "**레이블 인코딩**\n",
    "- \"Existing Cumstomer\" : 0 (카드 잔존)\n",
    "- \"Attrited Customer\" : 1 (카드 탈퇴)\n"
   ]
  },
  {
   "cell_type": "markdown",
   "id": "5338c02f",
   "metadata": {},
   "source": [
    "**주의하여 관측해아할 것이**\n",
    "``\"탈퇴\"여부이기 때문에 탈퇴를 1, 잔존을 0으로 하여 인코딩``"
   ]
  },
  {
   "cell_type": "code",
   "execution_count": null,
   "id": "0032b8f0",
   "metadata": {},
   "outputs": [],
   "source": [
    "df[\"Attrition_Flag\"].replace({\"Existing Customer\":0,\n",
    "                            \"Attrited Customer\":1,\n",
    "                            },inplace=True)"
   ]
  },
  {
   "cell_type": "code",
   "execution_count": null,
   "id": "c2367864",
   "metadata": {},
   "outputs": [],
   "source": [
    "df[\"Attrition_Flag\"].value_counts().plot(kind = 'bar')  \n",
    "plt.xticks(rotation=360)"
   ]
  },
  {
   "cell_type": "code",
   "execution_count": null,
   "id": "a1a08fb2",
   "metadata": {},
   "outputs": [],
   "source": [
    "df[\"Attrition_Flag\"].value_counts() # 전처리 확인"
   ]
  },
  {
   "cell_type": "code",
   "execution_count": null,
   "id": "141dd590",
   "metadata": {
    "scrolled": true
   },
   "outputs": [],
   "source": [
    "Existing = df[df[\"Attrition_Flag\"]==0]\n",
    "Attrited = df[df[\"Attrition_Flag\"]==1]\n",
    "\n",
    "Existing_ratio = len(Existing)/len(Existing+Attrited) \n",
    "Attrited_ratio = len(Attrited)/len(Existing+Attrited) \n",
    "\n",
    "print(\"카드를 유지한 고객은 {:.2f} 이고, 탈퇴 고객은 {:.2f}이므로, 카드를 유지한 고객이 {:.0f}배 많다\"\n",
    "      .format(Existing_ratio,Attrited_ratio,Existing_ratio/Attrited_ratio))"
   ]
  },
  {
   "cell_type": "markdown",
   "id": "b7cb26fb",
   "metadata": {},
   "source": [
    "#### 중간 정리\n",
    "- \"Existing Cumstomer\" 84%, \"Attrited Customer\" 16% 데이터 불균형이 필요\n",
    "- 테스트를 통해 업샘플링(오버샘플링)이나 다운샘플링(언더샘플링)이 필요한지 파악"
   ]
  },
  {
   "cell_type": "markdown",
   "id": "2f252cb1",
   "metadata": {},
   "source": [
    "#### 진행 과정\n",
    "- 업샘플링은 전처리 과정이 아니라, 모델을 돌리면서 성능을 높이기 위한 작업 과정\n",
    "- 업샘플링 전후의 성능을 비교 후 업샘플링 여부 선정"
   ]
  },
  {
   "cell_type": "code",
   "execution_count": null,
   "id": "c3e70bd9",
   "metadata": {},
   "outputs": [],
   "source": []
  },
  {
   "cell_type": "markdown",
   "id": "76696d2e",
   "metadata": {},
   "source": [
    "#### 4 - (2) 피처 데이터 전처리\n",
    "- 피처 간의 상관성이 높지 않을 경우 삭제하지 않고 모델 학습에 사용\n",
    "- 피처의 성질에 따라 Labels(명목척도) , Orders(서열척도), Numerics(수치형) 변수로 구분하여 전처리를 진행"
   ]
  },
  {
   "cell_type": "code",
   "execution_count": null,
   "id": "92562c12",
   "metadata": {},
   "outputs": [],
   "source": [
    "Labels = ['Gender','Marital_Status'] # 명목 척도\n",
    "Orders = ['Education_Level','Income_Category','Card_Category'] # 서열 척도 (등간 척도)\n",
    "Numerics = ['Customer_Age','Dependent_count','Months_on_book',\n",
    "       'Total_Relationship_Count', 'Months_Inactive_12_mon',\n",
    "       'Contacts_Count_12_mon', 'Credit_Limit', 'Total_Revolving_Bal',\n",
    "       'Avg_Open_To_Buy', 'Total_Amt_Chng_Q4_Q1', 'Total_Trans_Amt',\n",
    "       'Total_Trans_Ct', 'Total_Ct_Chng_Q4_Q1', 'Avg_Utilization_Ratio'] # 수치형 변수"
   ]
  },
  {
   "cell_type": "code",
   "execution_count": null,
   "id": "41379b6e",
   "metadata": {},
   "outputs": [],
   "source": []
  },
  {
   "cell_type": "markdown",
   "id": "933acdc0",
   "metadata": {},
   "source": [
    "**Customer_Age(나이)**"
   ]
  },
  {
   "cell_type": "code",
   "execution_count": null,
   "id": "5764ce63",
   "metadata": {},
   "outputs": [],
   "source": [
    "sns.distplot(df[\"Customer_Age\"])"
   ]
  },
  {
   "cell_type": "markdown",
   "id": "33811be5",
   "metadata": {},
   "source": [
    "**Customer_Age (나이) 칼럼은 거의 완벽한 정규분포를 따른다는 것을 확인**"
   ]
  },
  {
   "cell_type": "markdown",
   "id": "24a6e18e",
   "metadata": {},
   "source": [
    "**이상치 확인(시각화)**"
   ]
  },
  {
   "cell_type": "code",
   "execution_count": null,
   "id": "cab646dd",
   "metadata": {},
   "outputs": [],
   "source": [
    "df[[\"Customer_Age\"]].boxplot()\n",
    "sns.boxplot(df[\"Customer_Age\"])"
   ]
  },
  {
   "cell_type": "markdown",
   "id": "4f844982",
   "metadata": {},
   "source": [
    "**이상치 확인 (수치 확인)**\n",
    "    여기서 박스플롯에서 범위 밖으로 넘어가는 2개의 plot이 보이는데, 이 값이 이 범위를 벗어난다고 하더라도, 이 수치가 데이터 분석에 큰 영향을 끼치지 않으면 ( 말이 안되는 값이거나 범위에서 너무 벗어난 값 -예를 들면 우리나라 연봉을 조사하는데 이재용 삼성 부회장의 연봉은 제외를 해야 한다. ) 그 값은 이상치로 취급하지 않는다."
   ]
  },
  {
   "cell_type": "code",
   "execution_count": null,
   "id": "8dbb7ef8",
   "metadata": {},
   "outputs": [],
   "source": [
    "df[\"Customer_Age\"].max()"
   ]
  },
  {
   "cell_type": "markdown",
   "id": "c531e9cb",
   "metadata": {},
   "source": [
    "**나이 칼럼에서 가장 큰 수치는 73인데 이 수치는 충분히 가능한 값이다.만약 이 값이 200이다 라고 한다면 이 이상치는 삭제나 대체가 필요하지만, 73세는 나이로서 충분히 가능한 수치이므로 전처리 하지않는다.(이상치 취급하지 않음)**"
   ]
  },
  {
   "cell_type": "code",
   "execution_count": null,
   "id": "332b8750",
   "metadata": {},
   "outputs": [],
   "source": [
    "# 이상치 확인 (참고 사항)\n",
    "q1 = np.quantile(df[\"Customer_Age\"],0.25)  \n",
    "q3 = np.quantile(df[\"Customer_Age\"],0.75) \n",
    "iqr = q3-q1\n",
    "q3+iqr*1.5\n",
    "q1-iqr*1.5\n",
    "\n",
    "cond1 = q3+iqr*1.5<df[\"Customer_Age\"]\n",
    "cond2 = df[\"Customer_Age\"]<q1-iqr*1.5\n",
    "\n",
    "outlier_index = df[cond1 | cond2].index"
   ]
  },
  {
   "cell_type": "code",
   "execution_count": null,
   "id": "79e96782",
   "metadata": {},
   "outputs": [],
   "source": []
  },
  {
   "cell_type": "markdown",
   "id": "b7536adf",
   "metadata": {},
   "source": [
    "**Gender(성별)**"
   ]
  },
  {
   "cell_type": "code",
   "execution_count": null,
   "id": "210216d4",
   "metadata": {},
   "outputs": [],
   "source": [
    "# 성별의 분포를 bar 그래프를 이용하여 시각화\n",
    "df['Gender'].value_counts().plot(kind = 'bar')\n",
    "plt.xticks(rotation=360)"
   ]
  },
  {
   "cell_type": "code",
   "execution_count": null,
   "id": "4760c0c9",
   "metadata": {},
   "outputs": [],
   "source": [
    "# 성별 이탈고객 수\n",
    "gend_df = pd.DataFrame(df.loc[:,['Gender','Attrition_Flag']].value_counts())\n",
    "gend_df"
   ]
  },
  {
   "cell_type": "code",
   "execution_count": null,
   "id": "c173d525",
   "metadata": {},
   "outputs": [],
   "source": [
    "# 성별 평균 나이\n",
    "df.groupby('Gender')['Customer_Age'].agg(**{'Customer_Age':'mean'}).reset_index()"
   ]
  },
  {
   "cell_type": "code",
   "execution_count": null,
   "id": "b5e391b7",
   "metadata": {},
   "outputs": [],
   "source": [
    "# 성별 나이 분포\n",
    "df[['Gender','Customer_Age']].value_counts()"
   ]
  },
  {
   "cell_type": "code",
   "execution_count": null,
   "id": "9e6481e0",
   "metadata": {},
   "outputs": [],
   "source": [
    "# 성별 라벨링 F : 0, M : 1\n",
    "df[\"Gender\"].replace({\"F\":1, \"M\":0},inplace=True)"
   ]
  },
  {
   "cell_type": "code",
   "execution_count": null,
   "id": "8b4c2ece",
   "metadata": {},
   "outputs": [],
   "source": [
    "df[\"Gender\"].value_counts()\n",
    "# Female 아니면 Male로 이진분류가 잘 되어있다.\n",
    "# Label Encoding"
   ]
  },
  {
   "cell_type": "code",
   "execution_count": null,
   "id": "140bf0e4",
   "metadata": {
    "scrolled": true
   },
   "outputs": [],
   "source": [
    "df[\"Gender\"] # 라벨인코딩 된 것을 확인 할 수 있다."
   ]
  },
  {
   "cell_type": "code",
   "execution_count": null,
   "id": "f968e466",
   "metadata": {},
   "outputs": [],
   "source": [
    "# 라벨링 작업 정상 여부 확인\n",
    "df[\"Gender\"].value_counts()"
   ]
  },
  {
   "cell_type": "code",
   "execution_count": null,
   "id": "c99de0a5",
   "metadata": {},
   "outputs": [],
   "source": [
    "# 부양 가족 수 값\n",
    "df['Dependent_count'].value_counts().index"
   ]
  },
  {
   "cell_type": "code",
   "execution_count": null,
   "id": "792c7779",
   "metadata": {
    "scrolled": false
   },
   "outputs": [],
   "source": [
    "# 부양 가족 수 분포\n",
    "plt.title('Dependent_count')\n",
    "sns.countplot(df[\"Dependent_count\"])"
   ]
  },
  {
   "cell_type": "markdown",
   "id": "114776ee",
   "metadata": {},
   "source": [
    "**연령대 별 부양 가족수 파악을 위한 작업**"
   ]
  },
  {
   "cell_type": "code",
   "execution_count": null,
   "id": "780cb8a3",
   "metadata": {},
   "outputs": [],
   "source": [
    "bins = list(range(20,81,10))\n",
    "bins"
   ]
  },
  {
   "cell_type": "code",
   "execution_count": null,
   "id": "1de57a5b",
   "metadata": {},
   "outputs": [],
   "source": [
    "labels = [str(i) + '대' for i in bins]\n",
    "labels"
   ]
  },
  {
   "cell_type": "code",
   "execution_count": null,
   "id": "33a37964",
   "metadata": {},
   "outputs": [],
   "source": [
    "# 나이대 라벨 추가\n",
    "df[\"age_bin\"] = pd.cut(df[\"Customer_Age\"], bins = bins, right = False, labels=labels[:-1])\n",
    "df.head()"
   ]
  },
  {
   "cell_type": "code",
   "execution_count": null,
   "id": "f4ae68a5",
   "metadata": {},
   "outputs": [],
   "source": [
    "df[[\"Customer_Age\",\"age_bin\"]]"
   ]
  },
  {
   "cell_type": "code",
   "execution_count": null,
   "id": "c0788e25",
   "metadata": {},
   "outputs": [],
   "source": [
    "# 연령대별 평균 부양가족 수\n",
    "dependent = df.groupby('age_bin')['Dependent_count'].agg(**{'dependent':'mean'}).reset_index()\n",
    "dependent"
   ]
  },
  {
   "cell_type": "code",
   "execution_count": null,
   "id": "0d4d74f2",
   "metadata": {},
   "outputs": [],
   "source": [
    "# 연령대별 평균 부양 가족 수\n",
    "sns.barplot(x='age_bin',y='dependent',data=dependent)"
   ]
  },
  {
   "cell_type": "code",
   "execution_count": null,
   "id": "3ced9003",
   "metadata": {},
   "outputs": [],
   "source": [
    "# 성별 평균 부양가족 수\n",
    "gender = df.groupby('Gender')['Dependent_count'].agg(**{'dependent':'mean'}).reset_index()\n",
    "gender"
   ]
  },
  {
   "cell_type": "code",
   "execution_count": null,
   "id": "b39a03ab",
   "metadata": {},
   "outputs": [],
   "source": [
    "# 연령대별 이탈고객\n",
    "age_churn = pd.DataFrame(df.loc[:,['age_bin','Attrition_Flag']].value_counts().sort_index(ascending=True))\n",
    "age_churn"
   ]
  },
  {
   "cell_type": "code",
   "execution_count": null,
   "id": "29e2e74d",
   "metadata": {},
   "outputs": [],
   "source": []
  },
  {
   "cell_type": "code",
   "execution_count": null,
   "id": "9605e14c",
   "metadata": {},
   "outputs": [],
   "source": []
  },
  {
   "cell_type": "markdown",
   "id": "4e1f5ba3",
   "metadata": {},
   "source": [
    "### 4 (2) 범주형 피처 인코딩"
   ]
  },
  {
   "cell_type": "markdown",
   "id": "64b88e9b",
   "metadata": {},
   "source": [
    "**타겟변수(탈퇴인지, 잔존인지)에 따른 분포를 바 그래프로 보여주는 함수**"
   ]
  },
  {
   "cell_type": "code",
   "execution_count": null,
   "id": "39e296ad",
   "metadata": {},
   "outputs": [],
   "source": [
    "def bar_chart(feature):\n",
    "    stay = df[df['Attrition_Flag']==0][feature].value_counts()\n",
    "    leave = df[df['Attrition_Flag']==1][feature].value_counts()\n",
    "    temp = pd.DataFrame([stay,leave])\n",
    "    temp.index = ['Existing Customer','Attrited Customer']\n",
    "    \n",
    "    temp.plot(kind='bar',stacked=True, figsize=(10,5))\n",
    "    plt.xticks(rotation=0)"
   ]
  },
  {
   "cell_type": "markdown",
   "id": "dc64acd3",
   "metadata": {},
   "source": [
    "**Card_Category(카드 등급) 고객 이탈자**"
   ]
  },
  {
   "cell_type": "code",
   "execution_count": null,
   "id": "746fead3",
   "metadata": {},
   "outputs": [],
   "source": [
    "# 카드 등급별 이탈자\n",
    "Card_Category = df.groupby(['Card_Category', 'Attrition_Flag'])['Attrition_Flag'].count()\n",
    "Card_Category"
   ]
  },
  {
   "cell_type": "code",
   "execution_count": null,
   "id": "c6fabd68",
   "metadata": {},
   "outputs": [],
   "source": [
    "bar_chart('Card_Category') "
   ]
  },
  {
   "cell_type": "code",
   "execution_count": null,
   "id": "727ce31f",
   "metadata": {},
   "outputs": [],
   "source": [
    "## Unknow 여부 확인 (결측치)\n",
    "df['Card_Category'].value_counts()"
   ]
  },
  {
   "cell_type": "code",
   "execution_count": null,
   "id": "3503eba2",
   "metadata": {},
   "outputs": [],
   "source": []
  },
  {
   "cell_type": "markdown",
   "id": "da5ddde1",
   "metadata": {},
   "source": [
    "**Education_Level 수준에 따른 고객 이탈자**"
   ]
  },
  {
   "cell_type": "markdown",
   "id": "95179737",
   "metadata": {},
   "source": [
    "#### Education_Level 데이터 정보\n",
    "- unknown 알수 없음\n",
    "- uneducated 중졸이하\n",
    "- high school 고졸\n",
    "- colleage 학사\n",
    "- graduate / post-graduate 석사\n",
    "- Docotrate 박사"
   ]
  },
  {
   "cell_type": "code",
   "execution_count": null,
   "id": "c583673f",
   "metadata": {
    "scrolled": true
   },
   "outputs": [],
   "source": [
    "bar_chart('Education_Level')"
   ]
  },
  {
   "cell_type": "code",
   "execution_count": null,
   "id": "0dff6f75",
   "metadata": {},
   "outputs": [],
   "source": [
    "df['Education_Level'].value_counts()"
   ]
  },
  {
   "cell_type": "code",
   "execution_count": null,
   "id": "ee92ad59",
   "metadata": {},
   "outputs": [],
   "source": [
    "Card_Category = df.groupby(['Education_Level', 'Attrition_Flag'])['Attrition_Flag'].count()\n",
    "Card_Category"
   ]
  },
  {
   "cell_type": "code",
   "execution_count": null,
   "id": "0153cb05",
   "metadata": {},
   "outputs": [],
   "source": [
    "# 학력 수준에 따른 임금 파악\n",
    "# 임금에 따라 학력 수준을 처리할 수 있는지 파악\n",
    "df.groupby(['Education_Level','Income_Category'])['Attrition_Flag'].count()"
   ]
  },
  {
   "cell_type": "markdown",
   "id": "e1157afe",
   "metadata": {},
   "source": [
    "**Marital_Status 수준에 따른 고객 이탈자**"
   ]
  },
  {
   "cell_type": "code",
   "execution_count": null,
   "id": "bbb2d93d",
   "metadata": {},
   "outputs": [],
   "source": [
    "bar_chart('Marital_Status')"
   ]
  },
  {
   "cell_type": "code",
   "execution_count": null,
   "id": "9abbb6a2",
   "metadata": {},
   "outputs": [],
   "source": [
    "df['Marital_Status'].value_counts()"
   ]
  },
  {
   "cell_type": "markdown",
   "id": "d66aa948",
   "metadata": {},
   "source": [
    "**Income_Category 수준에 따른 고객 이탈자**"
   ]
  },
  {
   "cell_type": "code",
   "execution_count": null,
   "id": "1edf6e5f",
   "metadata": {},
   "outputs": [],
   "source": [
    "bar_chart('Income_Category') "
   ]
  },
  {
   "cell_type": "code",
   "execution_count": null,
   "id": "8c0a6cdb",
   "metadata": {},
   "outputs": [],
   "source": [
    "df['Income_Category'].value_counts()"
   ]
  },
  {
   "cell_type": "markdown",
   "id": "4e676a20",
   "metadata": {},
   "source": [
    "### **Education_Level, Marital_Status, Income_Category에서 \"Unknown\"이라는 결측치 존재**\n",
    "- Education_Level 1519개\n",
    "- Marital_Status 749개\n",
    "- Income_Category 1112개"
   ]
  },
  {
   "cell_type": "code",
   "execution_count": null,
   "id": "3834579c",
   "metadata": {},
   "outputs": [],
   "source": [
    "df[\"Education_Level\"].value_counts()"
   ]
  },
  {
   "cell_type": "code",
   "execution_count": null,
   "id": "da1173e4",
   "metadata": {},
   "outputs": [],
   "source": [
    "df[\"Marital_Status\"].value_counts()"
   ]
  },
  {
   "cell_type": "code",
   "execution_count": null,
   "id": "7191322e",
   "metadata": {},
   "outputs": [],
   "source": [
    "df[\"Income_Category\"].value_counts()"
   ]
  },
  {
   "cell_type": "code",
   "execution_count": null,
   "id": "25d20381",
   "metadata": {},
   "outputs": [],
   "source": [
    "df.info()"
   ]
  },
  {
   "cell_type": "markdown",
   "id": "f7e46abf",
   "metadata": {},
   "source": [
    "#####  **\"Unknown\"**에 대한 처리 방법은\n",
    "    1. \"Unknown\"도 하나의 category로 해석\n",
    "    2. \"Unknown\"값이 있는 행을 삭제하거나, 칼럼 자체(피처)를 삭제\n",
    "    3. 모델링을 활용하여 대체\n",
    "    4. 최빈값으로 대체\n",
    "#### 여러 가지 시도후 최적화된 값 구하기"
   ]
  },
  {
   "cell_type": "markdown",
   "id": "baf6ac69",
   "metadata": {},
   "source": [
    "**결측치로 처리 되지 않았던 Unknown을 np.nan으로 결측치로 처리 후, 대표값(최빈값)으로 결측치를 대체**"
   ]
  },
  {
   "cell_type": "code",
   "execution_count": null,
   "id": "9992794a",
   "metadata": {},
   "outputs": [],
   "source": [
    "# Card_Category(카드 등급) 은 4개의 등급(Blue, Silver, Gold, Platinum)으로 나뉘어진 범주형 변수이다. \n",
    "# 라벨링 인코딩을 해주도록 한다.\n",
    "df[\"Card_Category\"].replace({\"Blue\":0,\n",
    "                                 \"Silver\":1,\n",
    "                                 \"Gold\":2,\n",
    "                                 \"Platinum\":3,\n",
    "                                 },inplace=True)"
   ]
  },
  {
   "cell_type": "code",
   "execution_count": null,
   "id": "711622fd",
   "metadata": {},
   "outputs": [],
   "source": [
    "df[\"Education_Level\"].replace({\"Unknown\":np.nan,\n",
    "                                \"Graduate\":0,\n",
    "                                \"Post-Graduate\":1,\n",
    "                                \"Uneducated\":2,\n",
    "                                \"College\":3,\n",
    "                                \"Doctorate\":4,\n",
    "                                \"High School\":5,\n",
    "                                 },inplace=True)"
   ]
  },
  {
   "cell_type": "code",
   "execution_count": null,
   "id": "1cec68bb",
   "metadata": {},
   "outputs": [],
   "source": [
    "df[\"Marital_Status\"].replace({\"Unknown\":np.nan,\n",
    "                                \"Married\":0,\n",
    "                                \"Single\":1,\n",
    "                                \"Divorced\":2,\n",
    "                                 },inplace=True)"
   ]
  },
  {
   "cell_type": "code",
   "execution_count": null,
   "id": "5a678a84",
   "metadata": {},
   "outputs": [],
   "source": [
    "df[\"Income_Category\"].replace({\"Unknown\":np.nan,\n",
    "                                \"Less than $40K\":0,\n",
    "                                \"$40K - $60K\":1,\n",
    "                                \"$60K - $80K\":2,\n",
    "                                \"$80K - $120K\":3,\n",
    "                                \"$120K +\":4,\n",
    "                                 },inplace=True)"
   ]
  },
  {
   "cell_type": "code",
   "execution_count": null,
   "id": "3383f6ed",
   "metadata": {},
   "outputs": [],
   "source": [
    "# Unknown이 결측치(np.nan)로 대체 된것을 확인할 수 있다.\n",
    "df.isnull().sum()"
   ]
  },
  {
   "cell_type": "code",
   "execution_count": null,
   "id": "b5498327",
   "metadata": {},
   "outputs": [],
   "source": [
    "df.info()"
   ]
  },
  {
   "cell_type": "code",
   "execution_count": null,
   "id": "65d0e7f4",
   "metadata": {},
   "outputs": [],
   "source": [
    "# 대표값 이용 결측치 대체 모듈 \n",
    "from sklearn.impute import SimpleImputer\n",
    "# 각 데이터에 사용할 인스턴스 생성\n",
    "SI_mode =SimpleImputer(strategy = 'most_frequent') # 대표값 중 최빈값으로 결측치를 대체해준다.\n",
    "# 학습\n",
    "SI_mode.fit(df)\n",
    "df = pd.DataFrame(SI_mode.transform(df),\n",
    "                            columns = df.columns)"
   ]
  },
  {
   "cell_type": "code",
   "execution_count": null,
   "id": "dce8876a",
   "metadata": {},
   "outputs": [],
   "source": [
    "# 결측치가 대체를 확인할 수 있다.\n",
    "df.isnull().sum()"
   ]
  },
  {
   "cell_type": "code",
   "execution_count": null,
   "id": "a193cd3f",
   "metadata": {},
   "outputs": [],
   "source": []
  },
  {
   "cell_type": "code",
   "execution_count": null,
   "id": "1eeee4bd",
   "metadata": {},
   "outputs": [],
   "source": [
    "df.info()"
   ]
  },
  {
   "cell_type": "code",
   "execution_count": null,
   "id": "a5e210e9",
   "metadata": {},
   "outputs": [],
   "source": [
    "#중간에 dtype이 모두 object로 바뀌어서 에러가 났다.\n",
    "\n",
    "df[Numerics]=df[Numerics].astype(\"float\")\n",
    "df[Labels]=df[Labels].astype(\"int\")\n",
    "df[Orders]=df[Orders].astype(\"int\")\n",
    "df[\"Attrition_Flag\"]=df[\"Attrition_Flag\"].astype(\"int\")\n",
    "\n",
    "# 여기서 모든 데이터 타입을 float으로 바꾸어도 되는 것인지 궁금하다."
   ]
  },
  {
   "cell_type": "code",
   "execution_count": null,
   "id": "a212469d",
   "metadata": {},
   "outputs": [],
   "source": [
    "df.info()"
   ]
  },
  {
   "cell_type": "code",
   "execution_count": null,
   "id": "b64ee791",
   "metadata": {},
   "outputs": [],
   "source": []
  },
  {
   "cell_type": "markdown",
   "id": "ff35479a",
   "metadata": {},
   "source": [
    "#### 4-(3) 상관관계가 높은 피처 제거"
   ]
  },
  {
   "cell_type": "code",
   "execution_count": null,
   "id": "07311e77",
   "metadata": {
    "scrolled": false
   },
   "outputs": [],
   "source": [
    "plt.subplots(figsize=(20,9))\n",
    "sns.heatmap(df[Numerics].corr(),annot = True )"
   ]
  },
  {
   "cell_type": "markdown",
   "id": "620d66da",
   "metadata": {},
   "source": [
    "### Income 과 Gender"
   ]
  },
  {
   "cell_type": "code",
   "execution_count": null,
   "id": "b68aa398",
   "metadata": {},
   "outputs": [],
   "source": [
    "# 성별 수입\n",
    "df_piv = df.groupby(['Gender','Income_Category']).count()['CLIENTNUM']\n",
    "df_piv\n",
    "\n",
    "df_piv.plot(kind = 'bar')"
   ]
  },
  {
   "cell_type": "markdown",
   "id": "4dbc8e67",
   "metadata": {},
   "source": [
    "### 피처 간의 상관계수로 열 제거 판단"
   ]
  },
  {
   "cell_type": "markdown",
   "id": "7ed73a90",
   "metadata": {},
   "source": [
    "(1) **`Month_on_book`**과 **`Customer_Age`**의 상관계수는 0.79로 높지만, 삭제 X\n",
    "- 각각의 피처 할부기간, 고객 나이를 의미\n",
    "- 도메인 관점에서 분석하면 각각의 상관관계 적은 피처로 생각 가능해서 삭제하지 않음\n",
    "\n",
    "\n",
    "(2) **`Credit_Limit`**와 **`Avg_Utilization_Ratio`**의 상관계수가 0.48로 높아서, 삭제\n",
    "- 같은 변수에서 파생되어진 피처\n",
    "- 둘중 하나의 변수만 나두고 나머지 하나는 삭제"
   ]
  },
  {
   "cell_type": "code",
   "execution_count": null,
   "id": "a7a83488",
   "metadata": {},
   "outputs": [],
   "source": []
  },
  {
   "cell_type": "markdown",
   "id": "44d31770",
   "metadata": {},
   "source": [
    "**Attrition_Flag(범주형)과 수치형 피처 변수들의 상관관계를 파악** \n",
    "- 상관계수를 파악하기 위해 pointbiserialr 사용 "
   ]
  },
  {
   "cell_type": "code",
   "execution_count": null,
   "id": "821b4f32",
   "metadata": {},
   "outputs": [],
   "source": [
    "from scipy.stats import pointbiserialr\n",
    "\n",
    "features = ['Avg_Open_To_Buy','Credit_Limit','Total_Revolving_Bal','Avg_Utilization_Ratio','Total_Trans_Amt','Total_Trans_Ct','Total_Amt_Chng_Q4_Q1','Total_Ct_Chng_Q4_Q1'] \n",
    "\n",
    "print(\"Attrition_Flag를  기준으로 상관관계 분석\")\n",
    "print('---------------------------------------------------')\n",
    "print('')\n",
    "\n",
    "for feature in features:\n",
    "    target_feature_corr, target_feature_pvalue = pointbiserialr(df['Attrition_Flag'], df[feature])\n",
    "    print(feature,\"상관관계와 P-value\")\n",
    "    print('결과') \n",
    "    print('상관관계 : {0:.4f}'.format(target_feature_corr))\n",
    "    print('P-value : {0:.8f}'.format(target_feature_pvalue))\n",
    "    print('---------------------------------------------------')\n",
    "    print('')\n",
    "   "
   ]
  },
  {
   "cell_type": "markdown",
   "id": "4fc1fce0",
   "metadata": {},
   "source": [
    "**상관관계가 높은 변수 제거**\n",
    "- Avg_Open_To_Buy, Avg_Utilization_Ratio, Total_Trans_Amt, Total_Amt_Chng_Q4_Q1 삭제(총 4개 삭제)"
   ]
  },
  {
   "cell_type": "code",
   "execution_count": null,
   "id": "46fe4585",
   "metadata": {},
   "outputs": [],
   "source": [
    "df.drop([\"CLIENTNUM\", # 식별자 삭제\n",
    "         \"Avg_Open_To_Buy\",\n",
    "         \"Avg_Utilization_Ratio\",\n",
    "         \"Total_Trans_Amt\",\n",
    "         \"age_bin\",\n",
    "         \"Total_Amt_Chng_Q4_Q1\"], axis=1,inplace=True)"
   ]
  },
  {
   "cell_type": "code",
   "execution_count": null,
   "id": "5d989dcc",
   "metadata": {},
   "outputs": [],
   "source": []
  },
  {
   "cell_type": "markdown",
   "id": "5b0b743b",
   "metadata": {},
   "source": [
    "#### 4 - (4) 수치형 변수 log변환 정규화 변환"
   ]
  },
  {
   "cell_type": "code",
   "execution_count": null,
   "id": "a003a572",
   "metadata": {},
   "outputs": [],
   "source": [
    "# 수치형 변수 중에 drop시킨 변수를 제외한 나머지 변수들을 모은 리스트를 만든다.\n",
    "Numerics = ['Customer_Age','Dependent_count','Months_on_book',\n",
    "       'Total_Relationship_Count', 'Months_Inactive_12_mon',\n",
    "       'Contacts_Count_12_mon', 'Credit_Limit', 'Total_Revolving_Bal',\n",
    "        'Total_Ct_Chng_Q4_Q1', \n",
    "       'Total_Trans_Ct'] "
   ]
  },
  {
   "cell_type": "code",
   "execution_count": null,
   "id": "5d0cf07c",
   "metadata": {},
   "outputs": [],
   "source": [
    "# Credit_Limit의 분포를 히스토그램으로 시각화\n",
    "sns.histplot(df[\"Credit_Limit\"])"
   ]
  },
  {
   "cell_type": "code",
   "execution_count": null,
   "id": "3ffd92d8",
   "metadata": {},
   "outputs": [],
   "source": [
    "# 편향이 심한 Credit_Limit은 로그 변환을 해주도록한다.\n",
    "\n",
    "df[\"Credit_Limit\"]=np.log1p(df[\"Credit_Limit\"])"
   ]
  },
  {
   "cell_type": "code",
   "execution_count": null,
   "id": "b05377d8",
   "metadata": {},
   "outputs": [],
   "source": [
    "df[\"Credit_Limit\"]"
   ]
  },
  {
   "cell_type": "code",
   "execution_count": null,
   "id": "abd98f40",
   "metadata": {},
   "outputs": [],
   "source": [
    "sns.histplot(df[\"Credit_Limit\"])\n",
    "# 편향이 조금 완화 된것을 확인 할 수 있다."
   ]
  },
  {
   "cell_type": "markdown",
   "id": "bbc16437",
   "metadata": {},
   "source": [
    "**표준 정규화로 변환**\n",
    "- 평균 : 0, 표준편차 :1 "
   ]
  },
  {
   "cell_type": "code",
   "execution_count": null,
   "id": "b565ff89",
   "metadata": {},
   "outputs": [],
   "source": [
    "from sklearn.preprocessing import StandardScaler\n",
    "scaler = StandardScaler()\n",
    "\n",
    "for numeric in ['Customer_Age','Credit_Limit','Total_Revolving_Bal','Total_Ct_Chng_Q4_Q1','Total_Trans_Ct']:\n",
    "    df[numeric] = scaler.fit_transform(df[numeric].values.reshape(-1,1))"
   ]
  },
  {
   "cell_type": "code",
   "execution_count": null,
   "id": "321c3f16",
   "metadata": {},
   "outputs": [],
   "source": [
    "# 수치형 데이터 표준화 확인\n",
    "df[Numerics].head()"
   ]
  },
  {
   "cell_type": "code",
   "execution_count": null,
   "id": "181e6f65",
   "metadata": {},
   "outputs": [],
   "source": [
    "df.head()"
   ]
  },
  {
   "cell_type": "code",
   "execution_count": null,
   "id": "bb5d2b8f",
   "metadata": {},
   "outputs": [],
   "source": [
    "----"
   ]
  },
  {
   "cell_type": "code",
   "execution_count": null,
   "id": "36fda08e",
   "metadata": {},
   "outputs": [],
   "source": []
  },
  {
   "cell_type": "markdown",
   "id": "2cbd1a3f",
   "metadata": {},
   "source": [
    "### 피처엔지니어링 함수화"
   ]
  },
  {
   "cell_type": "code",
   "execution_count": null,
   "id": "6e7d43e4",
   "metadata": {},
   "outputs": [],
   "source": [
    "# Unknown을 결측치로 처리 함수\n",
    "def Unknown_to_nan(df):\n",
    "    df.replace({\"Unknown\": np.nan},inplace=True) # 데이터 전체에 존재하는 \"Unknown\"을 결측치로 처리\n",
    "    return df\n",
    "\n",
    "# 레이블 인코딩 수행 함수\n",
    "def format_features(df):\n",
    "    from sklearn.preprocessing import LabelEncoder\n",
    "    features=['Education_Level','Income_Category','Card_Category','Marital_Status','Gender']\n",
    "    for feature in features:\n",
    "            le = LabelEncoder()\n",
    "            le = le.fit(df[feature])\n",
    "            df[feature] = le.transform(df[feature])\n",
    "    return df\n",
    "\n",
    "# # Unknown도 무응답으로 인지 후 더미화 \n",
    "# def format_features(df):\n",
    "#     features=['Education_Level','Income_Category','Card_Category','Marital_Status','Gender']\n",
    "#     for feature in features:\n",
    "#         feature_OH =  pd.get_dummies(df[feature])\n",
    "#         df = pd.concat([df, feature_OH], axis=1)\n",
    "#         df.drop(feature,axis=1,inplace=True)\n",
    "#     return df\n",
    "\n",
    "# 결측치를 대표값으로 대체하는 함수\n",
    "def fill(df):\n",
    "    # 대표값 이용 결측치 대체 모듈 \n",
    "    from sklearn.impute import SimpleImputer\n",
    "    # 각 데이터에 사용할 인스턴스 생성\n",
    "    SI_mode =SimpleImputer(strategy = 'most_frequent') # 대표값 중 최빈값으로 결측치를 대체해준다.\n",
    "    # 학습\n",
    "    SI_mode.fit(df)\n",
    "    df = pd.DataFrame(SI_mode.transform(df),\n",
    "                            columns = df.columns)\n",
    "    return df\n",
    "    \n",
    "# 데이타 타입을 수치형으로 바꿔주는 함수\n",
    "def toNumerics(df):\n",
    "    df[Numerics]=df[Numerics].astype(\"float\")\n",
    "    df[Labels]=df[Labels].astype(\"int\")\n",
    "    df[Orders]=df[Orders].astype(\"int\")\n",
    "    df[\"Attrition_Flag\"]=df[\"Attrition_Flag\"].astype(\"int\")\n",
    "    return df\n",
    "\n",
    "# 머신러닝 알고리즘에 불필요한 속성 제거\n",
    "def drop_features(df):\n",
    "    df.drop([\"CLIENTNUM\", # 식별자 삭제\n",
    "         \"Avg_Open_To_Buy\",\n",
    "         \"Avg_Utilization_Ratio\",\n",
    "         \"Total_Trans_Amt\",\n",
    "         \"Total_Amt_Chng_Q4_Q1\"], axis=1,inplace=True)\n",
    "    return df\n",
    "\n",
    "# 로그변환 함수\n",
    "def log_transformation(df):\n",
    "   df[\"Credit_Limit\"]=np.log1p(df[\"Credit_Limit\"])\n",
    "   return df\n",
    "\n",
    "# 수치형 변수 표준화 스케일링\n",
    "def Standared_scaling(df):\n",
    "    from sklearn.preprocessing import StandardScaler\n",
    "    scaler = StandardScaler()\n",
    "    for numeric in ['Customer_Age','Credit_Limit','Total_Revolving_Bal','Total_Ct_Chng_Q4_Q1','Total_Trans_Ct']:\n",
    "        df[numeric] = scaler.fit_transform(df[numeric].values.reshape(-1,1))\n",
    "    return df\n",
    "    \n",
    "\n",
    "# 전처리 함수 호출\n",
    "def transform_features(df):\n",
    "    #df = Unknown_to_nan(df)\n",
    "    df = format_features(df)\n",
    "    df = fill(df)\n",
    "    df = toNumerics(df)\n",
    "    df = drop_features(df)\n",
    "    df = log_transformation(df)\n",
    "    df = Standared_scaling(df)\n",
    "    return df\n",
    "    "
   ]
  },
  {
   "cell_type": "code",
   "execution_count": null,
   "id": "3cf91d87",
   "metadata": {},
   "outputs": [],
   "source": []
  },
  {
   "cell_type": "code",
   "execution_count": null,
   "id": "02724288",
   "metadata": {},
   "outputs": [],
   "source": []
  },
  {
   "cell_type": "markdown",
   "id": "57583234",
   "metadata": {},
   "source": [
    "## 5. 모델링"
   ]
  },
  {
   "cell_type": "markdown",
   "id": "426e19a1",
   "metadata": {},
   "source": [
    "#### 사용할 알고리즘\n",
    "- DecisionTreeClassifier\n",
    "- RandomForestClassifier\n",
    "- LogisticRegression\n",
    "- KNeighborsClassifier\n",
    "- XGBoost\n",
    "- LightGBM\n",
    "- SVM"
   ]
  },
  {
   "cell_type": "markdown",
   "id": "a0fe2ab3",
   "metadata": {},
   "source": [
    "### 5 - 지도학습"
   ]
  },
  {
   "cell_type": "markdown",
   "id": "c0fa75ab",
   "metadata": {},
   "source": [
    "### 사용 함수"
   ]
  },
  {
   "cell_type": "code",
   "execution_count": null,
   "id": "0c10a448",
   "metadata": {},
   "outputs": [],
   "source": [
    "from sklearn.metrics import confusion_matrix, accuracy_score, precision_score, recall_score, f1_score\n",
    "from sklearn.metrics import roc_auc_score\n",
    "\n",
    "# 수정된 get_clf_eval() 함수 \n",
    "def get_clf_eval(y_test, pred=None, pred_proba=None):\n",
    "    confusion = confusion_matrix(y_test, pred)\n",
    "    accuracy = accuracy_score(y_test , pred)\n",
    "    precision = precision_score(y_test, pred)\n",
    "    recall = recall_score(y_test, pred)\n",
    "    f1 = f1_score(y_test,pred)\n",
    "    \n",
    "#     # ROC-AUC 추가 \n",
    "#     roc_auc = roc_auc_score(y_test, pred_proba)\n",
    "    print('오차 행렬')\n",
    "    print(confusion)\n",
    "#     # ROC-AUC print 추가\n",
    "    print('정확도: {0:.4f}, 정밀도: {1:.4f}, 재현율: {2:.4f},\\\n",
    "     F1: {3:.4f}'.format(accuracy, precision, recall, f1)) #, roc_auc))"
   ]
  },
  {
   "cell_type": "code",
   "execution_count": null,
   "id": "324cac25",
   "metadata": {},
   "outputs": [],
   "source": [
    "# 테스트를 수행할 모든 임곗값을 리스트 객체로 저장. \n",
    "thresholds = [0.05,0.11,0.2,0.3, 0.4, 0.45, 0.50, 0.55, 0.60]\n",
    "\n",
    "def get_eval_by_threshold(y_test , pred_proba_c1, thresholds):\n",
    "    # thresholds list객체내의 값을 차례로 iteration하면서 Evaluation 수행.\n",
    "    for custom_threshold in thresholds:\n",
    "        binarizer = Binarizer(threshold=custom_threshold).fit(pred_proba_c1) \n",
    "        custom_predict = binarizer.transform(pred_proba_c1)\n",
    "        print('\\n임곗값:',custom_threshold)\n",
    "        get_clf_eval(y_test , custom_predict)"
   ]
  },
  {
   "cell_type": "code",
   "execution_count": null,
   "id": "009f2e24",
   "metadata": {},
   "outputs": [],
   "source": [
    "# 함수 만들기\n",
    "import matplotlib.pyplot as plt\n",
    "import matplotlib.ticker as ticker\n",
    "%matplotlib inline\n",
    "\n",
    "# y_test : 실제 값  pred_proba_c1: 예측 확률 값\n",
    "def precision_recall_curve_plot(y_test , pred_proba_c1): \n",
    "    # threshold ndarray와 이 threshold에 따른 정밀도, 재현율 ndarray 추출. \n",
    "    precisions, recalls, thresholds = precision_recall_curve( y_test, pred_proba_c1)\n",
    "    \n",
    "    # X축을 threshold값으로, Y축은 정밀도, 재현율 값으로 각각 Plot 수행. \n",
    "    # 정밀도는 점선으로 표시\n",
    "    plt.figure(figsize=(8,6))\n",
    "    threshold_boundary = thresholds.shape[0] # (143,)에서 143 추출\n",
    "    # thresholds : 143이고, precisions과 recalls는 144개로 x, y축 값의 개수가 맞지 않으므로\n",
    "    # precisions, recalls로 그래프 그리면 오류 \n",
    "    # y 값을 [0:threshold_boundary] ([0:143])로 143개 추출해서 x축 개수와 맞춤\n",
    "    plt.plot(thresholds, precisions[0:threshold_boundary], linestyle='--', label='precision') \n",
    "    plt.plot(thresholds, recalls[0:threshold_boundary],label='recall')\n",
    "    \n",
    "    # threshold 값 X 축의 Scale을 0.1 단위로 변경\n",
    "    # xlim() : X축 범위를 지정하거나 반환\n",
    "    start, end = plt.xlim() # X축 범위 반환\n",
    "    plt.xticks(np.round(np.arange(start, end, 0.1),2))\n",
    "    \n",
    "    # x축, y축 label과 legend, 그리고 grid 설정\n",
    "    plt.xlabel('Threshold value'); plt.ylabel('Precision and Recall value')\n",
    "    plt.legend(); plt.grid()\n",
    "    plt.show()"
   ]
  },
  {
   "cell_type": "code",
   "execution_count": null,
   "id": "4f1a3e38",
   "metadata": {},
   "outputs": [],
   "source": [
    "def get_model_train_eval(model, ftr_train=None, ftr_test=None, tgt_train=None, tgt_test=None) :\n",
    "    model.fit(ftr_train, tgt_train)\n",
    "    pred = model.predict(ftr_test)\n",
    "    pred_proba = model.predict_proba(ftr_test)[:,1]\n",
    "    get_clf_eval(tgt_test,pred,pred_proba) ## 평가진행 함수 호출"
   ]
  },
  {
   "cell_type": "code",
   "execution_count": null,
   "id": "65f4f9da",
   "metadata": {},
   "outputs": [],
   "source": []
  },
  {
   "cell_type": "markdown",
   "id": "b3f7d1a4",
   "metadata": {},
   "source": [
    "### 학습/평가 데이터 분리"
   ]
  },
  {
   "cell_type": "code",
   "execution_count": null,
   "id": "a2bbe0c4",
   "metadata": {},
   "outputs": [],
   "source": [
    "X = df.iloc[:,1:] # 피처 변수 \n",
    "y = df.iloc[:,:1] # 타겟 변수 분리 "
   ]
  },
  {
   "cell_type": "code",
   "execution_count": null,
   "id": "99033050",
   "metadata": {},
   "outputs": [],
   "source": [
    "# 학습 데이터와 평가 데이터로 분리\n",
    "from sklearn.model_selection import train_test_split\n",
    "X_train, X_test, y_train, y_test = train_test_split(X, y, random_state=42, stratify=y)"
   ]
  },
  {
   "cell_type": "code",
   "execution_count": null,
   "id": "33b8f96a",
   "metadata": {},
   "outputs": [],
   "source": []
  },
  {
   "cell_type": "markdown",
   "id": "5fa2ad0f",
   "metadata": {},
   "source": [
    "## 기본 모델링"
   ]
  },
  {
   "cell_type": "code",
   "execution_count": null,
   "id": "7c294ae3",
   "metadata": {
    "scrolled": true
   },
   "outputs": [],
   "source": [
    "from sklearn.tree import DecisionTreeClassifier # 의사결정 나무\n",
    "from sklearn.ensemble import RandomForestClassifier # 랜덤 포레스트\n",
    "from sklearn.linear_model import LogisticRegression # 로지스틱 회귀\n",
    "from sklearn.neighbors import KNeighborsClassifier # k-최근접이웃\n",
    "from sklearn.ensemble import GradientBoostingClassifier # GBM\n",
    "from xgboost import XGBClassifier # XGBM\n",
    "from lightgbm import LGBMClassifier # LightGBM\n",
    "from sklearn import svm\n",
    "\n",
    "\n",
    "# 사이킷런 Classifier 클래스 생성\n",
    "dt_clf = DecisionTreeClassifier(random_state=11)\n",
    "rf_clf = RandomForestClassifier(random_state=11)\n",
    "lr_clf = LogisticRegression()\n",
    "kn_clf = KNeighborsClassifier(n_neighbors=5)\n",
    "gb_clf = GradientBoostingClassifier(random_state=11)\n",
    "lgbm_clf = LGBMClassifier(random_state=11)\n",
    "svm_clf = svm.SVC(probability=True)\n",
    "\n",
    "# DecisionTreeClassifier 학습/예측/평가\n",
    "dt_clf.fit(X_train, y_train)\n",
    "dt_pred = dt_clf.predict(X_test)\n",
    "dt_pred_proba = dt_clf.predict_proba(X_test)[:,1]\n",
    "get_clf_eval(y_test, dt_pred, dt_pred_proba)\n",
    "\n",
    "# RandomForestClassifier\n",
    "rf_clf.fit(X_train, y_train)\n",
    "rf_pred = rf_clf.predict(X_test)\n",
    "rf_pred_proba = rf_clf.predict_proba(X_test)[:,1]\n",
    "get_clf_eval(y_test, rf_pred, rf_pred_proba)\n",
    "\n",
    "# LogistRegression\n",
    "lr_clf.fit(X_train, y_train)\n",
    "lr_pred = lr_clf.predict(X_test)\n",
    "lr_pred_proba = lr_clf.predict_proba(X_test)[:,1]\n",
    "get_clf_eval(y_test, lr_pred, lr_pred_proba)\n",
    "\n",
    "# KNeighborsClassifier\n",
    "kn_clf.fit(X_train, y_train)\n",
    "kn_pred = kn_clf.predict(X_test)\n",
    "kn_pred_proba = kn_clf.predict_proba(X_test)[:,1]\n",
    "get_clf_eval(y_test, kn_pred, kn_pred_proba)\n",
    "\n",
    "# # GBM\n",
    "# gb_clf.fit(X_train, y_train)\n",
    "# gb_pred = gb_clf.predict(X_test)\n",
    "# gb_pred_proba = gb_clf.predict_proba(X_test)[:,1]\n",
    "# get_clf_eval(y_test, gb_pred, gb_pred_proba)\n",
    "\n",
    "# LightGBM\n",
    "lgbm_clf.fit(X_train,y_train)\n",
    "lgbm_pred = lgbm_clf.predict(X_test)\n",
    "lgbm_pred_proba = lgbm_clf.predict_proba(X_test)[:,1]\n",
    "get_clf_eval(y_test, lgbm_pred, lgbm_pred_proba)\n",
    "\n",
    "# XGBM\n",
    "xgb_wrapper = XGBClassifier()\n",
    "xgb_wrapper.fit(X_train, y_train)\n",
    "w_preds = xgb_wrapper.predict(X_test)\n",
    "w_pred_proba = xgb_wrapper.predict_proba(X_test)[:,1]\n",
    "get_clf_eval(y_test, w_preds, w_pred_proba)\n",
    "\n",
    "\n",
    "# SVM\n",
    "svm_clf.fit(X_train, y_train)\n",
    "svm_pred = svm_clf.predict(X_test)\n",
    "svm_pred_proba = svm_clf.predict_proba(X_test)[:,1]\n",
    "get_clf_eval(y_test, svm_pred, svm_pred_proba)\n",
    "\n",
    "# 시간이 조금 걸림"
   ]
  },
  {
   "cell_type": "markdown",
   "id": "77a7b63b",
   "metadata": {},
   "source": [
    "## Smote (업샘플링)"
   ]
  },
  {
   "cell_type": "code",
   "execution_count": null,
   "id": "310a10ae",
   "metadata": {},
   "outputs": [],
   "source": [
    "from imblearn.over_sampling import SMOTE\n",
    "\n",
    "smote = SMOTE(random_state=11)\n",
    "X_train_over, y_train_over = smote.fit_resample(X_train, y_train)\n",
    "print('SMOTE 적용 전 학습용 피처/레이블 데이터 세트', X_train.shape, y_train.shape)\n",
    "print('SMOTE 적용 전 학습용 피처/레이블 데이터 세트', X_train_over.shape, y_train_over.shape)"
   ]
  },
  {
   "cell_type": "code",
   "execution_count": null,
   "id": "c9f072f5",
   "metadata": {},
   "outputs": [],
   "source": [
    "X_train = X_train_over\n",
    "y_train = y_train_over"
   ]
  },
  {
   "cell_type": "code",
   "execution_count": null,
   "id": "4cbf403f",
   "metadata": {
    "scrolled": false
   },
   "outputs": [],
   "source": [
    "# DecisionTreeClassifier 학습/예측/평가\n",
    "dt_clf.fit(X_train, y_train)\n",
    "dt_pred = dt_clf.predict(X_test)\n",
    "dt_pred_proba = dt_clf.predict_proba(X_test)[:,1]\n",
    "get_clf_eval(y_test, dt_pred, dt_pred_proba)\n",
    "\n",
    "# RandomForestClassifier\n",
    "rf_clf.fit(X_train, y_train)\n",
    "rf_pred = rf_clf.predict(X_test)\n",
    "rf_pred_proba = rf_clf.predict_proba(X_test)[:,1]\n",
    "get_clf_eval(y_test, rf_pred, rf_pred_proba)\n",
    "\n",
    "# LogistRegression\n",
    "lr_clf.fit(X_train, y_train)\n",
    "lr_pred = lr_clf.predict(X_test)\n",
    "lr_pred_proba = lr_clf.predict_proba(X_test)[:,1]\n",
    "get_clf_eval(y_test, lr_pred, lr_pred_proba)\n",
    "\n",
    "# KNeighborsClassifier\n",
    "kn_clf.fit(X_train, y_train)\n",
    "kn_pred = kn_clf.predict(X_test)\n",
    "kn_pred_proba = kn_clf.predict_proba(X_test)[:,1]\n",
    "get_clf_eval(y_test, kn_pred, kn_pred_proba)\n",
    "\n",
    "# # GBM\n",
    "# gb_clf.fit(X_train, y_train)\n",
    "# gb_pred = gb_clf.predict(X_test)\n",
    "# gb_pred_proba = gb_clf.predict_proba(X_test)[:,1]\n",
    "# get_clf_eval(y_test, gb_pred, gb_pred_proba)\n",
    "\n",
    "\n",
    "# LightGBM\n",
    "lgbm_clf.fit(X_train,y_train)\n",
    "lgbm_pred = lgbm_clf.predict(X_test)\n",
    "lgbm_pred_proba = lgbm_clf.predict_proba(X_test)[:,1]\n",
    "get_clf_eval(y_test, lgbm_pred, lgbm_pred_proba)\n",
    "\n",
    "\n",
    "# XGBM\n",
    "xgb_wrapper = XGBClassifier()\n",
    "xgb_wrapper.fit(X_train, y_train)\n",
    "w_preds = xgb_wrapper.predict(X_test)\n",
    "w_pred_proba = xgb_wrapper.predict_proba(X_test)[:,1]\n",
    "get_clf_eval(y_test, w_preds, w_pred_proba)\n",
    "\n",
    "# SVM\n",
    "svm_clf.fit(X_train, y_train)\n",
    "svm_pred = svm_clf.predict(X_test)\n",
    "svm_pred_proba = svm_clf.predict_proba(X_test)[:,1]\n",
    "get_clf_eval(y_test, svm_pred, svm_pred_proba)"
   ]
  },
  {
   "cell_type": "markdown",
   "id": "3d3471fa",
   "metadata": {},
   "source": [
    "## 앙상블 학습 결과\n",
    "\n",
    "(DecisionTree, LogisticRegression, KNeighborsClassifier)\n",
    "\n",
    "소프트 보팅 결과"
   ]
  },
  {
   "cell_type": "code",
   "execution_count": null,
   "id": "829f3283",
   "metadata": {},
   "outputs": [],
   "source": [
    "from sklearn.ensemble import VotingClassifier\n",
    "\n",
    "vo_clf = VotingClassifier( estimators=[('rf',rf_clf),('xgb',xgb_wrapper)],voting='soft')\n",
    "vo_clf.fit(X_train_over,y_train_over)\n",
    "vo_pred = vo_clf.predict(X_test)\n",
    "vo_pred_proba = vo_clf.predict_proba(X_test)[:,1]\n",
    "get_clf_eval(y_test, vo_pred, vo_pred_proba)\n",
    "\n"
   ]
  },
  {
   "cell_type": "code",
   "execution_count": null,
   "id": "1a770173",
   "metadata": {},
   "outputs": [],
   "source": [
    "pred_proba = vo_clf.predict_proba(X_test)"
   ]
  },
  {
   "cell_type": "code",
   "execution_count": null,
   "id": "bbfde5e4",
   "metadata": {},
   "outputs": [],
   "source": [
    "# 테스트를 수행할 모든 임곗값을 리스트 객체로 저장. \n",
    "thresholds = [0.2,0.31,0.32,0.33,0.34,0.36,0.37, 0.4, 0.45, 0.50, 0.55, 0.60]"
   ]
  },
  {
   "cell_type": "code",
   "execution_count": null,
   "id": "7f0cf72a",
   "metadata": {},
   "outputs": [],
   "source": [
    "from sklearn.preprocessing import Binarizer\n",
    "\n",
    "get_eval_by_threshold(y_test,pred_proba[:,1].reshape(-1,1),thresholds)"
   ]
  },
  {
   "cell_type": "code",
   "execution_count": null,
   "id": "71c6b781",
   "metadata": {},
   "outputs": [],
   "source": [
    "from sklearn.metrics import precision_recall_curve\n",
    "\n",
    "# 레이블 값이 1일때의 예측 확률을 추출 \n",
    "pred_proba_class1 = pred_proba[:, 1] \n",
    "font = {\n",
    "        'color': 'white',\n",
    "        'size' : 16\n",
    "         }\n",
    "\n",
    "\n",
    "\n",
    "\n",
    "\n",
    "\n",
    "# 실제값 데이터 셋과 레이블 값이 1일 때의 예측 확률을 precision_recall_curve 인자로 입력 \n",
    "precisions, recalls, thresholds = precision_recall_curve(y_test, pred_proba_class1)\n",
    "\n",
    "\n",
    "precision_recall_curve_plot(y_test,pred_proba[:, 1]   )\n",
    "\n",
    "\n",
    "\n",
    "\n"
   ]
  },
  {
   "cell_type": "markdown",
   "id": "b5a69820",
   "metadata": {},
   "source": [
    "## 하이퍼 파라미터 "
   ]
  },
  {
   "cell_type": "markdown",
   "id": "f934fa44",
   "metadata": {},
   "source": [
    "### Decision Tree"
   ]
  },
  {
   "cell_type": "code",
   "execution_count": null,
   "id": "5c8585ef",
   "metadata": {},
   "outputs": [],
   "source": [
    "from sklearn.model_selection import GridSearchCV\n",
    "\n",
    "params = {\n",
    "    'max_depth':[6,8,10,12,16,20,24],\n",
    "\n",
    "#     'min_samples_split':[2,4,6,8,16,32,64],\n",
    "    \n",
    "    'max_leaf_nodes':[2,4,6,8,16,32,64]\n",
    "\n",
    "}\n",
    "\n",
    "grid_cv = GridSearchCV(dt_clf, param_grid=params, scoring='recall', cv=5, verbose=0)\n",
    "grid_cv.fit(X_train, y_train)\n",
    "# print('GridSearchCV 최고 평균 재현율 수치 : {0:.4f}'.format(grid_cv.best_score_))\n",
    "# print('GridSearchCV 최적 하이퍼 파라미터 :',grid_cv.best_params_)"
   ]
  },
  {
   "cell_type": "code",
   "execution_count": null,
   "id": "524f195d",
   "metadata": {
    "scrolled": true
   },
   "outputs": [],
   "source": [
    "best_dt_clf = grid_cv.best_estimator_\n",
    "pred1 = best_dt_clf.predict(X_test)\n",
    "pred_proba1 = best_dt_clf.predict_proba(X_test)[:,1]\n",
    "dt_results = get_clf_eval(y_test, pred1, pred_proba1)"
   ]
  },
  {
   "cell_type": "markdown",
   "id": "544ef58d",
   "metadata": {},
   "source": [
    "### RandomForestClassifier"
   ]
  },
  {
   "cell_type": "code",
   "execution_count": null,
   "id": "6bde63da",
   "metadata": {},
   "outputs": [],
   "source": [
    "from sklearn.model_selection import GridSearchCV\n",
    "\n",
    "params = {\n",
    "    'max_depth':[6,8,10,12,16,20,24],\n",
    "\n",
    "#     'min_samples_split':[2,4,6,8,16,32,64],\n",
    "    \n",
    "#     'max_leaf_nodes':[2,4,6,8,16,32,64]\n",
    "}\n",
    "\n",
    "grid_cv = GridSearchCV(rf_clf, param_grid=params, scoring='recall', cv=5, verbose=0)\n",
    "grid_cv.fit(X_train, y_train)\n",
    "print('GridSearchCV 최고 평균 재현율 수치 : {0:.4f}'.format(grid_cv.best_score_))\n",
    "print('GridSearchCV 최적 하이퍼 파라미터 :',grid_cv.best_params_)"
   ]
  },
  {
   "cell_type": "code",
   "execution_count": null,
   "id": "a4e3b76d",
   "metadata": {
    "scrolled": true
   },
   "outputs": [],
   "source": [
    "best_rf_clf = grid_cv.best_estimator_\n",
    "pred1 = best_rf_clf.predict(X_test)\n",
    "pred_proba1 = best_rf_clf.predict_proba(X_test)[:,1]\n",
    "dt_results = get_clf_eval(y_test, pred1, pred_proba1)"
   ]
  },
  {
   "cell_type": "markdown",
   "id": "55f31710",
   "metadata": {},
   "source": [
    "### LoigisticRegression\n",
    "\n",
    "\n",
    "LogisticRegression은 MaxDepth 파라미터가 존재하지 않음."
   ]
  },
  {
   "cell_type": "code",
   "execution_count": null,
   "id": "a40ef330",
   "metadata": {},
   "outputs": [],
   "source": [
    "from sklearn.model_selection import GridSearchCV\n",
    "\n",
    "params = {\n",
    "    'penalty':['l1','l2','elasticnet','none'],\n",
    "    'C':[1,2,3,4]\n",
    "}\n",
    "\n",
    "grid_cv = GridSearchCV(lr_clf, param_grid=params, scoring='recall', cv=5, verbose=0)\n",
    "grid_cv.fit(X_train, y_train)\n",
    "print('GridSearchCV 최고 평균 재현율 수치 : {0:.4f}'.format(grid_cv.best_score_))\n",
    "print('GridSearchCV 최적 하이퍼 파라미터 :',grid_cv.best_params_)"
   ]
  },
  {
   "cell_type": "code",
   "execution_count": null,
   "id": "4339057f",
   "metadata": {},
   "outputs": [],
   "source": [
    "best_lr_clf = grid_cv.best_estimator_\n",
    "pred1 = best_lr_clf.predict(X_test)\n",
    "pred_proba1 = best_lr_clf.predict_proba(X_test)[:,1]\n",
    "dt_results = get_clf_eval(y_test, pred1, pred_proba1)"
   ]
  },
  {
   "cell_type": "markdown",
   "id": "410c33c8",
   "metadata": {},
   "source": [
    "### KNeightborsClassifier\n",
    "\n",
    "\n",
    "\n",
    "\n",
    "KNeighborsClassifer는 MaxDepth Parameter가 존재하지 않음."
   ]
  },
  {
   "cell_type": "code",
   "execution_count": null,
   "id": "bb6af12a",
   "metadata": {},
   "outputs": [],
   "source": [
    "from sklearn.model_selection import GridSearchCV\n",
    "\n",
    "params = {\n",
    "    'algorithm':['auto','ball_tree','kd_tree','brute'],\n",
    "    'p':[2,4,6,8,10,12],\n",
    "    'weights':['uniform','distance']\n",
    "    \n",
    "    \n",
    "}\n",
    "\n",
    "grid_cv = GridSearchCV(kn_clf, param_grid=params, scoring='recall', cv=5, verbose=0)\n",
    "grid_cv.fit(X_train, y_train)\n",
    "print('GridSearchCV 최고 평균 재현율 수치 : {0:.4f}'.format(grid_cv.best_score_))\n",
    "print('GridSearchCV 최적 하이퍼 파라미터 :',grid_cv.best_params_)"
   ]
  },
  {
   "cell_type": "code",
   "execution_count": null,
   "id": "e53e5b1d",
   "metadata": {},
   "outputs": [],
   "source": [
    "best_kn_clf = grid_cv.best_estimator_\n",
    "pred1 = best_kn_clf.predict(X_test)\n",
    "pred_proba1 = best_kn_clf.predict_proba(X_test)[:,1]\n",
    "dt_results = get_clf_eval(y_test, pred1, pred_proba1)"
   ]
  },
  {
   "cell_type": "markdown",
   "id": "de3c4723",
   "metadata": {},
   "source": [
    "### GBM"
   ]
  },
  {
   "cell_type": "code",
   "execution_count": null,
   "id": "a4dc4423",
   "metadata": {},
   "outputs": [],
   "source": [
    "# from sklearn.model_selection import GridSearchCV\n",
    "\n",
    "# params = {\n",
    "#     'min_samples_leaf':[2,4,8,16,32,64],\n",
    "#     'max_depth':[6,8,10,12,16,20,24],\n",
    "#     'max_features':[1,2,3,4,5,6,7,8,9,10]\n",
    "# }\n",
    "\n",
    "# grid_cv = GridSearchCV(gb_clf, param_grid=params, scoring='recall', cv=5, verbose=0)\n",
    "# grid_cv.fit(X_train, y_train)\n",
    "# print('GridSearchCV 최고 평균 재현율 수치 : {0:.4f}'.format(grid_cv.best_score_))\n",
    "# print('GridSearchCV 최적 하이퍼 파라미터 :',grid_cv.best_params_)"
   ]
  },
  {
   "cell_type": "code",
   "execution_count": null,
   "id": "a7e02b4d",
   "metadata": {},
   "outputs": [],
   "source": [
    "# best_gb_clf = grid_cv.best_estimator_\n",
    "# pred1 = best_gb_clf.predict(X_test)\n",
    "# pred_proba1 = best_gb_clf.predict_proba(X_test)[:,1]\n",
    "# dt_results = get_clf_eval(y_test, pred1, pred_proba1)"
   ]
  },
  {
   "cell_type": "markdown",
   "id": "e8fa68e8",
   "metadata": {},
   "source": [
    "## LIghtGBM\n",
    "\n",
    "https://lightgbm.readthedocs.io/en/latest/Parameters-Tuning.html"
   ]
  },
  {
   "cell_type": "code",
   "execution_count": null,
   "id": "3cb62699",
   "metadata": {},
   "outputs": [],
   "source": [
    "from sklearn.model_selection import GridSearchCV\n",
    "\n",
    "params = {\n",
    "    \n",
    "    #'min_gain_to_split':[0,1,2,3,4,8,10,12,20],\n",
    "    'max_depth':[6,8,10,12,16,20,24],\n",
    "    'num_leaves':[5,10,15,20,25,30,31,35,40,41]\n",
    "}\n",
    "\n",
    "grid_cv = GridSearchCV(lgbm_clf, param_grid=params, scoring='recall', cv=5, verbose=0)\n",
    "grid_cv.fit(X_train, y_train)\n",
    "print('GridSearchCV 최고 평균 재현율 수치 : {0:.4f}'.format(grid_cv.best_score_))\n",
    "print('GridSearchCV 최적 하이퍼 파라미터 :',grid_cv.best_params_)"
   ]
  },
  {
   "cell_type": "code",
   "execution_count": null,
   "id": "7c0b13a9",
   "metadata": {},
   "outputs": [],
   "source": [
    "best_lgbm_clf = grid_cv.best_estimator_\n",
    "pred1 = best_lgbm_clf.predict(X_test)\n",
    "pred_proba1 = best_lgbm_clf.predict_proba(X_test)[:,1]\n",
    "dt_results = get_clf_eval(y_test, pred1, pred_proba1)"
   ]
  },
  {
   "cell_type": "markdown",
   "id": "c747ef32",
   "metadata": {},
   "source": [
    "### XGBM\n",
    "\n",
    "\n",
    "https://www.analyticsvidhya.com/blog/2016/03/complete-guide-parameter-tuning-xgboost-with-codes-python/"
   ]
  },
  {
   "cell_type": "code",
   "execution_count": null,
   "id": "5342807f",
   "metadata": {},
   "outputs": [],
   "source": [
    "from sklearn.model_selection import GridSearchCV\n",
    "\n",
    "params = {\n",
    "    'max_depth':[3,4,5,6,7,8,9,10],\n",
    "    'max_leaf_nodes':[2,4,8,16,32,64],\n",
    "    #'subsample':[0.5,0.6,0.7,0.8,0.9,1,1.1]\n",
    "}\n",
    "\n",
    "grid_cv = GridSearchCV(xgb_wrapper, param_grid=params, scoring='recall', cv=5, verbose=0)\n",
    "grid_cv.fit(X_train, y_train)\n",
    "print('GridSearchCV 최고 평균 재현율 수치 : {0:.4f}'.format(grid_cv.best_score_))\n",
    "print('GridSearchCV 최적 하이퍼 파라미터 :',grid_cv.best_params_)"
   ]
  },
  {
   "cell_type": "code",
   "execution_count": null,
   "id": "95932a66",
   "metadata": {},
   "outputs": [],
   "source": [
    "best_xgb_wrapper = grid_cv.best_estimator_\n",
    "pred1 = best_xgb_wrapper.predict(X_test)\n",
    "pred_proba1 = best_xgb_wrapper.predict_proba(X_test)[:,1]\n",
    "dt_results = get_clf_eval(y_test, pred1, pred_proba1)"
   ]
  },
  {
   "cell_type": "code",
   "execution_count": null,
   "id": "ab9d2cc2",
   "metadata": {},
   "outputs": [],
   "source": []
  },
  {
   "cell_type": "markdown",
   "id": "777bdde4",
   "metadata": {},
   "source": [
    "# Trade-OFF"
   ]
  },
  {
   "cell_type": "markdown",
   "id": "455a7470",
   "metadata": {},
   "source": [
    "### LGBM"
   ]
  },
  {
   "cell_type": "code",
   "execution_count": null,
   "id": "7038bfe6",
   "metadata": {},
   "outputs": [],
   "source": [
    "pred_proba = best_lgbm_clf.predict_proba(X_test)"
   ]
  },
  {
   "cell_type": "code",
   "execution_count": null,
   "id": "bb9c74d5",
   "metadata": {},
   "outputs": [],
   "source": [
    "# 테스트를 수행할 모든 임곗값을 리스트 객체로 저장. \n",
    "thresholds = [0.31,0.32,0.34,0.33,0.37, 0.4, 0.45, 0.50, 0.55, 0.60]"
   ]
  },
  {
   "cell_type": "code",
   "execution_count": null,
   "id": "e0e19789",
   "metadata": {},
   "outputs": [],
   "source": [
    "from sklearn.preprocessing import Binarizer\n",
    "\n",
    "get_eval_by_threshold(y_test,pred_proba[:,1].reshape(-1,1),thresholds)"
   ]
  },
  {
   "cell_type": "code",
   "execution_count": null,
   "id": "c28c9918",
   "metadata": {},
   "outputs": [],
   "source": [
    "from sklearn.metrics import precision_recall_curve\n",
    "\n",
    "# 레이블 값이 1일때의 예측 확률을 추출 \n",
    "pred_proba_class1 = pred_proba[:, 1] \n",
    "\n",
    "# 실제값 데이터 셋과 레이블 값이 1일 때의 예측 확률을 precision_recall_curve 인자로 입력 \n",
    "precisions, recalls, thresholds = precision_recall_curve(y_test, pred_proba_class1)"
   ]
  },
  {
   "cell_type": "code",
   "execution_count": null,
   "id": "7591894b",
   "metadata": {},
   "outputs": [],
   "source": [
    "precision_recall_curve_plot(y_test,pred_proba[:, 1]   )"
   ]
  },
  {
   "cell_type": "markdown",
   "id": "d0992013",
   "metadata": {},
   "source": [
    "## XGBClassifier 함수"
   ]
  },
  {
   "cell_type": "code",
   "execution_count": null,
   "id": "a4476de8",
   "metadata": {},
   "outputs": [],
   "source": [
    "\n",
    "\n",
    "pred_proba = best_xgb_wrapper.predict_proba(X_test)\n",
    "pred_proba[:10]\n"
   ]
  },
  {
   "cell_type": "code",
   "execution_count": null,
   "id": "b717d6aa",
   "metadata": {},
   "outputs": [],
   "source": [
    "# 테스트를 수행할 모든 임곗값을 리스트 객체로 저장. \n",
    "thresholds = [0.2,0.31,0.32,0.33,0.34,0.36,0.37, 0.4, 0.45, 0.50, 0.55, 0.60]"
   ]
  },
  {
   "cell_type": "code",
   "execution_count": null,
   "id": "c53e120b",
   "metadata": {},
   "outputs": [],
   "source": [
    "from sklearn.preprocessing import Binarizer\n",
    "\n",
    "get_eval_by_threshold(y_test,pred_proba[:,1].reshape(-1,1),thresholds)"
   ]
  },
  {
   "cell_type": "code",
   "execution_count": null,
   "id": "c5b086d6",
   "metadata": {},
   "outputs": [],
   "source": [
    "from sklearn.metrics import precision_recall_curve\n",
    "\n",
    "# 레이블 값이 1일때의 예측 확률을 추출 \n",
    "pred_proba_class1 = pred_proba[:, 1] \n",
    "\n",
    "# 실제값 데이터 셋과 레이블 값이 1일 때의 예측 확률을 precision_recall_curve 인자로 입력 \n",
    "precisions, recalls, thresholds = precision_recall_curve(y_test, pred_proba_class1)"
   ]
  },
  {
   "cell_type": "code",
   "execution_count": null,
   "id": "e583046a",
   "metadata": {},
   "outputs": [],
   "source": [
    "precision_recall_curve_plot(y_test,pred_proba[:, 1]   )"
   ]
  },
  {
   "cell_type": "code",
   "execution_count": null,
   "id": "4ef5c950",
   "metadata": {},
   "outputs": [],
   "source": []
  }
 ],
 "metadata": {
  "kernelspec": {
   "display_name": "Python 3 (ipykernel)",
   "language": "python",
   "name": "python3"
  },
  "language_info": {
   "codemirror_mode": {
    "name": "ipython",
    "version": 3
   },
   "file_extension": ".py",
   "mimetype": "text/x-python",
   "name": "python",
   "nbconvert_exporter": "python",
   "pygments_lexer": "ipython3",
   "version": "3.9.5"
  }
 },
 "nbformat": 4,
 "nbformat_minor": 5
}
