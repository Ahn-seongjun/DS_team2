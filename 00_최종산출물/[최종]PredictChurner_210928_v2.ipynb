{
 "cells": [
  {
   "cell_type": "markdown",
   "id": "267c5463",
   "metadata": {},
   "source": [
    "### 머신러닝 기반 카드 이탈고객 예측\n",
    "     1. 개요\n",
    "     2. 데이터 수집\n",
    "     3. 데이터 확인 및 시각화\n",
    "     4. 데이터 전처리 및 피쳐 엔지니어링\n",
    "         (1) 타겟 데이터 전처리\n",
    "         (2) 피처 데이터 전처리 \n",
    "         (3) 피처 데이터 변수 선택\n",
    "         (4) 피처 엔지니어링\n",
    "     5. 모델링\n",
    "         (1) 지도학습\n",
    "         (2) 군집화\n",
    "     6. 테스팅"
   ]
  },
  {
   "cell_type": "code",
   "execution_count": null,
   "id": "dba78033",
   "metadata": {},
   "outputs": [],
   "source": []
  },
  {
   "cell_type": "code",
   "execution_count": null,
   "id": "71de0963",
   "metadata": {},
   "outputs": [],
   "source": []
  },
  {
   "cell_type": "markdown",
   "id": "846c79fa",
   "metadata": {},
   "source": [
    "## 1. 개요\n",
    "\n",
    "- 카드 회사들은 고객 유치를 위해 많은 프로모션을 진행\n",
    "- 새로운 고객을 유치하는 것보다 기존 고객을 유지하는 것이 경제적 효과큼\n",
    "- 기존 고객의 이탈 여부를 사전에 예측 가능한 모델 구축"
   ]
  },
  {
   "cell_type": "code",
   "execution_count": null,
   "id": "dab50c36",
   "metadata": {},
   "outputs": [],
   "source": []
  },
  {
   "cell_type": "code",
   "execution_count": null,
   "id": "82228ded",
   "metadata": {},
   "outputs": [],
   "source": []
  },
  {
   "cell_type": "markdown",
   "id": "c6989ecc",
   "metadata": {},
   "source": [
    "## 2. 데이터 수집\n",
    "\n",
    "- 데이터 출처 (링크 [kaggle](https://www.kaggle.com/sakshigoyal7/credit-card-customers))\n",
    "- 은행의 고객 중에서 신용카드 고객 이탈자에 대한 자료\n",
    "- 이탈 고객의 16.07%만 자료를 가지고 있어서 한계가 있는 데이터임\n",
    "- 연령, 급여, 결혼 여부, 신용카드 한도, 신용카드 등급 등 여러 정보를 가지고 이탈 고객 분석"
   ]
  },
  {
   "cell_type": "code",
   "execution_count": null,
   "id": "7deafdb1",
   "metadata": {},
   "outputs": [],
   "source": []
  },
  {
   "cell_type": "markdown",
   "id": "507cf60a",
   "metadata": {},
   "source": [
    "## 3. 데이터 확인 및 시각화"
   ]
  },
  {
   "cell_type": "markdown",
   "id": "9dc659ea",
   "metadata": {},
   "source": [
    "**모듈 임포트**"
   ]
  },
  {
   "cell_type": "code",
   "execution_count": 1,
   "id": "0d195ffa",
   "metadata": {},
   "outputs": [],
   "source": [
    "import pandas as pd # 데이터 핸들링 \n",
    "import numpy as np \n",
    "import matplotlib.pyplot as plt # 데이터 시각화 \n",
    "%matplotlib inline\n",
    "import seaborn as sns # 데이터 시각화(고급분석)"
   ]
  },
  {
   "cell_type": "code",
   "execution_count": 2,
   "id": "8a8d56b3",
   "metadata": {},
   "outputs": [],
   "source": [
    "from IPython.core.interactiveshell import InteractiveShell\n",
    "InteractiveShell.ast_node_interactivity=\"all\" "
   ]
  },
  {
   "cell_type": "code",
   "execution_count": 3,
   "id": "132b8330",
   "metadata": {},
   "outputs": [],
   "source": [
    "import platform\n",
    "\n",
    "from matplotlib import font_manager, rc\n",
    "plt.rcParams['axes.unicode_minus'] = False\n",
    "\n",
    "if platform.system() == 'Windows':  # 윈도우\n",
    "    path = \"c:/Windows/Fonts/malgun.ttf\"\n",
    "    font_name = font_manager.FontProperties(fname=path).get_name()\n",
    "    rc('font', family=font_name)\n",
    "else:\n",
    "    print('Unknown system...  sorry~~~')"
   ]
  },
  {
   "cell_type": "code",
   "execution_count": null,
   "id": "0a015697",
   "metadata": {},
   "outputs": [],
   "source": []
  },
  {
   "cell_type": "markdown",
   "id": "c42f301c",
   "metadata": {},
   "source": [
    "**데이터 불러오기**\n",
    "- 데이터명 : **df**\n",
    "- 경로 :  **\"./data/BankChurners.csv\"**로 통일하였다."
   ]
  },
  {
   "cell_type": "code",
   "execution_count": 4,
   "id": "35ad9745",
   "metadata": {},
   "outputs": [],
   "source": [
    "df = pd.read_csv(\"./data/BankChurners.csv\")\n",
    "## 불필요한 열 2개 제거\n",
    "df = df.iloc[:,:-2]"
   ]
  },
  {
   "cell_type": "code",
   "execution_count": 5,
   "id": "a4f57073",
   "metadata": {
    "scrolled": true
   },
   "outputs": [
    {
     "data": {
      "text/plain": [
       "Index(['CLIENTNUM', 'Attrition_Flag', 'Customer_Age', 'Gender',\n",
       "       'Dependent_count', 'Education_Level', 'Marital_Status',\n",
       "       'Income_Category', 'Card_Category', 'Months_on_book',\n",
       "       'Total_Relationship_Count', 'Months_Inactive_12_mon',\n",
       "       'Contacts_Count_12_mon', 'Credit_Limit', 'Total_Revolving_Bal',\n",
       "       'Avg_Open_To_Buy', 'Total_Amt_Chng_Q4_Q1', 'Total_Trans_Amt',\n",
       "       'Total_Trans_Ct', 'Total_Ct_Chng_Q4_Q1', 'Avg_Utilization_Ratio'],\n",
       "      dtype='object')"
      ]
     },
     "execution_count": 5,
     "metadata": {},
     "output_type": "execute_result"
    }
   ],
   "source": [
    "df.keys()"
   ]
  },
  {
   "cell_type": "markdown",
   "id": "dbf04dc5",
   "metadata": {},
   "source": [
    "####  데이터 정보\n",
    "- ~'CLIENTNUM' : 고객 식별 번호~\n",
    "- 'Attrition_Flag' : 신용 카드 이탈 여부 **``Target 값``**\n",
    "    - Existing Customer : 잔류\n",
    "    - Attrited Customer : 이탈\n",
    "- 'Customer_Age' : 고객 나이\n",
    "- 'Gender' : 성별\n",
    "- 'Dependent_count' : 부양 가족 수\n",
    "- 'Education_Level' : 학력 수준\n",
    "- 'Marital_Status' : 결혼 여부\n",
    "- 'Income_Category' : 연 소득 구간\n",
    "- 'Card_Category' : 카드 등급\n",
    "- 'Months_on_book' : 카드 할부 기간\n",
    "- 'Total_Relationship_Count' : 가입 상품 수\n",
    "- 'Months_Inactive_12_mon' : 1년 동안 카드 결재 내역이 없는 비활성 기간(개월)\n",
    "- 'Contacts_Count_12_mon' : 연락 빈도\n",
    "- 'Credit_Limit' : 신용 한도\n",
    "- 'Total_Revolving_Bal' : 할부 잔액\n",
    "- ~'Avg_Open_To_Buy' : 평균 실 사용 가능 금액 :  'Credit_Limit' -  'Total_Revolving_Bal'~\n",
    "- ~'Total_Amt_Chng_Q4_Q1'~ : 결제 대금 기준 1분기 대비 4분기 (비율) \n",
    "- ~'Total_Trans_Amt'~ : 실제 사용 총액\n",
    "- 'Total_Trans_Ct' : 실제 사용 횟수\n",
    "- 'Total_Ct_Chng_Q4_Q1' : 1분기 대비 4분기 결제 대금 횟수 비율\n",
    "- ~'Avg_Utilization_Ratio' : 'Total_Revolving_Bal'/ 'Credit_Limit' (할부 비율)~"
   ]
  },
  {
   "cell_type": "markdown",
   "id": "d109e2bf",
   "metadata": {},
   "source": [
    "#### 변수 정보\n",
    "\n",
    "| 변수명                   | 변수형태 | 구분     |\n",
    "| :------------------------: | :--------: | :--------: |\n",
    "| CLIENTNUM                | INT      | 피처변수 |\n",
    "| Customer_Age             | INT      | 피처변수 |\n",
    "| Gender                   | Object   | 피처변수 |\n",
    "| Dependent_count          | INT      | 피처변수 |\n",
    "| Education_Level          | Object   | 피처변수 |\n",
    "| Marital_Status           | Object   | 피처변수 |\n",
    "| Income_Category          | Object   | 피처변수 |\n",
    "| Card_Category            | Object   | 피처변수 |\n",
    "| Months_on_book           | INT      | 피처변수 |\n",
    "| Total_Relationship_Count | INT      | 피처변수 |\n",
    "| Months_Inactive_12_mon   | INT      | 피처변수 |\n",
    "| Contacts_Count_12_mon    | INT      | 피처변수 |\n",
    "| Credit_Limit             | INT      | 피처변수 |\n",
    "| Total_Revolving_Bal      | INT      | 피처변수 |\n",
    "| Avg_Open_To_Buy          | INT      | 피처변수 |\n",
    "| Total_Amt_Chng_Q4_Q1     | INT      | 피처변수 |\n",
    "| Total_Trans_Amt          | INT      | 피처변수 |\n",
    "| Total_Trans_Ct           | INT      | 피처변수 |\n",
    "| Total_Ct_Chng_Q4_Q1      | INT      | 피처변수 |\n",
    "| Avg_Utilization_Ratio    | INT      | 피처변수 |"
   ]
  },
  {
   "cell_type": "code",
   "execution_count": null,
   "id": "e522bba4",
   "metadata": {},
   "outputs": [],
   "source": []
  },
  {
   "cell_type": "markdown",
   "id": "67f3e6a7",
   "metadata": {},
   "source": [
    "**데이터 확인**"
   ]
  },
  {
   "cell_type": "code",
   "execution_count": 6,
   "id": "059e31dc",
   "metadata": {},
   "outputs": [
    {
     "name": "stdout",
     "output_type": "stream",
     "text": [
      "<class 'pandas.core.frame.DataFrame'>\n",
      "RangeIndex: 10127 entries, 0 to 10126\n",
      "Data columns (total 21 columns):\n",
      " #   Column                    Non-Null Count  Dtype  \n",
      "---  ------                    --------------  -----  \n",
      " 0   CLIENTNUM                 10127 non-null  int64  \n",
      " 1   Attrition_Flag            10127 non-null  object \n",
      " 2   Customer_Age              10127 non-null  int64  \n",
      " 3   Gender                    10127 non-null  object \n",
      " 4   Dependent_count           10127 non-null  int64  \n",
      " 5   Education_Level           10127 non-null  object \n",
      " 6   Marital_Status            10127 non-null  object \n",
      " 7   Income_Category           10127 non-null  object \n",
      " 8   Card_Category             10127 non-null  object \n",
      " 9   Months_on_book            10127 non-null  int64  \n",
      " 10  Total_Relationship_Count  10127 non-null  int64  \n",
      " 11  Months_Inactive_12_mon    10127 non-null  int64  \n",
      " 12  Contacts_Count_12_mon     10127 non-null  int64  \n",
      " 13  Credit_Limit              10127 non-null  float64\n",
      " 14  Total_Revolving_Bal       10127 non-null  int64  \n",
      " 15  Avg_Open_To_Buy           10127 non-null  float64\n",
      " 16  Total_Amt_Chng_Q4_Q1      10127 non-null  float64\n",
      " 17  Total_Trans_Amt           10127 non-null  int64  \n",
      " 18  Total_Trans_Ct            10127 non-null  int64  \n",
      " 19  Total_Ct_Chng_Q4_Q1       10127 non-null  float64\n",
      " 20  Avg_Utilization_Ratio     10127 non-null  float64\n",
      "dtypes: float64(5), int64(10), object(6)\n",
      "memory usage: 1.6+ MB\n"
     ]
    }
   ],
   "source": [
    "## 데이터 유형 및 결측치 확인\n",
    "df.info()"
   ]
  },
  {
   "cell_type": "code",
   "execution_count": 7,
   "id": "fc540909",
   "metadata": {},
   "outputs": [
    {
     "data": {
      "text/html": [
       "<div>\n",
       "<style scoped>\n",
       "    .dataframe tbody tr th:only-of-type {\n",
       "        vertical-align: middle;\n",
       "    }\n",
       "\n",
       "    .dataframe tbody tr th {\n",
       "        vertical-align: top;\n",
       "    }\n",
       "\n",
       "    .dataframe thead th {\n",
       "        text-align: right;\n",
       "    }\n",
       "</style>\n",
       "<table border=\"1\" class=\"dataframe\">\n",
       "  <thead>\n",
       "    <tr style=\"text-align: right;\">\n",
       "      <th></th>\n",
       "      <th>CLIENTNUM</th>\n",
       "      <th>Attrition_Flag</th>\n",
       "      <th>Customer_Age</th>\n",
       "      <th>Gender</th>\n",
       "      <th>Dependent_count</th>\n",
       "      <th>Education_Level</th>\n",
       "      <th>Marital_Status</th>\n",
       "      <th>Income_Category</th>\n",
       "      <th>Card_Category</th>\n",
       "      <th>Months_on_book</th>\n",
       "      <th>...</th>\n",
       "      <th>Months_Inactive_12_mon</th>\n",
       "      <th>Contacts_Count_12_mon</th>\n",
       "      <th>Credit_Limit</th>\n",
       "      <th>Total_Revolving_Bal</th>\n",
       "      <th>Avg_Open_To_Buy</th>\n",
       "      <th>Total_Amt_Chng_Q4_Q1</th>\n",
       "      <th>Total_Trans_Amt</th>\n",
       "      <th>Total_Trans_Ct</th>\n",
       "      <th>Total_Ct_Chng_Q4_Q1</th>\n",
       "      <th>Avg_Utilization_Ratio</th>\n",
       "    </tr>\n",
       "  </thead>\n",
       "  <tbody>\n",
       "    <tr>\n",
       "      <th>0</th>\n",
       "      <td>768805383</td>\n",
       "      <td>Existing Customer</td>\n",
       "      <td>45</td>\n",
       "      <td>M</td>\n",
       "      <td>3</td>\n",
       "      <td>High School</td>\n",
       "      <td>Married</td>\n",
       "      <td>$60K - $80K</td>\n",
       "      <td>Blue</td>\n",
       "      <td>39</td>\n",
       "      <td>...</td>\n",
       "      <td>1</td>\n",
       "      <td>3</td>\n",
       "      <td>12691.0</td>\n",
       "      <td>777</td>\n",
       "      <td>11914.0</td>\n",
       "      <td>1.335</td>\n",
       "      <td>1144</td>\n",
       "      <td>42</td>\n",
       "      <td>1.625</td>\n",
       "      <td>0.061</td>\n",
       "    </tr>\n",
       "    <tr>\n",
       "      <th>1</th>\n",
       "      <td>818770008</td>\n",
       "      <td>Existing Customer</td>\n",
       "      <td>49</td>\n",
       "      <td>F</td>\n",
       "      <td>5</td>\n",
       "      <td>Graduate</td>\n",
       "      <td>Single</td>\n",
       "      <td>Less than $40K</td>\n",
       "      <td>Blue</td>\n",
       "      <td>44</td>\n",
       "      <td>...</td>\n",
       "      <td>1</td>\n",
       "      <td>2</td>\n",
       "      <td>8256.0</td>\n",
       "      <td>864</td>\n",
       "      <td>7392.0</td>\n",
       "      <td>1.541</td>\n",
       "      <td>1291</td>\n",
       "      <td>33</td>\n",
       "      <td>3.714</td>\n",
       "      <td>0.105</td>\n",
       "    </tr>\n",
       "    <tr>\n",
       "      <th>2</th>\n",
       "      <td>713982108</td>\n",
       "      <td>Existing Customer</td>\n",
       "      <td>51</td>\n",
       "      <td>M</td>\n",
       "      <td>3</td>\n",
       "      <td>Graduate</td>\n",
       "      <td>Married</td>\n",
       "      <td>$80K - $120K</td>\n",
       "      <td>Blue</td>\n",
       "      <td>36</td>\n",
       "      <td>...</td>\n",
       "      <td>1</td>\n",
       "      <td>0</td>\n",
       "      <td>3418.0</td>\n",
       "      <td>0</td>\n",
       "      <td>3418.0</td>\n",
       "      <td>2.594</td>\n",
       "      <td>1887</td>\n",
       "      <td>20</td>\n",
       "      <td>2.333</td>\n",
       "      <td>0.000</td>\n",
       "    </tr>\n",
       "    <tr>\n",
       "      <th>3</th>\n",
       "      <td>769911858</td>\n",
       "      <td>Existing Customer</td>\n",
       "      <td>40</td>\n",
       "      <td>F</td>\n",
       "      <td>4</td>\n",
       "      <td>High School</td>\n",
       "      <td>Unknown</td>\n",
       "      <td>Less than $40K</td>\n",
       "      <td>Blue</td>\n",
       "      <td>34</td>\n",
       "      <td>...</td>\n",
       "      <td>4</td>\n",
       "      <td>1</td>\n",
       "      <td>3313.0</td>\n",
       "      <td>2517</td>\n",
       "      <td>796.0</td>\n",
       "      <td>1.405</td>\n",
       "      <td>1171</td>\n",
       "      <td>20</td>\n",
       "      <td>2.333</td>\n",
       "      <td>0.760</td>\n",
       "    </tr>\n",
       "    <tr>\n",
       "      <th>4</th>\n",
       "      <td>709106358</td>\n",
       "      <td>Existing Customer</td>\n",
       "      <td>40</td>\n",
       "      <td>M</td>\n",
       "      <td>3</td>\n",
       "      <td>Uneducated</td>\n",
       "      <td>Married</td>\n",
       "      <td>$60K - $80K</td>\n",
       "      <td>Blue</td>\n",
       "      <td>21</td>\n",
       "      <td>...</td>\n",
       "      <td>1</td>\n",
       "      <td>0</td>\n",
       "      <td>4716.0</td>\n",
       "      <td>0</td>\n",
       "      <td>4716.0</td>\n",
       "      <td>2.175</td>\n",
       "      <td>816</td>\n",
       "      <td>28</td>\n",
       "      <td>2.500</td>\n",
       "      <td>0.000</td>\n",
       "    </tr>\n",
       "  </tbody>\n",
       "</table>\n",
       "<p>5 rows × 21 columns</p>\n",
       "</div>"
      ],
      "text/plain": [
       "   CLIENTNUM     Attrition_Flag  Customer_Age Gender  Dependent_count  \\\n",
       "0  768805383  Existing Customer            45      M                3   \n",
       "1  818770008  Existing Customer            49      F                5   \n",
       "2  713982108  Existing Customer            51      M                3   \n",
       "3  769911858  Existing Customer            40      F                4   \n",
       "4  709106358  Existing Customer            40      M                3   \n",
       "\n",
       "  Education_Level Marital_Status Income_Category Card_Category  \\\n",
       "0     High School        Married     $60K - $80K          Blue   \n",
       "1        Graduate         Single  Less than $40K          Blue   \n",
       "2        Graduate        Married    $80K - $120K          Blue   \n",
       "3     High School        Unknown  Less than $40K          Blue   \n",
       "4      Uneducated        Married     $60K - $80K          Blue   \n",
       "\n",
       "   Months_on_book  ...  Months_Inactive_12_mon  Contacts_Count_12_mon  \\\n",
       "0              39  ...                       1                      3   \n",
       "1              44  ...                       1                      2   \n",
       "2              36  ...                       1                      0   \n",
       "3              34  ...                       4                      1   \n",
       "4              21  ...                       1                      0   \n",
       "\n",
       "   Credit_Limit  Total_Revolving_Bal  Avg_Open_To_Buy  Total_Amt_Chng_Q4_Q1  \\\n",
       "0       12691.0                  777          11914.0                 1.335   \n",
       "1        8256.0                  864           7392.0                 1.541   \n",
       "2        3418.0                    0           3418.0                 2.594   \n",
       "3        3313.0                 2517            796.0                 1.405   \n",
       "4        4716.0                    0           4716.0                 2.175   \n",
       "\n",
       "   Total_Trans_Amt  Total_Trans_Ct  Total_Ct_Chng_Q4_Q1  Avg_Utilization_Ratio  \n",
       "0             1144              42                1.625                  0.061  \n",
       "1             1291              33                3.714                  0.105  \n",
       "2             1887              20                2.333                  0.000  \n",
       "3             1171              20                2.333                  0.760  \n",
       "4              816              28                2.500                  0.000  \n",
       "\n",
       "[5 rows x 21 columns]"
      ]
     },
     "execution_count": 7,
     "metadata": {},
     "output_type": "execute_result"
    }
   ],
   "source": [
    "df.head()"
   ]
  },
  {
   "cell_type": "code",
   "execution_count": 8,
   "id": "6a31e00f",
   "metadata": {},
   "outputs": [
    {
     "data": {
      "text/html": [
       "<div>\n",
       "<style scoped>\n",
       "    .dataframe tbody tr th:only-of-type {\n",
       "        vertical-align: middle;\n",
       "    }\n",
       "\n",
       "    .dataframe tbody tr th {\n",
       "        vertical-align: top;\n",
       "    }\n",
       "\n",
       "    .dataframe thead th {\n",
       "        text-align: right;\n",
       "    }\n",
       "</style>\n",
       "<table border=\"1\" class=\"dataframe\">\n",
       "  <thead>\n",
       "    <tr style=\"text-align: right;\">\n",
       "      <th></th>\n",
       "      <th>CLIENTNUM</th>\n",
       "      <th>Customer_Age</th>\n",
       "      <th>Dependent_count</th>\n",
       "      <th>Months_on_book</th>\n",
       "      <th>Total_Relationship_Count</th>\n",
       "      <th>Months_Inactive_12_mon</th>\n",
       "      <th>Contacts_Count_12_mon</th>\n",
       "      <th>Credit_Limit</th>\n",
       "      <th>Total_Revolving_Bal</th>\n",
       "      <th>Avg_Open_To_Buy</th>\n",
       "      <th>Total_Amt_Chng_Q4_Q1</th>\n",
       "      <th>Total_Trans_Amt</th>\n",
       "      <th>Total_Trans_Ct</th>\n",
       "      <th>Total_Ct_Chng_Q4_Q1</th>\n",
       "      <th>Avg_Utilization_Ratio</th>\n",
       "    </tr>\n",
       "  </thead>\n",
       "  <tbody>\n",
       "    <tr>\n",
       "      <th>count</th>\n",
       "      <td>1.012700e+04</td>\n",
       "      <td>10127.000000</td>\n",
       "      <td>10127.000000</td>\n",
       "      <td>10127.000000</td>\n",
       "      <td>10127.000000</td>\n",
       "      <td>10127.000000</td>\n",
       "      <td>10127.000000</td>\n",
       "      <td>10127.000000</td>\n",
       "      <td>10127.000000</td>\n",
       "      <td>10127.000000</td>\n",
       "      <td>10127.000000</td>\n",
       "      <td>10127.000000</td>\n",
       "      <td>10127.000000</td>\n",
       "      <td>10127.000000</td>\n",
       "      <td>10127.000000</td>\n",
       "    </tr>\n",
       "    <tr>\n",
       "      <th>mean</th>\n",
       "      <td>7.391776e+08</td>\n",
       "      <td>46.325960</td>\n",
       "      <td>2.346203</td>\n",
       "      <td>35.928409</td>\n",
       "      <td>3.812580</td>\n",
       "      <td>2.341167</td>\n",
       "      <td>2.455317</td>\n",
       "      <td>8631.953698</td>\n",
       "      <td>1162.814061</td>\n",
       "      <td>7469.139637</td>\n",
       "      <td>0.759941</td>\n",
       "      <td>4404.086304</td>\n",
       "      <td>64.858695</td>\n",
       "      <td>0.712222</td>\n",
       "      <td>0.274894</td>\n",
       "    </tr>\n",
       "    <tr>\n",
       "      <th>std</th>\n",
       "      <td>3.690378e+07</td>\n",
       "      <td>8.016814</td>\n",
       "      <td>1.298908</td>\n",
       "      <td>7.986416</td>\n",
       "      <td>1.554408</td>\n",
       "      <td>1.010622</td>\n",
       "      <td>1.106225</td>\n",
       "      <td>9088.776650</td>\n",
       "      <td>814.987335</td>\n",
       "      <td>9090.685324</td>\n",
       "      <td>0.219207</td>\n",
       "      <td>3397.129254</td>\n",
       "      <td>23.472570</td>\n",
       "      <td>0.238086</td>\n",
       "      <td>0.275691</td>\n",
       "    </tr>\n",
       "    <tr>\n",
       "      <th>min</th>\n",
       "      <td>7.080821e+08</td>\n",
       "      <td>26.000000</td>\n",
       "      <td>0.000000</td>\n",
       "      <td>13.000000</td>\n",
       "      <td>1.000000</td>\n",
       "      <td>0.000000</td>\n",
       "      <td>0.000000</td>\n",
       "      <td>1438.300000</td>\n",
       "      <td>0.000000</td>\n",
       "      <td>3.000000</td>\n",
       "      <td>0.000000</td>\n",
       "      <td>510.000000</td>\n",
       "      <td>10.000000</td>\n",
       "      <td>0.000000</td>\n",
       "      <td>0.000000</td>\n",
       "    </tr>\n",
       "    <tr>\n",
       "      <th>25%</th>\n",
       "      <td>7.130368e+08</td>\n",
       "      <td>41.000000</td>\n",
       "      <td>1.000000</td>\n",
       "      <td>31.000000</td>\n",
       "      <td>3.000000</td>\n",
       "      <td>2.000000</td>\n",
       "      <td>2.000000</td>\n",
       "      <td>2555.000000</td>\n",
       "      <td>359.000000</td>\n",
       "      <td>1324.500000</td>\n",
       "      <td>0.631000</td>\n",
       "      <td>2155.500000</td>\n",
       "      <td>45.000000</td>\n",
       "      <td>0.582000</td>\n",
       "      <td>0.023000</td>\n",
       "    </tr>\n",
       "    <tr>\n",
       "      <th>50%</th>\n",
       "      <td>7.179264e+08</td>\n",
       "      <td>46.000000</td>\n",
       "      <td>2.000000</td>\n",
       "      <td>36.000000</td>\n",
       "      <td>4.000000</td>\n",
       "      <td>2.000000</td>\n",
       "      <td>2.000000</td>\n",
       "      <td>4549.000000</td>\n",
       "      <td>1276.000000</td>\n",
       "      <td>3474.000000</td>\n",
       "      <td>0.736000</td>\n",
       "      <td>3899.000000</td>\n",
       "      <td>67.000000</td>\n",
       "      <td>0.702000</td>\n",
       "      <td>0.176000</td>\n",
       "    </tr>\n",
       "    <tr>\n",
       "      <th>75%</th>\n",
       "      <td>7.731435e+08</td>\n",
       "      <td>52.000000</td>\n",
       "      <td>3.000000</td>\n",
       "      <td>40.000000</td>\n",
       "      <td>5.000000</td>\n",
       "      <td>3.000000</td>\n",
       "      <td>3.000000</td>\n",
       "      <td>11067.500000</td>\n",
       "      <td>1784.000000</td>\n",
       "      <td>9859.000000</td>\n",
       "      <td>0.859000</td>\n",
       "      <td>4741.000000</td>\n",
       "      <td>81.000000</td>\n",
       "      <td>0.818000</td>\n",
       "      <td>0.503000</td>\n",
       "    </tr>\n",
       "    <tr>\n",
       "      <th>max</th>\n",
       "      <td>8.283431e+08</td>\n",
       "      <td>73.000000</td>\n",
       "      <td>5.000000</td>\n",
       "      <td>56.000000</td>\n",
       "      <td>6.000000</td>\n",
       "      <td>6.000000</td>\n",
       "      <td>6.000000</td>\n",
       "      <td>34516.000000</td>\n",
       "      <td>2517.000000</td>\n",
       "      <td>34516.000000</td>\n",
       "      <td>3.397000</td>\n",
       "      <td>18484.000000</td>\n",
       "      <td>139.000000</td>\n",
       "      <td>3.714000</td>\n",
       "      <td>0.999000</td>\n",
       "    </tr>\n",
       "  </tbody>\n",
       "</table>\n",
       "</div>"
      ],
      "text/plain": [
       "          CLIENTNUM  Customer_Age  Dependent_count  Months_on_book  \\\n",
       "count  1.012700e+04  10127.000000     10127.000000    10127.000000   \n",
       "mean   7.391776e+08     46.325960         2.346203       35.928409   \n",
       "std    3.690378e+07      8.016814         1.298908        7.986416   \n",
       "min    7.080821e+08     26.000000         0.000000       13.000000   \n",
       "25%    7.130368e+08     41.000000         1.000000       31.000000   \n",
       "50%    7.179264e+08     46.000000         2.000000       36.000000   \n",
       "75%    7.731435e+08     52.000000         3.000000       40.000000   \n",
       "max    8.283431e+08     73.000000         5.000000       56.000000   \n",
       "\n",
       "       Total_Relationship_Count  Months_Inactive_12_mon  \\\n",
       "count              10127.000000            10127.000000   \n",
       "mean                   3.812580                2.341167   \n",
       "std                    1.554408                1.010622   \n",
       "min                    1.000000                0.000000   \n",
       "25%                    3.000000                2.000000   \n",
       "50%                    4.000000                2.000000   \n",
       "75%                    5.000000                3.000000   \n",
       "max                    6.000000                6.000000   \n",
       "\n",
       "       Contacts_Count_12_mon  Credit_Limit  Total_Revolving_Bal  \\\n",
       "count           10127.000000  10127.000000         10127.000000   \n",
       "mean                2.455317   8631.953698          1162.814061   \n",
       "std                 1.106225   9088.776650           814.987335   \n",
       "min                 0.000000   1438.300000             0.000000   \n",
       "25%                 2.000000   2555.000000           359.000000   \n",
       "50%                 2.000000   4549.000000          1276.000000   \n",
       "75%                 3.000000  11067.500000          1784.000000   \n",
       "max                 6.000000  34516.000000          2517.000000   \n",
       "\n",
       "       Avg_Open_To_Buy  Total_Amt_Chng_Q4_Q1  Total_Trans_Amt  Total_Trans_Ct  \\\n",
       "count     10127.000000          10127.000000     10127.000000    10127.000000   \n",
       "mean       7469.139637              0.759941      4404.086304       64.858695   \n",
       "std        9090.685324              0.219207      3397.129254       23.472570   \n",
       "min           3.000000              0.000000       510.000000       10.000000   \n",
       "25%        1324.500000              0.631000      2155.500000       45.000000   \n",
       "50%        3474.000000              0.736000      3899.000000       67.000000   \n",
       "75%        9859.000000              0.859000      4741.000000       81.000000   \n",
       "max       34516.000000              3.397000     18484.000000      139.000000   \n",
       "\n",
       "       Total_Ct_Chng_Q4_Q1  Avg_Utilization_Ratio  \n",
       "count         10127.000000           10127.000000  \n",
       "mean              0.712222               0.274894  \n",
       "std               0.238086               0.275691  \n",
       "min               0.000000               0.000000  \n",
       "25%               0.582000               0.023000  \n",
       "50%               0.702000               0.176000  \n",
       "75%               0.818000               0.503000  \n",
       "max               3.714000               0.999000  "
      ]
     },
     "execution_count": 8,
     "metadata": {},
     "output_type": "execute_result"
    }
   ],
   "source": [
    "# 통계치 정보 확인\n",
    "df.describe()"
   ]
  },
  {
   "cell_type": "code",
   "execution_count": null,
   "id": "3ef20985",
   "metadata": {},
   "outputs": [],
   "source": []
  },
  {
   "cell_type": "markdown",
   "id": "b8c30d7c",
   "metadata": {},
   "source": [
    "**시각화 ( sns.pairplot(df) )** \n",
    "- 사용할 데이터의 상관관계를 파악하기 위해 시각화\n",
    "- 모든 칼럼에 대한 시각화 "
   ]
  },
  {
   "cell_type": "code",
   "execution_count": 9,
   "id": "b75dc7aa",
   "metadata": {},
   "outputs": [],
   "source": [
    "### 실행시간으로 인한 주석 처리\n",
    "# sns.pairplot(df)"
   ]
  },
  {
   "cell_type": "code",
   "execution_count": null,
   "id": "c2ba7ae3",
   "metadata": {},
   "outputs": [],
   "source": []
  },
  {
   "cell_type": "markdown",
   "id": "58a9525a",
   "metadata": {},
   "source": [
    "**결측치 확인**\n",
    "- isnull().sum() 코드에서는 결측치가 존재하지 않는 것을 확인\n",
    "- 각각의 피처를 분석해서 결측치 존재 여부 확인 필요"
   ]
  },
  {
   "cell_type": "code",
   "execution_count": 10,
   "id": "067f7c0c",
   "metadata": {},
   "outputs": [
    {
     "data": {
      "text/plain": [
       "CLIENTNUM                   0\n",
       "Attrition_Flag              0\n",
       "Customer_Age                0\n",
       "Gender                      0\n",
       "Dependent_count             0\n",
       "Education_Level             0\n",
       "Marital_Status              0\n",
       "Income_Category             0\n",
       "Card_Category               0\n",
       "Months_on_book              0\n",
       "Total_Relationship_Count    0\n",
       "Months_Inactive_12_mon      0\n",
       "Contacts_Count_12_mon       0\n",
       "Credit_Limit                0\n",
       "Total_Revolving_Bal         0\n",
       "Avg_Open_To_Buy             0\n",
       "Total_Amt_Chng_Q4_Q1        0\n",
       "Total_Trans_Amt             0\n",
       "Total_Trans_Ct              0\n",
       "Total_Ct_Chng_Q4_Q1         0\n",
       "Avg_Utilization_Ratio       0\n",
       "dtype: int64"
      ]
     },
     "execution_count": 10,
     "metadata": {},
     "output_type": "execute_result"
    }
   ],
   "source": [
    "# 결측치 존재 X (각 피쳐마다 추가적인 정보 확인 필요)\n",
    "df.isnull().sum()"
   ]
  },
  {
   "cell_type": "code",
   "execution_count": null,
   "id": "44451cd4",
   "metadata": {},
   "outputs": [],
   "source": []
  },
  {
   "cell_type": "code",
   "execution_count": null,
   "id": "044b6854",
   "metadata": {},
   "outputs": [],
   "source": []
  },
  {
   "cell_type": "markdown",
   "id": "95bc784b",
   "metadata": {},
   "source": [
    "### 4. 데이터 전처리 및 피쳐 엔지니어링"
   ]
  },
  {
   "cell_type": "markdown",
   "id": "5f430880",
   "metadata": {},
   "source": [
    "#### 4 - (1) 타겟 데이터 전처리\n",
    "- 관측 대상 : **``\"Attrited Customer\"``** 1로 설정 (카드 탈퇴)\n",
    "- 비관측 대상 : **``\"Existing Cumstomer\"``** 0으로 설정 (카드 유지)"
   ]
  },
  {
   "cell_type": "code",
   "execution_count": 11,
   "id": "3246b230",
   "metadata": {},
   "outputs": [
    {
     "data": {
      "text/plain": [
       "Existing Customer    8500\n",
       "Attrited Customer    1627\n",
       "Name: Attrition_Flag, dtype: int64"
      ]
     },
     "execution_count": 11,
     "metadata": {},
     "output_type": "execute_result"
    }
   ],
   "source": [
    "df[\"Attrition_Flag\"].value_counts()"
   ]
  },
  {
   "cell_type": "code",
   "execution_count": 12,
   "id": "3900f8a2",
   "metadata": {},
   "outputs": [
    {
     "data": {
      "text/plain": [
       "<AxesSubplot:>"
      ]
     },
     "execution_count": 12,
     "metadata": {},
     "output_type": "execute_result"
    },
    {
     "data": {
      "text/plain": [
       "(array([0, 1]),\n",
       " [Text(0, 0, 'Existing Customer'), Text(1, 0, 'Attrited Customer')])"
      ]
     },
     "execution_count": 12,
     "metadata": {},
     "output_type": "execute_result"
    },
    {
     "data": {
      "image/png": "[encoded data removed]",
      "text/plain": [
       "<Figure size 432x288 with 1 Axes>"
      ]
     },
     "metadata": {
      "needs_background": "light"
     },
     "output_type": "display_data"
    }
   ],
   "source": [
    "# 타겟 데이터의 분포를 바 플롯을 이용하여 시각화\n",
    "df[\"Attrition_Flag\"].value_counts().plot(kind = 'bar') \n",
    "plt.xticks(rotation=360)"
   ]
  },
  {
   "cell_type": "markdown",
   "id": "0e013e65",
   "metadata": {},
   "source": [
    "**Existing Cumstomer(잔존)과 Attrited Customer(이탈)의 비율에 차이 존재**"
   ]
  },
  {
   "cell_type": "code",
   "execution_count": 13,
   "id": "5016dd51",
   "metadata": {},
   "outputs": [
    {
     "data": {
      "text/plain": [
       "([<matplotlib.patches.Wedge at 0x223d52c5ac0>,\n",
       "  <matplotlib.patches.Wedge at 0x223d52d3430>],\n",
       " [Text(-0.9628371444551311, 0.5319254019667504, 'Existing Customer'),\n",
       "  Text(1.0503678211160241, -0.5802822075197344, 'Attrited Customer')],\n",
       " [Text(-0.525183896975526, 0.29014112834550015, '83.9%'),\n",
       "  Text(0.6127145623176807, -0.33849795438651165, '16.1%')])"
      ]
     },
     "execution_count": 13,
     "metadata": {},
     "output_type": "execute_result"
    },
    {
     "data": {
      "text/plain": [
       "(-1.25, 1.25, -1.25, 1.25)"
      ]
     },
     "execution_count": 13,
     "metadata": {},
     "output_type": "execute_result"
    },
    {
     "data": {
      "text/plain": [
       "Text(0.5, 1.0, 'Attrition (비율)')"
      ]
     },
     "execution_count": 13,
     "metadata": {},
     "output_type": "execute_result"
    },
    {
     "data": {
      "text/plain": [
       "<matplotlib.legend.Legend at 0x223d52a1730>"
      ]
     },
     "execution_count": 13,
     "metadata": {},
     "output_type": "execute_result"
    },
    {
     "data": {
      "image/png": "[encoded data removed]",
      "text/plain": [
       "<Figure size 432x432 with 1 Axes>"
      ]
     },
     "metadata": {},
     "output_type": "display_data"
    }
   ],
   "source": [
    "# 타겟 데이터의 분포를 파이 플롯을 이용하여 시각화\n",
    "labels = ['Existing Customer', 'Attrited Customer']\n",
    "size = df['Attrition_Flag'].value_counts()\n",
    "colors = ['#5bc959','#d5b1aa' ]\n",
    "explode = [0, 0.1]\n",
    "\n",
    "plt.style.use('seaborn-deep')\n",
    "plt.rcParams['figure.figsize'] = (6, 6)\n",
    "plt.pie(size, labels =labels, colors = colors, explode = explode, autopct = \"%.1f%%\", shadow = True, textprops = {'fontsize':15})\n",
    "plt.axis('off')\n",
    "plt.title('Attrition (비율)', fontsize = 20)\n",
    "plt.legend()\n",
    "plt.show()"
   ]
  },
  {
   "cell_type": "markdown",
   "id": "d91eb12c",
   "metadata": {},
   "source": [
    "**레이블 인코딩**\n",
    "- \"Existing Cumstomer\" : 0 (카드 잔존)\n",
    "- \"Attrited Customer\" : 1 (카드 탈퇴)\n"
   ]
  },
  {
   "cell_type": "markdown",
   "id": "5338c02f",
   "metadata": {},
   "source": [
    "**주의하여 관측해아할 것이**\n",
    "``\"탈퇴\"여부이기 때문에 탈퇴를 1, 잔존을 0으로 하여 인코딩``"
   ]
  },
  {
   "cell_type": "code",
   "execution_count": 14,
   "id": "0032b8f0",
   "metadata": {},
   "outputs": [],
   "source": [
    "df[\"Attrition_Flag\"].replace({\"Existing Customer\":0,\n",
    "                            \"Attrited Customer\":1,\n",
    "                            },inplace=True)"
   ]
  },
  {
   "cell_type": "code",
   "execution_count": 15,
   "id": "c2367864",
   "metadata": {},
   "outputs": [
    {
     "data": {
      "text/plain": [
       "<AxesSubplot:>"
      ]
     },
     "execution_count": 15,
     "metadata": {},
     "output_type": "execute_result"
    },
    {
     "data": {
      "text/plain": [
       "(array([0, 1]), [Text(0, 0, '0'), Text(1, 0, '1')])"
      ]
     },
     "execution_count": 15,
     "metadata": {},
     "output_type": "execute_result"
    },
    {
     "data": {
      "image/png": "[encoded data removed]",
      "text/plain": [
       "<Figure size 432x432 with 1 Axes>"
      ]
     },
     "metadata": {
      "needs_background": "light"
     },
     "output_type": "display_data"
    }
   ],
   "source": [
    "df[\"Attrition_Flag\"].value_counts().plot(kind = 'bar')  \n",
    "plt.xticks(rotation=360)"
   ]
  },
  {
   "cell_type": "code",
   "execution_count": 16,
   "id": "a1a08fb2",
   "metadata": {},
   "outputs": [
    {
     "data": {
      "text/plain": [
       "0    8500\n",
       "1    1627\n",
       "Name: Attrition_Flag, dtype: int64"
      ]
     },
     "execution_count": 16,
     "metadata": {},
     "output_type": "execute_result"
    }
   ],
   "source": [
    "df[\"Attrition_Flag\"].value_counts() # 전처리 확인"
   ]
  },
  {
   "cell_type": "code",
   "execution_count": 17,
   "id": "141dd590",
   "metadata": {
    "scrolled": true
   },
   "outputs": [
    {
     "name": "stdout",
     "output_type": "stream",
     "text": [
      "카드를 유지한 고객은 0.84 이고, 탈퇴 고객은 0.16이므로, 카드를 유지한 고객이 5배 많다\n"
     ]
    }
   ],
   "source": [
    "Existing = df[df[\"Attrition_Flag\"]==0]\n",
    "Attrited = df[df[\"Attrition_Flag\"]==1]\n",
    "\n",
    "Existing_ratio = len(Existing)/len(Existing+Attrited) \n",
    "Attrited_ratio = len(Attrited)/len(Existing+Attrited) \n",
    "\n",
    "print(\"카드를 유지한 고객은 {:.2f} 이고, 탈퇴 고객은 {:.2f}이므로, 카드를 유지한 고객이 {:.0f}배 많다\"\n",
    "      .format(Existing_ratio,Attrited_ratio,Existing_ratio/Attrited_ratio))"
   ]
  },
  {
   "cell_type": "markdown",
   "id": "b7cb26fb",
   "metadata": {},
   "source": [
    "#### 중간 정리\n",
    "- \"Existing Cumstomer\" 84%, \"Attrited Customer\" 16% 데이터 불균형이 필요\n",
    "- 테스트를 통해 업샘플링(오버샘플링)이나 다운샘플링(언더샘플링)이 필요한지 파악"
   ]
  },
  {
   "cell_type": "markdown",
   "id": "2f252cb1",
   "metadata": {},
   "source": [
    "#### 진행 과정\n",
    "- 업샘플링은 전처리 과정이 아니라, 모델을 돌리면서 성능을 높이기 위한 작업 과정\n",
    "- 업샘플링 전후의 성능을 비교 후 업샘플링 여부 선정"
   ]
  },
  {
   "cell_type": "code",
   "execution_count": null,
   "id": "c3e70bd9",
   "metadata": {},
   "outputs": [],
   "source": []
  },
  {
   "cell_type": "markdown",
   "id": "76696d2e",
   "metadata": {},
   "source": [
    "#### 4 - (2) 피처 데이터 전처리\n",
    "- 피처 간의 상관성이 높지 않을 경우 삭제하지 않고 모델 학습에 사용\n",
    "- 피처의 성질에 따라 Labels(명목척도) , Orders(서열척도), Numerics(수치형) 변수로 구분하여 전처리를 진행"
   ]
  },
  {
   "cell_type": "code",
   "execution_count": 18,
   "id": "92562c12",
   "metadata": {},
   "outputs": [],
   "source": [
    "Labels = ['Gender','Marital_Status'] # 명목 척도\n",
    "Orders = ['Education_Level','Income_Category','Card_Category'] # 서열 척도 (등간 척도)\n",
    "Numerics = ['Customer_Age','Dependent_count','Months_on_book',\n",
    "       'Total_Relationship_Count', 'Months_Inactive_12_mon',\n",
    "       'Contacts_Count_12_mon', 'Credit_Limit', 'Total_Revolving_Bal',\n",
    "       'Avg_Open_To_Buy', 'Total_Amt_Chng_Q4_Q1', 'Total_Trans_Amt',\n",
    "       'Total_Trans_Ct', 'Total_Ct_Chng_Q4_Q1', 'Avg_Utilization_Ratio'] # 수치형 변수"
   ]
  },
  {
   "cell_type": "code",
   "execution_count": null,
   "id": "41379b6e",
   "metadata": {},
   "outputs": [],
   "source": []
  },
  {
   "cell_type": "markdown",
   "id": "933acdc0",
   "metadata": {},
   "source": [
    "**Customer_Age(나이)**"
   ]
  },
  {
   "cell_type": "code",
   "execution_count": 19,
   "id": "5764ce63",
   "metadata": {},
   "outputs": [
    {
     "name": "stderr",
     "output_type": "stream",
     "text": [
      "C:\\ProgramData\\Anaconda3\\lib\\site-packages\\seaborn\\distributions.py:2557: FutureWarning: `distplot` is a deprecated function and will be removed in a future version. Please adapt your code to use either `displot` (a figure-level function with similar flexibility) or `histplot` (an axes-level function for histograms).\n",
      "  warnings.warn(msg, FutureWarning)\n"
     ]
    },
    {
     "data": {
      "text/plain": [
       "<AxesSubplot:xlabel='Customer_Age', ylabel='Density'>"
      ]
     },
     "execution_count": 19,
     "metadata": {},
     "output_type": "execute_result"
    },
    {
     "data": {
      "image/png": "[encoded data removed]",
      "text/plain": [
       "<Figure size 432x432 with 1 Axes>"
      ]
     },
     "metadata": {
      "needs_background": "light"
     },
     "output_type": "display_data"
    }
   ],
   "source": [
    "sns.distplot(df[\"Customer_Age\"])"
   ]
  },
  {
   "cell_type": "markdown",
   "id": "33811be5",
   "metadata": {},
   "source": [
    "**Customer_Age (나이) 칼럼은 거의 완벽한 정규분포를 따른다는 것을 확인**"
   ]
  },
  {
   "cell_type": "markdown",
   "id": "24a6e18e",
   "metadata": {},
   "source": [
    "**이상치 확인(시각화)**"
   ]
  },
  {
   "cell_type": "code",
   "execution_count": 20,
   "id": "cab646dd",
   "metadata": {},
   "outputs": [
    {
     "data": {
      "text/plain": [
       "<AxesSubplot:>"
      ]
     },
     "execution_count": 20,
     "metadata": {},
     "output_type": "execute_result"
    },
    {
     "name": "stderr",
     "output_type": "stream",
     "text": [
      "C:\\ProgramData\\Anaconda3\\lib\\site-packages\\seaborn\\_decorators.py:36: FutureWarning: Pass the following variable as a keyword arg: x. From version 0.12, the only valid positional argument will be `data`, and passing other arguments without an explicit keyword will result in an error or misinterpretation.\n",
      "  warnings.warn(\n"
     ]
    },
    {
     "data": {
      "text/plain": [
       "<AxesSubplot:xlabel='Customer_Age'>"
      ]
     },
     "execution_count": 20,
     "metadata": {},
     "output_type": "execute_result"
    },
    {
     "data": {
      "image/png": "[encoded data removed]",
      "text/plain": [
       "<Figure size 432x432 with 1 Axes>"
      ]
     },
     "metadata": {
      "needs_background": "light"
     },
     "output_type": "display_data"
    }
   ],
   "source": [
    "df[[\"Customer_Age\"]].boxplot()\n",
    "sns.boxplot(df[\"Customer_Age\"])"
   ]
  },
  {
   "cell_type": "markdown",
   "id": "4f844982",
   "metadata": {},
   "source": [
    "**이상치 확인 (수치 확인)**\n",
    "    여기서 박스플롯에서 범위 밖으로 넘어가는 2개의 plot이 보이는데, 이 값이 이 범위를 벗어난다고 하더라도, 이 수치가 데이터 분석에 큰 영향을 끼치지 않으면 ( 말이 안되는 값이거나 범위에서 너무 벗어난 값 -예를 들면 우리나라 연봉을 조사하는데 이재용 삼성 부회장의 연봉은 제외를 해야 한다. ) 그 값은 이상치로 취급하지 않는다."
   ]
  },
  {
   "cell_type": "code",
   "execution_count": 21,
   "id": "8dbb7ef8",
   "metadata": {},
   "outputs": [
    {
     "data": {
      "text/plain": [
       "73"
      ]
     },
     "execution_count": 21,
     "metadata": {},
     "output_type": "execute_result"
    }
   ],
   "source": [
    "df[\"Customer_Age\"].max()"
   ]
  },
  {
   "cell_type": "markdown",
   "id": "c531e9cb",
   "metadata": {},
   "source": [
    "**나이 칼럼에서 가장 큰 수치는 73인데 이 수치는 충분히 가능한 값이다.만약 이 값이 200이다 라고 한다면 이 이상치는 삭제나 대체가 필요하지만, 73세는 나이로서 충분히 가능한 수치이므로 전처리 하지않는다.(이상치 취급하지 않음)**"
   ]
  },
  {
   "cell_type": "code",
   "execution_count": 22,
   "id": "332b8750",
   "metadata": {},
   "outputs": [
    {
     "data": {
      "text/plain": [
       "68.5"
      ]
     },
     "execution_count": 22,
     "metadata": {},
     "output_type": "execute_result"
    },
    {
     "data": {
      "text/plain": [
       "24.5"
      ]
     },
     "execution_count": 22,
     "metadata": {},
     "output_type": "execute_result"
    }
   ],
   "source": [
    "# 이상치 확인 (참고 사항)\n",
    "q1 = np.quantile(df[\"Customer_Age\"],0.25)  \n",
    "q3 = np.quantile(df[\"Customer_Age\"],0.75) \n",
    "iqr = q3-q1\n",
    "q3+iqr*1.5\n",
    "q1-iqr*1.5\n",
    "\n",
    "cond1 = q3+iqr*1.5<df[\"Customer_Age\"]\n",
    "cond2 = df[\"Customer_Age\"]<q1-iqr*1.5\n",
    "\n",
    "outlier_index = df[cond1 | cond2].index"
   ]
  },
  {
   "cell_type": "code",
   "execution_count": null,
   "id": "79e96782",
   "metadata": {},
   "outputs": [],
   "source": []
  },
  {
   "cell_type": "markdown",
   "id": "b7536adf",
   "metadata": {},
   "source": [
    "**Gender(성별)**"
   ]
  },
  {
   "cell_type": "code",
   "execution_count": 23,
   "id": "210216d4",
   "metadata": {},
   "outputs": [
    {
     "data": {
      "text/plain": [
       "<AxesSubplot:>"
      ]
     },
     "execution_count": 23,
     "metadata": {},
     "output_type": "execute_result"
    },
    {
     "data": {
      "text/plain": [
       "(array([0, 1]), [Text(0, 0, 'F'), Text(1, 0, 'M')])"
      ]
     },
     "execution_count": 23,
     "metadata": {},
     "output_type": "execute_result"
    },
    {
     "data": {
      "image/png": "[encoded data removed]",
      "text/plain": [
       "<Figure size 432x432 with 1 Axes>"
      ]
     },
     "metadata": {
      "needs_background": "light"
     },
     "output_type": "display_data"
    }
   ],
   "source": [
    "# 성별의 분포를 bar 그래프를 이용하여 시각화\n",
    "df['Gender'].value_counts().plot(kind = 'bar')\n",
    "plt.xticks(rotation=360)"
   ]
  },
  {
   "cell_type": "code",
   "execution_count": 24,
   "id": "4760c0c9",
   "metadata": {},
   "outputs": [
    {
     "data": {
      "text/html": [
       "<div>\n",
       "<style scoped>\n",
       "    .dataframe tbody tr th:only-of-type {\n",
       "        vertical-align: middle;\n",
       "    }\n",
       "\n",
       "    .dataframe tbody tr th {\n",
       "        vertical-align: top;\n",
       "    }\n",
       "\n",
       "    .dataframe thead th {\n",
       "        text-align: right;\n",
       "    }\n",
       "</style>\n",
       "<table border=\"1\" class=\"dataframe\">\n",
       "  <thead>\n",
       "    <tr style=\"text-align: right;\">\n",
       "      <th></th>\n",
       "      <th></th>\n",
       "      <th>0</th>\n",
       "    </tr>\n",
       "    <tr>\n",
       "      <th>Gender</th>\n",
       "      <th>Attrition_Flag</th>\n",
       "      <th></th>\n",
       "    </tr>\n",
       "  </thead>\n",
       "  <tbody>\n",
       "    <tr>\n",
       "      <th>F</th>\n",
       "      <th>0</th>\n",
       "      <td>4428</td>\n",
       "    </tr>\n",
       "    <tr>\n",
       "      <th>M</th>\n",
       "      <th>0</th>\n",
       "      <td>4072</td>\n",
       "    </tr>\n",
       "    <tr>\n",
       "      <th>F</th>\n",
       "      <th>1</th>\n",
       "      <td>930</td>\n",
       "    </tr>\n",
       "    <tr>\n",
       "      <th>M</th>\n",
       "      <th>1</th>\n",
       "      <td>697</td>\n",
       "    </tr>\n",
       "  </tbody>\n",
       "</table>\n",
       "</div>"
      ],
      "text/plain": [
       "                          0\n",
       "Gender Attrition_Flag      \n",
       "F      0               4428\n",
       "M      0               4072\n",
       "F      1                930\n",
       "M      1                697"
      ]
     },
     "execution_count": 24,
     "metadata": {},
     "output_type": "execute_result"
    }
   ],
   "source": [
    "# 성별 이탈고객 수\n",
    "gend_df = pd.DataFrame(df.loc[:,['Gender','Attrition_Flag']].value_counts())\n",
    "gend_df"
   ]
  },
  {
   "cell_type": "code",
   "execution_count": 25,
   "id": "c173d525",
   "metadata": {},
   "outputs": [
    {
     "data": {
      "text/html": [
       "<div>\n",
       "<style scoped>\n",
       "    .dataframe tbody tr th:only-of-type {\n",
       "        vertical-align: middle;\n",
       "    }\n",
       "\n",
       "    .dataframe tbody tr th {\n",
       "        vertical-align: top;\n",
       "    }\n",
       "\n",
       "    .dataframe thead th {\n",
       "        text-align: right;\n",
       "    }\n",
       "</style>\n",
       "<table border=\"1\" class=\"dataframe\">\n",
       "  <thead>\n",
       "    <tr style=\"text-align: right;\">\n",
       "      <th></th>\n",
       "      <th>Gender</th>\n",
       "      <th>Customer_Age</th>\n",
       "    </tr>\n",
       "  </thead>\n",
       "  <tbody>\n",
       "    <tr>\n",
       "      <th>0</th>\n",
       "      <td>F</td>\n",
       "      <td>46.456887</td>\n",
       "    </tr>\n",
       "    <tr>\n",
       "      <th>1</th>\n",
       "      <td>M</td>\n",
       "      <td>46.178863</td>\n",
       "    </tr>\n",
       "  </tbody>\n",
       "</table>\n",
       "</div>"
      ],
      "text/plain": [
       "  Gender  Customer_Age\n",
       "0      F     46.456887\n",
       "1      M     46.178863"
      ]
     },
     "execution_count": 25,
     "metadata": {},
     "output_type": "execute_result"
    }
   ],
   "source": [
    "# 성별 평균 나이\n",
    "df.groupby('Gender')['Customer_Age'].agg(**{'Customer_Age':'mean'}).reset_index()"
   ]
  },
  {
   "cell_type": "code",
   "execution_count": 26,
   "id": "b5e391b7",
   "metadata": {},
   "outputs": [
    {
     "data": {
      "text/plain": [
       "Gender  Customer_Age\n",
       "F       44              277\n",
       "        45              272\n",
       "        49              263\n",
       "        47              258\n",
       "        48              249\n",
       "                       ... \n",
       "        66                2\n",
       "M       67                2\n",
       "        68                2\n",
       "        70                1\n",
       "        73                1\n",
       "Length: 86, dtype: int64"
      ]
     },
     "execution_count": 26,
     "metadata": {},
     "output_type": "execute_result"
    }
   ],
   "source": [
    "# 성별 나이 분포\n",
    "df[['Gender','Customer_Age']].value_counts()"
   ]
  },
  {
   "cell_type": "code",
   "execution_count": 27,
   "id": "9e6481e0",
   "metadata": {},
   "outputs": [],
   "source": [
    "# 성별 라벨링 F : 0, M : 1\n",
    "df[\"Gender\"].replace({\"F\":1, \"M\":0},inplace=True)"
   ]
  },
  {
   "cell_type": "code",
   "execution_count": 28,
   "id": "8b4c2ece",
   "metadata": {},
   "outputs": [
    {
     "data": {
      "text/plain": [
       "1    5358\n",
       "0    4769\n",
       "Name: Gender, dtype: int64"
      ]
     },
     "execution_count": 28,
     "metadata": {},
     "output_type": "execute_result"
    }
   ],
   "source": [
    "df[\"Gender\"].value_counts()\n",
    "# Female 아니면 Male로 이진분류가 잘 되어있다.\n",
    "# Label Encoding"
   ]
  },
  {
   "cell_type": "code",
   "execution_count": 29,
   "id": "140bf0e4",
   "metadata": {
    "scrolled": true
   },
   "outputs": [
    {
     "data": {
      "text/plain": [
       "0        0\n",
       "1        1\n",
       "2        0\n",
       "3        1\n",
       "4        0\n",
       "        ..\n",
       "10122    0\n",
       "10123    0\n",
       "10124    1\n",
       "10125    0\n",
       "10126    1\n",
       "Name: Gender, Length: 10127, dtype: int64"
      ]
     },
     "execution_count": 29,
     "metadata": {},
     "output_type": "execute_result"
    }
   ],
   "source": [
    "df[\"Gender\"] # 라벨인코딩 된 것을 확인 할 수 있다."
   ]
  },
  {
   "cell_type": "code",
   "execution_count": 30,
   "id": "f968e466",
   "metadata": {},
   "outputs": [
    {
     "data": {
      "text/plain": [
       "1    5358\n",
       "0    4769\n",
       "Name: Gender, dtype: int64"
      ]
     },
     "execution_count": 30,
     "metadata": {},
     "output_type": "execute_result"
    }
   ],
   "source": [
    "# 라벨링 작업 정상 여부 확인\n",
    "df[\"Gender\"].value_counts()"
   ]
  },
  {
   "cell_type": "code",
   "execution_count": 31,
   "id": "c99de0a5",
   "metadata": {},
   "outputs": [
    {
     "data": {
      "text/plain": [
       "Int64Index([3, 2, 1, 4, 0, 5], dtype='int64')"
      ]
     },
     "execution_count": 31,
     "metadata": {},
     "output_type": "execute_result"
    }
   ],
   "source": [
    "# 부양 가족 수 값\n",
    "df['Dependent_count'].value_counts().index"
   ]
  },
  {
   "cell_type": "code",
   "execution_count": 32,
   "id": "792c7779",
   "metadata": {
    "scrolled": false
   },
   "outputs": [
    {
     "data": {
      "text/plain": [
       "Text(0.5, 1.0, 'Dependent_count')"
      ]
     },
     "execution_count": 32,
     "metadata": {},
     "output_type": "execute_result"
    },
    {
     "name": "stderr",
     "output_type": "stream",
     "text": [
      "C:\\ProgramData\\Anaconda3\\lib\\site-packages\\seaborn\\_decorators.py:36: FutureWarning: Pass the following variable as a keyword arg: x. From version 0.12, the only valid positional argument will be `data`, and passing other arguments without an explicit keyword will result in an error or misinterpretation.\n",
      "  warnings.warn(\n"
     ]
    },
    {
     "data": {
      "text/plain": [
       "<AxesSubplot:title={'center':'Dependent_count'}, xlabel='Dependent_count', ylabel='count'>"
      ]
     },
     "execution_count": 32,
     "metadata": {},
     "output_type": "execute_result"
    },
    {
     "data": {
      "image/png": "[encoded data removed]",
      "text/plain": [
       "<Figure size 432x432 with 1 Axes>"
      ]
     },
     "metadata": {
      "needs_background": "light"
     },
     "output_type": "display_data"
    }
   ],
   "source": [
    "# 부양 가족 수 분포\n",
    "plt.title('Dependent_count')\n",
    "sns.countplot(df[\"Dependent_count\"])"
   ]
  },
  {
   "cell_type": "markdown",
   "id": "114776ee",
   "metadata": {},
   "source": [
    "**연령대 별 부양 가족수 파악을 위한 작업**"
   ]
  },
  {
   "cell_type": "code",
   "execution_count": 33,
   "id": "780cb8a3",
   "metadata": {},
   "outputs": [
    {
     "data": {
      "text/plain": [
       "[20, 30, 40, 50, 60, 70, 80]"
      ]
     },
     "execution_count": 33,
     "metadata": {},
     "output_type": "execute_result"
    }
   ],
   "source": [
    "bins = list(range(20,81,10))\n",
    "bins"
   ]
  },
  {
   "cell_type": "code",
   "execution_count": 34,
   "id": "1de57a5b",
   "metadata": {},
   "outputs": [
    {
     "data": {
      "text/plain": [
       "['20대', '30대', '40대', '50대', '60대', '70대', '80대']"
      ]
     },
     "execution_count": 34,
     "metadata": {},
     "output_type": "execute_result"
    }
   ],
   "source": [
    "labels = [str(i) + '대' for i in bins]\n",
    "labels"
   ]
  },
  {
   "cell_type": "code",
   "execution_count": 35,
   "id": "33a37964",
   "metadata": {},
   "outputs": [
    {
     "data": {
      "text/html": [
       "<div>\n",
       "<style scoped>\n",
       "    .dataframe tbody tr th:only-of-type {\n",
       "        vertical-align: middle;\n",
       "    }\n",
       "\n",
       "    .dataframe tbody tr th {\n",
       "        vertical-align: top;\n",
       "    }\n",
       "\n",
       "    .dataframe thead th {\n",
       "        text-align: right;\n",
       "    }\n",
       "</style>\n",
       "<table border=\"1\" class=\"dataframe\">\n",
       "  <thead>\n",
       "    <tr style=\"text-align: right;\">\n",
       "      <th></th>\n",
       "      <th>CLIENTNUM</th>\n",
       "      <th>Attrition_Flag</th>\n",
       "      <th>Customer_Age</th>\n",
       "      <th>Gender</th>\n",
       "      <th>Dependent_count</th>\n",
       "      <th>Education_Level</th>\n",
       "      <th>Marital_Status</th>\n",
       "      <th>Income_Category</th>\n",
       "      <th>Card_Category</th>\n",
       "      <th>Months_on_book</th>\n",
       "      <th>...</th>\n",
       "      <th>Contacts_Count_12_mon</th>\n",
       "      <th>Credit_Limit</th>\n",
       "      <th>Total_Revolving_Bal</th>\n",
       "      <th>Avg_Open_To_Buy</th>\n",
       "      <th>Total_Amt_Chng_Q4_Q1</th>\n",
       "      <th>Total_Trans_Amt</th>\n",
       "      <th>Total_Trans_Ct</th>\n",
       "      <th>Total_Ct_Chng_Q4_Q1</th>\n",
       "      <th>Avg_Utilization_Ratio</th>\n",
       "      <th>age_bin</th>\n",
       "    </tr>\n",
       "  </thead>\n",
       "  <tbody>\n",
       "    <tr>\n",
       "      <th>0</th>\n",
       "      <td>768805383</td>\n",
       "      <td>0</td>\n",
       "      <td>45</td>\n",
       "      <td>0</td>\n",
       "      <td>3</td>\n",
       "      <td>High School</td>\n",
       "      <td>Married</td>\n",
       "      <td>$60K - $80K</td>\n",
       "      <td>Blue</td>\n",
       "      <td>39</td>\n",
       "      <td>...</td>\n",
       "      <td>3</td>\n",
       "      <td>12691.0</td>\n",
       "      <td>777</td>\n",
       "      <td>11914.0</td>\n",
       "      <td>1.335</td>\n",
       "      <td>1144</td>\n",
       "      <td>42</td>\n",
       "      <td>1.625</td>\n",
       "      <td>0.061</td>\n",
       "      <td>40대</td>\n",
       "    </tr>\n",
       "    <tr>\n",
       "      <th>1</th>\n",
       "      <td>818770008</td>\n",
       "      <td>0</td>\n",
       "      <td>49</td>\n",
       "      <td>1</td>\n",
       "      <td>5</td>\n",
       "      <td>Graduate</td>\n",
       "      <td>Single</td>\n",
       "      <td>Less than $40K</td>\n",
       "      <td>Blue</td>\n",
       "      <td>44</td>\n",
       "      <td>...</td>\n",
       "      <td>2</td>\n",
       "      <td>8256.0</td>\n",
       "      <td>864</td>\n",
       "      <td>7392.0</td>\n",
       "      <td>1.541</td>\n",
       "      <td>1291</td>\n",
       "      <td>33</td>\n",
       "      <td>3.714</td>\n",
       "      <td>0.105</td>\n",
       "      <td>40대</td>\n",
       "    </tr>\n",
       "    <tr>\n",
       "      <th>2</th>\n",
       "      <td>713982108</td>\n",
       "      <td>0</td>\n",
       "      <td>51</td>\n",
       "      <td>0</td>\n",
       "      <td>3</td>\n",
       "      <td>Graduate</td>\n",
       "      <td>Married</td>\n",
       "      <td>$80K - $120K</td>\n",
       "      <td>Blue</td>\n",
       "      <td>36</td>\n",
       "      <td>...</td>\n",
       "      <td>0</td>\n",
       "      <td>3418.0</td>\n",
       "      <td>0</td>\n",
       "      <td>3418.0</td>\n",
       "      <td>2.594</td>\n",
       "      <td>1887</td>\n",
       "      <td>20</td>\n",
       "      <td>2.333</td>\n",
       "      <td>0.000</td>\n",
       "      <td>50대</td>\n",
       "    </tr>\n",
       "    <tr>\n",
       "      <th>3</th>\n",
       "      <td>769911858</td>\n",
       "      <td>0</td>\n",
       "      <td>40</td>\n",
       "      <td>1</td>\n",
       "      <td>4</td>\n",
       "      <td>High School</td>\n",
       "      <td>Unknown</td>\n",
       "      <td>Less than $40K</td>\n",
       "      <td>Blue</td>\n",
       "      <td>34</td>\n",
       "      <td>...</td>\n",
       "      <td>1</td>\n",
       "      <td>3313.0</td>\n",
       "      <td>2517</td>\n",
       "      <td>796.0</td>\n",
       "      <td>1.405</td>\n",
       "      <td>1171</td>\n",
       "      <td>20</td>\n",
       "      <td>2.333</td>\n",
       "      <td>0.760</td>\n",
       "      <td>40대</td>\n",
       "    </tr>\n",
       "    <tr>\n",
       "      <th>4</th>\n",
       "      <td>709106358</td>\n",
       "      <td>0</td>\n",
       "      <td>40</td>\n",
       "      <td>0</td>\n",
       "      <td>3</td>\n",
       "      <td>Uneducated</td>\n",
       "      <td>Married</td>\n",
       "      <td>$60K - $80K</td>\n",
       "      <td>Blue</td>\n",
       "      <td>21</td>\n",
       "      <td>...</td>\n",
       "      <td>0</td>\n",
       "      <td>4716.0</td>\n",
       "      <td>0</td>\n",
       "      <td>4716.0</td>\n",
       "      <td>2.175</td>\n",
       "      <td>816</td>\n",
       "      <td>28</td>\n",
       "      <td>2.500</td>\n",
       "      <td>0.000</td>\n",
       "      <td>40대</td>\n",
       "    </tr>\n",
       "  </tbody>\n",
       "</table>\n",
       "<p>5 rows × 22 columns</p>\n",
       "</div>"
      ],
      "text/plain": [
       "   CLIENTNUM  Attrition_Flag  Customer_Age  Gender  Dependent_count  \\\n",
       "0  768805383               0            45       0                3   \n",
       "1  818770008               0            49       1                5   \n",
       "2  713982108               0            51       0                3   \n",
       "3  769911858               0            40       1                4   \n",
       "4  709106358               0            40       0                3   \n",
       "\n",
       "  Education_Level Marital_Status Income_Category Card_Category  \\\n",
       "0     High School        Married     $60K - $80K          Blue   \n",
       "1        Graduate         Single  Less than $40K          Blue   \n",
       "2        Graduate        Married    $80K - $120K          Blue   \n",
       "3     High School        Unknown  Less than $40K          Blue   \n",
       "4      Uneducated        Married     $60K - $80K          Blue   \n",
       "\n",
       "   Months_on_book  ...  Contacts_Count_12_mon  Credit_Limit  \\\n",
       "0              39  ...                      3       12691.0   \n",
       "1              44  ...                      2        8256.0   \n",
       "2              36  ...                      0        3418.0   \n",
       "3              34  ...                      1        3313.0   \n",
       "4              21  ...                      0        4716.0   \n",
       "\n",
       "   Total_Revolving_Bal  Avg_Open_To_Buy  Total_Amt_Chng_Q4_Q1  \\\n",
       "0                  777          11914.0                 1.335   \n",
       "1                  864           7392.0                 1.541   \n",
       "2                    0           3418.0                 2.594   \n",
       "3                 2517            796.0                 1.405   \n",
       "4                    0           4716.0                 2.175   \n",
       "\n",
       "   Total_Trans_Amt  Total_Trans_Ct  Total_Ct_Chng_Q4_Q1  \\\n",
       "0             1144              42                1.625   \n",
       "1             1291              33                3.714   \n",
       "2             1887              20                2.333   \n",
       "3             1171              20                2.333   \n",
       "4              816              28                2.500   \n",
       "\n",
       "   Avg_Utilization_Ratio  age_bin  \n",
       "0                  0.061      40대  \n",
       "1                  0.105      40대  \n",
       "2                  0.000      50대  \n",
       "3                  0.760      40대  \n",
       "4                  0.000      40대  \n",
       "\n",
       "[5 rows x 22 columns]"
      ]
     },
     "execution_count": 35,
     "metadata": {},
     "output_type": "execute_result"
    }
   ],
   "source": [
    "# 나이대 라벨 추가\n",
    "df[\"age_bin\"] = pd.cut(df[\"Customer_Age\"], bins = bins, right = False, labels=labels[:-1])\n",
    "df.head()"
   ]
  },
  {
   "cell_type": "code",
   "execution_count": 36,
   "id": "f4ae68a5",
   "metadata": {},
   "outputs": [
    {
     "data": {
      "text/html": [
       "<div>\n",
       "<style scoped>\n",
       "    .dataframe tbody tr th:only-of-type {\n",
       "        vertical-align: middle;\n",
       "    }\n",
       "\n",
       "    .dataframe tbody tr th {\n",
       "        vertical-align: top;\n",
       "    }\n",
       "\n",
       "    .dataframe thead th {\n",
       "        text-align: right;\n",
       "    }\n",
       "</style>\n",
       "<table border=\"1\" class=\"dataframe\">\n",
       "  <thead>\n",
       "    <tr style=\"text-align: right;\">\n",
       "      <th></th>\n",
       "      <th>Customer_Age</th>\n",
       "      <th>age_bin</th>\n",
       "    </tr>\n",
       "  </thead>\n",
       "  <tbody>\n",
       "    <tr>\n",
       "      <th>0</th>\n",
       "      <td>45</td>\n",
       "      <td>40대</td>\n",
       "    </tr>\n",
       "    <tr>\n",
       "      <th>1</th>\n",
       "      <td>49</td>\n",
       "      <td>40대</td>\n",
       "    </tr>\n",
       "    <tr>\n",
       "      <th>2</th>\n",
       "      <td>51</td>\n",
       "      <td>50대</td>\n",
       "    </tr>\n",
       "    <tr>\n",
       "      <th>3</th>\n",
       "      <td>40</td>\n",
       "      <td>40대</td>\n",
       "    </tr>\n",
       "    <tr>\n",
       "      <th>4</th>\n",
       "      <td>40</td>\n",
       "      <td>40대</td>\n",
       "    </tr>\n",
       "    <tr>\n",
       "      <th>...</th>\n",
       "      <td>...</td>\n",
       "      <td>...</td>\n",
       "    </tr>\n",
       "    <tr>\n",
       "      <th>10122</th>\n",
       "      <td>50</td>\n",
       "      <td>50대</td>\n",
       "    </tr>\n",
       "    <tr>\n",
       "      <th>10123</th>\n",
       "      <td>41</td>\n",
       "      <td>40대</td>\n",
       "    </tr>\n",
       "    <tr>\n",
       "      <th>10124</th>\n",
       "      <td>44</td>\n",
       "      <td>40대</td>\n",
       "    </tr>\n",
       "    <tr>\n",
       "      <th>10125</th>\n",
       "      <td>30</td>\n",
       "      <td>30대</td>\n",
       "    </tr>\n",
       "    <tr>\n",
       "      <th>10126</th>\n",
       "      <td>43</td>\n",
       "      <td>40대</td>\n",
       "    </tr>\n",
       "  </tbody>\n",
       "</table>\n",
       "<p>10127 rows × 2 columns</p>\n",
       "</div>"
      ],
      "text/plain": [
       "       Customer_Age age_bin\n",
       "0                45     40대\n",
       "1                49     40대\n",
       "2                51     50대\n",
       "3                40     40대\n",
       "4                40     40대\n",
       "...             ...     ...\n",
       "10122            50     50대\n",
       "10123            41     40대\n",
       "10124            44     40대\n",
       "10125            30     30대\n",
       "10126            43     40대\n",
       "\n",
       "[10127 rows x 2 columns]"
      ]
     },
     "execution_count": 36,
     "metadata": {},
     "output_type": "execute_result"
    }
   ],
   "source": [
    "df[[\"Customer_Age\",\"age_bin\"]]"
   ]
  },
  {
   "cell_type": "code",
   "execution_count": 37,
   "id": "c0788e25",
   "metadata": {},
   "outputs": [
    {
     "data": {
      "text/html": [
       "<div>\n",
       "<style scoped>\n",
       "    .dataframe tbody tr th:only-of-type {\n",
       "        vertical-align: middle;\n",
       "    }\n",
       "\n",
       "    .dataframe tbody tr th {\n",
       "        vertical-align: top;\n",
       "    }\n",
       "\n",
       "    .dataframe thead th {\n",
       "        text-align: right;\n",
       "    }\n",
       "</style>\n",
       "<table border=\"1\" class=\"dataframe\">\n",
       "  <thead>\n",
       "    <tr style=\"text-align: right;\">\n",
       "      <th></th>\n",
       "      <th>age_bin</th>\n",
       "      <th>dependent</th>\n",
       "    </tr>\n",
       "  </thead>\n",
       "  <tbody>\n",
       "    <tr>\n",
       "      <th>0</th>\n",
       "      <td>20대</td>\n",
       "      <td>0.430769</td>\n",
       "    </tr>\n",
       "    <tr>\n",
       "      <th>1</th>\n",
       "      <td>30대</td>\n",
       "      <td>2.002173</td>\n",
       "    </tr>\n",
       "    <tr>\n",
       "      <th>2</th>\n",
       "      <td>40대</td>\n",
       "      <td>2.970401</td>\n",
       "    </tr>\n",
       "    <tr>\n",
       "      <th>3</th>\n",
       "      <td>50대</td>\n",
       "      <td>2.055037</td>\n",
       "    </tr>\n",
       "    <tr>\n",
       "      <th>4</th>\n",
       "      <td>60대</td>\n",
       "      <td>0.530189</td>\n",
       "    </tr>\n",
       "    <tr>\n",
       "      <th>5</th>\n",
       "      <td>70대</td>\n",
       "      <td>0.000000</td>\n",
       "    </tr>\n",
       "  </tbody>\n",
       "</table>\n",
       "</div>"
      ],
      "text/plain": [
       "  age_bin  dependent\n",
       "0     20대   0.430769\n",
       "1     30대   2.002173\n",
       "2     40대   2.970401\n",
       "3     50대   2.055037\n",
       "4     60대   0.530189\n",
       "5     70대   0.000000"
      ]
     },
     "execution_count": 37,
     "metadata": {},
     "output_type": "execute_result"
    }
   ],
   "source": [
    "# 연령대별 평균 부양가족 수\n",
    "dependent = df.groupby('age_bin')['Dependent_count'].agg(**{'dependent':'mean'}).reset_index()\n",
    "dependent"
   ]
  },
  {
   "cell_type": "code",
   "execution_count": 38,
   "id": "0d4d74f2",
   "metadata": {},
   "outputs": [
    {
     "data": {
      "text/plain": [
       "<AxesSubplot:xlabel='age_bin', ylabel='dependent'>"
      ]
     },
     "execution_count": 38,
     "metadata": {},
     "output_type": "execute_result"
    },
    {
     "data": {
      "image/png": "[encoded data removed]",
      "text/plain": [
       "<Figure size 432x432 with 1 Axes>"
      ]
     },
     "metadata": {
      "needs_background": "light"
     },
     "output_type": "display_data"
    }
   ],
   "source": [
    "# 연령대별 평균 부양 가족 수\n",
    "sns.barplot(x='age_bin',y='dependent',data=dependent)"
   ]
  },
  {
   "cell_type": "code",
   "execution_count": 39,
   "id": "3ced9003",
   "metadata": {},
   "outputs": [
    {
     "data": {
      "text/html": [
       "<div>\n",
       "<style scoped>\n",
       "    .dataframe tbody tr th:only-of-type {\n",
       "        vertical-align: middle;\n",
       "    }\n",
       "\n",
       "    .dataframe tbody tr th {\n",
       "        vertical-align: top;\n",
       "    }\n",
       "\n",
       "    .dataframe thead th {\n",
       "        text-align: right;\n",
       "    }\n",
       "</style>\n",
       "<table border=\"1\" class=\"dataframe\">\n",
       "  <thead>\n",
       "    <tr style=\"text-align: right;\">\n",
       "      <th></th>\n",
       "      <th>Gender</th>\n",
       "      <th>dependent</th>\n",
       "    </tr>\n",
       "  </thead>\n",
       "  <tbody>\n",
       "    <tr>\n",
       "      <th>0</th>\n",
       "      <td>0</td>\n",
       "      <td>2.352485</td>\n",
       "    </tr>\n",
       "    <tr>\n",
       "      <th>1</th>\n",
       "      <td>1</td>\n",
       "      <td>2.340612</td>\n",
       "    </tr>\n",
       "  </tbody>\n",
       "</table>\n",
       "</div>"
      ],
      "text/plain": [
       "   Gender  dependent\n",
       "0       0   2.352485\n",
       "1       1   2.340612"
      ]
     },
     "execution_count": 39,
     "metadata": {},
     "output_type": "execute_result"
    }
   ],
   "source": [
    "# 성별 평균 부양가족 수\n",
    "gender = df.groupby('Gender')['Dependent_count'].agg(**{'dependent':'mean'}).reset_index()\n",
    "gender"
   ]
  },
  {
   "cell_type": "code",
   "execution_count": 40,
   "id": "b39a03ab",
   "metadata": {},
   "outputs": [
    {
     "data": {
      "text/html": [
       "<div>\n",
       "<style scoped>\n",
       "    .dataframe tbody tr th:only-of-type {\n",
       "        vertical-align: middle;\n",
       "    }\n",
       "\n",
       "    .dataframe tbody tr th {\n",
       "        vertical-align: top;\n",
       "    }\n",
       "\n",
       "    .dataframe thead th {\n",
       "        text-align: right;\n",
       "    }\n",
       "</style>\n",
       "<table border=\"1\" class=\"dataframe\">\n",
       "  <thead>\n",
       "    <tr style=\"text-align: right;\">\n",
       "      <th></th>\n",
       "      <th></th>\n",
       "      <th>0</th>\n",
       "    </tr>\n",
       "    <tr>\n",
       "      <th>age_bin</th>\n",
       "      <th>Attrition_Flag</th>\n",
       "      <th></th>\n",
       "    </tr>\n",
       "  </thead>\n",
       "  <tbody>\n",
       "    <tr>\n",
       "      <th rowspan=\"2\" valign=\"top\">20대</th>\n",
       "      <th>0</th>\n",
       "      <td>178</td>\n",
       "    </tr>\n",
       "    <tr>\n",
       "      <th>1</th>\n",
       "      <td>17</td>\n",
       "    </tr>\n",
       "    <tr>\n",
       "      <th rowspan=\"2\" valign=\"top\">30대</th>\n",
       "      <th>0</th>\n",
       "      <td>1580</td>\n",
       "    </tr>\n",
       "    <tr>\n",
       "      <th>1</th>\n",
       "      <td>261</td>\n",
       "    </tr>\n",
       "    <tr>\n",
       "      <th rowspan=\"2\" valign=\"top\">40대</th>\n",
       "      <th>0</th>\n",
       "      <td>3789</td>\n",
       "    </tr>\n",
       "    <tr>\n",
       "      <th>1</th>\n",
       "      <td>772</td>\n",
       "    </tr>\n",
       "    <tr>\n",
       "      <th rowspan=\"2\" valign=\"top\">50대</th>\n",
       "      <th>0</th>\n",
       "      <td>2492</td>\n",
       "    </tr>\n",
       "    <tr>\n",
       "      <th>1</th>\n",
       "      <td>506</td>\n",
       "    </tr>\n",
       "    <tr>\n",
       "      <th rowspan=\"2\" valign=\"top\">60대</th>\n",
       "      <th>0</th>\n",
       "      <td>459</td>\n",
       "    </tr>\n",
       "    <tr>\n",
       "      <th>1</th>\n",
       "      <td>71</td>\n",
       "    </tr>\n",
       "    <tr>\n",
       "      <th>70대</th>\n",
       "      <th>0</th>\n",
       "      <td>2</td>\n",
       "    </tr>\n",
       "  </tbody>\n",
       "</table>\n",
       "</div>"
      ],
      "text/plain": [
       "                           0\n",
       "age_bin Attrition_Flag      \n",
       "20대     0                178\n",
       "        1                 17\n",
       "30대     0               1580\n",
       "        1                261\n",
       "40대     0               3789\n",
       "        1                772\n",
       "50대     0               2492\n",
       "        1                506\n",
       "60대     0                459\n",
       "        1                 71\n",
       "70대     0                  2"
      ]
     },
     "execution_count": 40,
     "metadata": {},
     "output_type": "execute_result"
    }
   ],
   "source": [
    "# 연령대별 이탈고객\n",
    "age_churn = pd.DataFrame(df.loc[:,['age_bin','Attrition_Flag']].value_counts().sort_index(ascending=True))\n",
    "age_churn"
   ]
  },
  {
   "cell_type": "code",
   "execution_count": null,
   "id": "29e2e74d",
   "metadata": {},
   "outputs": [],
   "source": []
  },
  {
   "cell_type": "code",
   "execution_count": null,
   "id": "9605e14c",
   "metadata": {},
   "outputs": [],
   "source": []
  },
  {
   "cell_type": "markdown",
   "id": "4e1f5ba3",
   "metadata": {},
   "source": [
    "### 4 (2) 범주형 피처 인코딩"
   ]
  },
  {
   "cell_type": "markdown",
   "id": "64b88e9b",
   "metadata": {},
   "source": [
    "**타겟변수(탈퇴인지, 잔존인지)에 따른 분포를 바 그래프로 보여주는 함수**"
   ]
  },
  {
   "cell_type": "code",
   "execution_count": 41,
   "id": "39e296ad",
   "metadata": {},
   "outputs": [],
   "source": [
    "def bar_chart(feature):\n",
    "    stay = df[df['Attrition_Flag']==0][feature].value_counts()\n",
    "    leave = df[df['Attrition_Flag']==1][feature].value_counts()\n",
    "    temp = pd.DataFrame([stay,leave])\n",
    "    temp.index = ['Existing Customer','Attrited Customer']\n",
    "    \n",
    "    temp.plot(kind='bar',stacked=True, figsize=(10,5))\n",
    "    plt.xticks(rotation=0)"
   ]
  },
  {
   "cell_type": "markdown",
   "id": "dc64acd3",
   "metadata": {},
   "source": [
    "**Card_Category(카드 등급) 고객 이탈자**"
   ]
  },
  {
   "cell_type": "code",
   "execution_count": 42,
   "id": "746fead3",
   "metadata": {},
   "outputs": [
    {
     "data": {
      "text/plain": [
       "Card_Category  Attrition_Flag\n",
       "Blue           0                 7917\n",
       "               1                 1519\n",
       "Gold           0                   95\n",
       "               1                   21\n",
       "Platinum       0                   15\n",
       "               1                    5\n",
       "Silver         0                  473\n",
       "               1                   82\n",
       "Name: Attrition_Flag, dtype: int64"
      ]
     },
     "execution_count": 42,
     "metadata": {},
     "output_type": "execute_result"
    }
   ],
   "source": [
    "# 카드 등급별 이탈자\n",
    "Card_Category = df.groupby(['Card_Category', 'Attrition_Flag'])['Attrition_Flag'].count()\n",
    "Card_Category"
   ]
  },
  {
   "cell_type": "code",
   "execution_count": 43,
   "id": "c6fabd68",
   "metadata": {},
   "outputs": [
    {
     "data": {
      "image/png": "[encoded data removed]",
      "text/plain": [
       "<Figure size 720x360 with 1 Axes>"
      ]
     },
     "metadata": {
      "needs_background": "light"
     },
     "output_type": "display_data"
    }
   ],
   "source": [
    "bar_chart('Card_Category') "
   ]
  },
  {
   "cell_type": "code",
   "execution_count": 44,
   "id": "727ce31f",
   "metadata": {},
   "outputs": [
    {
     "data": {
      "text/plain": [
       "Blue        9436\n",
       "Silver       555\n",
       "Gold         116\n",
       "Platinum      20\n",
       "Name: Card_Category, dtype: int64"
      ]
     },
     "execution_count": 44,
     "metadata": {},
     "output_type": "execute_result"
    }
   ],
   "source": [
    "## Unknow 여부 확인 (결측치)\n",
    "df['Card_Category'].value_counts()"
   ]
  },
  {
   "cell_type": "code",
   "execution_count": null,
   "id": "3503eba2",
   "metadata": {},
   "outputs": [],
   "source": []
  },
  {
   "cell_type": "markdown",
   "id": "da5ddde1",
   "metadata": {},
   "source": [
    "**Education_Level 수준에 따른 고객 이탈자**"
   ]
  },
  {
   "cell_type": "markdown",
   "id": "95179737",
   "metadata": {},
   "source": [
    "#### Education_Level 데이터 정보\n",
    "- unknown 알수 없음\n",
    "- uneducated 중졸이하\n",
    "- high school 고졸\n",
    "- colleage 학사\n",
    "- graduate / post-graduate 석사\n",
    "- Docotrate 박사"
   ]
  },
  {
   "cell_type": "code",
   "execution_count": 45,
   "id": "c583673f",
   "metadata": {
    "scrolled": true
   },
   "outputs": [
    {
     "data": {
      "image/png": "[encoded data removed]",
      "text/plain": [
       "<Figure size 720x360 with 1 Axes>"
      ]
     },
     "metadata": {
      "needs_background": "light"
     },
     "output_type": "display_data"
    }
   ],
   "source": [
    "bar_chart('Education_Level')"
   ]
  },
  {
   "cell_type": "code",
   "execution_count": 46,
   "id": "0dff6f75",
   "metadata": {},
   "outputs": [
    {
     "data": {
      "text/plain": [
       "Graduate         3128\n",
       "High School      2013\n",
       "Unknown          1519\n",
       "Uneducated       1487\n",
       "College          1013\n",
       "Post-Graduate     516\n",
       "Doctorate         451\n",
       "Name: Education_Level, dtype: int64"
      ]
     },
     "execution_count": 46,
     "metadata": {},
     "output_type": "execute_result"
    }
   ],
   "source": [
    "df['Education_Level'].value_counts()"
   ]
  },
  {
   "cell_type": "code",
   "execution_count": 47,
   "id": "ee92ad59",
   "metadata": {},
   "outputs": [
    {
     "data": {
      "text/plain": [
       "Education_Level  Attrition_Flag\n",
       "College          0                  859\n",
       "                 1                  154\n",
       "Doctorate        0                  356\n",
       "                 1                   95\n",
       "Graduate         0                 2641\n",
       "                 1                  487\n",
       "High School      0                 1707\n",
       "                 1                  306\n",
       "Post-Graduate    0                  424\n",
       "                 1                   92\n",
       "Uneducated       0                 1250\n",
       "                 1                  237\n",
       "Unknown          0                 1263\n",
       "                 1                  256\n",
       "Name: Attrition_Flag, dtype: int64"
      ]
     },
     "execution_count": 47,
     "metadata": {},
     "output_type": "execute_result"
    }
   ],
   "source": [
    "Card_Category = df.groupby(['Education_Level', 'Attrition_Flag'])['Attrition_Flag'].count()\n",
    "Card_Category"
   ]
  },
  {
   "cell_type": "code",
   "execution_count": 48,
   "id": "0153cb05",
   "metadata": {},
   "outputs": [
    {
     "data": {
      "text/plain": [
       "Education_Level  Income_Category\n",
       "College          $120K +              70\n",
       "                 $40K - $60K         183\n",
       "                 $60K - $80K         132\n",
       "                 $80K - $120K        175\n",
       "                 Less than $40K      345\n",
       "                 Unknown             108\n",
       "Doctorate        $120K +              37\n",
       "                 $40K - $60K          70\n",
       "                 $60K - $80K          59\n",
       "                 $80K - $120K         57\n",
       "                 Less than $40K      158\n",
       "                 Unknown              70\n",
       "Graduate         $120K +             204\n",
       "                 $40K - $60K         553\n",
       "                 $60K - $80K         422\n",
       "                 $80K - $120K        478\n",
       "                 Less than $40K     1139\n",
       "                 Unknown             332\n",
       "High School      $120K +             147\n",
       "                 $40K - $60K         355\n",
       "                 $60K - $80K         307\n",
       "                 $80K - $120K        308\n",
       "                 Less than $40K      671\n",
       "                 Unknown             225\n",
       "Post-Graduate    $120K +              30\n",
       "                 $40K - $60K         111\n",
       "                 $60K - $80K          77\n",
       "                 $80K - $120K         81\n",
       "                 Less than $40K      170\n",
       "                 Unknown              47\n",
       "Uneducated       $120K +             119\n",
       "                 $40K - $60K         249\n",
       "                 $60K - $80K         195\n",
       "                 $80K - $120K        217\n",
       "                 Less than $40K      522\n",
       "                 Unknown             185\n",
       "Unknown          $120K +             120\n",
       "                 $40K - $60K         269\n",
       "                 $60K - $80K         210\n",
       "                 $80K - $120K        219\n",
       "                 Less than $40K      556\n",
       "                 Unknown             145\n",
       "Name: Attrition_Flag, dtype: int64"
      ]
     },
     "execution_count": 48,
     "metadata": {},
     "output_type": "execute_result"
    }
   ],
   "source": [
    "# 학력 수준에 따른 임금 파악\n",
    "# 임금에 따라 학력 수준을 처리할 수 있는지 파악\n",
    "df.groupby(['Education_Level','Income_Category'])['Attrition_Flag'].count()"
   ]
  },
  {
   "cell_type": "markdown",
   "id": "e1157afe",
   "metadata": {},
   "source": [
    "**Marital_Status 수준에 따른 고객 이탈자**"
   ]
  },
  {
   "cell_type": "code",
   "execution_count": 49,
   "id": "bbb2d93d",
   "metadata": {},
   "outputs": [
    {
     "data": {
      "image/png": "[encoded data removed]",
      "text/plain": [
       "<Figure size 720x360 with 1 Axes>"
      ]
     },
     "metadata": {
      "needs_background": "light"
     },
     "output_type": "display_data"
    }
   ],
   "source": [
    "bar_chart('Marital_Status')"
   ]
  },
  {
   "cell_type": "code",
   "execution_count": 50,
   "id": "9abbb6a2",
   "metadata": {},
   "outputs": [
    {
     "data": {
      "text/plain": [
       "Married     4687\n",
       "Single      3943\n",
       "Unknown      749\n",
       "Divorced     748\n",
       "Name: Marital_Status, dtype: int64"
      ]
     },
     "execution_count": 50,
     "metadata": {},
     "output_type": "execute_result"
    }
   ],
   "source": [
    "df['Marital_Status'].value_counts()"
   ]
  },
  {
   "cell_type": "markdown",
   "id": "d66aa948",
   "metadata": {},
   "source": [
    "**Income_Category 수준에 따른 고객 이탈자**"
   ]
  },
  {
   "cell_type": "code",
   "execution_count": 51,
   "id": "1edf6e5f",
   "metadata": {},
   "outputs": [
    {
     "data": {
      "image/png": "[encoded data removed]",
      "text/plain": [
       "<Figure size 720x360 with 1 Axes>"
      ]
     },
     "metadata": {
      "needs_background": "light"
     },
     "output_type": "display_data"
    }
   ],
   "source": [
    "bar_chart('Income_Category') "
   ]
  },
  {
   "cell_type": "code",
   "execution_count": 52,
   "id": "8c0a6cdb",
   "metadata": {},
   "outputs": [
    {
     "data": {
      "text/plain": [
       "Less than $40K    3561\n",
       "$40K - $60K       1790\n",
       "$80K - $120K      1535\n",
       "$60K - $80K       1402\n",
       "Unknown           1112\n",
       "$120K +            727\n",
       "Name: Income_Category, dtype: int64"
      ]
     },
     "execution_count": 52,
     "metadata": {},
     "output_type": "execute_result"
    }
   ],
   "source": [
    "df['Income_Category'].value_counts()"
   ]
  },
  {
   "cell_type": "markdown",
   "id": "4e676a20",
   "metadata": {},
   "source": [
    "### **Education_Level, Marital_Status, Income_Category에서 \"Unknown\"이라는 결측치 존재**\n",
    "- Education_Level 1519개\n",
    "- Marital_Status 749개\n",
    "- Income_Category 1112개"
   ]
  },
  {
   "cell_type": "code",
   "execution_count": 53,
   "id": "3834579c",
   "metadata": {},
   "outputs": [
    {
     "data": {
      "text/plain": [
       "Graduate         3128\n",
       "High School      2013\n",
       "Unknown          1519\n",
       "Uneducated       1487\n",
       "College          1013\n",
       "Post-Graduate     516\n",
       "Doctorate         451\n",
       "Name: Education_Level, dtype: int64"
      ]
     },
     "execution_count": 53,
     "metadata": {},
     "output_type": "execute_result"
    }
   ],
   "source": [
    "df[\"Education_Level\"].value_counts()"
   ]
  },
  {
   "cell_type": "code",
   "execution_count": 54,
   "id": "da1173e4",
   "metadata": {},
   "outputs": [
    {
     "data": {
      "text/plain": [
       "Married     4687\n",
       "Single      3943\n",
       "Unknown      749\n",
       "Divorced     748\n",
       "Name: Marital_Status, dtype: int64"
      ]
     },
     "execution_count": 54,
     "metadata": {},
     "output_type": "execute_result"
    }
   ],
   "source": [
    "df[\"Marital_Status\"].value_counts()"
   ]
  },
  {
   "cell_type": "code",
   "execution_count": 55,
   "id": "7191322e",
   "metadata": {},
   "outputs": [
    {
     "data": {
      "text/plain": [
       "Less than $40K    3561\n",
       "$40K - $60K       1790\n",
       "$80K - $120K      1535\n",
       "$60K - $80K       1402\n",
       "Unknown           1112\n",
       "$120K +            727\n",
       "Name: Income_Category, dtype: int64"
      ]
     },
     "execution_count": 55,
     "metadata": {},
     "output_type": "execute_result"
    }
   ],
   "source": [
    "df[\"Income_Category\"].value_counts()"
   ]
  },
  {
   "cell_type": "code",
   "execution_count": 56,
   "id": "25d20381",
   "metadata": {},
   "outputs": [
    {
     "name": "stdout",
     "output_type": "stream",
     "text": [
      "<class 'pandas.core.frame.DataFrame'>\n",
      "RangeIndex: 10127 entries, 0 to 10126\n",
      "Data columns (total 22 columns):\n",
      " #   Column                    Non-Null Count  Dtype   \n",
      "---  ------                    --------------  -----   \n",
      " 0   CLIENTNUM                 10127 non-null  int64   \n",
      " 1   Attrition_Flag            10127 non-null  int64   \n",
      " 2   Customer_Age              10127 non-null  int64   \n",
      " 3   Gender                    10127 non-null  int64   \n",
      " 4   Dependent_count           10127 non-null  int64   \n",
      " 5   Education_Level           10127 non-null  object  \n",
      " 6   Marital_Status            10127 non-null  object  \n",
      " 7   Income_Category           10127 non-null  object  \n",
      " 8   Card_Category             10127 non-null  object  \n",
      " 9   Months_on_book            10127 non-null  int64   \n",
      " 10  Total_Relationship_Count  10127 non-null  int64   \n",
      " 11  Months_Inactive_12_mon    10127 non-null  int64   \n",
      " 12  Contacts_Count_12_mon     10127 non-null  int64   \n",
      " 13  Credit_Limit              10127 non-null  float64 \n",
      " 14  Total_Revolving_Bal       10127 non-null  int64   \n",
      " 15  Avg_Open_To_Buy           10127 non-null  float64 \n",
      " 16  Total_Amt_Chng_Q4_Q1      10127 non-null  float64 \n",
      " 17  Total_Trans_Amt           10127 non-null  int64   \n",
      " 18  Total_Trans_Ct            10127 non-null  int64   \n",
      " 19  Total_Ct_Chng_Q4_Q1       10127 non-null  float64 \n",
      " 20  Avg_Utilization_Ratio     10127 non-null  float64 \n",
      " 21  age_bin                   10127 non-null  category\n",
      "dtypes: category(1), float64(5), int64(12), object(4)\n",
      "memory usage: 1.6+ MB\n"
     ]
    }
   ],
   "source": [
    "df.info()"
   ]
  },
  {
   "cell_type": "markdown",
   "id": "f7e46abf",
   "metadata": {},
   "source": [
    "#####  **\"Unknown\"**에 대한 처리 방법은\n",
    "    1. \"Unknown\"도 하나의 category로 해석\n",
    "    2. \"Unknown\"값이 있는 행을 삭제하거나, 칼럼 자체(피처)를 삭제\n",
    "    3. 모델링을 활용하여 대체\n",
    "    4. 최빈값으로 대체\n",
    "#### 여러 가지 시도후 최적화된 값 구하기"
   ]
  },
  {
   "cell_type": "markdown",
   "id": "baf6ac69",
   "metadata": {},
   "source": [
    "**결측치로 처리 되지 않았던 Unknown을 np.nan으로 결측치로 처리 후, 대표값(최빈값)으로 결측치를 대체**"
   ]
  },
  {
   "cell_type": "code",
   "execution_count": 57,
   "id": "9992794a",
   "metadata": {},
   "outputs": [],
   "source": [
    "# Card_Category(카드 등급) 은 4개의 등급(Blue, Silver, Gold, Platinum)으로 나뉘어진 범주형 변수이다. \n",
    "# 라벨링 인코딩을 해주도록 한다.\n",
    "df[\"Card_Category\"].replace({\"Blue\":0,\n",
    "                                 \"Silver\":1,\n",
    "                                 \"Gold\":2,\n",
    "                                 \"Platinum\":3,\n",
    "                                 },inplace=True)"
   ]
  },
  {
   "cell_type": "code",
   "execution_count": 58,
   "id": "711622fd",
   "metadata": {},
   "outputs": [],
   "source": [
    "df[\"Education_Level\"].replace({\"Unknown\":np.nan,\n",
    "                                \"Graduate\":0,\n",
    "                                \"Post-Graduate\":1,\n",
    "                                \"Uneducated\":2,\n",
    "                                \"College\":3,\n",
    "                                \"Doctorate\":4,\n",
    "                                \"High School\":5,\n",
    "                                 },inplace=True)"
   ]
  },
  {
   "cell_type": "code",
   "execution_count": 59,
   "id": "1cec68bb",
   "metadata": {},
   "outputs": [],
   "source": [
    "df[\"Marital_Status\"].replace({\"Unknown\":np.nan,\n",
    "                                \"Married\":0,\n",
    "                                \"Single\":1,\n",
    "                                \"Divorced\":2,\n",
    "                                 },inplace=True)"
   ]
  },
  {
   "cell_type": "code",
   "execution_count": 60,
   "id": "5a678a84",
   "metadata": {},
   "outputs": [],
   "source": [
    "df[\"Income_Category\"].replace({\"Unknown\":np.nan,\n",
    "                                \"Less than $40K\":0,\n",
    "                                \"$40K - $60K\":1,\n",
    "                                \"$60K - $80K\":2,\n",
    "                                \"$80K - $120K\":3,\n",
    "                                \"$120K +\":4,\n",
    "                                 },inplace=True)"
   ]
  },
  {
   "cell_type": "code",
   "execution_count": 61,
   "id": "3383f6ed",
   "metadata": {},
   "outputs": [
    {
     "data": {
      "text/plain": [
       "CLIENTNUM                      0\n",
       "Attrition_Flag                 0\n",
       "Customer_Age                   0\n",
       "Gender                         0\n",
       "Dependent_count                0\n",
       "Education_Level             1519\n",
       "Marital_Status               749\n",
       "Income_Category             1112\n",
       "Card_Category                  0\n",
       "Months_on_book                 0\n",
       "Total_Relationship_Count       0\n",
       "Months_Inactive_12_mon         0\n",
       "Contacts_Count_12_mon          0\n",
       "Credit_Limit                   0\n",
       "Total_Revolving_Bal            0\n",
       "Avg_Open_To_Buy                0\n",
       "Total_Amt_Chng_Q4_Q1           0\n",
       "Total_Trans_Amt                0\n",
       "Total_Trans_Ct                 0\n",
       "Total_Ct_Chng_Q4_Q1            0\n",
       "Avg_Utilization_Ratio          0\n",
       "age_bin                        0\n",
       "dtype: int64"
      ]
     },
     "execution_count": 61,
     "metadata": {},
     "output_type": "execute_result"
    }
   ],
   "source": [
    "# Unknown이 결측치(np.nan)로 대체 된것을 확인할 수 있다.\n",
    "df.isnull().sum()"
   ]
  },
  {
   "cell_type": "code",
   "execution_count": 62,
   "id": "b5498327",
   "metadata": {},
   "outputs": [
    {
     "name": "stdout",
     "output_type": "stream",
     "text": [
      "<class 'pandas.core.frame.DataFrame'>\n",
      "RangeIndex: 10127 entries, 0 to 10126\n",
      "Data columns (total 22 columns):\n",
      " #   Column                    Non-Null Count  Dtype   \n",
      "---  ------                    --------------  -----   \n",
      " 0   CLIENTNUM                 10127 non-null  int64   \n",
      " 1   Attrition_Flag            10127 non-null  int64   \n",
      " 2   Customer_Age              10127 non-null  int64   \n",
      " 3   Gender                    10127 non-null  int64   \n",
      " 4   Dependent_count           10127 non-null  int64   \n",
      " 5   Education_Level           8608 non-null   float64 \n",
      " 6   Marital_Status            9378 non-null   float64 \n",
      " 7   Income_Category           9015 non-null   float64 \n",
      " 8   Card_Category             10127 non-null  int64   \n",
      " 9   Months_on_book            10127 non-null  int64   \n",
      " 10  Total_Relationship_Count  10127 non-null  int64   \n",
      " 11  Months_Inactive_12_mon    10127 non-null  int64   \n",
      " 12  Contacts_Count_12_mon     10127 non-null  int64   \n",
      " 13  Credit_Limit              10127 non-null  float64 \n",
      " 14  Total_Revolving_Bal       10127 non-null  int64   \n",
      " 15  Avg_Open_To_Buy           10127 non-null  float64 \n",
      " 16  Total_Amt_Chng_Q4_Q1      10127 non-null  float64 \n",
      " 17  Total_Trans_Amt           10127 non-null  int64   \n",
      " 18  Total_Trans_Ct            10127 non-null  int64   \n",
      " 19  Total_Ct_Chng_Q4_Q1       10127 non-null  float64 \n",
      " 20  Avg_Utilization_Ratio     10127 non-null  float64 \n",
      " 21  age_bin                   10127 non-null  category\n",
      "dtypes: category(1), float64(8), int64(13)\n",
      "memory usage: 1.6 MB\n"
     ]
    }
   ],
   "source": [
    "df.info()"
   ]
  },
  {
   "cell_type": "code",
   "execution_count": 63,
   "id": "65d0e7f4",
   "metadata": {},
   "outputs": [
    {
     "data": {
      "text/plain": [
       "SimpleImputer(strategy='most_frequent')"
      ]
     },
     "execution_count": 63,
     "metadata": {},
     "output_type": "execute_result"
    }
   ],
   "source": [
    "# 대표값 이용 결측치 대체 모듈 \n",
    "from sklearn.impute import SimpleImputer\n",
    "# 각 데이터에 사용할 인스턴스 생성\n",
    "SI_mode =SimpleImputer(strategy = 'most_frequent') # 대표값 중 최빈값으로 결측치를 대체해준다.\n",
    "# 학습\n",
    "SI_mode.fit(df)\n",
    "df = pd.DataFrame(SI_mode.transform(df),\n",
    "                            columns = df.columns)"
   ]
  },
  {
   "cell_type": "code",
   "execution_count": 64,
   "id": "dce8876a",
   "metadata": {},
   "outputs": [
    {
     "data": {
      "text/plain": [
       "CLIENTNUM                   0\n",
       "Attrition_Flag              0\n",
       "Customer_Age                0\n",
       "Gender                      0\n",
       "Dependent_count             0\n",
       "Education_Level             0\n",
       "Marital_Status              0\n",
       "Income_Category             0\n",
       "Card_Category               0\n",
       "Months_on_book              0\n",
       "Total_Relationship_Count    0\n",
       "Months_Inactive_12_mon      0\n",
       "Contacts_Count_12_mon       0\n",
       "Credit_Limit                0\n",
       "Total_Revolving_Bal         0\n",
       "Avg_Open_To_Buy             0\n",
       "Total_Amt_Chng_Q4_Q1        0\n",
       "Total_Trans_Amt             0\n",
       "Total_Trans_Ct              0\n",
       "Total_Ct_Chng_Q4_Q1         0\n",
       "Avg_Utilization_Ratio       0\n",
       "age_bin                     0\n",
       "dtype: int64"
      ]
     },
     "execution_count": 64,
     "metadata": {},
     "output_type": "execute_result"
    }
   ],
   "source": [
    "# 결측치가 대체를 확인할 수 있다.\n",
    "df.isnull().sum()"
   ]
  },
  {
   "cell_type": "code",
   "execution_count": null,
   "id": "a193cd3f",
   "metadata": {},
   "outputs": [],
   "source": []
  },
  {
   "cell_type": "code",
   "execution_count": 65,
   "id": "1eeee4bd",
   "metadata": {},
   "outputs": [
    {
     "name": "stdout",
     "output_type": "stream",
     "text": [
      "<class 'pandas.core.frame.DataFrame'>\n",
      "RangeIndex: 10127 entries, 0 to 10126\n",
      "Data columns (total 22 columns):\n",
      " #   Column                    Non-Null Count  Dtype \n",
      "---  ------                    --------------  ----- \n",
      " 0   CLIENTNUM                 10127 non-null  object\n",
      " 1   Attrition_Flag            10127 non-null  object\n",
      " 2   Customer_Age              10127 non-null  object\n",
      " 3   Gender                    10127 non-null  object\n",
      " 4   Dependent_count           10127 non-null  object\n",
      " 5   Education_Level           10127 non-null  object\n",
      " 6   Marital_Status            10127 non-null  object\n",
      " 7   Income_Category           10127 non-null  object\n",
      " 8   Card_Category             10127 non-null  object\n",
      " 9   Months_on_book            10127 non-null  object\n",
      " 10  Total_Relationship_Count  10127 non-null  object\n",
      " 11  Months_Inactive_12_mon    10127 non-null  object\n",
      " 12  Contacts_Count_12_mon     10127 non-null  object\n",
      " 13  Credit_Limit              10127 non-null  object\n",
      " 14  Total_Revolving_Bal       10127 non-null  object\n",
      " 15  Avg_Open_To_Buy           10127 non-null  object\n",
      " 16  Total_Amt_Chng_Q4_Q1      10127 non-null  object\n",
      " 17  Total_Trans_Amt           10127 non-null  object\n",
      " 18  Total_Trans_Ct            10127 non-null  object\n",
      " 19  Total_Ct_Chng_Q4_Q1       10127 non-null  object\n",
      " 20  Avg_Utilization_Ratio     10127 non-null  object\n",
      " 21  age_bin                   10127 non-null  object\n",
      "dtypes: object(22)\n",
      "memory usage: 1.7+ MB\n"
     ]
    }
   ],
   "source": [
    "df.info()"
   ]
  },
  {
   "cell_type": "code",
   "execution_count": 66,
   "id": "a5e210e9",
   "metadata": {},
   "outputs": [],
   "source": [
    "#중간에 dtype이 모두 object로 바뀌어서 에러가 났다.\n",
    "\n",
    "df[Numerics]=df[Numerics].astype(\"float\")\n",
    "df[Labels]=df[Labels].astype(\"int\")\n",
    "df[Orders]=df[Orders].astype(\"int\")\n",
    "df[\"Attrition_Flag\"]=df[\"Attrition_Flag\"].astype(\"int\")\n",
    "\n",
    "# 여기서 모든 데이터 타입을 float으로 바꾸어도 되는 것인지 궁금하다."
   ]
  },
  {
   "cell_type": "code",
   "execution_count": 67,
   "id": "a212469d",
   "metadata": {},
   "outputs": [
    {
     "name": "stdout",
     "output_type": "stream",
     "text": [
      "<class 'pandas.core.frame.DataFrame'>\n",
      "RangeIndex: 10127 entries, 0 to 10126\n",
      "Data columns (total 22 columns):\n",
      " #   Column                    Non-Null Count  Dtype  \n",
      "---  ------                    --------------  -----  \n",
      " 0   CLIENTNUM                 10127 non-null  object \n",
      " 1   Attrition_Flag            10127 non-null  int32  \n",
      " 2   Customer_Age              10127 non-null  float64\n",
      " 3   Gender                    10127 non-null  int32  \n",
      " 4   Dependent_count           10127 non-null  float64\n",
      " 5   Education_Level           10127 non-null  int32  \n",
      " 6   Marital_Status            10127 non-null  int32  \n",
      " 7   Income_Category           10127 non-null  int32  \n",
      " 8   Card_Category             10127 non-null  int32  \n",
      " 9   Months_on_book            10127 non-null  float64\n",
      " 10  Total_Relationship_Count  10127 non-null  float64\n",
      " 11  Months_Inactive_12_mon    10127 non-null  float64\n",
      " 12  Contacts_Count_12_mon     10127 non-null  float64\n",
      " 13  Credit_Limit              10127 non-null  float64\n",
      " 14  Total_Revolving_Bal       10127 non-null  float64\n",
      " 15  Avg_Open_To_Buy           10127 non-null  float64\n",
      " 16  Total_Amt_Chng_Q4_Q1      10127 non-null  float64\n",
      " 17  Total_Trans_Amt           10127 non-null  float64\n",
      " 18  Total_Trans_Ct            10127 non-null  float64\n",
      " 19  Total_Ct_Chng_Q4_Q1       10127 non-null  float64\n",
      " 20  Avg_Utilization_Ratio     10127 non-null  float64\n",
      " 21  age_bin                   10127 non-null  object \n",
      "dtypes: float64(14), int32(6), object(2)\n",
      "memory usage: 1.5+ MB\n"
     ]
    }
   ],
   "source": [
    "df.info()"
   ]
  },
  {
   "cell_type": "code",
   "execution_count": null,
   "id": "b64ee791",
   "metadata": {},
   "outputs": [],
   "source": []
  },
  {
   "cell_type": "markdown",
   "id": "ff35479a",
   "metadata": {},
   "source": [
    "#### 4-(3) 상관관계가 높은 피처 제거"
   ]
  },
  {
   "cell_type": "code",
   "execution_count": 68,
   "id": "07311e77",
   "metadata": {
    "scrolled": false
   },
   "outputs": [
    {
     "data": {
      "text/plain": [
       "(<Figure size 1440x648 with 1 Axes>, <AxesSubplot:>)"
      ]
     },
     "execution_count": 68,
     "metadata": {},
     "output_type": "execute_result"
    },
    {
     "data": {
      "text/plain": [
       "<AxesSubplot:>"
      ]
     },
     "execution_count": 68,
     "metadata": {},
     "output_type": "execute_result"
    },
    {
     "data": {
      "image/png": "[encoded data removed]",
      "text/plain": [
       "<Figure size 1440x648 with 2 Axes>"
      ]
     },
     "metadata": {},
     "output_type": "display_data"
    }
   ],
   "source": [
    "plt.subplots(figsize=(20,9))\n",
    "plt.tick_params(axis='x',labelcolor='white')\n",
    "plt.tick_params(axis='y',labelcolor='white')\n",
    "sns.heatmap(df[Numerics].corr(),annot = True )"
   ]
  },
  {
   "cell_type": "markdown",
   "id": "4dbc8e67",
   "metadata": {},
   "source": [
    "### 피처 간의 상관계수로 열 제거 판단"
   ]
  },
  {
   "cell_type": "markdown",
   "id": "7ed73a90",
   "metadata": {},
   "source": [
    "(1) **`Month_on_book`**과 **`Customer_Age`**의 상관계수는 0.79로 높지만, 삭제 X\n",
    "- 각각의 피처 할부기간, 고객 나이를 의미\n",
    "- 도메인 관점에서 분석하면 각각의 상관관계 적은 피처로 생각 가능해서 삭제하지 않음\n",
    "\n",
    "\n",
    "(2) **`Credit_Limit`**와 **`Avg_Utilization_Ratio`**의 상관계수가 0.48로 높아서, 삭제\n",
    "- 같은 변수에서 파생되어진 피처\n",
    "- 둘중 하나의 변수만 나두고 나머지 하나는 삭제"
   ]
  },
  {
   "cell_type": "code",
   "execution_count": null,
   "id": "a7a83488",
   "metadata": {},
   "outputs": [],
   "source": []
  },
  {
   "cell_type": "markdown",
   "id": "44d31770",
   "metadata": {},
   "source": [
    "**Attrition_Flag(범주형)과 수치형 피처 변수들의 상관관계를 파악** \n",
    "- 상관계수를 파악하기 위해 pointbiserialr 사용 "
   ]
  },
  {
   "cell_type": "markdown",
   "id": "320b7f21",
   "metadata": {},
   "source": [
    "# 여기서 p-value의 의미 해석하기 ??????**\n",
    "- 내용 협의"
   ]
  },
  {
   "cell_type": "code",
   "execution_count": 69,
   "id": "821b4f32",
   "metadata": {},
   "outputs": [
    {
     "name": "stdout",
     "output_type": "stream",
     "text": [
      "Attrition_Flag를  기준으로 상관관계 분석\n",
      "---------------------------------------------------\n",
      "\n",
      "Avg_Open_To_Buy 상관관계와 P-value\n",
      "결과\n",
      "상관관계 : -0.0003\n",
      "P-value : 0.97711609\n",
      "---------------------------------------------------\n",
      "\n",
      "Credit_Limit 상관관계와 P-value\n",
      "결과\n",
      "상관관계 : -0.0239\n",
      "P-value : 0.01628536\n",
      "---------------------------------------------------\n",
      "\n",
      "Total_Revolving_Bal 상관관계와 P-value\n",
      "결과\n",
      "상관관계 : -0.2631\n",
      "P-value : 0.00000000\n",
      "---------------------------------------------------\n",
      "\n",
      "Avg_Utilization_Ratio 상관관계와 P-value\n",
      "결과\n",
      "상관관계 : -0.1784\n",
      "P-value : 0.00000000\n",
      "---------------------------------------------------\n",
      "\n",
      "Total_Trans_Amt 상관관계와 P-value\n",
      "결과\n",
      "상관관계 : -0.1686\n",
      "P-value : 0.00000000\n",
      "---------------------------------------------------\n",
      "\n",
      "Total_Trans_Ct 상관관계와 P-value\n",
      "결과\n",
      "상관관계 : -0.3714\n",
      "P-value : 0.00000000\n",
      "---------------------------------------------------\n",
      "\n",
      "Total_Amt_Chng_Q4_Q1 상관관계와 P-value\n",
      "결과\n",
      "상관관계 : -0.1311\n",
      "P-value : 0.00000000\n",
      "---------------------------------------------------\n",
      "\n",
      "Total_Ct_Chng_Q4_Q1 상관관계와 P-value\n",
      "결과\n",
      "상관관계 : -0.2901\n",
      "P-value : 0.00000000\n",
      "---------------------------------------------------\n",
      "\n"
     ]
    }
   ],
   "source": [
    "from scipy.stats import pointbiserialr\n",
    "\n",
    "features = ['Avg_Open_To_Buy','Credit_Limit','Total_Revolving_Bal','Avg_Utilization_Ratio','Total_Trans_Amt','Total_Trans_Ct','Total_Amt_Chng_Q4_Q1','Total_Ct_Chng_Q4_Q1'] \n",
    "\n",
    "print(\"Attrition_Flag를  기준으로 상관관계 분석\")\n",
    "print('---------------------------------------------------')\n",
    "print('')\n",
    "\n",
    "for feature in features:\n",
    "    target_feature_corr, target_feature_pvalue = pointbiserialr(df['Attrition_Flag'], df[feature])\n",
    "    print(feature,\"상관관계와 P-value\")\n",
    "    print('결과') \n",
    "    print('상관관계 : {0:.4f}'.format(target_feature_corr))\n",
    "    print('P-value : {0:.8f}'.format(target_feature_pvalue))\n",
    "    print('---------------------------------------------------')\n",
    "    print('')\n",
    "   "
   ]
  },
  {
   "cell_type": "markdown",
   "id": "4fc1fce0",
   "metadata": {},
   "source": [
    "**상관관계가 낮은 열 제거**\n",
    "- Avg_Open_To_Buy, Avg_Utilization_Ratio, Total_Trans_Amt, Total_Amt_Chng_Q4_Q1 삭제(총 4개 삭제)"
   ]
  },
  {
   "cell_type": "code",
   "execution_count": 70,
   "id": "46fe4585",
   "metadata": {},
   "outputs": [],
   "source": [
    "df.drop([\"CLIENTNUM\", # 식별자 삭제\n",
    "         \"Avg_Open_To_Buy\",\n",
    "         \"Avg_Utilization_Ratio\",\n",
    "         \"Total_Trans_Amt\",\n",
    "         \"age_bin\",\n",
    "         \"Total_Amt_Chng_Q4_Q1\"], axis=1,inplace=True)"
   ]
  },
  {
   "cell_type": "code",
   "execution_count": null,
   "id": "5d989dcc",
   "metadata": {},
   "outputs": [],
   "source": []
  },
  {
   "cell_type": "markdown",
   "id": "5b0b743b",
   "metadata": {},
   "source": [
    "#### 4 - (4) 수치형 변수 log변환 정규화 변환"
   ]
  },
  {
   "cell_type": "code",
   "execution_count": 71,
   "id": "a003a572",
   "metadata": {},
   "outputs": [],
   "source": [
    "# 수치형 변수 중에 drop시킨 변수를 제외한 나머지 변수들을 모은 리스트를 만든다.\n",
    "Numerics = ['Customer_Age','Dependent_count','Months_on_book',\n",
    "       'Total_Relationship_Count', 'Months_Inactive_12_mon',\n",
    "       'Contacts_Count_12_mon', 'Credit_Limit', 'Total_Revolving_Bal',\n",
    "        'Total_Ct_Chng_Q4_Q1', \n",
    "       'Total_Trans_Ct'] "
   ]
  },
  {
   "cell_type": "code",
   "execution_count": 72,
   "id": "5d0cf07c",
   "metadata": {},
   "outputs": [
    {
     "data": {
      "text/plain": [
       "<AxesSubplot:xlabel='Credit_Limit', ylabel='Count'>"
      ]
     },
     "execution_count": 72,
     "metadata": {},
     "output_type": "execute_result"
    },
    {
     "data": {
      "image/png": "[encoded data removed]",
      "text/plain": [
       "<Figure size 432x432 with 1 Axes>"
      ]
     },
     "metadata": {
      "needs_background": "light"
     },
     "output_type": "display_data"
    }
   ],
   "source": [
    "# Credit_Limit의 분포를 히스토그램으로 시각화\n",
    "sns.histplot(df[\"Credit_Limit\"])"
   ]
  },
  {
   "cell_type": "code",
   "execution_count": 73,
   "id": "3ffd92d8",
   "metadata": {},
   "outputs": [],
   "source": [
    "# 편향이 심한 Credit_Limit은 로그 변환을 해주도록한다.\n",
    "\n",
    "df[\"Credit_Limit\"]=np.log1p(df[\"Credit_Limit\"])"
   ]
  },
  {
   "cell_type": "code",
   "execution_count": 74,
   "id": "b05377d8",
   "metadata": {},
   "outputs": [
    {
     "data": {
      "text/plain": [
       "0        9.448727\n",
       "1        9.018817\n",
       "2        8.137103\n",
       "3        8.105911\n",
       "4        8.458928\n",
       "           ...   \n",
       "10122    8.295049\n",
       "10123    8.361241\n",
       "10124    8.596004\n",
       "10125    8.572060\n",
       "10126    9.248503\n",
       "Name: Credit_Limit, Length: 10127, dtype: float64"
      ]
     },
     "execution_count": 74,
     "metadata": {},
     "output_type": "execute_result"
    }
   ],
   "source": [
    "df[\"Credit_Limit\"]"
   ]
  },
  {
   "cell_type": "code",
   "execution_count": 75,
   "id": "abd98f40",
   "metadata": {},
   "outputs": [
    {
     "data": {
      "text/plain": [
       "<AxesSubplot:xlabel='Credit_Limit', ylabel='Count'>"
      ]
     },
     "execution_count": 75,
     "metadata": {},
     "output_type": "execute_result"
    },
    {
     "data": {
      "image/png": "[encoded data removed]",
      "text/plain": [
       "<Figure size 432x432 with 1 Axes>"
      ]
     },
     "metadata": {
      "needs_background": "light"
     },
     "output_type": "display_data"
    }
   ],
   "source": [
    "sns.histplot(df[\"Credit_Limit\"])\n",
    "# 편향이 조금 완화 된것을 확인 할 수 있다."
   ]
  },
  {
   "cell_type": "markdown",
   "id": "bbc16437",
   "metadata": {},
   "source": [
    "**표준 정규화로 변환**\n",
    "- 평균 : 0, 표준편차 :1 "
   ]
  },
  {
   "cell_type": "code",
   "execution_count": 76,
   "id": "b565ff89",
   "metadata": {},
   "outputs": [],
   "source": [
    "from sklearn.preprocessing import StandardScaler\n",
    "scaler = StandardScaler()\n",
    "\n",
    "for numeric in ['Customer_Age','Credit_Limit','Total_Revolving_Bal','Total_Ct_Chng_Q4_Q1','Total_Trans_Ct']:\n",
    "    df[numeric] = scaler.fit_transform(df[numeric].values.reshape(-1,1))"
   ]
  },
  {
   "cell_type": "code",
   "execution_count": 77,
   "id": "321c3f16",
   "metadata": {},
   "outputs": [
    {
     "data": {
      "text/html": [
       "<div>\n",
       "<style scoped>\n",
       "    .dataframe tbody tr th:only-of-type {\n",
       "        vertical-align: middle;\n",
       "    }\n",
       "\n",
       "    .dataframe tbody tr th {\n",
       "        vertical-align: top;\n",
       "    }\n",
       "\n",
       "    .dataframe thead th {\n",
       "        text-align: right;\n",
       "    }\n",
       "</style>\n",
       "<table border=\"1\" class=\"dataframe\">\n",
       "  <thead>\n",
       "    <tr style=\"text-align: right;\">\n",
       "      <th></th>\n",
       "      <th>Customer_Age</th>\n",
       "      <th>Dependent_count</th>\n",
       "      <th>Months_on_book</th>\n",
       "      <th>Total_Relationship_Count</th>\n",
       "      <th>Months_Inactive_12_mon</th>\n",
       "      <th>Contacts_Count_12_mon</th>\n",
       "      <th>Credit_Limit</th>\n",
       "      <th>Total_Revolving_Bal</th>\n",
       "      <th>Total_Ct_Chng_Q4_Q1</th>\n",
       "      <th>Total_Trans_Ct</th>\n",
       "    </tr>\n",
       "  </thead>\n",
       "  <tbody>\n",
       "    <tr>\n",
       "      <th>0</th>\n",
       "      <td>-0.165406</td>\n",
       "      <td>3.0</td>\n",
       "      <td>39.0</td>\n",
       "      <td>5.0</td>\n",
       "      <td>1.0</td>\n",
       "      <td>3.0</td>\n",
       "      <td>0.905210</td>\n",
       "      <td>-0.473422</td>\n",
       "      <td>3.834003</td>\n",
       "      <td>-0.973895</td>\n",
       "    </tr>\n",
       "    <tr>\n",
       "      <th>1</th>\n",
       "      <td>0.333570</td>\n",
       "      <td>5.0</td>\n",
       "      <td>44.0</td>\n",
       "      <td>6.0</td>\n",
       "      <td>1.0</td>\n",
       "      <td>2.0</td>\n",
       "      <td>0.444695</td>\n",
       "      <td>-0.366667</td>\n",
       "      <td>12.608573</td>\n",
       "      <td>-1.357340</td>\n",
       "    </tr>\n",
       "    <tr>\n",
       "      <th>2</th>\n",
       "      <td>0.583058</td>\n",
       "      <td>3.0</td>\n",
       "      <td>36.0</td>\n",
       "      <td>4.0</td>\n",
       "      <td>1.0</td>\n",
       "      <td>0.0</td>\n",
       "      <td>-0.499786</td>\n",
       "      <td>-1.426858</td>\n",
       "      <td>6.807864</td>\n",
       "      <td>-1.911206</td>\n",
       "    </tr>\n",
       "    <tr>\n",
       "      <th>3</th>\n",
       "      <td>-0.789126</td>\n",
       "      <td>4.0</td>\n",
       "      <td>34.0</td>\n",
       "      <td>3.0</td>\n",
       "      <td>4.0</td>\n",
       "      <td>1.0</td>\n",
       "      <td>-0.533199</td>\n",
       "      <td>1.661686</td>\n",
       "      <td>6.807864</td>\n",
       "      <td>-1.911206</td>\n",
       "    </tr>\n",
       "    <tr>\n",
       "      <th>4</th>\n",
       "      <td>-0.789126</td>\n",
       "      <td>3.0</td>\n",
       "      <td>21.0</td>\n",
       "      <td>5.0</td>\n",
       "      <td>1.0</td>\n",
       "      <td>0.0</td>\n",
       "      <td>-0.155051</td>\n",
       "      <td>-1.426858</td>\n",
       "      <td>7.509325</td>\n",
       "      <td>-1.570365</td>\n",
       "    </tr>\n",
       "  </tbody>\n",
       "</table>\n",
       "</div>"
      ],
      "text/plain": [
       "   Customer_Age  Dependent_count  Months_on_book  Total_Relationship_Count  \\\n",
       "0     -0.165406              3.0            39.0                       5.0   \n",
       "1      0.333570              5.0            44.0                       6.0   \n",
       "2      0.583058              3.0            36.0                       4.0   \n",
       "3     -0.789126              4.0            34.0                       3.0   \n",
       "4     -0.789126              3.0            21.0                       5.0   \n",
       "\n",
       "   Months_Inactive_12_mon  Contacts_Count_12_mon  Credit_Limit  \\\n",
       "0                     1.0                    3.0      0.905210   \n",
       "1                     1.0                    2.0      0.444695   \n",
       "2                     1.0                    0.0     -0.499786   \n",
       "3                     4.0                    1.0     -0.533199   \n",
       "4                     1.0                    0.0     -0.155051   \n",
       "\n",
       "   Total_Revolving_Bal  Total_Ct_Chng_Q4_Q1  Total_Trans_Ct  \n",
       "0            -0.473422             3.834003       -0.973895  \n",
       "1            -0.366667            12.608573       -1.357340  \n",
       "2            -1.426858             6.807864       -1.911206  \n",
       "3             1.661686             6.807864       -1.911206  \n",
       "4            -1.426858             7.509325       -1.570365  "
      ]
     },
     "execution_count": 77,
     "metadata": {},
     "output_type": "execute_result"
    }
   ],
   "source": [
    "# 수치형 데이터 표준화 확인\n",
    "df[Numerics].head()"
   ]
  },
  {
   "cell_type": "code",
   "execution_count": null,
   "id": "181e6f65",
   "metadata": {},
   "outputs": [],
   "source": []
  },
  {
   "cell_type": "code",
   "execution_count": null,
   "id": "bb5d2b8f",
   "metadata": {},
   "outputs": [],
   "source": []
  },
  {
   "cell_type": "markdown",
   "id": "57583234",
   "metadata": {},
   "source": [
    "## 5. 모델링"
   ]
  },
  {
   "cell_type": "markdown",
   "id": "426e19a1",
   "metadata": {},
   "source": [
    "#### 사용할 알고리즘\n",
    "- LogisticRegression\n",
    "- XGBoost\n",
    "- LightGBM"
   ]
  },
  {
   "cell_type": "markdown",
   "id": "478797ad",
   "metadata": {},
   "source": [
    "### 안성준 표작성 부탁\n",
    "- 결과치 표"
   ]
  },
  {
   "cell_type": "markdown",
   "id": "a0fe2ab3",
   "metadata": {},
   "source": [
    "### 5 - (1)지도학습"
   ]
  },
  {
   "cell_type": "markdown",
   "id": "c0fa75ab",
   "metadata": {},
   "source": [
    "### 사용 함수"
   ]
  },
  {
   "cell_type": "code",
   "execution_count": 123,
   "id": "0c10a448",
   "metadata": {},
   "outputs": [],
   "source": [
    "from sklearn.metrics import confusion_matrix, accuracy_score, precision_score, recall_score, f1_score\n",
    "from sklearn.metrics import roc_auc_score\n",
    "\n",
    "# 수정된 get_clf_eval() 함수 \n",
    "def get_clf_eval(y_test, pred=None, pred_proba=None):\n",
    "    confusion = confusion_matrix(y_test, pred)\n",
    "    accuracy = accuracy_score(y_test , pred)\n",
    "    precision = precision_score(y_test, pred)\n",
    "    recall = recall_score(y_test, pred)\n",
    "    f1 = f1_score(y_test,pred)\n",
    "    \n",
    "    # ROC-AUC 추가 \n",
    "    roc_auc = roc_auc_score(y_test, pred_proba)\n",
    "    print('오차 행렬')\n",
    "    print(confusion)\n",
    "    # ROC-AUC print 추가\n",
    "    print('정확도: {0:.4f}, 정밀도: {1:.4f}, 재현율: {2:.4f},\\\n",
    "    F1: {3:.4f}, AUC:{4:.4f}'.format(accuracy, precision, recall, f1, roc_auc))"
   ]
  },
  {
   "cell_type": "code",
   "execution_count": 124,
   "id": "324cac25",
   "metadata": {},
   "outputs": [],
   "source": [
    "# 테스트를 수행할 모든 임곗값을 리스트 객체로 저장. \n",
    "thresholds = [0.05,0.11,0.2,0.3, 0.4, 0.45, 0.50, 0.55, 0.60]\n",
    "\n",
    "def get_eval_by_threshold(y_test , pred_proba_c1, thresholds):\n",
    "    # thresholds list객체내의 값을 차례로 iteration하면서 Evaluation 수행.\n",
    "    for custom_threshold in thresholds:\n",
    "        binarizer = Binarizer(threshold=custom_threshold).fit(pred_proba_c1) \n",
    "        custom_predict = binarizer.transform(pred_proba_c1)\n",
    "        print('\\n임곗값:',custom_threshold)\n",
    "        get_clf_eval(y_test , custom_predict)"
   ]
  },
  {
   "cell_type": "code",
   "execution_count": 125,
   "id": "009f2e24",
   "metadata": {},
   "outputs": [],
   "source": [
    "# 함수 만들기\n",
    "import matplotlib.pyplot as plt\n",
    "import matplotlib.ticker as ticker\n",
    "%matplotlib inline\n",
    "\n",
    "# y_test : 실제 값  pred_proba_c1: 예측 확률 값\n",
    "def precision_recall_curve_plot(y_test , pred_proba_c1): \n",
    "    # threshold ndarray와 이 threshold에 따른 정밀도, 재현율 ndarray 추출. \n",
    "    precisions, recalls, thresholds = precision_recall_curve( y_test, pred_proba_c1)\n",
    "    \n",
    "    # X축을 threshold값으로, Y축은 정밀도, 재현율 값으로 각각 Plot 수행. \n",
    "    # 정밀도는 점선으로 표시\n",
    "    plt.figure(figsize=(8,6))\n",
    "    threshold_boundary = thresholds.shape[0] # (143,)에서 143 추출\n",
    "    # thresholds : 143이고, precisions과 recalls는 144개로 x, y축 값의 개수가 맞지 않으므로\n",
    "    # precisions, recalls로 그래프 그리면 오류 \n",
    "    # y 값을 [0:threshold_boundary] ([0:143])로 143개 추출해서 x축 개수와 맞춤\n",
    "    plt.plot(thresholds, precisions[0:threshold_boundary], linestyle='--', label='precision') \n",
    "    plt.plot(thresholds, recalls[0:threshold_boundary],label='recall')\n",
    "    \n",
    "    # threshold 값 X 축의 Scale을 0.1 단위로 변경\n",
    "    # xlim() : X축 범위를 지정하거나 반환\n",
    "    start, end = plt.xlim() # X축 범위 반환\n",
    "    plt.xticks(np.round(np.arange(start, end, 0.1),2))\n",
    "    \n",
    "    # x축, y축 label과 legend, 그리고 grid 설정\n",
    "    plt.xlabel('Threshold value'); plt.ylabel('Precision and Recall value')\n",
    "    plt.legend(); plt.grid()\n",
    "    plt.show()"
   ]
  },
  {
   "cell_type": "markdown",
   "id": "b3f7d1a4",
   "metadata": {},
   "source": [
    "### 학습/평가 데이터 분리"
   ]
  },
  {
   "cell_type": "code",
   "execution_count": 126,
   "id": "a2bbe0c4",
   "metadata": {},
   "outputs": [],
   "source": [
    "X = df.iloc[:,1:] # 피처 변수 \n",
    "y = df.iloc[:,:1] # 타겟 변수 분리 "
   ]
  },
  {
   "cell_type": "code",
   "execution_count": 127,
   "id": "99033050",
   "metadata": {},
   "outputs": [],
   "source": [
    "# 학습 데이터와 평가 데이터로 분리\n",
    "from sklearn.model_selection import train_test_split\n",
    "X_train, X_test, y_train, y_test = train_test_split(X, y, random_state=42, stratify=y)"
   ]
  },
  {
   "cell_type": "code",
   "execution_count": null,
   "id": "4319d3bd",
   "metadata": {},
   "outputs": [],
   "source": []
  },
  {
   "cell_type": "code",
   "execution_count": null,
   "id": "8f542a93",
   "metadata": {},
   "outputs": [],
   "source": []
  },
  {
   "cell_type": "code",
   "execution_count": null,
   "id": "389d9bf1",
   "metadata": {},
   "outputs": [],
   "source": []
  },
  {
   "cell_type": "code",
   "execution_count": null,
   "id": "48f418bd",
   "metadata": {},
   "outputs": [],
   "source": []
  },
  {
   "cell_type": "code",
   "execution_count": null,
   "id": "fcb55a5d",
   "metadata": {},
   "outputs": [],
   "source": []
  },
  {
   "cell_type": "markdown",
   "id": "9c5afdb8",
   "metadata": {},
   "source": [
    "#### 로지스틱 회귀 \n",
    "- 특징 : 지도학습으로 분류 판정 가능\n",
    "- 선정 이유 :\n",
    "- 정확도 :"
   ]
  },
  {
   "cell_type": "code",
   "execution_count": 106,
   "id": "80249039",
   "metadata": {},
   "outputs": [
    {
     "name": "stderr",
     "output_type": "stream",
     "text": [
      "C:\\ProgramData\\Anaconda3\\lib\\site-packages\\sklearn\\utils\\validation.py:63: DataConversionWarning: A column-vector y was passed when a 1d array was expected. Please change the shape of y to (n_samples, ), for example using ravel().\n",
      "  return f(*args, **kwargs)\n",
      "C:\\ProgramData\\Anaconda3\\lib\\site-packages\\sklearn\\linear_model\\_logistic.py:763: ConvergenceWarning: lbfgs failed to converge (status=1):\n",
      "STOP: TOTAL NO. of ITERATIONS REACHED LIMIT.\n",
      "\n",
      "Increase the number of iterations (max_iter) or scale the data as shown in:\n",
      "    https://scikit-learn.org/stable/modules/preprocessing.html\n",
      "Please also refer to the documentation for alternative solver options:\n",
      "    https://scikit-learn.org/stable/modules/linear_model.html#logistic-regression\n",
      "  n_iter_i = _check_optimize_result(\n"
     ]
    },
    {
     "data": {
      "text/plain": [
       "LogisticRegression()"
      ]
     },
     "execution_count": 106,
     "metadata": {},
     "output_type": "execute_result"
    },
    {
     "name": "stdout",
     "output_type": "stream",
     "text": [
      "오차 행렬\n",
      "[[2064   61]\n",
      " [ 203  204]]\n",
      "정확도: 0.8957, 정밀도: 0.7698, 재현율: 0.5012,    F1: 0.6071, AUC:0.8876\n"
     ]
    }
   ],
   "source": [
    "# 로지스틱 회귀 모델링 \n",
    "from sklearn.linear_model import LogisticRegression\n",
    "\n",
    "lr_clf = LogisticRegression()\n",
    "lr_clf.fit(X_train, y_train)\n",
    "\n",
    "lr_pred = lr_clf.predict(X_test)\n",
    "lr_pred_proba  = lr_clf.predict_proba(X_test)[:,1]\n",
    "\n",
    "get_clf_eval(y_test,lr_pred,lr_pred_proba)"
   ]
  },
  {
   "cell_type": "code",
   "execution_count": 108,
   "id": "ec602996",
   "metadata": {},
   "outputs": [],
   "source": [
    "from sklearn.preprocessing import Binarizer\n",
    "\n",
    "\n",
    "pred_proba_1 = lr_pred_proba.reshape(-1,1)\n",
    "\n",
    "binarizer = Binarizer(threshold = 0.4)"
   ]
  },
  {
   "cell_type": "code",
   "execution_count": 110,
   "id": "b82528ce",
   "metadata": {},
   "outputs": [],
   "source": [
    "from sklearn.metrics import precision_recall_curve\n",
    "\n",
    "# 레이블 값이 1일때의 예측 확률을 추출 \n",
    "pred_proba_class1 = lr_clf.predict_proba(X_test)[:, 1] \n",
    "\n",
    "# 실제값 데이터 셋과 레이블 값이 1일 때의 예측 확률을 precision_recall_curve 인자로 입력 \n",
    "precisions, recalls, thresholds = precision_recall_curve(y_test, pred_proba_class1)"
   ]
  },
  {
   "cell_type": "code",
   "execution_count": 111,
   "id": "70a28e44",
   "metadata": {},
   "outputs": [
    {
     "name": "stdout",
     "output_type": "stream",
     "text": [
      "임계값 shape:  (2406,)\n",
      "정밀도 shape:  (2407,)\n",
      "재현율 shape:  (2407,)\n"
     ]
    }
   ],
   "source": [
    "print('임계값 shape: ', thresholds.shape)\n",
    "print('정밀도 shape: ', precisions.shape)\n",
    "print('재현율 shape: ', recalls.shape)"
   ]
  },
  {
   "cell_type": "code",
   "execution_count": 112,
   "id": "80f1b016",
   "metadata": {},
   "outputs": [
    {
     "name": "stdout",
     "output_type": "stream",
     "text": [
      "sample index:  [   0   15   30   45   60   75   90  105  120  135  150  165  180  195\n",
      "  210  225  240  255  270  285  300  315  330  345  360  375  390  405\n",
      "  420  435  450  465  480  495  510  525  540  555  570  585  600  615\n",
      "  630  645  660  675  690  705  720  735  750  765  780  795  810  825\n",
      "  840  855  870  885  900  915  930  945  960  975  990 1005 1020 1035\n",
      " 1050 1065 1080 1095 1110 1125 1140 1155 1170 1185 1200 1215 1230 1245\n",
      " 1260 1275 1290 1305 1320 1335 1350 1365 1380 1395 1410 1425 1440 1455\n",
      " 1470 1485 1500 1515 1530 1545 1560 1575 1590 1605 1620 1635 1650 1665\n",
      " 1680 1695 1710 1725 1740 1755 1770 1785 1800 1815 1830 1845 1860 1875\n",
      " 1890 1905 1920 1935 1950 1965 1980 1995 2010 2025 2040 2055 2070 2085\n",
      " 2100 2115 2130 2145 2160 2175 2190 2205 2220 2235 2250 2265 2280 2295\n",
      " 2310 2325 2340 2355 2370 2385 2400]\n",
      "임계값 sample:  [0.002 0.002 0.003 0.003 0.003 0.003 0.004 0.004 0.004 0.004 0.005 0.005\n",
      " 0.005 0.006 0.006 0.006 0.006 0.007 0.007 0.007 0.008 0.008 0.008 0.009\n",
      " 0.009 0.009 0.009 0.01  0.01  0.01  0.011 0.011 0.012 0.012 0.012 0.013\n",
      " 0.013 0.014 0.014 0.015 0.015 0.015 0.016 0.016 0.017 0.017 0.018 0.018\n",
      " 0.019 0.02  0.02  0.021 0.022 0.022 0.023 0.024 0.025 0.026 0.027 0.028\n",
      " 0.029 0.031 0.032 0.033 0.034 0.035 0.036 0.037 0.038 0.038 0.039 0.04\n",
      " 0.042 0.043 0.044 0.045 0.046 0.048 0.049 0.051 0.052 0.054 0.055 0.057\n",
      " 0.059 0.06  0.061 0.063 0.065 0.067 0.069 0.072 0.074 0.075 0.077 0.08\n",
      " 0.082 0.085 0.087 0.092 0.094 0.097 0.1   0.103 0.105 0.108 0.112 0.116\n",
      " 0.121 0.124 0.129 0.133 0.138 0.147 0.153 0.157 0.161 0.169 0.175 0.181\n",
      " 0.187 0.193 0.202 0.21  0.215 0.222 0.231 0.247 0.254 0.261 0.272 0.281\n",
      " 0.291 0.312 0.327 0.338 0.355 0.364 0.385 0.406 0.432 0.459 0.481 0.51\n",
      " 0.543 0.573 0.599 0.635 0.647 0.684 0.713 0.744 0.767 0.797 0.83  0.862\n",
      " 0.889 0.911 0.938 0.951 0.983]\n",
      "정밀도 sample:  [0.169 0.17  0.17  0.172 0.173 0.174 0.175 0.176 0.177 0.178 0.179 0.18\n",
      " 0.181 0.183 0.183 0.184 0.185 0.186 0.188 0.189 0.19  0.192 0.193 0.195\n",
      " 0.196 0.197 0.199 0.2   0.202 0.203 0.204 0.206 0.208 0.209 0.21  0.212\n",
      " 0.213 0.214 0.215 0.216 0.218 0.22  0.222 0.223 0.225 0.226 0.228 0.23\n",
      " 0.231 0.233 0.235 0.237 0.239 0.241 0.244 0.246 0.248 0.25  0.253 0.255\n",
      " 0.257 0.259 0.262 0.264 0.266 0.269 0.271 0.273 0.276 0.279 0.282 0.283\n",
      " 0.285 0.287 0.289 0.29  0.293 0.296 0.297 0.301 0.303 0.306 0.31  0.314\n",
      " 0.318 0.322 0.325 0.329 0.33  0.331 0.335 0.339 0.344 0.349 0.352 0.357\n",
      " 0.361 0.366 0.37  0.374 0.38  0.386 0.392 0.397 0.404 0.41  0.418 0.423\n",
      " 0.429 0.436 0.442 0.449 0.456 0.457 0.463 0.473 0.482 0.492 0.498 0.507\n",
      " 0.517 0.528 0.535 0.544 0.559 0.563 0.576 0.589 0.595 0.603 0.607 0.619\n",
      " 0.634 0.642 0.654 0.667 0.683 0.695 0.714 0.72  0.735 0.746 0.761 0.774\n",
      " 0.785 0.801 0.815 0.826 0.833 0.836 0.859 0.879 0.889 0.928 0.948 0.963\n",
      " 0.97  0.961 0.944 0.952 1.   ]\n",
      "재현율 sample:  [1.    0.998 0.995 0.995 0.995 0.995 0.995 0.995 0.993 0.993 0.993 0.993\n",
      " 0.993 0.993 0.985 0.985 0.985 0.985 0.985 0.985 0.985 0.985 0.985 0.985\n",
      " 0.985 0.985 0.985 0.985 0.985 0.985 0.983 0.983 0.983 0.983 0.978 0.978\n",
      " 0.975 0.973 0.968 0.968 0.968 0.968 0.968 0.966 0.966 0.963 0.961 0.961\n",
      " 0.958 0.958 0.956 0.956 0.956 0.956 0.956 0.956 0.953 0.953 0.953 0.953\n",
      " 0.951 0.948 0.948 0.948 0.946 0.946 0.943 0.941 0.941 0.941 0.939 0.934\n",
      " 0.929 0.924 0.919 0.914 0.912 0.909 0.902 0.902 0.899 0.897 0.897 0.897\n",
      " 0.894 0.894 0.892 0.889 0.88  0.872 0.87  0.867 0.867 0.867 0.862 0.86\n",
      " 0.857 0.855 0.85  0.845 0.845 0.845 0.843 0.84  0.84  0.838 0.838 0.833\n",
      " 0.828 0.826 0.821 0.818 0.813 0.799 0.791 0.791 0.789 0.786 0.779 0.774\n",
      " 0.769 0.767 0.757 0.749 0.749 0.735 0.73  0.725 0.71  0.698 0.681 0.671\n",
      " 0.663 0.649 0.636 0.624 0.614 0.6   0.59  0.568 0.553 0.533 0.516 0.496\n",
      " 0.474 0.455 0.432 0.408 0.381 0.351 0.329 0.305 0.275 0.253 0.224 0.192\n",
      " 0.157 0.12  0.084 0.049 0.015]\n"
     ]
    }
   ],
   "source": [
    "idx = np.arange(0, thresholds.shape[0],15) # 15개씩 뛰어가며 임계값 만들기\n",
    "print('sample index: ', idx)\n",
    "print('임계값 sample: ', np.round(thresholds[idx], 3))\n",
    "print('정밀도 sample: ', np.round(precisions[idx], 3))\n",
    "print('재현율 sample: ', np.round(recalls[idx], 3))\n",
    "# 임계값을 0.1 로줌\n",
    "# 재현율이 좋게 나와야 된다고 하지만 이렇게 나온것은 쓰이지 않는다..."
   ]
  },
  {
   "cell_type": "code",
   "execution_count": 113,
   "id": "4236e139",
   "metadata": {},
   "outputs": [
    {
     "data": {
      "text/html": [
       "<div>\n",
       "<style scoped>\n",
       "    .dataframe tbody tr th:only-of-type {\n",
       "        vertical-align: middle;\n",
       "    }\n",
       "\n",
       "    .dataframe tbody tr th {\n",
       "        vertical-align: top;\n",
       "    }\n",
       "\n",
       "    .dataframe thead th {\n",
       "        text-align: right;\n",
       "    }\n",
       "</style>\n",
       "<table border=\"1\" class=\"dataframe\">\n",
       "  <thead>\n",
       "    <tr style=\"text-align: right;\">\n",
       "      <th></th>\n",
       "      <th>임곗값</th>\n",
       "      <th>정밀도</th>\n",
       "      <th>재현율</th>\n",
       "    </tr>\n",
       "  </thead>\n",
       "  <tbody>\n",
       "    <tr>\n",
       "      <th>0</th>\n",
       "      <td>0.00</td>\n",
       "      <td>0.169</td>\n",
       "      <td>1.000</td>\n",
       "    </tr>\n",
       "    <tr>\n",
       "      <th>1</th>\n",
       "      <td>0.00</td>\n",
       "      <td>0.170</td>\n",
       "      <td>0.998</td>\n",
       "    </tr>\n",
       "    <tr>\n",
       "      <th>2</th>\n",
       "      <td>0.00</td>\n",
       "      <td>0.170</td>\n",
       "      <td>0.995</td>\n",
       "    </tr>\n",
       "    <tr>\n",
       "      <th>3</th>\n",
       "      <td>0.00</td>\n",
       "      <td>0.172</td>\n",
       "      <td>0.995</td>\n",
       "    </tr>\n",
       "    <tr>\n",
       "      <th>4</th>\n",
       "      <td>0.00</td>\n",
       "      <td>0.173</td>\n",
       "      <td>0.995</td>\n",
       "    </tr>\n",
       "    <tr>\n",
       "      <th>...</th>\n",
       "      <td>...</td>\n",
       "      <td>...</td>\n",
       "      <td>...</td>\n",
       "    </tr>\n",
       "    <tr>\n",
       "      <th>156</th>\n",
       "      <td>0.89</td>\n",
       "      <td>0.970</td>\n",
       "      <td>0.157</td>\n",
       "    </tr>\n",
       "    <tr>\n",
       "      <th>157</th>\n",
       "      <td>0.91</td>\n",
       "      <td>0.961</td>\n",
       "      <td>0.120</td>\n",
       "    </tr>\n",
       "    <tr>\n",
       "      <th>158</th>\n",
       "      <td>0.94</td>\n",
       "      <td>0.944</td>\n",
       "      <td>0.084</td>\n",
       "    </tr>\n",
       "    <tr>\n",
       "      <th>159</th>\n",
       "      <td>0.95</td>\n",
       "      <td>0.952</td>\n",
       "      <td>0.049</td>\n",
       "    </tr>\n",
       "    <tr>\n",
       "      <th>160</th>\n",
       "      <td>0.98</td>\n",
       "      <td>1.000</td>\n",
       "      <td>0.015</td>\n",
       "    </tr>\n",
       "  </tbody>\n",
       "</table>\n",
       "<p>161 rows × 3 columns</p>\n",
       "</div>"
      ],
      "text/plain": [
       "      임곗값    정밀도    재현율\n",
       "0    0.00  0.169  1.000\n",
       "1    0.00  0.170  0.998\n",
       "2    0.00  0.170  0.995\n",
       "3    0.00  0.172  0.995\n",
       "4    0.00  0.173  0.995\n",
       "..    ...    ...    ...\n",
       "156  0.89  0.970  0.157\n",
       "157  0.91  0.961  0.120\n",
       "158  0.94  0.944  0.084\n",
       "159  0.95  0.952  0.049\n",
       "160  0.98  1.000  0.015\n",
       "\n",
       "[161 rows x 3 columns]"
      ]
     },
     "execution_count": 113,
     "metadata": {},
     "output_type": "execute_result"
    }
   ],
   "source": [
    "col_dict={'임곗값': np.round(thresholds[idx], 2),\n",
    "          '정밀도': np.round(precisions[idx], 3),\n",
    "          '재현율': np.round(recalls[idx], 3)}\n",
    "df_temp = pd.DataFrame(col_dict)\n",
    "df_temp"
   ]
  },
  {
   "cell_type": "code",
   "execution_count": 114,
   "id": "e2d5ac8f",
   "metadata": {
    "scrolled": true
   },
   "outputs": [
    {
     "data": {
      "image/png": "[encoded data removed]",
      "text/plain": [
       "<Figure size 576x432 with 1 Axes>"
      ]
     },
     "metadata": {
      "needs_background": "light"
     },
     "output_type": "display_data"
    }
   ],
   "source": [
    "precision_recall_curve_plot(y_test, lr_pred_proba)"
   ]
  },
  {
   "cell_type": "code",
   "execution_count": 115,
   "id": "17e22e49",
   "metadata": {
    "scrolled": true
   },
   "outputs": [
    {
     "name": "stdout",
     "output_type": "stream",
     "text": [
      "학습 데이터 레이블 값 비율\n",
      "Attrition_Flag\n",
      "0                 83.936801\n",
      "1                 16.063199\n",
      "dtype: float64\n",
      "테스트 데이터 레이블 값 비율\n",
      "Attrition_Flag\n",
      "0                 83.92575\n",
      "1                 16.07425\n",
      "dtype: float64\n"
     ]
    }
   ],
   "source": [
    "## 학습 데이터와 테스트 데이터 레이블 분포 확인\n",
    "print('학습 데이터 레이블 값 비율')\n",
    "print(y_train.value_counts()/y_train.shape[0] * 100)\n",
    "print('테스트 데이터 레이블 값 비율')\n",
    "print(y_test.value_counts()/y_test.shape[0] * 100)"
   ]
  },
  {
   "cell_type": "markdown",
   "id": "455a7470",
   "metadata": {},
   "source": [
    "### LGBM"
   ]
  },
  {
   "cell_type": "code",
   "execution_count": 116,
   "id": "8b6020c7",
   "metadata": {
    "scrolled": true
   },
   "outputs": [
    {
     "ename": "NameError",
     "evalue": "name 'get_model_train_eval' is not defined",
     "output_type": "error",
     "traceback": [
      "\u001b[1;31m---------------------------------------------------------------------------\u001b[0m",
      "\u001b[1;31mNameError\u001b[0m                                 Traceback (most recent call last)",
      "\u001b[1;32m<ipython-input-116-73c1b8736d1f>\u001b[0m in \u001b[0;36m<module>\u001b[1;34m\u001b[0m\n\u001b[0;32m      2\u001b[0m \u001b[1;33m\u001b[0m\u001b[0m\n\u001b[0;32m      3\u001b[0m \u001b[0mlgbm_clf\u001b[0m \u001b[1;33m=\u001b[0m \u001b[0mLGBMClassifier\u001b[0m\u001b[1;33m(\u001b[0m\u001b[0mn_estimators\u001b[0m \u001b[1;33m=\u001b[0m \u001b[1;36m1000\u001b[0m\u001b[1;33m,\u001b[0m \u001b[0mnum_leaves\u001b[0m \u001b[1;33m=\u001b[0m \u001b[1;36m64\u001b[0m\u001b[1;33m,\u001b[0m \u001b[0mn_jobs\u001b[0m \u001b[1;33m=\u001b[0m \u001b[1;33m-\u001b[0m\u001b[1;36m1\u001b[0m\u001b[1;33m,\u001b[0m \u001b[0mboost_from_average\u001b[0m \u001b[1;33m=\u001b[0m \u001b[1;32mFalse\u001b[0m\u001b[1;33m)\u001b[0m\u001b[1;33m\u001b[0m\u001b[1;33m\u001b[0m\u001b[0m\n\u001b[1;32m----> 4\u001b[1;33m \u001b[0mget_model_train_eval\u001b[0m\u001b[1;33m(\u001b[0m\u001b[0mlgbm_clf\u001b[0m\u001b[1;33m,\u001b[0m \u001b[0mftr_train\u001b[0m\u001b[1;33m=\u001b[0m\u001b[0mX_train\u001b[0m\u001b[1;33m,\u001b[0m \u001b[0mftr_test\u001b[0m\u001b[1;33m=\u001b[0m\u001b[0mX_test\u001b[0m\u001b[1;33m,\u001b[0m \u001b[0mtgt_train\u001b[0m\u001b[1;33m=\u001b[0m\u001b[0my_train\u001b[0m\u001b[1;33m,\u001b[0m \u001b[0mtgt_test\u001b[0m\u001b[1;33m=\u001b[0m\u001b[0my_test\u001b[0m\u001b[1;33m)\u001b[0m\u001b[1;33m\u001b[0m\u001b[1;33m\u001b[0m\u001b[0m\n\u001b[0m",
      "\u001b[1;31mNameError\u001b[0m: name 'get_model_train_eval' is not defined"
     ]
    }
   ],
   "source": [
    "from lightgbm import LGBMClassifier\n",
    "\n",
    "lgbm_clf = LGBMClassifier(n_estimators = 1000, num_leaves = 64, n_jobs = -1, boost_from_average = False)\n",
    "get_model_train_eval(lgbm_clf, ftr_train=X_train, ftr_test=X_test, tgt_train=y_train, tgt_test=y_test)"
   ]
  },
  {
   "cell_type": "code",
   "execution_count": 117,
   "id": "69906cc9",
   "metadata": {},
   "outputs": [
    {
     "name": "stdout",
     "output_type": "stream",
     "text": [
      "[1]\tvalid_0's binary_logloss: 0.393357\n",
      "Training until validation scores don't improve for 100 rounds\n",
      "[2]\tvalid_0's binary_logloss: 0.36189\n",
      "[3]\tvalid_0's binary_logloss: 0.336674\n",
      "[4]\tvalid_0's binary_logloss: 0.317892\n",
      "[5]\tvalid_0's binary_logloss: 0.302543\n",
      "[6]\tvalid_0's binary_logloss: 0.289785\n",
      "[7]\tvalid_0's binary_logloss: 0.278442\n",
      "[8]\tvalid_0's binary_logloss: 0.268781\n",
      "[9]\tvalid_0's binary_logloss: 0.260124\n",
      "[10]\tvalid_0's binary_logloss: 0.2525\n",
      "[11]\tvalid_0's binary_logloss: 0.246068\n",
      "[12]\tvalid_0's binary_logloss: 0.240281\n",
      "[13]\tvalid_0's binary_logloss: 0.23437\n",
      "[14]\tvalid_0's binary_logloss: 0.229837\n",
      "[15]\tvalid_0's binary_logloss: 0.225454\n",
      "[16]\tvalid_0's binary_logloss: 0.221981\n",
      "[17]\tvalid_0's binary_logloss: 0.218789\n",
      "[18]\tvalid_0's binary_logloss: 0.215839\n",
      "[19]\tvalid_0's binary_logloss: 0.211871\n",
      "[20]\tvalid_0's binary_logloss: 0.209401\n",
      "[21]\tvalid_0's binary_logloss: 0.207118\n",
      "[22]\tvalid_0's binary_logloss: 0.204722\n",
      "[23]\tvalid_0's binary_logloss: 0.202081\n",
      "[24]\tvalid_0's binary_logloss: 0.200351\n",
      "[25]\tvalid_0's binary_logloss: 0.199319\n",
      "[26]\tvalid_0's binary_logloss: 0.197627\n",
      "[27]\tvalid_0's binary_logloss: 0.196113\n",
      "[28]\tvalid_0's binary_logloss: 0.194665\n",
      "[29]\tvalid_0's binary_logloss: 0.193958\n",
      "[30]\tvalid_0's binary_logloss: 0.193065\n",
      "[31]\tvalid_0's binary_logloss: 0.192623\n",
      "[32]\tvalid_0's binary_logloss: 0.191908\n",
      "[33]\tvalid_0's binary_logloss: 0.190382\n",
      "[34]\tvalid_0's binary_logloss: 0.189567\n",
      "[35]\tvalid_0's binary_logloss: 0.188672\n",
      "[36]\tvalid_0's binary_logloss: 0.188319\n",
      "[37]\tvalid_0's binary_logloss: 0.187762\n",
      "[38]\tvalid_0's binary_logloss: 0.187183\n",
      "[39]\tvalid_0's binary_logloss: 0.186728\n",
      "[40]\tvalid_0's binary_logloss: 0.185929\n",
      "[41]\tvalid_0's binary_logloss: 0.185237\n",
      "[42]\tvalid_0's binary_logloss: 0.184957\n",
      "[43]\tvalid_0's binary_logloss: 0.184196\n",
      "[44]\tvalid_0's binary_logloss: 0.184242\n",
      "[45]\tvalid_0's binary_logloss: 0.183391\n",
      "[46]\tvalid_0's binary_logloss: 0.182925\n",
      "[47]\tvalid_0's binary_logloss: 0.182903\n",
      "[48]\tvalid_0's binary_logloss: 0.182441\n",
      "[49]\tvalid_0's binary_logloss: 0.181924\n",
      "[50]\tvalid_0's binary_logloss: 0.182087\n",
      "[51]\tvalid_0's binary_logloss: 0.181982\n",
      "[52]\tvalid_0's binary_logloss: 0.181726\n",
      "[53]\tvalid_0's binary_logloss: 0.181463\n",
      "[54]\tvalid_0's binary_logloss: 0.180714\n",
      "[55]\tvalid_0's binary_logloss: 0.179999\n",
      "[56]\tvalid_0's binary_logloss: 0.179657\n",
      "[57]\tvalid_0's binary_logloss: 0.179347\n",
      "[58]\tvalid_0's binary_logloss: 0.178848\n",
      "[59]\tvalid_0's binary_logloss: 0.178486\n",
      "[60]\tvalid_0's binary_logloss: 0.178474\n",
      "[61]\tvalid_0's binary_logloss: 0.178349\n",
      "[62]\tvalid_0's binary_logloss: 0.178231\n",
      "[63]\tvalid_0's binary_logloss: 0.177874\n",
      "[64]\tvalid_0's binary_logloss: 0.177718\n",
      "[65]\tvalid_0's binary_logloss: 0.177515\n",
      "[66]\tvalid_0's binary_logloss: 0.177653\n",
      "[67]\tvalid_0's binary_logloss: 0.177573\n",
      "[68]\tvalid_0's binary_logloss: 0.17708\n",
      "[69]\tvalid_0's binary_logloss: 0.176752\n",
      "[70]\tvalid_0's binary_logloss: 0.176857\n",
      "[71]\tvalid_0's binary_logloss: 0.176715\n",
      "[72]\tvalid_0's binary_logloss: 0.176499\n",
      "[73]\tvalid_0's binary_logloss: 0.176799\n",
      "[74]\tvalid_0's binary_logloss: 0.176854\n",
      "[75]\tvalid_0's binary_logloss: 0.176442\n",
      "[76]\tvalid_0's binary_logloss: 0.175605\n",
      "[77]\tvalid_0's binary_logloss: 0.17539\n",
      "[78]\tvalid_0's binary_logloss: 0.175567\n",
      "[79]\tvalid_0's binary_logloss: 0.175283\n",
      "[80]\tvalid_0's binary_logloss: 0.175304\n",
      "[81]\tvalid_0's binary_logloss: 0.175213\n",
      "[82]\tvalid_0's binary_logloss: 0.175103\n",
      "[83]\tvalid_0's binary_logloss: 0.175315\n",
      "[84]\tvalid_0's binary_logloss: 0.175466\n",
      "[85]\tvalid_0's binary_logloss: 0.175821\n",
      "[86]\tvalid_0's binary_logloss: 0.175711\n",
      "[87]\tvalid_0's binary_logloss: 0.175798\n",
      "[88]\tvalid_0's binary_logloss: 0.175894\n",
      "[89]\tvalid_0's binary_logloss: 0.175764\n",
      "[90]\tvalid_0's binary_logloss: 0.175808\n",
      "[91]\tvalid_0's binary_logloss: 0.175954\n",
      "[92]\tvalid_0's binary_logloss: 0.176122\n",
      "[93]\tvalid_0's binary_logloss: 0.176078\n",
      "[94]\tvalid_0's binary_logloss: 0.176324\n",
      "[95]\tvalid_0's binary_logloss: 0.176443\n",
      "[96]\tvalid_0's binary_logloss: 0.176439\n",
      "[97]\tvalid_0's binary_logloss: 0.176286\n",
      "[98]\tvalid_0's binary_logloss: 0.176272\n",
      "[99]\tvalid_0's binary_logloss: 0.176392\n",
      "[100]\tvalid_0's binary_logloss: 0.176197\n",
      "[101]\tvalid_0's binary_logloss: 0.17643\n",
      "[102]\tvalid_0's binary_logloss: 0.176287\n",
      "[103]\tvalid_0's binary_logloss: 0.176192\n",
      "[104]\tvalid_0's binary_logloss: 0.176221\n",
      "[105]\tvalid_0's binary_logloss: 0.176364\n",
      "[106]\tvalid_0's binary_logloss: 0.176603\n",
      "[107]\tvalid_0's binary_logloss: 0.176733\n",
      "[108]\tvalid_0's binary_logloss: 0.176768\n",
      "[109]\tvalid_0's binary_logloss: 0.177053\n",
      "[110]\tvalid_0's binary_logloss: 0.176742\n",
      "[111]\tvalid_0's binary_logloss: 0.176947\n",
      "[112]\tvalid_0's binary_logloss: 0.17692\n",
      "[113]\tvalid_0's binary_logloss: 0.177139\n",
      "[114]\tvalid_0's binary_logloss: 0.176994\n",
      "[115]\tvalid_0's binary_logloss: 0.177268\n",
      "[116]\tvalid_0's binary_logloss: 0.177406\n",
      "[117]\tvalid_0's binary_logloss: 0.177116\n",
      "[118]\tvalid_0's binary_logloss: 0.177126\n",
      "[119]\tvalid_0's binary_logloss: 0.177325\n",
      "[120]\tvalid_0's binary_logloss: 0.177643\n",
      "[121]\tvalid_0's binary_logloss: 0.177414\n",
      "[122]\tvalid_0's binary_logloss: 0.177813\n",
      "[123]\tvalid_0's binary_logloss: 0.178075\n",
      "[124]\tvalid_0's binary_logloss: 0.178441\n",
      "[125]\tvalid_0's binary_logloss: 0.178746\n",
      "[126]\tvalid_0's binary_logloss: 0.178764\n",
      "[127]\tvalid_0's binary_logloss: 0.178709\n",
      "[128]\tvalid_0's binary_logloss: 0.179027\n",
      "[129]\tvalid_0's binary_logloss: 0.179403\n",
      "[130]\tvalid_0's binary_logloss: 0.179725\n",
      "[131]\tvalid_0's binary_logloss: 0.180247\n",
      "[132]\tvalid_0's binary_logloss: 0.180619\n",
      "[133]\tvalid_0's binary_logloss: 0.180825\n",
      "[134]\tvalid_0's binary_logloss: 0.181341\n",
      "[135]\tvalid_0's binary_logloss: 0.181556\n",
      "[136]\tvalid_0's binary_logloss: 0.181511\n",
      "[137]\tvalid_0's binary_logloss: 0.181657\n",
      "[138]\tvalid_0's binary_logloss: 0.181792\n",
      "[139]\tvalid_0's binary_logloss: 0.182185\n",
      "[140]\tvalid_0's binary_logloss: 0.182286\n",
      "[141]\tvalid_0's binary_logloss: 0.182353\n",
      "[142]\tvalid_0's binary_logloss: 0.182512\n",
      "[143]\tvalid_0's binary_logloss: 0.182143\n",
      "[144]\tvalid_0's binary_logloss: 0.18242\n",
      "[145]\tvalid_0's binary_logloss: 0.182418\n",
      "[146]\tvalid_0's binary_logloss: 0.182641\n",
      "[147]\tvalid_0's binary_logloss: 0.182697\n",
      "[148]\tvalid_0's binary_logloss: 0.182863\n",
      "[149]\tvalid_0's binary_logloss: 0.182926\n",
      "[150]\tvalid_0's binary_logloss: 0.182949\n",
      "[151]\tvalid_0's binary_logloss: 0.183033\n",
      "[152]\tvalid_0's binary_logloss: 0.182859\n",
      "[153]\tvalid_0's binary_logloss: 0.183077\n",
      "[154]\tvalid_0's binary_logloss: 0.183457\n",
      "[155]\tvalid_0's binary_logloss: 0.183424\n",
      "[156]\tvalid_0's binary_logloss: 0.183708\n",
      "[157]\tvalid_0's binary_logloss: 0.183778\n",
      "[158]\tvalid_0's binary_logloss: 0.184015\n",
      "[159]\tvalid_0's binary_logloss: 0.184089\n",
      "[160]\tvalid_0's binary_logloss: 0.184354\n",
      "[161]\tvalid_0's binary_logloss: 0.184733\n",
      "[162]\tvalid_0's binary_logloss: 0.185058\n",
      "[163]\tvalid_0's binary_logloss: 0.185538\n",
      "[164]\tvalid_0's binary_logloss: 0.185976\n",
      "[165]\tvalid_0's binary_logloss: 0.186036\n",
      "[166]\tvalid_0's binary_logloss: 0.186422\n",
      "[167]\tvalid_0's binary_logloss: 0.186739\n",
      "[168]\tvalid_0's binary_logloss: 0.186816\n",
      "[169]\tvalid_0's binary_logloss: 0.187147\n",
      "[170]\tvalid_0's binary_logloss: 0.187528\n",
      "[171]\tvalid_0's binary_logloss: 0.187408\n",
      "[172]\tvalid_0's binary_logloss: 0.187615\n",
      "[173]\tvalid_0's binary_logloss: 0.188201\n",
      "[174]\tvalid_0's binary_logloss: 0.188417\n",
      "[175]\tvalid_0's binary_logloss: 0.188472\n",
      "[176]\tvalid_0's binary_logloss: 0.188739\n",
      "[177]\tvalid_0's binary_logloss: 0.18869\n",
      "[178]\tvalid_0's binary_logloss: 0.189094\n",
      "[179]\tvalid_0's binary_logloss: 0.189324\n",
      "[180]\tvalid_0's binary_logloss: 0.18963\n",
      "[181]\tvalid_0's binary_logloss: 0.189915\n",
      "[182]\tvalid_0's binary_logloss: 0.189919\n",
      "Early stopping, best iteration is:\n",
      "[82]\tvalid_0's binary_logloss: 0.175103\n"
     ]
    },
    {
     "name": "stderr",
     "output_type": "stream",
     "text": [
      "C:\\ProgramData\\Anaconda3\\lib\\site-packages\\sklearn\\utils\\validation.py:63: DataConversionWarning: A column-vector y was passed when a 1d array was expected. Please change the shape of y to (n_samples, ), for example using ravel().\n",
      "  return f(*args, **kwargs)\n"
     ]
    },
    {
     "data": {
      "text/plain": [
       "LGBMClassifier(n_estimators=400)"
      ]
     },
     "execution_count": 117,
     "metadata": {},
     "output_type": "execute_result"
    }
   ],
   "source": [
    "lgbm_wrapper = LGBMClassifier(n_estimators = 400)\n",
    "\n",
    "evals = [(X_test, y_test)]\n",
    "\n",
    "# 학습 : 조기 중단 수행 가능(XGBoost와 동일)\n",
    "\n",
    "lgbm_wrapper.fit(X_train, y_train, early_stopping_rounds=100,\n",
    "                eval_metric='logloss', eval_set=evals, verbose=True)\n",
    "\n",
    "# 예측\n",
    "preds = lgbm_wrapper.predict(X_test)\n",
    "pred_proba = lgbm_wrapper.predict_proba(X_test)[:, 1]"
   ]
  },
  {
   "cell_type": "code",
   "execution_count": null,
   "id": "bb9c74d5",
   "metadata": {},
   "outputs": [],
   "source": [
    "get_clf_eval(y_test, preds, pred_proba)"
   ]
  }
 ],
 "metadata": {
  "kernelspec": {
   "display_name": "Python 3",
   "language": "python",
   "name": "python3"
  },
  "language_info": {
   "codemirror_mode": {
    "name": "ipython",
    "version": 3
   },
   "file_extension": ".py",
   "mimetype": "text/x-python",
   "name": "python",
   "nbconvert_exporter": "python",
   "pygments_lexer": "ipython3",
   "version": "3.8.8"
  }
 },
 "nbformat": 4,
 "nbformat_minor": 5
}
