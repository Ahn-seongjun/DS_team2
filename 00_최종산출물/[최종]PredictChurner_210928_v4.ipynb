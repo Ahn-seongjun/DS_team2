{
 "cells": [
  {
   "cell_type": "markdown",
   "id": "267c5463",
   "metadata": {},
   "source": [
    "### 머신러닝 기반 카드 이탈고객 예측\n",
    "     1. 개요\n",
    "     2. 데이터 수집\n",
    "     3. 데이터 확인 및 시각화\n",
    "     4. 데이터 전처리 및 피쳐 엔지니어링\n",
    "         (1) 타겟 데이터 전처리\n",
    "         (2) 피처 데이터 전처리 \n",
    "         (3) 피처 데이터 변수 선택\n",
    "         (4) 피처 엔지니어링\n",
    "     5. 모델링\n",
    "         (1) 지도학습\n",
    "         (2) 군집화\n",
    "     6. 테스팅"
   ]
  },
  {
   "cell_type": "code",
   "execution_count": null,
   "id": "dba78033",
   "metadata": {},
   "outputs": [],
   "source": []
  },
  {
   "cell_type": "code",
   "execution_count": null,
   "id": "71de0963",
   "metadata": {},
   "outputs": [],
   "source": []
  },
  {
   "cell_type": "markdown",
   "id": "846c79fa",
   "metadata": {},
   "source": [
    "## 1. 개요\n",
    "\n",
    "- 카드 회사들은 고객 유치를 위해 많은 프로모션을 진행\n",
    "- 새로운 고객을 유치하는 것보다 기존 고객을 유지하는 것이 경제적 효과큼\n",
    "- 기존 고객의 이탈 여부를 사전에 예측 가능한 모델 구축"
   ]
  },
  {
   "cell_type": "code",
   "execution_count": null,
   "id": "dab50c36",
   "metadata": {},
   "outputs": [],
   "source": []
  },
  {
   "cell_type": "code",
   "execution_count": null,
   "id": "82228ded",
   "metadata": {},
   "outputs": [],
   "source": []
  },
  {
   "cell_type": "markdown",
   "id": "c6989ecc",
   "metadata": {},
   "source": [
    "## 2. 데이터 수집\n",
    "\n",
    "- 데이터 출처 (링크 [kaggle](https://www.kaggle.com/sakshigoyal7/credit-card-customers))\n",
    "- 은행의 고객 중에서 신용카드 고객 이탈자에 대한 자료\n",
    "- 이탈 고객의 16.07%만 자료를 가지고 있어서 한계가 있는 데이터임\n",
    "- 연령, 급여, 결혼 여부, 신용카드 한도, 신용카드 등급 등 여러 정보를 가지고 이탈 고객 분석"
   ]
  },
  {
   "cell_type": "code",
   "execution_count": null,
   "id": "7deafdb1",
   "metadata": {},
   "outputs": [],
   "source": []
  },
  {
   "cell_type": "markdown",
   "id": "507cf60a",
   "metadata": {},
   "source": [
    "## 3. 데이터 확인 및 시각화"
   ]
  },
  {
   "cell_type": "markdown",
   "id": "9dc659ea",
   "metadata": {},
   "source": [
    "**모듈 임포트**"
   ]
  },
  {
   "cell_type": "code",
   "execution_count": 1,
   "id": "0d195ffa",
   "metadata": {},
   "outputs": [],
   "source": [
    "import pandas as pd # 데이터 핸들링 \n",
    "import numpy as np \n",
    "import matplotlib.pyplot as plt # 데이터 시각화 \n",
    "%matplotlib inline\n",
    "import seaborn as sns # 데이터 시각화(고급분석)"
   ]
  },
  {
   "cell_type": "code",
   "execution_count": 2,
   "id": "8a8d56b3",
   "metadata": {},
   "outputs": [],
   "source": [
    "from IPython.core.interactiveshell import InteractiveShell\n",
    "InteractiveShell.ast_node_interactivity=\"all\" "
   ]
  },
  {
   "cell_type": "code",
   "execution_count": 3,
   "id": "132b8330",
   "metadata": {},
   "outputs": [],
   "source": [
    "import platform\n",
    "\n",
    "from matplotlib import font_manager, rc\n",
    "plt.rcParams['axes.unicode_minus'] = False\n",
    "\n",
    "if platform.system() == 'Windows':  # 윈도우\n",
    "    path = \"c:/Windows/Fonts/malgun.ttf\"\n",
    "    font_name = font_manager.FontProperties(fname=path).get_name()\n",
    "    rc('font', family=font_name)\n",
    "else:\n",
    "    print('Unknown system...  sorry~~~')"
   ]
  },
  {
   "cell_type": "code",
   "execution_count": null,
   "id": "0a015697",
   "metadata": {},
   "outputs": [],
   "source": []
  },
  {
   "cell_type": "markdown",
   "id": "c42f301c",
   "metadata": {},
   "source": [
    "**데이터 불러오기**\n",
    "- 데이터명 : **df**\n",
    "- 경로 :  **\"./data/BankChurners.csv\"**로 통일하였다."
   ]
  },
  {
   "cell_type": "code",
   "execution_count": 4,
   "id": "35ad9745",
   "metadata": {},
   "outputs": [],
   "source": [
    "df = pd.read_csv(\"./data/BankChurners.csv\")\n",
    "## 불필요한 열 2개 제거\n",
    "df = df.iloc[:,:-2]"
   ]
  },
  {
   "cell_type": "code",
   "execution_count": 5,
   "id": "a4f57073",
   "metadata": {
    "scrolled": true
   },
   "outputs": [
    {
     "data": {
      "text/plain": [
       "Index(['CLIENTNUM', 'Attrition_Flag', 'Customer_Age', 'Gender',\n",
       "       'Dependent_count', 'Education_Level', 'Marital_Status',\n",
       "       'Income_Category', 'Card_Category', 'Months_on_book',\n",
       "       'Total_Relationship_Count', 'Months_Inactive_12_mon',\n",
       "       'Contacts_Count_12_mon', 'Credit_Limit', 'Total_Revolving_Bal',\n",
       "       'Avg_Open_To_Buy', 'Total_Amt_Chng_Q4_Q1', 'Total_Trans_Amt',\n",
       "       'Total_Trans_Ct', 'Total_Ct_Chng_Q4_Q1', 'Avg_Utilization_Ratio'],\n",
       "      dtype='object')"
      ]
     },
     "execution_count": 5,
     "metadata": {},
     "output_type": "execute_result"
    }
   ],
   "source": [
    "df.keys()"
   ]
  },
  {
   "cell_type": "markdown",
   "id": "dbf04dc5",
   "metadata": {},
   "source": [
    "####  데이터 정보\n",
    "- ~'CLIENTNUM' : 고객 식별 번호~\n",
    "- 'Attrition_Flag' : 신용 카드 이탈 여부 **``Target 값``**\n",
    "    - Existing Customer : 잔류\n",
    "    - Attrited Customer : 이탈\n",
    "- 'Customer_Age' : 고객 나이\n",
    "- 'Gender' : 성별\n",
    "- 'Dependent_count' : 부양 가족 수\n",
    "- 'Education_Level' : 학력 수준\n",
    "- 'Marital_Status' : 결혼 여부\n",
    "- 'Income_Category' : 연 소득 구간\n",
    "- 'Card_Category' : 카드 등급\n",
    "- 'Months_on_book' : 카드 할부 기간\n",
    "- 'Total_Relationship_Count' : 가입 상품 수\n",
    "- 'Months_Inactive_12_mon' : 1년 동안 카드 결재 내역이 없는 비활성 기간(개월)\n",
    "- 'Contacts_Count_12_mon' : 연락 빈도\n",
    "- 'Credit_Limit' : 신용 한도\n",
    "- 'Total_Revolving_Bal' : 할부 잔액\n",
    "- ~'Avg_Open_To_Buy' : 평균 실 사용 가능 금액 :  'Credit_Limit' -  'Total_Revolving_Bal'~\n",
    "- ~'Total_Amt_Chng_Q4_Q1'~ : 결제 대금 기준 1분기 대비 4분기 (비율) \n",
    "- ~'Total_Trans_Amt'~ : 실제 사용 총액\n",
    "- 'Total_Trans_Ct' : 실제 사용 횟수\n",
    "- 'Total_Ct_Chng_Q4_Q1' : 1분기 대비 4분기 결제 대금 횟수 비율\n",
    "- ~'Avg_Utilization_Ratio' : 'Total_Revolving_Bal'/ 'Credit_Limit' (할부 비율)~"
   ]
  },
  {
   "cell_type": "markdown",
   "id": "d109e2bf",
   "metadata": {},
   "source": [
    "#### 변수 정보\n",
    "\n",
    "| 변수명                   | 변수형태 | 구분     |\n",
    "| :------------------------: | :--------: | :--------: |\n",
    "| CLIENTNUM                | INT      | 피처변수 |\n",
    "| Customer_Age             | INT      | 피처변수 |\n",
    "| Gender                   | Object   | 피처변수 |\n",
    "| Dependent_count          | INT      | 피처변수 |\n",
    "| Education_Level          | Object   | 피처변수 |\n",
    "| Marital_Status           | Object   | 피처변수 |\n",
    "| Income_Category          | Object   | 피처변수 |\n",
    "| Card_Category            | Object   | 피처변수 |\n",
    "| Months_on_book           | INT      | 피처변수 |\n",
    "| Total_Relationship_Count | INT      | 피처변수 |\n",
    "| Months_Inactive_12_mon   | INT      | 피처변수 |\n",
    "| Contacts_Count_12_mon    | INT      | 피처변수 |\n",
    "| Credit_Limit             | INT      | 피처변수 |\n",
    "| Total_Revolving_Bal      | INT      | 피처변수 |\n",
    "| Avg_Open_To_Buy          | INT      | 피처변수 |\n",
    "| Total_Amt_Chng_Q4_Q1     | INT      | 피처변수 |\n",
    "| Total_Trans_Amt          | INT      | 피처변수 |\n",
    "| Total_Trans_Ct           | INT      | 피처변수 |\n",
    "| Total_Ct_Chng_Q4_Q1      | INT      | 피처변수 |\n",
    "| Avg_Utilization_Ratio    | INT      | 피처변수 |"
   ]
  },
  {
   "cell_type": "code",
   "execution_count": null,
   "id": "e522bba4",
   "metadata": {},
   "outputs": [],
   "source": []
  },
  {
   "cell_type": "markdown",
   "id": "67f3e6a7",
   "metadata": {},
   "source": [
    "**데이터 확인**"
   ]
  },
  {
   "cell_type": "code",
   "execution_count": 6,
   "id": "059e31dc",
   "metadata": {},
   "outputs": [
    {
     "name": "stdout",
     "output_type": "stream",
     "text": [
      "<class 'pandas.core.frame.DataFrame'>\n",
      "RangeIndex: 10127 entries, 0 to 10126\n",
      "Data columns (total 21 columns):\n",
      " #   Column                    Non-Null Count  Dtype  \n",
      "---  ------                    --------------  -----  \n",
      " 0   CLIENTNUM                 10127 non-null  int64  \n",
      " 1   Attrition_Flag            10127 non-null  object \n",
      " 2   Customer_Age              10127 non-null  int64  \n",
      " 3   Gender                    10127 non-null  object \n",
      " 4   Dependent_count           10127 non-null  int64  \n",
      " 5   Education_Level           10127 non-null  object \n",
      " 6   Marital_Status            10127 non-null  object \n",
      " 7   Income_Category           10127 non-null  object \n",
      " 8   Card_Category             10127 non-null  object \n",
      " 9   Months_on_book            10127 non-null  int64  \n",
      " 10  Total_Relationship_Count  10127 non-null  int64  \n",
      " 11  Months_Inactive_12_mon    10127 non-null  int64  \n",
      " 12  Contacts_Count_12_mon     10127 non-null  int64  \n",
      " 13  Credit_Limit              10127 non-null  float64\n",
      " 14  Total_Revolving_Bal       10127 non-null  int64  \n",
      " 15  Avg_Open_To_Buy           10127 non-null  float64\n",
      " 16  Total_Amt_Chng_Q4_Q1      10127 non-null  float64\n",
      " 17  Total_Trans_Amt           10127 non-null  int64  \n",
      " 18  Total_Trans_Ct            10127 non-null  int64  \n",
      " 19  Total_Ct_Chng_Q4_Q1       10127 non-null  float64\n",
      " 20  Avg_Utilization_Ratio     10127 non-null  float64\n",
      "dtypes: float64(5), int64(10), object(6)\n",
      "memory usage: 1.6+ MB\n"
     ]
    }
   ],
   "source": [
    "## 데이터 유형 및 결측치 확인\n",
    "df.info()"
   ]
  },
  {
   "cell_type": "code",
   "execution_count": 7,
   "id": "fc540909",
   "metadata": {},
   "outputs": [
    {
     "data": {
      "text/html": [
       "<div>\n",
       "<style scoped>\n",
       "    .dataframe tbody tr th:only-of-type {\n",
       "        vertical-align: middle;\n",
       "    }\n",
       "\n",
       "    .dataframe tbody tr th {\n",
       "        vertical-align: top;\n",
       "    }\n",
       "\n",
       "    .dataframe thead th {\n",
       "        text-align: right;\n",
       "    }\n",
       "</style>\n",
       "<table border=\"1\" class=\"dataframe\">\n",
       "  <thead>\n",
       "    <tr style=\"text-align: right;\">\n",
       "      <th></th>\n",
       "      <th>CLIENTNUM</th>\n",
       "      <th>Attrition_Flag</th>\n",
       "      <th>Customer_Age</th>\n",
       "      <th>Gender</th>\n",
       "      <th>Dependent_count</th>\n",
       "      <th>Education_Level</th>\n",
       "      <th>Marital_Status</th>\n",
       "      <th>Income_Category</th>\n",
       "      <th>Card_Category</th>\n",
       "      <th>Months_on_book</th>\n",
       "      <th>...</th>\n",
       "      <th>Months_Inactive_12_mon</th>\n",
       "      <th>Contacts_Count_12_mon</th>\n",
       "      <th>Credit_Limit</th>\n",
       "      <th>Total_Revolving_Bal</th>\n",
       "      <th>Avg_Open_To_Buy</th>\n",
       "      <th>Total_Amt_Chng_Q4_Q1</th>\n",
       "      <th>Total_Trans_Amt</th>\n",
       "      <th>Total_Trans_Ct</th>\n",
       "      <th>Total_Ct_Chng_Q4_Q1</th>\n",
       "      <th>Avg_Utilization_Ratio</th>\n",
       "    </tr>\n",
       "  </thead>\n",
       "  <tbody>\n",
       "    <tr>\n",
       "      <th>0</th>\n",
       "      <td>768805383</td>\n",
       "      <td>Existing Customer</td>\n",
       "      <td>45</td>\n",
       "      <td>M</td>\n",
       "      <td>3</td>\n",
       "      <td>High School</td>\n",
       "      <td>Married</td>\n",
       "      <td>$60K - $80K</td>\n",
       "      <td>Blue</td>\n",
       "      <td>39</td>\n",
       "      <td>...</td>\n",
       "      <td>1</td>\n",
       "      <td>3</td>\n",
       "      <td>12691.0</td>\n",
       "      <td>777</td>\n",
       "      <td>11914.0</td>\n",
       "      <td>1.335</td>\n",
       "      <td>1144</td>\n",
       "      <td>42</td>\n",
       "      <td>1.625</td>\n",
       "      <td>0.061</td>\n",
       "    </tr>\n",
       "    <tr>\n",
       "      <th>1</th>\n",
       "      <td>818770008</td>\n",
       "      <td>Existing Customer</td>\n",
       "      <td>49</td>\n",
       "      <td>F</td>\n",
       "      <td>5</td>\n",
       "      <td>Graduate</td>\n",
       "      <td>Single</td>\n",
       "      <td>Less than $40K</td>\n",
       "      <td>Blue</td>\n",
       "      <td>44</td>\n",
       "      <td>...</td>\n",
       "      <td>1</td>\n",
       "      <td>2</td>\n",
       "      <td>8256.0</td>\n",
       "      <td>864</td>\n",
       "      <td>7392.0</td>\n",
       "      <td>1.541</td>\n",
       "      <td>1291</td>\n",
       "      <td>33</td>\n",
       "      <td>3.714</td>\n",
       "      <td>0.105</td>\n",
       "    </tr>\n",
       "    <tr>\n",
       "      <th>2</th>\n",
       "      <td>713982108</td>\n",
       "      <td>Existing Customer</td>\n",
       "      <td>51</td>\n",
       "      <td>M</td>\n",
       "      <td>3</td>\n",
       "      <td>Graduate</td>\n",
       "      <td>Married</td>\n",
       "      <td>$80K - $120K</td>\n",
       "      <td>Blue</td>\n",
       "      <td>36</td>\n",
       "      <td>...</td>\n",
       "      <td>1</td>\n",
       "      <td>0</td>\n",
       "      <td>3418.0</td>\n",
       "      <td>0</td>\n",
       "      <td>3418.0</td>\n",
       "      <td>2.594</td>\n",
       "      <td>1887</td>\n",
       "      <td>20</td>\n",
       "      <td>2.333</td>\n",
       "      <td>0.000</td>\n",
       "    </tr>\n",
       "    <tr>\n",
       "      <th>3</th>\n",
       "      <td>769911858</td>\n",
       "      <td>Existing Customer</td>\n",
       "      <td>40</td>\n",
       "      <td>F</td>\n",
       "      <td>4</td>\n",
       "      <td>High School</td>\n",
       "      <td>Unknown</td>\n",
       "      <td>Less than $40K</td>\n",
       "      <td>Blue</td>\n",
       "      <td>34</td>\n",
       "      <td>...</td>\n",
       "      <td>4</td>\n",
       "      <td>1</td>\n",
       "      <td>3313.0</td>\n",
       "      <td>2517</td>\n",
       "      <td>796.0</td>\n",
       "      <td>1.405</td>\n",
       "      <td>1171</td>\n",
       "      <td>20</td>\n",
       "      <td>2.333</td>\n",
       "      <td>0.760</td>\n",
       "    </tr>\n",
       "    <tr>\n",
       "      <th>4</th>\n",
       "      <td>709106358</td>\n",
       "      <td>Existing Customer</td>\n",
       "      <td>40</td>\n",
       "      <td>M</td>\n",
       "      <td>3</td>\n",
       "      <td>Uneducated</td>\n",
       "      <td>Married</td>\n",
       "      <td>$60K - $80K</td>\n",
       "      <td>Blue</td>\n",
       "      <td>21</td>\n",
       "      <td>...</td>\n",
       "      <td>1</td>\n",
       "      <td>0</td>\n",
       "      <td>4716.0</td>\n",
       "      <td>0</td>\n",
       "      <td>4716.0</td>\n",
       "      <td>2.175</td>\n",
       "      <td>816</td>\n",
       "      <td>28</td>\n",
       "      <td>2.500</td>\n",
       "      <td>0.000</td>\n",
       "    </tr>\n",
       "  </tbody>\n",
       "</table>\n",
       "<p>5 rows × 21 columns</p>\n",
       "</div>"
      ],
      "text/plain": [
       "   CLIENTNUM     Attrition_Flag  Customer_Age Gender  Dependent_count  \\\n",
       "0  768805383  Existing Customer            45      M                3   \n",
       "1  818770008  Existing Customer            49      F                5   \n",
       "2  713982108  Existing Customer            51      M                3   \n",
       "3  769911858  Existing Customer            40      F                4   \n",
       "4  709106358  Existing Customer            40      M                3   \n",
       "\n",
       "  Education_Level Marital_Status Income_Category Card_Category  \\\n",
       "0     High School        Married     $60K - $80K          Blue   \n",
       "1        Graduate         Single  Less than $40K          Blue   \n",
       "2        Graduate        Married    $80K - $120K          Blue   \n",
       "3     High School        Unknown  Less than $40K          Blue   \n",
       "4      Uneducated        Married     $60K - $80K          Blue   \n",
       "\n",
       "   Months_on_book  ...  Months_Inactive_12_mon  Contacts_Count_12_mon  \\\n",
       "0              39  ...                       1                      3   \n",
       "1              44  ...                       1                      2   \n",
       "2              36  ...                       1                      0   \n",
       "3              34  ...                       4                      1   \n",
       "4              21  ...                       1                      0   \n",
       "\n",
       "   Credit_Limit  Total_Revolving_Bal  Avg_Open_To_Buy  Total_Amt_Chng_Q4_Q1  \\\n",
       "0       12691.0                  777          11914.0                 1.335   \n",
       "1        8256.0                  864           7392.0                 1.541   \n",
       "2        3418.0                    0           3418.0                 2.594   \n",
       "3        3313.0                 2517            796.0                 1.405   \n",
       "4        4716.0                    0           4716.0                 2.175   \n",
       "\n",
       "   Total_Trans_Amt  Total_Trans_Ct  Total_Ct_Chng_Q4_Q1  Avg_Utilization_Ratio  \n",
       "0             1144              42                1.625                  0.061  \n",
       "1             1291              33                3.714                  0.105  \n",
       "2             1887              20                2.333                  0.000  \n",
       "3             1171              20                2.333                  0.760  \n",
       "4              816              28                2.500                  0.000  \n",
       "\n",
       "[5 rows x 21 columns]"
      ]
     },
     "execution_count": 7,
     "metadata": {},
     "output_type": "execute_result"
    }
   ],
   "source": [
    "df.head()"
   ]
  },
  {
   "cell_type": "code",
   "execution_count": 8,
   "id": "6a31e00f",
   "metadata": {},
   "outputs": [
    {
     "data": {
      "text/html": [
       "<div>\n",
       "<style scoped>\n",
       "    .dataframe tbody tr th:only-of-type {\n",
       "        vertical-align: middle;\n",
       "    }\n",
       "\n",
       "    .dataframe tbody tr th {\n",
       "        vertical-align: top;\n",
       "    }\n",
       "\n",
       "    .dataframe thead th {\n",
       "        text-align: right;\n",
       "    }\n",
       "</style>\n",
       "<table border=\"1\" class=\"dataframe\">\n",
       "  <thead>\n",
       "    <tr style=\"text-align: right;\">\n",
       "      <th></th>\n",
       "      <th>CLIENTNUM</th>\n",
       "      <th>Customer_Age</th>\n",
       "      <th>Dependent_count</th>\n",
       "      <th>Months_on_book</th>\n",
       "      <th>Total_Relationship_Count</th>\n",
       "      <th>Months_Inactive_12_mon</th>\n",
       "      <th>Contacts_Count_12_mon</th>\n",
       "      <th>Credit_Limit</th>\n",
       "      <th>Total_Revolving_Bal</th>\n",
       "      <th>Avg_Open_To_Buy</th>\n",
       "      <th>Total_Amt_Chng_Q4_Q1</th>\n",
       "      <th>Total_Trans_Amt</th>\n",
       "      <th>Total_Trans_Ct</th>\n",
       "      <th>Total_Ct_Chng_Q4_Q1</th>\n",
       "      <th>Avg_Utilization_Ratio</th>\n",
       "    </tr>\n",
       "  </thead>\n",
       "  <tbody>\n",
       "    <tr>\n",
       "      <th>count</th>\n",
       "      <td>1.012700e+04</td>\n",
       "      <td>10127.000000</td>\n",
       "      <td>10127.000000</td>\n",
       "      <td>10127.000000</td>\n",
       "      <td>10127.000000</td>\n",
       "      <td>10127.000000</td>\n",
       "      <td>10127.000000</td>\n",
       "      <td>10127.000000</td>\n",
       "      <td>10127.000000</td>\n",
       "      <td>10127.000000</td>\n",
       "      <td>10127.000000</td>\n",
       "      <td>10127.000000</td>\n",
       "      <td>10127.000000</td>\n",
       "      <td>10127.000000</td>\n",
       "      <td>10127.000000</td>\n",
       "    </tr>\n",
       "    <tr>\n",
       "      <th>mean</th>\n",
       "      <td>7.391776e+08</td>\n",
       "      <td>46.325960</td>\n",
       "      <td>2.346203</td>\n",
       "      <td>35.928409</td>\n",
       "      <td>3.812580</td>\n",
       "      <td>2.341167</td>\n",
       "      <td>2.455317</td>\n",
       "      <td>8631.953698</td>\n",
       "      <td>1162.814061</td>\n",
       "      <td>7469.139637</td>\n",
       "      <td>0.759941</td>\n",
       "      <td>4404.086304</td>\n",
       "      <td>64.858695</td>\n",
       "      <td>0.712222</td>\n",
       "      <td>0.274894</td>\n",
       "    </tr>\n",
       "    <tr>\n",
       "      <th>std</th>\n",
       "      <td>3.690378e+07</td>\n",
       "      <td>8.016814</td>\n",
       "      <td>1.298908</td>\n",
       "      <td>7.986416</td>\n",
       "      <td>1.554408</td>\n",
       "      <td>1.010622</td>\n",
       "      <td>1.106225</td>\n",
       "      <td>9088.776650</td>\n",
       "      <td>814.987335</td>\n",
       "      <td>9090.685324</td>\n",
       "      <td>0.219207</td>\n",
       "      <td>3397.129254</td>\n",
       "      <td>23.472570</td>\n",
       "      <td>0.238086</td>\n",
       "      <td>0.275691</td>\n",
       "    </tr>\n",
       "    <tr>\n",
       "      <th>min</th>\n",
       "      <td>7.080821e+08</td>\n",
       "      <td>26.000000</td>\n",
       "      <td>0.000000</td>\n",
       "      <td>13.000000</td>\n",
       "      <td>1.000000</td>\n",
       "      <td>0.000000</td>\n",
       "      <td>0.000000</td>\n",
       "      <td>1438.300000</td>\n",
       "      <td>0.000000</td>\n",
       "      <td>3.000000</td>\n",
       "      <td>0.000000</td>\n",
       "      <td>510.000000</td>\n",
       "      <td>10.000000</td>\n",
       "      <td>0.000000</td>\n",
       "      <td>0.000000</td>\n",
       "    </tr>\n",
       "    <tr>\n",
       "      <th>25%</th>\n",
       "      <td>7.130368e+08</td>\n",
       "      <td>41.000000</td>\n",
       "      <td>1.000000</td>\n",
       "      <td>31.000000</td>\n",
       "      <td>3.000000</td>\n",
       "      <td>2.000000</td>\n",
       "      <td>2.000000</td>\n",
       "      <td>2555.000000</td>\n",
       "      <td>359.000000</td>\n",
       "      <td>1324.500000</td>\n",
       "      <td>0.631000</td>\n",
       "      <td>2155.500000</td>\n",
       "      <td>45.000000</td>\n",
       "      <td>0.582000</td>\n",
       "      <td>0.023000</td>\n",
       "    </tr>\n",
       "    <tr>\n",
       "      <th>50%</th>\n",
       "      <td>7.179264e+08</td>\n",
       "      <td>46.000000</td>\n",
       "      <td>2.000000</td>\n",
       "      <td>36.000000</td>\n",
       "      <td>4.000000</td>\n",
       "      <td>2.000000</td>\n",
       "      <td>2.000000</td>\n",
       "      <td>4549.000000</td>\n",
       "      <td>1276.000000</td>\n",
       "      <td>3474.000000</td>\n",
       "      <td>0.736000</td>\n",
       "      <td>3899.000000</td>\n",
       "      <td>67.000000</td>\n",
       "      <td>0.702000</td>\n",
       "      <td>0.176000</td>\n",
       "    </tr>\n",
       "    <tr>\n",
       "      <th>75%</th>\n",
       "      <td>7.731435e+08</td>\n",
       "      <td>52.000000</td>\n",
       "      <td>3.000000</td>\n",
       "      <td>40.000000</td>\n",
       "      <td>5.000000</td>\n",
       "      <td>3.000000</td>\n",
       "      <td>3.000000</td>\n",
       "      <td>11067.500000</td>\n",
       "      <td>1784.000000</td>\n",
       "      <td>9859.000000</td>\n",
       "      <td>0.859000</td>\n",
       "      <td>4741.000000</td>\n",
       "      <td>81.000000</td>\n",
       "      <td>0.818000</td>\n",
       "      <td>0.503000</td>\n",
       "    </tr>\n",
       "    <tr>\n",
       "      <th>max</th>\n",
       "      <td>8.283431e+08</td>\n",
       "      <td>73.000000</td>\n",
       "      <td>5.000000</td>\n",
       "      <td>56.000000</td>\n",
       "      <td>6.000000</td>\n",
       "      <td>6.000000</td>\n",
       "      <td>6.000000</td>\n",
       "      <td>34516.000000</td>\n",
       "      <td>2517.000000</td>\n",
       "      <td>34516.000000</td>\n",
       "      <td>3.397000</td>\n",
       "      <td>18484.000000</td>\n",
       "      <td>139.000000</td>\n",
       "      <td>3.714000</td>\n",
       "      <td>0.999000</td>\n",
       "    </tr>\n",
       "  </tbody>\n",
       "</table>\n",
       "</div>"
      ],
      "text/plain": [
       "          CLIENTNUM  Customer_Age  Dependent_count  Months_on_book  \\\n",
       "count  1.012700e+04  10127.000000     10127.000000    10127.000000   \n",
       "mean   7.391776e+08     46.325960         2.346203       35.928409   \n",
       "std    3.690378e+07      8.016814         1.298908        7.986416   \n",
       "min    7.080821e+08     26.000000         0.000000       13.000000   \n",
       "25%    7.130368e+08     41.000000         1.000000       31.000000   \n",
       "50%    7.179264e+08     46.000000         2.000000       36.000000   \n",
       "75%    7.731435e+08     52.000000         3.000000       40.000000   \n",
       "max    8.283431e+08     73.000000         5.000000       56.000000   \n",
       "\n",
       "       Total_Relationship_Count  Months_Inactive_12_mon  \\\n",
       "count              10127.000000            10127.000000   \n",
       "mean                   3.812580                2.341167   \n",
       "std                    1.554408                1.010622   \n",
       "min                    1.000000                0.000000   \n",
       "25%                    3.000000                2.000000   \n",
       "50%                    4.000000                2.000000   \n",
       "75%                    5.000000                3.000000   \n",
       "max                    6.000000                6.000000   \n",
       "\n",
       "       Contacts_Count_12_mon  Credit_Limit  Total_Revolving_Bal  \\\n",
       "count           10127.000000  10127.000000         10127.000000   \n",
       "mean                2.455317   8631.953698          1162.814061   \n",
       "std                 1.106225   9088.776650           814.987335   \n",
       "min                 0.000000   1438.300000             0.000000   \n",
       "25%                 2.000000   2555.000000           359.000000   \n",
       "50%                 2.000000   4549.000000          1276.000000   \n",
       "75%                 3.000000  11067.500000          1784.000000   \n",
       "max                 6.000000  34516.000000          2517.000000   \n",
       "\n",
       "       Avg_Open_To_Buy  Total_Amt_Chng_Q4_Q1  Total_Trans_Amt  Total_Trans_Ct  \\\n",
       "count     10127.000000          10127.000000     10127.000000    10127.000000   \n",
       "mean       7469.139637              0.759941      4404.086304       64.858695   \n",
       "std        9090.685324              0.219207      3397.129254       23.472570   \n",
       "min           3.000000              0.000000       510.000000       10.000000   \n",
       "25%        1324.500000              0.631000      2155.500000       45.000000   \n",
       "50%        3474.000000              0.736000      3899.000000       67.000000   \n",
       "75%        9859.000000              0.859000      4741.000000       81.000000   \n",
       "max       34516.000000              3.397000     18484.000000      139.000000   \n",
       "\n",
       "       Total_Ct_Chng_Q4_Q1  Avg_Utilization_Ratio  \n",
       "count         10127.000000           10127.000000  \n",
       "mean              0.712222               0.274894  \n",
       "std               0.238086               0.275691  \n",
       "min               0.000000               0.000000  \n",
       "25%               0.582000               0.023000  \n",
       "50%               0.702000               0.176000  \n",
       "75%               0.818000               0.503000  \n",
       "max               3.714000               0.999000  "
      ]
     },
     "execution_count": 8,
     "metadata": {},
     "output_type": "execute_result"
    }
   ],
   "source": [
    "# 통계치 정보 확인\n",
    "df.describe()"
   ]
  },
  {
   "cell_type": "code",
   "execution_count": null,
   "id": "3ef20985",
   "metadata": {},
   "outputs": [],
   "source": []
  },
  {
   "cell_type": "markdown",
   "id": "b8c30d7c",
   "metadata": {},
   "source": [
    "**시각화 ( sns.pairplot(df) )** \n",
    "- 사용할 데이터의 상관관계를 파악하기 위해 시각화\n",
    "- 모든 칼럼에 대한 시각화 "
   ]
  },
  {
   "cell_type": "code",
   "execution_count": 9,
   "id": "b75dc7aa",
   "metadata": {},
   "outputs": [],
   "source": [
    "### 실행시간으로 인한 주석 처리\n",
    "# sns.pairplot(df)"
   ]
  },
  {
   "cell_type": "code",
   "execution_count": null,
   "id": "c2ba7ae3",
   "metadata": {},
   "outputs": [],
   "source": []
  },
  {
   "cell_type": "markdown",
   "id": "58a9525a",
   "metadata": {},
   "source": [
    "**결측치 확인**\n",
    "- isnull().sum() 코드에서는 결측치가 존재하지 않는 것을 확인\n",
    "- 각각의 피처를 분석해서 결측치 존재 여부 확인 필요"
   ]
  },
  {
   "cell_type": "code",
   "execution_count": 10,
   "id": "067f7c0c",
   "metadata": {},
   "outputs": [
    {
     "data": {
      "text/plain": [
       "CLIENTNUM                   0\n",
       "Attrition_Flag              0\n",
       "Customer_Age                0\n",
       "Gender                      0\n",
       "Dependent_count             0\n",
       "Education_Level             0\n",
       "Marital_Status              0\n",
       "Income_Category             0\n",
       "Card_Category               0\n",
       "Months_on_book              0\n",
       "Total_Relationship_Count    0\n",
       "Months_Inactive_12_mon      0\n",
       "Contacts_Count_12_mon       0\n",
       "Credit_Limit                0\n",
       "Total_Revolving_Bal         0\n",
       "Avg_Open_To_Buy             0\n",
       "Total_Amt_Chng_Q4_Q1        0\n",
       "Total_Trans_Amt             0\n",
       "Total_Trans_Ct              0\n",
       "Total_Ct_Chng_Q4_Q1         0\n",
       "Avg_Utilization_Ratio       0\n",
       "dtype: int64"
      ]
     },
     "execution_count": 10,
     "metadata": {},
     "output_type": "execute_result"
    }
   ],
   "source": [
    "# 결측치 존재 X (각 피쳐마다 추가적인 정보 확인 필요)\n",
    "df.isnull().sum()"
   ]
  },
  {
   "cell_type": "code",
   "execution_count": null,
   "id": "44451cd4",
   "metadata": {},
   "outputs": [],
   "source": []
  },
  {
   "cell_type": "code",
   "execution_count": null,
   "id": "044b6854",
   "metadata": {},
   "outputs": [],
   "source": []
  },
  {
   "cell_type": "markdown",
   "id": "95bc784b",
   "metadata": {},
   "source": [
    "### 4. 데이터 전처리 및 피쳐 엔지니어링"
   ]
  },
  {
   "cell_type": "markdown",
   "id": "5f430880",
   "metadata": {},
   "source": [
    "#### 4 - (1) 타겟 데이터 전처리\n",
    "- 관측 대상 : **``\"Attrited Customer\"``** 1로 설정 (카드 탈퇴)\n",
    "- 비관측 대상 : **``\"Existing Cumstomer\"``** 0으로 설정 (카드 유지)"
   ]
  },
  {
   "cell_type": "code",
   "execution_count": 11,
   "id": "3246b230",
   "metadata": {},
   "outputs": [
    {
     "data": {
      "text/plain": [
       "Existing Customer    8500\n",
       "Attrited Customer    1627\n",
       "Name: Attrition_Flag, dtype: int64"
      ]
     },
     "execution_count": 11,
     "metadata": {},
     "output_type": "execute_result"
    }
   ],
   "source": [
    "df[\"Attrition_Flag\"].value_counts()"
   ]
  },
  {
   "cell_type": "code",
   "execution_count": 12,
   "id": "3900f8a2",
   "metadata": {},
   "outputs": [
    {
     "data": {
      "text/plain": [
       "<AxesSubplot:>"
      ]
     },
     "execution_count": 12,
     "metadata": {},
     "output_type": "execute_result"
    },
    {
     "data": {
      "text/plain": [
       "(array([0, 1]),\n",
       " [Text(0, 0, 'Existing Customer'), Text(1, 0, 'Attrited Customer')])"
      ]
     },
     "execution_count": 12,
     "metadata": {},
     "output_type": "execute_result"
    },
    {
     "data": {
      "image/png": "[encoded data removed]",
      "text/plain": [
       "<Figure size 432x288 with 1 Axes>"
      ]
     },
     "metadata": {
      "needs_background": "light"
     },
     "output_type": "display_data"
    }
   ],
   "source": [
    "# 타겟 데이터의 분포를 바 플롯을 이용하여 시각화\n",
    "df[\"Attrition_Flag\"].value_counts().plot(kind = 'bar') \n",
    "plt.xticks(rotation=360)"
   ]
  },
  {
   "cell_type": "markdown",
   "id": "0e013e65",
   "metadata": {},
   "source": [
    "**Existing Cumstomer(잔존)과 Attrited Customer(이탈)의 비율에 차이 존재**"
   ]
  },
  {
   "cell_type": "code",
   "execution_count": 13,
   "id": "5016dd51",
   "metadata": {},
   "outputs": [
    {
     "data": {
      "text/plain": [
       "([<matplotlib.patches.Wedge at 0x1b3fe2bcd00>,\n",
       "  <matplotlib.patches.Wedge at 0x1b3fe2ca580>],\n",
       " [Text(-0.9628371444551311, 0.5319254019667504, 'Existing Customer'),\n",
       "  Text(1.0503678211160241, -0.5802822075197344, 'Attrited Customer')],\n",
       " [Text(-0.525183896975526, 0.29014112834550015, '83.9%'),\n",
       "  Text(0.6127145623176807, -0.33849795438651165, '16.1%')])"
      ]
     },
     "execution_count": 13,
     "metadata": {},
     "output_type": "execute_result"
    },
    {
     "data": {
      "text/plain": [
       "(-1.25, 1.25, -1.25, 1.25)"
      ]
     },
     "execution_count": 13,
     "metadata": {},
     "output_type": "execute_result"
    },
    {
     "data": {
      "text/plain": [
       "Text(0.5, 1.0, 'Attrition (비율)')"
      ]
     },
     "execution_count": 13,
     "metadata": {},
     "output_type": "execute_result"
    },
    {
     "data": {
      "text/plain": [
       "<matplotlib.legend.Legend at 0x1b3fe2cafd0>"
      ]
     },
     "execution_count": 13,
     "metadata": {},
     "output_type": "execute_result"
    },
    {
     "data": {
      "image/png": "[encoded data removed]",
      "text/plain": [
       "<Figure size 432x432 with 1 Axes>"
      ]
     },
     "metadata": {},
     "output_type": "display_data"
    }
   ],
   "source": [
    "# 타겟 데이터의 분포를 파이 플롯을 이용하여 시각화\n",
    "labels = ['Existing Customer', 'Attrited Customer']\n",
    "size = df['Attrition_Flag'].value_counts()\n",
    "colors = ['#5bc959','#d5b1aa' ]\n",
    "explode = [0, 0.1]\n",
    "\n",
    "plt.style.use('seaborn-deep')\n",
    "plt.rcParams['figure.figsize'] = (6, 6)\n",
    "plt.pie(size, labels =labels, colors = colors, explode = explode, autopct = \"%.1f%%\", shadow = True, textprops = {'fontsize':15})\n",
    "plt.axis('off')\n",
    "plt.title('Attrition (비율)', fontsize = 20)\n",
    "plt.legend()\n",
    "plt.show()"
   ]
  },
  {
   "cell_type": "markdown",
   "id": "d91eb12c",
   "metadata": {},
   "source": [
    "**레이블 인코딩**\n",
    "- \"Existing Cumstomer\" : 0 (카드 잔존)\n",
    "- \"Attrited Customer\" : 1 (카드 탈퇴)\n"
   ]
  },
  {
   "cell_type": "markdown",
   "id": "5338c02f",
   "metadata": {},
   "source": [
    "**주의하여 관측해아할 것이**\n",
    "``\"탈퇴\"여부이기 때문에 탈퇴를 1, 잔존을 0으로 하여 인코딩``"
   ]
  },
  {
   "cell_type": "code",
   "execution_count": 14,
   "id": "0032b8f0",
   "metadata": {},
   "outputs": [],
   "source": [
    "df[\"Attrition_Flag\"].replace({\"Existing Customer\":0,\n",
    "                            \"Attrited Customer\":1,\n",
    "                            },inplace=True)"
   ]
  },
  {
   "cell_type": "code",
   "execution_count": 15,
   "id": "c2367864",
   "metadata": {},
   "outputs": [
    {
     "data": {
      "text/plain": [
       "<AxesSubplot:>"
      ]
     },
     "execution_count": 15,
     "metadata": {},
     "output_type": "execute_result"
    },
    {
     "data": {
      "text/plain": [
       "(array([0, 1]), [Text(0, 0, '0'), Text(1, 0, '1')])"
      ]
     },
     "execution_count": 15,
     "metadata": {},
     "output_type": "execute_result"
    },
    {
     "data": {
      "image/png": "[encoded data removed]",
      "text/plain": [
       "<Figure size 432x432 with 1 Axes>"
      ]
     },
     "metadata": {
      "needs_background": "light"
     },
     "output_type": "display_data"
    }
   ],
   "source": [
    "df[\"Attrition_Flag\"].value_counts().plot(kind = 'bar')  \n",
    "plt.xticks(rotation=360)"
   ]
  },
  {
   "cell_type": "code",
   "execution_count": 16,
   "id": "a1a08fb2",
   "metadata": {},
   "outputs": [
    {
     "data": {
      "text/plain": [
       "0    8500\n",
       "1    1627\n",
       "Name: Attrition_Flag, dtype: int64"
      ]
     },
     "execution_count": 16,
     "metadata": {},
     "output_type": "execute_result"
    }
   ],
   "source": [
    "df[\"Attrition_Flag\"].value_counts() # 전처리 확인"
   ]
  },
  {
   "cell_type": "code",
   "execution_count": 17,
   "id": "141dd590",
   "metadata": {
    "scrolled": true
   },
   "outputs": [
    {
     "name": "stdout",
     "output_type": "stream",
     "text": [
      "카드를 유지한 고객은 0.84 이고, 탈퇴 고객은 0.16이므로, 카드를 유지한 고객이 5배 많다\n"
     ]
    }
   ],
   "source": [
    "Existing = df[df[\"Attrition_Flag\"]==0]\n",
    "Attrited = df[df[\"Attrition_Flag\"]==1]\n",
    "\n",
    "Existing_ratio = len(Existing)/len(Existing+Attrited) \n",
    "Attrited_ratio = len(Attrited)/len(Existing+Attrited) \n",
    "\n",
    "print(\"카드를 유지한 고객은 {:.2f} 이고, 탈퇴 고객은 {:.2f}이므로, 카드를 유지한 고객이 {:.0f}배 많다\"\n",
    "      .format(Existing_ratio,Attrited_ratio,Existing_ratio/Attrited_ratio))"
   ]
  },
  {
   "cell_type": "markdown",
   "id": "b7cb26fb",
   "metadata": {},
   "source": [
    "#### 중간 정리\n",
    "- \"Existing Cumstomer\" 84%, \"Attrited Customer\" 16% 데이터 불균형이 필요\n",
    "- 테스트를 통해 업샘플링(오버샘플링)이나 다운샘플링(언더샘플링)이 필요한지 파악"
   ]
  },
  {
   "cell_type": "markdown",
   "id": "2f252cb1",
   "metadata": {},
   "source": [
    "#### 진행 과정\n",
    "- 업샘플링은 전처리 과정이 아니라, 모델을 돌리면서 성능을 높이기 위한 작업 과정\n",
    "- 업샘플링 전후의 성능을 비교 후 업샘플링 여부 선정"
   ]
  },
  {
   "cell_type": "code",
   "execution_count": null,
   "id": "c3e70bd9",
   "metadata": {},
   "outputs": [],
   "source": []
  },
  {
   "cell_type": "markdown",
   "id": "76696d2e",
   "metadata": {},
   "source": [
    "#### 4 - (2) 피처 데이터 전처리\n",
    "- 피처 간의 상관성이 높지 않을 경우 삭제하지 않고 모델 학습에 사용\n",
    "- 피처의 성질에 따라 Labels(명목척도) , Orders(서열척도), Numerics(수치형) 변수로 구분하여 전처리를 진행"
   ]
  },
  {
   "cell_type": "code",
   "execution_count": 18,
   "id": "92562c12",
   "metadata": {},
   "outputs": [],
   "source": [
    "Labels = ['Gender','Marital_Status'] # 명목 척도\n",
    "Orders = ['Education_Level','Income_Category','Card_Category'] # 서열 척도 (등간 척도)\n",
    "Numerics = ['Customer_Age','Dependent_count','Months_on_book',\n",
    "       'Total_Relationship_Count', 'Months_Inactive_12_mon',\n",
    "       'Contacts_Count_12_mon', 'Credit_Limit', 'Total_Revolving_Bal',\n",
    "       'Avg_Open_To_Buy', 'Total_Amt_Chng_Q4_Q1', 'Total_Trans_Amt',\n",
    "       'Total_Trans_Ct', 'Total_Ct_Chng_Q4_Q1', 'Avg_Utilization_Ratio'] # 수치형 변수"
   ]
  },
  {
   "cell_type": "code",
   "execution_count": null,
   "id": "41379b6e",
   "metadata": {},
   "outputs": [],
   "source": []
  },
  {
   "cell_type": "markdown",
   "id": "933acdc0",
   "metadata": {},
   "source": [
    "**Customer_Age(나이)**"
   ]
  },
  {
   "cell_type": "code",
   "execution_count": 19,
   "id": "5764ce63",
   "metadata": {},
   "outputs": [
    {
     "name": "stderr",
     "output_type": "stream",
     "text": [
      "D:\\anaconda3\\lib\\site-packages\\seaborn\\distributions.py:2557: FutureWarning: `distplot` is a deprecated function and will be removed in a future version. Please adapt your code to use either `displot` (a figure-level function with similar flexibility) or `histplot` (an axes-level function for histograms).\n",
      "  warnings.warn(msg, FutureWarning)\n"
     ]
    },
    {
     "data": {
      "text/plain": [
       "<AxesSubplot:xlabel='Customer_Age', ylabel='Density'>"
      ]
     },
     "execution_count": 19,
     "metadata": {},
     "output_type": "execute_result"
    },
    {
     "data": {
      "image/png": "[encoded data removed]",
      "text/plain": [
       "<Figure size 432x432 with 1 Axes>"
      ]
     },
     "metadata": {
      "needs_background": "light"
     },
     "output_type": "display_data"
    }
   ],
   "source": [
    "sns.distplot(df[\"Customer_Age\"])"
   ]
  },
  {
   "cell_type": "markdown",
   "id": "33811be5",
   "metadata": {},
   "source": [
    "**Customer_Age (나이) 칼럼은 거의 완벽한 정규분포를 따른다는 것을 확인**"
   ]
  },
  {
   "cell_type": "markdown",
   "id": "24a6e18e",
   "metadata": {},
   "source": [
    "**이상치 확인(시각화)**"
   ]
  },
  {
   "cell_type": "code",
   "execution_count": 20,
   "id": "cab646dd",
   "metadata": {},
   "outputs": [
    {
     "data": {
      "text/plain": [
       "<AxesSubplot:>"
      ]
     },
     "execution_count": 20,
     "metadata": {},
     "output_type": "execute_result"
    },
    {
     "name": "stderr",
     "output_type": "stream",
     "text": [
      "D:\\anaconda3\\lib\\site-packages\\seaborn\\_decorators.py:36: FutureWarning: Pass the following variable as a keyword arg: x. From version 0.12, the only valid positional argument will be `data`, and passing other arguments without an explicit keyword will result in an error or misinterpretation.\n",
      "  warnings.warn(\n"
     ]
    },
    {
     "data": {
      "text/plain": [
       "<AxesSubplot:xlabel='Customer_Age'>"
      ]
     },
     "execution_count": 20,
     "metadata": {},
     "output_type": "execute_result"
    },
    {
     "data": {
      "image/png": "[encoded data removed]",
      "text/plain": [
       "<Figure size 432x432 with 1 Axes>"
      ]
     },
     "metadata": {
      "needs_background": "light"
     },
     "output_type": "display_data"
    }
   ],
   "source": [
    "df[[\"Customer_Age\"]].boxplot()\n",
    "sns.boxplot(df[\"Customer_Age\"])"
   ]
  },
  {
   "cell_type": "markdown",
   "id": "4f844982",
   "metadata": {},
   "source": [
    "**이상치 확인 (수치 확인)**\n",
    "    여기서 박스플롯에서 범위 밖으로 넘어가는 2개의 plot이 보이는데, 이 값이 이 범위를 벗어난다고 하더라도, 이 수치가 데이터 분석에 큰 영향을 끼치지 않으면 ( 말이 안되는 값이거나 범위에서 너무 벗어난 값 -예를 들면 우리나라 연봉을 조사하는데 이재용 삼성 부회장의 연봉은 제외를 해야 한다. ) 그 값은 이상치로 취급하지 않는다."
   ]
  },
  {
   "cell_type": "code",
   "execution_count": 21,
   "id": "8dbb7ef8",
   "metadata": {},
   "outputs": [
    {
     "data": {
      "text/plain": [
       "73"
      ]
     },
     "execution_count": 21,
     "metadata": {},
     "output_type": "execute_result"
    }
   ],
   "source": [
    "df[\"Customer_Age\"].max()"
   ]
  },
  {
   "cell_type": "markdown",
   "id": "c531e9cb",
   "metadata": {},
   "source": [
    "**나이 칼럼에서 가장 큰 수치는 73인데 이 수치는 충분히 가능한 값이다.만약 이 값이 200이다 라고 한다면 이 이상치는 삭제나 대체가 필요하지만, 73세는 나이로서 충분히 가능한 수치이므로 전처리 하지않는다.(이상치 취급하지 않음)**"
   ]
  },
  {
   "cell_type": "code",
   "execution_count": 22,
   "id": "332b8750",
   "metadata": {},
   "outputs": [
    {
     "data": {
      "text/plain": [
       "68.5"
      ]
     },
     "execution_count": 22,
     "metadata": {},
     "output_type": "execute_result"
    },
    {
     "data": {
      "text/plain": [
       "24.5"
      ]
     },
     "execution_count": 22,
     "metadata": {},
     "output_type": "execute_result"
    }
   ],
   "source": [
    "# 이상치 확인 (참고 사항)\n",
    "q1 = np.quantile(df[\"Customer_Age\"],0.25)  \n",
    "q3 = np.quantile(df[\"Customer_Age\"],0.75) \n",
    "iqr = q3-q1\n",
    "q3+iqr*1.5\n",
    "q1-iqr*1.5\n",
    "\n",
    "cond1 = q3+iqr*1.5<df[\"Customer_Age\"]\n",
    "cond2 = df[\"Customer_Age\"]<q1-iqr*1.5\n",
    "\n",
    "outlier_index = df[cond1 | cond2].index"
   ]
  },
  {
   "cell_type": "code",
   "execution_count": null,
   "id": "79e96782",
   "metadata": {},
   "outputs": [],
   "source": []
  },
  {
   "cell_type": "markdown",
   "id": "b7536adf",
   "metadata": {},
   "source": [
    "**Gender(성별)**"
   ]
  },
  {
   "cell_type": "code",
   "execution_count": 23,
   "id": "210216d4",
   "metadata": {},
   "outputs": [
    {
     "data": {
      "text/plain": [
       "<AxesSubplot:>"
      ]
     },
     "execution_count": 23,
     "metadata": {},
     "output_type": "execute_result"
    },
    {
     "data": {
      "text/plain": [
       "(array([0, 1]), [Text(0, 0, 'F'), Text(1, 0, 'M')])"
      ]
     },
     "execution_count": 23,
     "metadata": {},
     "output_type": "execute_result"
    },
    {
     "data": {
      "image/png": "[encoded data removed]",
      "text/plain": [
       "<Figure size 432x432 with 1 Axes>"
      ]
     },
     "metadata": {
      "needs_background": "light"
     },
     "output_type": "display_data"
    }
   ],
   "source": [
    "# 성별의 분포를 bar 그래프를 이용하여 시각화\n",
    "df['Gender'].value_counts().plot(kind = 'bar')\n",
    "plt.xticks(rotation=360)"
   ]
  },
  {
   "cell_type": "code",
   "execution_count": 24,
   "id": "4760c0c9",
   "metadata": {},
   "outputs": [
    {
     "data": {
      "text/html": [
       "<div>\n",
       "<style scoped>\n",
       "    .dataframe tbody tr th:only-of-type {\n",
       "        vertical-align: middle;\n",
       "    }\n",
       "\n",
       "    .dataframe tbody tr th {\n",
       "        vertical-align: top;\n",
       "    }\n",
       "\n",
       "    .dataframe thead th {\n",
       "        text-align: right;\n",
       "    }\n",
       "</style>\n",
       "<table border=\"1\" class=\"dataframe\">\n",
       "  <thead>\n",
       "    <tr style=\"text-align: right;\">\n",
       "      <th></th>\n",
       "      <th></th>\n",
       "      <th>0</th>\n",
       "    </tr>\n",
       "    <tr>\n",
       "      <th>Gender</th>\n",
       "      <th>Attrition_Flag</th>\n",
       "      <th></th>\n",
       "    </tr>\n",
       "  </thead>\n",
       "  <tbody>\n",
       "    <tr>\n",
       "      <th>F</th>\n",
       "      <th>0</th>\n",
       "      <td>4428</td>\n",
       "    </tr>\n",
       "    <tr>\n",
       "      <th>M</th>\n",
       "      <th>0</th>\n",
       "      <td>4072</td>\n",
       "    </tr>\n",
       "    <tr>\n",
       "      <th>F</th>\n",
       "      <th>1</th>\n",
       "      <td>930</td>\n",
       "    </tr>\n",
       "    <tr>\n",
       "      <th>M</th>\n",
       "      <th>1</th>\n",
       "      <td>697</td>\n",
       "    </tr>\n",
       "  </tbody>\n",
       "</table>\n",
       "</div>"
      ],
      "text/plain": [
       "                          0\n",
       "Gender Attrition_Flag      \n",
       "F      0               4428\n",
       "M      0               4072\n",
       "F      1                930\n",
       "M      1                697"
      ]
     },
     "execution_count": 24,
     "metadata": {},
     "output_type": "execute_result"
    }
   ],
   "source": [
    "# 성별 이탈고객 수\n",
    "gend_df = pd.DataFrame(df.loc[:,['Gender','Attrition_Flag']].value_counts())\n",
    "gend_df"
   ]
  },
  {
   "cell_type": "code",
   "execution_count": 25,
   "id": "c173d525",
   "metadata": {},
   "outputs": [
    {
     "data": {
      "text/html": [
       "<div>\n",
       "<style scoped>\n",
       "    .dataframe tbody tr th:only-of-type {\n",
       "        vertical-align: middle;\n",
       "    }\n",
       "\n",
       "    .dataframe tbody tr th {\n",
       "        vertical-align: top;\n",
       "    }\n",
       "\n",
       "    .dataframe thead th {\n",
       "        text-align: right;\n",
       "    }\n",
       "</style>\n",
       "<table border=\"1\" class=\"dataframe\">\n",
       "  <thead>\n",
       "    <tr style=\"text-align: right;\">\n",
       "      <th></th>\n",
       "      <th>Gender</th>\n",
       "      <th>Customer_Age</th>\n",
       "    </tr>\n",
       "  </thead>\n",
       "  <tbody>\n",
       "    <tr>\n",
       "      <th>0</th>\n",
       "      <td>F</td>\n",
       "      <td>46.456887</td>\n",
       "    </tr>\n",
       "    <tr>\n",
       "      <th>1</th>\n",
       "      <td>M</td>\n",
       "      <td>46.178863</td>\n",
       "    </tr>\n",
       "  </tbody>\n",
       "</table>\n",
       "</div>"
      ],
      "text/plain": [
       "  Gender  Customer_Age\n",
       "0      F     46.456887\n",
       "1      M     46.178863"
      ]
     },
     "execution_count": 25,
     "metadata": {},
     "output_type": "execute_result"
    }
   ],
   "source": [
    "# 성별 평균 나이\n",
    "df.groupby('Gender')['Customer_Age'].agg(**{'Customer_Age':'mean'}).reset_index()"
   ]
  },
  {
   "cell_type": "code",
   "execution_count": 26,
   "id": "b5e391b7",
   "metadata": {},
   "outputs": [
    {
     "data": {
      "text/plain": [
       "Gender  Customer_Age\n",
       "F       44              277\n",
       "        45              272\n",
       "        49              263\n",
       "        47              258\n",
       "        48              249\n",
       "                       ... \n",
       "        66                2\n",
       "M       67                2\n",
       "        68                2\n",
       "        70                1\n",
       "        73                1\n",
       "Length: 86, dtype: int64"
      ]
     },
     "execution_count": 26,
     "metadata": {},
     "output_type": "execute_result"
    }
   ],
   "source": [
    "# 성별 나이 분포\n",
    "df[['Gender','Customer_Age']].value_counts()"
   ]
  },
  {
   "cell_type": "code",
   "execution_count": 27,
   "id": "9e6481e0",
   "metadata": {},
   "outputs": [],
   "source": [
    "# 성별 라벨링 F : 0, M : 1\n",
    "df[\"Gender\"].replace({\"F\":1, \"M\":0},inplace=True)"
   ]
  },
  {
   "cell_type": "code",
   "execution_count": 28,
   "id": "8b4c2ece",
   "metadata": {},
   "outputs": [
    {
     "data": {
      "text/plain": [
       "1    5358\n",
       "0    4769\n",
       "Name: Gender, dtype: int64"
      ]
     },
     "execution_count": 28,
     "metadata": {},
     "output_type": "execute_result"
    }
   ],
   "source": [
    "df[\"Gender\"].value_counts()\n",
    "# Female 아니면 Male로 이진분류가 잘 되어있다.\n",
    "# Label Encoding"
   ]
  },
  {
   "cell_type": "code",
   "execution_count": 29,
   "id": "140bf0e4",
   "metadata": {
    "scrolled": true
   },
   "outputs": [
    {
     "data": {
      "text/plain": [
       "0        0\n",
       "1        1\n",
       "2        0\n",
       "3        1\n",
       "4        0\n",
       "        ..\n",
       "10122    0\n",
       "10123    0\n",
       "10124    1\n",
       "10125    0\n",
       "10126    1\n",
       "Name: Gender, Length: 10127, dtype: int64"
      ]
     },
     "execution_count": 29,
     "metadata": {},
     "output_type": "execute_result"
    }
   ],
   "source": [
    "df[\"Gender\"] # 라벨인코딩 된 것을 확인 할 수 있다."
   ]
  },
  {
   "cell_type": "code",
   "execution_count": 30,
   "id": "f968e466",
   "metadata": {},
   "outputs": [
    {
     "data": {
      "text/plain": [
       "1    5358\n",
       "0    4769\n",
       "Name: Gender, dtype: int64"
      ]
     },
     "execution_count": 30,
     "metadata": {},
     "output_type": "execute_result"
    }
   ],
   "source": [
    "# 라벨링 작업 정상 여부 확인\n",
    "df[\"Gender\"].value_counts()"
   ]
  },
  {
   "cell_type": "code",
   "execution_count": 31,
   "id": "c99de0a5",
   "metadata": {},
   "outputs": [
    {
     "data": {
      "text/plain": [
       "Int64Index([3, 2, 1, 4, 0, 5], dtype='int64')"
      ]
     },
     "execution_count": 31,
     "metadata": {},
     "output_type": "execute_result"
    }
   ],
   "source": [
    "# 부양 가족 수 값\n",
    "df['Dependent_count'].value_counts().index"
   ]
  },
  {
   "cell_type": "code",
   "execution_count": 32,
   "id": "792c7779",
   "metadata": {
    "scrolled": false
   },
   "outputs": [
    {
     "data": {
      "text/plain": [
       "Text(0.5, 1.0, 'Dependent_count')"
      ]
     },
     "execution_count": 32,
     "metadata": {},
     "output_type": "execute_result"
    },
    {
     "name": "stderr",
     "output_type": "stream",
     "text": [
      "D:\\anaconda3\\lib\\site-packages\\seaborn\\_decorators.py:36: FutureWarning: Pass the following variable as a keyword arg: x. From version 0.12, the only valid positional argument will be `data`, and passing other arguments without an explicit keyword will result in an error or misinterpretation.\n",
      "  warnings.warn(\n"
     ]
    },
    {
     "data": {
      "text/plain": [
       "<AxesSubplot:title={'center':'Dependent_count'}, xlabel='Dependent_count', ylabel='count'>"
      ]
     },
     "execution_count": 32,
     "metadata": {},
     "output_type": "execute_result"
    },
    {
     "data": {
      "image/png": "[encoded data removed]",
      "text/plain": [
       "<Figure size 432x432 with 1 Axes>"
      ]
     },
     "metadata": {
      "needs_background": "light"
     },
     "output_type": "display_data"
    }
   ],
   "source": [
    "# 부양 가족 수 분포\n",
    "plt.title('Dependent_count')\n",
    "sns.countplot(df[\"Dependent_count\"])"
   ]
  },
  {
   "cell_type": "markdown",
   "id": "114776ee",
   "metadata": {},
   "source": [
    "**연령대 별 부양 가족수 파악을 위한 작업**"
   ]
  },
  {
   "cell_type": "code",
   "execution_count": 33,
   "id": "780cb8a3",
   "metadata": {},
   "outputs": [
    {
     "data": {
      "text/plain": [
       "[20, 30, 40, 50, 60, 70, 80]"
      ]
     },
     "execution_count": 33,
     "metadata": {},
     "output_type": "execute_result"
    }
   ],
   "source": [
    "bins = list(range(20,81,10))\n",
    "bins"
   ]
  },
  {
   "cell_type": "code",
   "execution_count": 34,
   "id": "1de57a5b",
   "metadata": {},
   "outputs": [
    {
     "data": {
      "text/plain": [
       "['20대', '30대', '40대', '50대', '60대', '70대', '80대']"
      ]
     },
     "execution_count": 34,
     "metadata": {},
     "output_type": "execute_result"
    }
   ],
   "source": [
    "labels = [str(i) + '대' for i in bins]\n",
    "labels"
   ]
  },
  {
   "cell_type": "code",
   "execution_count": 35,
   "id": "33a37964",
   "metadata": {},
   "outputs": [
    {
     "data": {
      "text/html": [
       "<div>\n",
       "<style scoped>\n",
       "    .dataframe tbody tr th:only-of-type {\n",
       "        vertical-align: middle;\n",
       "    }\n",
       "\n",
       "    .dataframe tbody tr th {\n",
       "        vertical-align: top;\n",
       "    }\n",
       "\n",
       "    .dataframe thead th {\n",
       "        text-align: right;\n",
       "    }\n",
       "</style>\n",
       "<table border=\"1\" class=\"dataframe\">\n",
       "  <thead>\n",
       "    <tr style=\"text-align: right;\">\n",
       "      <th></th>\n",
       "      <th>CLIENTNUM</th>\n",
       "      <th>Attrition_Flag</th>\n",
       "      <th>Customer_Age</th>\n",
       "      <th>Gender</th>\n",
       "      <th>Dependent_count</th>\n",
       "      <th>Education_Level</th>\n",
       "      <th>Marital_Status</th>\n",
       "      <th>Income_Category</th>\n",
       "      <th>Card_Category</th>\n",
       "      <th>Months_on_book</th>\n",
       "      <th>...</th>\n",
       "      <th>Contacts_Count_12_mon</th>\n",
       "      <th>Credit_Limit</th>\n",
       "      <th>Total_Revolving_Bal</th>\n",
       "      <th>Avg_Open_To_Buy</th>\n",
       "      <th>Total_Amt_Chng_Q4_Q1</th>\n",
       "      <th>Total_Trans_Amt</th>\n",
       "      <th>Total_Trans_Ct</th>\n",
       "      <th>Total_Ct_Chng_Q4_Q1</th>\n",
       "      <th>Avg_Utilization_Ratio</th>\n",
       "      <th>age_bin</th>\n",
       "    </tr>\n",
       "  </thead>\n",
       "  <tbody>\n",
       "    <tr>\n",
       "      <th>0</th>\n",
       "      <td>768805383</td>\n",
       "      <td>0</td>\n",
       "      <td>45</td>\n",
       "      <td>0</td>\n",
       "      <td>3</td>\n",
       "      <td>High School</td>\n",
       "      <td>Married</td>\n",
       "      <td>$60K - $80K</td>\n",
       "      <td>Blue</td>\n",
       "      <td>39</td>\n",
       "      <td>...</td>\n",
       "      <td>3</td>\n",
       "      <td>12691.0</td>\n",
       "      <td>777</td>\n",
       "      <td>11914.0</td>\n",
       "      <td>1.335</td>\n",
       "      <td>1144</td>\n",
       "      <td>42</td>\n",
       "      <td>1.625</td>\n",
       "      <td>0.061</td>\n",
       "      <td>40대</td>\n",
       "    </tr>\n",
       "    <tr>\n",
       "      <th>1</th>\n",
       "      <td>818770008</td>\n",
       "      <td>0</td>\n",
       "      <td>49</td>\n",
       "      <td>1</td>\n",
       "      <td>5</td>\n",
       "      <td>Graduate</td>\n",
       "      <td>Single</td>\n",
       "      <td>Less than $40K</td>\n",
       "      <td>Blue</td>\n",
       "      <td>44</td>\n",
       "      <td>...</td>\n",
       "      <td>2</td>\n",
       "      <td>8256.0</td>\n",
       "      <td>864</td>\n",
       "      <td>7392.0</td>\n",
       "      <td>1.541</td>\n",
       "      <td>1291</td>\n",
       "      <td>33</td>\n",
       "      <td>3.714</td>\n",
       "      <td>0.105</td>\n",
       "      <td>40대</td>\n",
       "    </tr>\n",
       "    <tr>\n",
       "      <th>2</th>\n",
       "      <td>713982108</td>\n",
       "      <td>0</td>\n",
       "      <td>51</td>\n",
       "      <td>0</td>\n",
       "      <td>3</td>\n",
       "      <td>Graduate</td>\n",
       "      <td>Married</td>\n",
       "      <td>$80K - $120K</td>\n",
       "      <td>Blue</td>\n",
       "      <td>36</td>\n",
       "      <td>...</td>\n",
       "      <td>0</td>\n",
       "      <td>3418.0</td>\n",
       "      <td>0</td>\n",
       "      <td>3418.0</td>\n",
       "      <td>2.594</td>\n",
       "      <td>1887</td>\n",
       "      <td>20</td>\n",
       "      <td>2.333</td>\n",
       "      <td>0.000</td>\n",
       "      <td>50대</td>\n",
       "    </tr>\n",
       "    <tr>\n",
       "      <th>3</th>\n",
       "      <td>769911858</td>\n",
       "      <td>0</td>\n",
       "      <td>40</td>\n",
       "      <td>1</td>\n",
       "      <td>4</td>\n",
       "      <td>High School</td>\n",
       "      <td>Unknown</td>\n",
       "      <td>Less than $40K</td>\n",
       "      <td>Blue</td>\n",
       "      <td>34</td>\n",
       "      <td>...</td>\n",
       "      <td>1</td>\n",
       "      <td>3313.0</td>\n",
       "      <td>2517</td>\n",
       "      <td>796.0</td>\n",
       "      <td>1.405</td>\n",
       "      <td>1171</td>\n",
       "      <td>20</td>\n",
       "      <td>2.333</td>\n",
       "      <td>0.760</td>\n",
       "      <td>40대</td>\n",
       "    </tr>\n",
       "    <tr>\n",
       "      <th>4</th>\n",
       "      <td>709106358</td>\n",
       "      <td>0</td>\n",
       "      <td>40</td>\n",
       "      <td>0</td>\n",
       "      <td>3</td>\n",
       "      <td>Uneducated</td>\n",
       "      <td>Married</td>\n",
       "      <td>$60K - $80K</td>\n",
       "      <td>Blue</td>\n",
       "      <td>21</td>\n",
       "      <td>...</td>\n",
       "      <td>0</td>\n",
       "      <td>4716.0</td>\n",
       "      <td>0</td>\n",
       "      <td>4716.0</td>\n",
       "      <td>2.175</td>\n",
       "      <td>816</td>\n",
       "      <td>28</td>\n",
       "      <td>2.500</td>\n",
       "      <td>0.000</td>\n",
       "      <td>40대</td>\n",
       "    </tr>\n",
       "  </tbody>\n",
       "</table>\n",
       "<p>5 rows × 22 columns</p>\n",
       "</div>"
      ],
      "text/plain": [
       "   CLIENTNUM  Attrition_Flag  Customer_Age  Gender  Dependent_count  \\\n",
       "0  768805383               0            45       0                3   \n",
       "1  818770008               0            49       1                5   \n",
       "2  713982108               0            51       0                3   \n",
       "3  769911858               0            40       1                4   \n",
       "4  709106358               0            40       0                3   \n",
       "\n",
       "  Education_Level Marital_Status Income_Category Card_Category  \\\n",
       "0     High School        Married     $60K - $80K          Blue   \n",
       "1        Graduate         Single  Less than $40K          Blue   \n",
       "2        Graduate        Married    $80K - $120K          Blue   \n",
       "3     High School        Unknown  Less than $40K          Blue   \n",
       "4      Uneducated        Married     $60K - $80K          Blue   \n",
       "\n",
       "   Months_on_book  ...  Contacts_Count_12_mon  Credit_Limit  \\\n",
       "0              39  ...                      3       12691.0   \n",
       "1              44  ...                      2        8256.0   \n",
       "2              36  ...                      0        3418.0   \n",
       "3              34  ...                      1        3313.0   \n",
       "4              21  ...                      0        4716.0   \n",
       "\n",
       "   Total_Revolving_Bal  Avg_Open_To_Buy  Total_Amt_Chng_Q4_Q1  \\\n",
       "0                  777          11914.0                 1.335   \n",
       "1                  864           7392.0                 1.541   \n",
       "2                    0           3418.0                 2.594   \n",
       "3                 2517            796.0                 1.405   \n",
       "4                    0           4716.0                 2.175   \n",
       "\n",
       "   Total_Trans_Amt  Total_Trans_Ct  Total_Ct_Chng_Q4_Q1  \\\n",
       "0             1144              42                1.625   \n",
       "1             1291              33                3.714   \n",
       "2             1887              20                2.333   \n",
       "3             1171              20                2.333   \n",
       "4              816              28                2.500   \n",
       "\n",
       "   Avg_Utilization_Ratio  age_bin  \n",
       "0                  0.061      40대  \n",
       "1                  0.105      40대  \n",
       "2                  0.000      50대  \n",
       "3                  0.760      40대  \n",
       "4                  0.000      40대  \n",
       "\n",
       "[5 rows x 22 columns]"
      ]
     },
     "execution_count": 35,
     "metadata": {},
     "output_type": "execute_result"
    }
   ],
   "source": [
    "# 나이대 라벨 추가\n",
    "df[\"age_bin\"] = pd.cut(df[\"Customer_Age\"], bins = bins, right = False, labels=labels[:-1])\n",
    "df.head()"
   ]
  },
  {
   "cell_type": "code",
   "execution_count": 36,
   "id": "f4ae68a5",
   "metadata": {},
   "outputs": [
    {
     "data": {
      "text/html": [
       "<div>\n",
       "<style scoped>\n",
       "    .dataframe tbody tr th:only-of-type {\n",
       "        vertical-align: middle;\n",
       "    }\n",
       "\n",
       "    .dataframe tbody tr th {\n",
       "        vertical-align: top;\n",
       "    }\n",
       "\n",
       "    .dataframe thead th {\n",
       "        text-align: right;\n",
       "    }\n",
       "</style>\n",
       "<table border=\"1\" class=\"dataframe\">\n",
       "  <thead>\n",
       "    <tr style=\"text-align: right;\">\n",
       "      <th></th>\n",
       "      <th>Customer_Age</th>\n",
       "      <th>age_bin</th>\n",
       "    </tr>\n",
       "  </thead>\n",
       "  <tbody>\n",
       "    <tr>\n",
       "      <th>0</th>\n",
       "      <td>45</td>\n",
       "      <td>40대</td>\n",
       "    </tr>\n",
       "    <tr>\n",
       "      <th>1</th>\n",
       "      <td>49</td>\n",
       "      <td>40대</td>\n",
       "    </tr>\n",
       "    <tr>\n",
       "      <th>2</th>\n",
       "      <td>51</td>\n",
       "      <td>50대</td>\n",
       "    </tr>\n",
       "    <tr>\n",
       "      <th>3</th>\n",
       "      <td>40</td>\n",
       "      <td>40대</td>\n",
       "    </tr>\n",
       "    <tr>\n",
       "      <th>4</th>\n",
       "      <td>40</td>\n",
       "      <td>40대</td>\n",
       "    </tr>\n",
       "    <tr>\n",
       "      <th>...</th>\n",
       "      <td>...</td>\n",
       "      <td>...</td>\n",
       "    </tr>\n",
       "    <tr>\n",
       "      <th>10122</th>\n",
       "      <td>50</td>\n",
       "      <td>50대</td>\n",
       "    </tr>\n",
       "    <tr>\n",
       "      <th>10123</th>\n",
       "      <td>41</td>\n",
       "      <td>40대</td>\n",
       "    </tr>\n",
       "    <tr>\n",
       "      <th>10124</th>\n",
       "      <td>44</td>\n",
       "      <td>40대</td>\n",
       "    </tr>\n",
       "    <tr>\n",
       "      <th>10125</th>\n",
       "      <td>30</td>\n",
       "      <td>30대</td>\n",
       "    </tr>\n",
       "    <tr>\n",
       "      <th>10126</th>\n",
       "      <td>43</td>\n",
       "      <td>40대</td>\n",
       "    </tr>\n",
       "  </tbody>\n",
       "</table>\n",
       "<p>10127 rows × 2 columns</p>\n",
       "</div>"
      ],
      "text/plain": [
       "       Customer_Age age_bin\n",
       "0                45     40대\n",
       "1                49     40대\n",
       "2                51     50대\n",
       "3                40     40대\n",
       "4                40     40대\n",
       "...             ...     ...\n",
       "10122            50     50대\n",
       "10123            41     40대\n",
       "10124            44     40대\n",
       "10125            30     30대\n",
       "10126            43     40대\n",
       "\n",
       "[10127 rows x 2 columns]"
      ]
     },
     "execution_count": 36,
     "metadata": {},
     "output_type": "execute_result"
    }
   ],
   "source": [
    "df[[\"Customer_Age\",\"age_bin\"]]"
   ]
  },
  {
   "cell_type": "code",
   "execution_count": 37,
   "id": "c0788e25",
   "metadata": {},
   "outputs": [
    {
     "data": {
      "text/html": [
       "<div>\n",
       "<style scoped>\n",
       "    .dataframe tbody tr th:only-of-type {\n",
       "        vertical-align: middle;\n",
       "    }\n",
       "\n",
       "    .dataframe tbody tr th {\n",
       "        vertical-align: top;\n",
       "    }\n",
       "\n",
       "    .dataframe thead th {\n",
       "        text-align: right;\n",
       "    }\n",
       "</style>\n",
       "<table border=\"1\" class=\"dataframe\">\n",
       "  <thead>\n",
       "    <tr style=\"text-align: right;\">\n",
       "      <th></th>\n",
       "      <th>age_bin</th>\n",
       "      <th>dependent</th>\n",
       "    </tr>\n",
       "  </thead>\n",
       "  <tbody>\n",
       "    <tr>\n",
       "      <th>0</th>\n",
       "      <td>20대</td>\n",
       "      <td>0.430769</td>\n",
       "    </tr>\n",
       "    <tr>\n",
       "      <th>1</th>\n",
       "      <td>30대</td>\n",
       "      <td>2.002173</td>\n",
       "    </tr>\n",
       "    <tr>\n",
       "      <th>2</th>\n",
       "      <td>40대</td>\n",
       "      <td>2.970401</td>\n",
       "    </tr>\n",
       "    <tr>\n",
       "      <th>3</th>\n",
       "      <td>50대</td>\n",
       "      <td>2.055037</td>\n",
       "    </tr>\n",
       "    <tr>\n",
       "      <th>4</th>\n",
       "      <td>60대</td>\n",
       "      <td>0.530189</td>\n",
       "    </tr>\n",
       "    <tr>\n",
       "      <th>5</th>\n",
       "      <td>70대</td>\n",
       "      <td>0.000000</td>\n",
       "    </tr>\n",
       "  </tbody>\n",
       "</table>\n",
       "</div>"
      ],
      "text/plain": [
       "  age_bin  dependent\n",
       "0     20대   0.430769\n",
       "1     30대   2.002173\n",
       "2     40대   2.970401\n",
       "3     50대   2.055037\n",
       "4     60대   0.530189\n",
       "5     70대   0.000000"
      ]
     },
     "execution_count": 37,
     "metadata": {},
     "output_type": "execute_result"
    }
   ],
   "source": [
    "# 연령대별 평균 부양가족 수\n",
    "dependent = df.groupby('age_bin')['Dependent_count'].agg(**{'dependent':'mean'}).reset_index()\n",
    "dependent"
   ]
  },
  {
   "cell_type": "code",
   "execution_count": 38,
   "id": "0d4d74f2",
   "metadata": {},
   "outputs": [
    {
     "data": {
      "text/plain": [
       "<AxesSubplot:xlabel='age_bin', ylabel='dependent'>"
      ]
     },
     "execution_count": 38,
     "metadata": {},
     "output_type": "execute_result"
    },
    {
     "data": {
      "image/png": "[encoded data removed]",
      "text/plain": [
       "<Figure size 432x432 with 1 Axes>"
      ]
     },
     "metadata": {
      "needs_background": "light"
     },
     "output_type": "display_data"
    }
   ],
   "source": [
    "# 연령대별 평균 부양 가족 수\n",
    "sns.barplot(x='age_bin',y='dependent',data=dependent)"
   ]
  },
  {
   "cell_type": "code",
   "execution_count": 39,
   "id": "3ced9003",
   "metadata": {},
   "outputs": [
    {
     "data": {
      "text/html": [
       "<div>\n",
       "<style scoped>\n",
       "    .dataframe tbody tr th:only-of-type {\n",
       "        vertical-align: middle;\n",
       "    }\n",
       "\n",
       "    .dataframe tbody tr th {\n",
       "        vertical-align: top;\n",
       "    }\n",
       "\n",
       "    .dataframe thead th {\n",
       "        text-align: right;\n",
       "    }\n",
       "</style>\n",
       "<table border=\"1\" class=\"dataframe\">\n",
       "  <thead>\n",
       "    <tr style=\"text-align: right;\">\n",
       "      <th></th>\n",
       "      <th>Gender</th>\n",
       "      <th>dependent</th>\n",
       "    </tr>\n",
       "  </thead>\n",
       "  <tbody>\n",
       "    <tr>\n",
       "      <th>0</th>\n",
       "      <td>0</td>\n",
       "      <td>2.352485</td>\n",
       "    </tr>\n",
       "    <tr>\n",
       "      <th>1</th>\n",
       "      <td>1</td>\n",
       "      <td>2.340612</td>\n",
       "    </tr>\n",
       "  </tbody>\n",
       "</table>\n",
       "</div>"
      ],
      "text/plain": [
       "   Gender  dependent\n",
       "0       0   2.352485\n",
       "1       1   2.340612"
      ]
     },
     "execution_count": 39,
     "metadata": {},
     "output_type": "execute_result"
    }
   ],
   "source": [
    "# 성별 평균 부양가족 수\n",
    "gender = df.groupby('Gender')['Dependent_count'].agg(**{'dependent':'mean'}).reset_index()\n",
    "gender"
   ]
  },
  {
   "cell_type": "code",
   "execution_count": 40,
   "id": "b39a03ab",
   "metadata": {},
   "outputs": [
    {
     "data": {
      "text/html": [
       "<div>\n",
       "<style scoped>\n",
       "    .dataframe tbody tr th:only-of-type {\n",
       "        vertical-align: middle;\n",
       "    }\n",
       "\n",
       "    .dataframe tbody tr th {\n",
       "        vertical-align: top;\n",
       "    }\n",
       "\n",
       "    .dataframe thead th {\n",
       "        text-align: right;\n",
       "    }\n",
       "</style>\n",
       "<table border=\"1\" class=\"dataframe\">\n",
       "  <thead>\n",
       "    <tr style=\"text-align: right;\">\n",
       "      <th></th>\n",
       "      <th></th>\n",
       "      <th>0</th>\n",
       "    </tr>\n",
       "    <tr>\n",
       "      <th>age_bin</th>\n",
       "      <th>Attrition_Flag</th>\n",
       "      <th></th>\n",
       "    </tr>\n",
       "  </thead>\n",
       "  <tbody>\n",
       "    <tr>\n",
       "      <th rowspan=\"2\" valign=\"top\">20대</th>\n",
       "      <th>0</th>\n",
       "      <td>178</td>\n",
       "    </tr>\n",
       "    <tr>\n",
       "      <th>1</th>\n",
       "      <td>17</td>\n",
       "    </tr>\n",
       "    <tr>\n",
       "      <th rowspan=\"2\" valign=\"top\">30대</th>\n",
       "      <th>0</th>\n",
       "      <td>1580</td>\n",
       "    </tr>\n",
       "    <tr>\n",
       "      <th>1</th>\n",
       "      <td>261</td>\n",
       "    </tr>\n",
       "    <tr>\n",
       "      <th rowspan=\"2\" valign=\"top\">40대</th>\n",
       "      <th>0</th>\n",
       "      <td>3789</td>\n",
       "    </tr>\n",
       "    <tr>\n",
       "      <th>1</th>\n",
       "      <td>772</td>\n",
       "    </tr>\n",
       "    <tr>\n",
       "      <th rowspan=\"2\" valign=\"top\">50대</th>\n",
       "      <th>0</th>\n",
       "      <td>2492</td>\n",
       "    </tr>\n",
       "    <tr>\n",
       "      <th>1</th>\n",
       "      <td>506</td>\n",
       "    </tr>\n",
       "    <tr>\n",
       "      <th rowspan=\"2\" valign=\"top\">60대</th>\n",
       "      <th>0</th>\n",
       "      <td>459</td>\n",
       "    </tr>\n",
       "    <tr>\n",
       "      <th>1</th>\n",
       "      <td>71</td>\n",
       "    </tr>\n",
       "    <tr>\n",
       "      <th>70대</th>\n",
       "      <th>0</th>\n",
       "      <td>2</td>\n",
       "    </tr>\n",
       "  </tbody>\n",
       "</table>\n",
       "</div>"
      ],
      "text/plain": [
       "                           0\n",
       "age_bin Attrition_Flag      \n",
       "20대     0                178\n",
       "        1                 17\n",
       "30대     0               1580\n",
       "        1                261\n",
       "40대     0               3789\n",
       "        1                772\n",
       "50대     0               2492\n",
       "        1                506\n",
       "60대     0                459\n",
       "        1                 71\n",
       "70대     0                  2"
      ]
     },
     "execution_count": 40,
     "metadata": {},
     "output_type": "execute_result"
    }
   ],
   "source": [
    "# 연령대별 이탈고객\n",
    "age_churn = pd.DataFrame(df.loc[:,['age_bin','Attrition_Flag']].value_counts().sort_index(ascending=True))\n",
    "age_churn"
   ]
  },
  {
   "cell_type": "code",
   "execution_count": null,
   "id": "29e2e74d",
   "metadata": {},
   "outputs": [],
   "source": []
  },
  {
   "cell_type": "code",
   "execution_count": null,
   "id": "9605e14c",
   "metadata": {},
   "outputs": [],
   "source": []
  },
  {
   "cell_type": "markdown",
   "id": "4e1f5ba3",
   "metadata": {},
   "source": [
    "### 4 (2) 범주형 피처 인코딩"
   ]
  },
  {
   "cell_type": "markdown",
   "id": "64b88e9b",
   "metadata": {},
   "source": [
    "**타겟변수(탈퇴인지, 잔존인지)에 따른 분포를 바 그래프로 보여주는 함수**"
   ]
  },
  {
   "cell_type": "code",
   "execution_count": 41,
   "id": "39e296ad",
   "metadata": {},
   "outputs": [],
   "source": [
    "def bar_chart(feature):\n",
    "    stay = df[df['Attrition_Flag']==0][feature].value_counts()\n",
    "    leave = df[df['Attrition_Flag']==1][feature].value_counts()\n",
    "    temp = pd.DataFrame([stay,leave])\n",
    "    temp.index = ['Existing Customer','Attrited Customer']\n",
    "    \n",
    "    temp.plot(kind='bar',stacked=True, figsize=(10,5))\n",
    "    plt.xticks(rotation=0)"
   ]
  },
  {
   "cell_type": "markdown",
   "id": "dc64acd3",
   "metadata": {},
   "source": [
    "**Card_Category(카드 등급) 고객 이탈자**"
   ]
  },
  {
   "cell_type": "code",
   "execution_count": 42,
   "id": "746fead3",
   "metadata": {},
   "outputs": [
    {
     "data": {
      "text/plain": [
       "Card_Category  Attrition_Flag\n",
       "Blue           0                 7917\n",
       "               1                 1519\n",
       "Gold           0                   95\n",
       "               1                   21\n",
       "Platinum       0                   15\n",
       "               1                    5\n",
       "Silver         0                  473\n",
       "               1                   82\n",
       "Name: Attrition_Flag, dtype: int64"
      ]
     },
     "execution_count": 42,
     "metadata": {},
     "output_type": "execute_result"
    }
   ],
   "source": [
    "# 카드 등급별 이탈자\n",
    "Card_Category = df.groupby(['Card_Category', 'Attrition_Flag'])['Attrition_Flag'].count()\n",
    "Card_Category"
   ]
  },
  {
   "cell_type": "code",
   "execution_count": 43,
   "id": "c6fabd68",
   "metadata": {},
   "outputs": [
    {
     "data": {
      "image/png": "[encoded data removed]",
      "text/plain": [
       "<Figure size 720x360 with 1 Axes>"
      ]
     },
     "metadata": {
      "needs_background": "light"
     },
     "output_type": "display_data"
    }
   ],
   "source": [
    "bar_chart('Card_Category') "
   ]
  },
  {
   "cell_type": "code",
   "execution_count": 44,
   "id": "727ce31f",
   "metadata": {},
   "outputs": [
    {
     "data": {
      "text/plain": [
       "Blue        9436\n",
       "Silver       555\n",
       "Gold         116\n",
       "Platinum      20\n",
       "Name: Card_Category, dtype: int64"
      ]
     },
     "execution_count": 44,
     "metadata": {},
     "output_type": "execute_result"
    }
   ],
   "source": [
    "## Unknow 여부 확인 (결측치)\n",
    "df['Card_Category'].value_counts()"
   ]
  },
  {
   "cell_type": "code",
   "execution_count": null,
   "id": "3503eba2",
   "metadata": {},
   "outputs": [],
   "source": []
  },
  {
   "cell_type": "markdown",
   "id": "da5ddde1",
   "metadata": {},
   "source": [
    "**Education_Level 수준에 따른 고객 이탈자**"
   ]
  },
  {
   "cell_type": "markdown",
   "id": "95179737",
   "metadata": {},
   "source": [
    "#### Education_Level 데이터 정보\n",
    "- unknown 알수 없음\n",
    "- uneducated 중졸이하\n",
    "- high school 고졸\n",
    "- colleage 학사\n",
    "- graduate / post-graduate 석사\n",
    "- Docotrate 박사"
   ]
  },
  {
   "cell_type": "code",
   "execution_count": 45,
   "id": "c583673f",
   "metadata": {
    "scrolled": true
   },
   "outputs": [
    {
     "data": {
      "image/png": "[encoded data removed]",
      "text/plain": [
       "<Figure size 720x360 with 1 Axes>"
      ]
     },
     "metadata": {
      "needs_background": "light"
     },
     "output_type": "display_data"
    }
   ],
   "source": [
    "bar_chart('Education_Level')"
   ]
  },
  {
   "cell_type": "code",
   "execution_count": 46,
   "id": "0dff6f75",
   "metadata": {},
   "outputs": [
    {
     "data": {
      "text/plain": [
       "Graduate         3128\n",
       "High School      2013\n",
       "Unknown          1519\n",
       "Uneducated       1487\n",
       "College          1013\n",
       "Post-Graduate     516\n",
       "Doctorate         451\n",
       "Name: Education_Level, dtype: int64"
      ]
     },
     "execution_count": 46,
     "metadata": {},
     "output_type": "execute_result"
    }
   ],
   "source": [
    "df['Education_Level'].value_counts()"
   ]
  },
  {
   "cell_type": "code",
   "execution_count": 47,
   "id": "ee92ad59",
   "metadata": {},
   "outputs": [
    {
     "data": {
      "text/plain": [
       "Education_Level  Attrition_Flag\n",
       "College          0                  859\n",
       "                 1                  154\n",
       "Doctorate        0                  356\n",
       "                 1                   95\n",
       "Graduate         0                 2641\n",
       "                 1                  487\n",
       "High School      0                 1707\n",
       "                 1                  306\n",
       "Post-Graduate    0                  424\n",
       "                 1                   92\n",
       "Uneducated       0                 1250\n",
       "                 1                  237\n",
       "Unknown          0                 1263\n",
       "                 1                  256\n",
       "Name: Attrition_Flag, dtype: int64"
      ]
     },
     "execution_count": 47,
     "metadata": {},
     "output_type": "execute_result"
    }
   ],
   "source": [
    "Card_Category = df.groupby(['Education_Level', 'Attrition_Flag'])['Attrition_Flag'].count()\n",
    "Card_Category"
   ]
  },
  {
   "cell_type": "code",
   "execution_count": 48,
   "id": "0153cb05",
   "metadata": {},
   "outputs": [
    {
     "data": {
      "text/plain": [
       "Education_Level  Income_Category\n",
       "College          $120K +              70\n",
       "                 $40K - $60K         183\n",
       "                 $60K - $80K         132\n",
       "                 $80K - $120K        175\n",
       "                 Less than $40K      345\n",
       "                 Unknown             108\n",
       "Doctorate        $120K +              37\n",
       "                 $40K - $60K          70\n",
       "                 $60K - $80K          59\n",
       "                 $80K - $120K         57\n",
       "                 Less than $40K      158\n",
       "                 Unknown              70\n",
       "Graduate         $120K +             204\n",
       "                 $40K - $60K         553\n",
       "                 $60K - $80K         422\n",
       "                 $80K - $120K        478\n",
       "                 Less than $40K     1139\n",
       "                 Unknown             332\n",
       "High School      $120K +             147\n",
       "                 $40K - $60K         355\n",
       "                 $60K - $80K         307\n",
       "                 $80K - $120K        308\n",
       "                 Less than $40K      671\n",
       "                 Unknown             225\n",
       "Post-Graduate    $120K +              30\n",
       "                 $40K - $60K         111\n",
       "                 $60K - $80K          77\n",
       "                 $80K - $120K         81\n",
       "                 Less than $40K      170\n",
       "                 Unknown              47\n",
       "Uneducated       $120K +             119\n",
       "                 $40K - $60K         249\n",
       "                 $60K - $80K         195\n",
       "                 $80K - $120K        217\n",
       "                 Less than $40K      522\n",
       "                 Unknown             185\n",
       "Unknown          $120K +             120\n",
       "                 $40K - $60K         269\n",
       "                 $60K - $80K         210\n",
       "                 $80K - $120K        219\n",
       "                 Less than $40K      556\n",
       "                 Unknown             145\n",
       "Name: Attrition_Flag, dtype: int64"
      ]
     },
     "execution_count": 48,
     "metadata": {},
     "output_type": "execute_result"
    }
   ],
   "source": [
    "# 학력 수준에 따른 임금 파악\n",
    "# 임금에 따라 학력 수준을 처리할 수 있는지 파악\n",
    "df.groupby(['Education_Level','Income_Category'])['Attrition_Flag'].count()"
   ]
  },
  {
   "cell_type": "markdown",
   "id": "e1157afe",
   "metadata": {},
   "source": [
    "**Marital_Status 수준에 따른 고객 이탈자**"
   ]
  },
  {
   "cell_type": "code",
   "execution_count": 49,
   "id": "bbb2d93d",
   "metadata": {},
   "outputs": [
    {
     "data": {
      "image/png": "[encoded data removed]",
      "text/plain": [
       "<Figure size 720x360 with 1 Axes>"
      ]
     },
     "metadata": {
      "needs_background": "light"
     },
     "output_type": "display_data"
    }
   ],
   "source": [
    "bar_chart('Marital_Status')"
   ]
  },
  {
   "cell_type": "code",
   "execution_count": 50,
   "id": "9abbb6a2",
   "metadata": {},
   "outputs": [
    {
     "data": {
      "text/plain": [
       "Married     4687\n",
       "Single      3943\n",
       "Unknown      749\n",
       "Divorced     748\n",
       "Name: Marital_Status, dtype: int64"
      ]
     },
     "execution_count": 50,
     "metadata": {},
     "output_type": "execute_result"
    }
   ],
   "source": [
    "df['Marital_Status'].value_counts()"
   ]
  },
  {
   "cell_type": "markdown",
   "id": "d66aa948",
   "metadata": {},
   "source": [
    "**Income_Category 수준에 따른 고객 이탈자**"
   ]
  },
  {
   "cell_type": "code",
   "execution_count": 51,
   "id": "1edf6e5f",
   "metadata": {},
   "outputs": [
    {
     "data": {
      "image/png": "[encoded data removed]",
      "text/plain": [
       "<Figure size 720x360 with 1 Axes>"
      ]
     },
     "metadata": {
      "needs_background": "light"
     },
     "output_type": "display_data"
    }
   ],
   "source": [
    "bar_chart('Income_Category') "
   ]
  },
  {
   "cell_type": "code",
   "execution_count": 52,
   "id": "8c0a6cdb",
   "metadata": {},
   "outputs": [
    {
     "data": {
      "text/plain": [
       "Less than $40K    3561\n",
       "$40K - $60K       1790\n",
       "$80K - $120K      1535\n",
       "$60K - $80K       1402\n",
       "Unknown           1112\n",
       "$120K +            727\n",
       "Name: Income_Category, dtype: int64"
      ]
     },
     "execution_count": 52,
     "metadata": {},
     "output_type": "execute_result"
    }
   ],
   "source": [
    "df['Income_Category'].value_counts()"
   ]
  },
  {
   "cell_type": "markdown",
   "id": "4e676a20",
   "metadata": {},
   "source": [
    "### **Education_Level, Marital_Status, Income_Category에서 \"Unknown\"이라는 결측치 존재**\n",
    "- Education_Level 1519개\n",
    "- Marital_Status 749개\n",
    "- Income_Category 1112개"
   ]
  },
  {
   "cell_type": "code",
   "execution_count": 53,
   "id": "3834579c",
   "metadata": {},
   "outputs": [
    {
     "data": {
      "text/plain": [
       "Graduate         3128\n",
       "High School      2013\n",
       "Unknown          1519\n",
       "Uneducated       1487\n",
       "College          1013\n",
       "Post-Graduate     516\n",
       "Doctorate         451\n",
       "Name: Education_Level, dtype: int64"
      ]
     },
     "execution_count": 53,
     "metadata": {},
     "output_type": "execute_result"
    }
   ],
   "source": [
    "df[\"Education_Level\"].value_counts()"
   ]
  },
  {
   "cell_type": "code",
   "execution_count": 54,
   "id": "da1173e4",
   "metadata": {},
   "outputs": [
    {
     "data": {
      "text/plain": [
       "Married     4687\n",
       "Single      3943\n",
       "Unknown      749\n",
       "Divorced     748\n",
       "Name: Marital_Status, dtype: int64"
      ]
     },
     "execution_count": 54,
     "metadata": {},
     "output_type": "execute_result"
    }
   ],
   "source": [
    "df[\"Marital_Status\"].value_counts()"
   ]
  },
  {
   "cell_type": "code",
   "execution_count": 55,
   "id": "7191322e",
   "metadata": {},
   "outputs": [
    {
     "data": {
      "text/plain": [
       "Less than $40K    3561\n",
       "$40K - $60K       1790\n",
       "$80K - $120K      1535\n",
       "$60K - $80K       1402\n",
       "Unknown           1112\n",
       "$120K +            727\n",
       "Name: Income_Category, dtype: int64"
      ]
     },
     "execution_count": 55,
     "metadata": {},
     "output_type": "execute_result"
    }
   ],
   "source": [
    "df[\"Income_Category\"].value_counts()"
   ]
  },
  {
   "cell_type": "code",
   "execution_count": 56,
   "id": "25d20381",
   "metadata": {},
   "outputs": [
    {
     "name": "stdout",
     "output_type": "stream",
     "text": [
      "<class 'pandas.core.frame.DataFrame'>\n",
      "RangeIndex: 10127 entries, 0 to 10126\n",
      "Data columns (total 22 columns):\n",
      " #   Column                    Non-Null Count  Dtype   \n",
      "---  ------                    --------------  -----   \n",
      " 0   CLIENTNUM                 10127 non-null  int64   \n",
      " 1   Attrition_Flag            10127 non-null  int64   \n",
      " 2   Customer_Age              10127 non-null  int64   \n",
      " 3   Gender                    10127 non-null  int64   \n",
      " 4   Dependent_count           10127 non-null  int64   \n",
      " 5   Education_Level           10127 non-null  object  \n",
      " 6   Marital_Status            10127 non-null  object  \n",
      " 7   Income_Category           10127 non-null  object  \n",
      " 8   Card_Category             10127 non-null  object  \n",
      " 9   Months_on_book            10127 non-null  int64   \n",
      " 10  Total_Relationship_Count  10127 non-null  int64   \n",
      " 11  Months_Inactive_12_mon    10127 non-null  int64   \n",
      " 12  Contacts_Count_12_mon     10127 non-null  int64   \n",
      " 13  Credit_Limit              10127 non-null  float64 \n",
      " 14  Total_Revolving_Bal       10127 non-null  int64   \n",
      " 15  Avg_Open_To_Buy           10127 non-null  float64 \n",
      " 16  Total_Amt_Chng_Q4_Q1      10127 non-null  float64 \n",
      " 17  Total_Trans_Amt           10127 non-null  int64   \n",
      " 18  Total_Trans_Ct            10127 non-null  int64   \n",
      " 19  Total_Ct_Chng_Q4_Q1       10127 non-null  float64 \n",
      " 20  Avg_Utilization_Ratio     10127 non-null  float64 \n",
      " 21  age_bin                   10127 non-null  category\n",
      "dtypes: category(1), float64(5), int64(12), object(4)\n",
      "memory usage: 1.6+ MB\n"
     ]
    }
   ],
   "source": [
    "df.info()"
   ]
  },
  {
   "cell_type": "markdown",
   "id": "f7e46abf",
   "metadata": {},
   "source": [
    "#####  **\"Unknown\"**에 대한 처리 방법은\n",
    "    1. \"Unknown\"도 하나의 category로 해석\n",
    "    2. \"Unknown\"값이 있는 행을 삭제하거나, 칼럼 자체(피처)를 삭제\n",
    "    3. 모델링을 활용하여 대체\n",
    "    4. 최빈값으로 대체\n",
    "#### 여러 가지 시도후 최적화된 값 구하기"
   ]
  },
  {
   "cell_type": "markdown",
   "id": "baf6ac69",
   "metadata": {},
   "source": [
    "**결측치로 처리 되지 않았던 Unknown을 np.nan으로 결측치로 처리 후, 대표값(최빈값)으로 결측치를 대체**"
   ]
  },
  {
   "cell_type": "code",
   "execution_count": 57,
   "id": "9992794a",
   "metadata": {},
   "outputs": [],
   "source": [
    "# Card_Category(카드 등급) 은 4개의 등급(Blue, Silver, Gold, Platinum)으로 나뉘어진 범주형 변수이다. \n",
    "# 라벨링 인코딩을 해주도록 한다.\n",
    "df[\"Card_Category\"].replace({\"Blue\":0,\n",
    "                                 \"Silver\":1,\n",
    "                                 \"Gold\":2,\n",
    "                                 \"Platinum\":3,\n",
    "                                 },inplace=True)"
   ]
  },
  {
   "cell_type": "code",
   "execution_count": 58,
   "id": "711622fd",
   "metadata": {},
   "outputs": [],
   "source": [
    "df[\"Education_Level\"].replace({\"Unknown\":np.nan,\n",
    "                                \"Graduate\":0,\n",
    "                                \"Post-Graduate\":1,\n",
    "                                \"Uneducated\":2,\n",
    "                                \"College\":3,\n",
    "                                \"Doctorate\":4,\n",
    "                                \"High School\":5,\n",
    "                                 },inplace=True)"
   ]
  },
  {
   "cell_type": "code",
   "execution_count": 59,
   "id": "1cec68bb",
   "metadata": {},
   "outputs": [],
   "source": [
    "df[\"Marital_Status\"].replace({\"Unknown\":np.nan,\n",
    "                                \"Married\":0,\n",
    "                                \"Single\":1,\n",
    "                                \"Divorced\":2,\n",
    "                                 },inplace=True)"
   ]
  },
  {
   "cell_type": "code",
   "execution_count": 60,
   "id": "5a678a84",
   "metadata": {},
   "outputs": [],
   "source": [
    "df[\"Income_Category\"].replace({\"Unknown\":np.nan,\n",
    "                                \"Less than $40K\":0,\n",
    "                                \"$40K - $60K\":1,\n",
    "                                \"$60K - $80K\":2,\n",
    "                                \"$80K - $120K\":3,\n",
    "                                \"$120K +\":4,\n",
    "                                 },inplace=True)"
   ]
  },
  {
   "cell_type": "code",
   "execution_count": 61,
   "id": "3383f6ed",
   "metadata": {},
   "outputs": [
    {
     "data": {
      "text/plain": [
       "CLIENTNUM                      0\n",
       "Attrition_Flag                 0\n",
       "Customer_Age                   0\n",
       "Gender                         0\n",
       "Dependent_count                0\n",
       "Education_Level             1519\n",
       "Marital_Status               749\n",
       "Income_Category             1112\n",
       "Card_Category                  0\n",
       "Months_on_book                 0\n",
       "Total_Relationship_Count       0\n",
       "Months_Inactive_12_mon         0\n",
       "Contacts_Count_12_mon          0\n",
       "Credit_Limit                   0\n",
       "Total_Revolving_Bal            0\n",
       "Avg_Open_To_Buy                0\n",
       "Total_Amt_Chng_Q4_Q1           0\n",
       "Total_Trans_Amt                0\n",
       "Total_Trans_Ct                 0\n",
       "Total_Ct_Chng_Q4_Q1            0\n",
       "Avg_Utilization_Ratio          0\n",
       "age_bin                        0\n",
       "dtype: int64"
      ]
     },
     "execution_count": 61,
     "metadata": {},
     "output_type": "execute_result"
    }
   ],
   "source": [
    "# Unknown이 결측치(np.nan)로 대체 된것을 확인할 수 있다.\n",
    "df.isnull().sum()"
   ]
  },
  {
   "cell_type": "code",
   "execution_count": 62,
   "id": "b5498327",
   "metadata": {},
   "outputs": [
    {
     "name": "stdout",
     "output_type": "stream",
     "text": [
      "<class 'pandas.core.frame.DataFrame'>\n",
      "RangeIndex: 10127 entries, 0 to 10126\n",
      "Data columns (total 22 columns):\n",
      " #   Column                    Non-Null Count  Dtype   \n",
      "---  ------                    --------------  -----   \n",
      " 0   CLIENTNUM                 10127 non-null  int64   \n",
      " 1   Attrition_Flag            10127 non-null  int64   \n",
      " 2   Customer_Age              10127 non-null  int64   \n",
      " 3   Gender                    10127 non-null  int64   \n",
      " 4   Dependent_count           10127 non-null  int64   \n",
      " 5   Education_Level           8608 non-null   float64 \n",
      " 6   Marital_Status            9378 non-null   float64 \n",
      " 7   Income_Category           9015 non-null   float64 \n",
      " 8   Card_Category             10127 non-null  int64   \n",
      " 9   Months_on_book            10127 non-null  int64   \n",
      " 10  Total_Relationship_Count  10127 non-null  int64   \n",
      " 11  Months_Inactive_12_mon    10127 non-null  int64   \n",
      " 12  Contacts_Count_12_mon     10127 non-null  int64   \n",
      " 13  Credit_Limit              10127 non-null  float64 \n",
      " 14  Total_Revolving_Bal       10127 non-null  int64   \n",
      " 15  Avg_Open_To_Buy           10127 non-null  float64 \n",
      " 16  Total_Amt_Chng_Q4_Q1      10127 non-null  float64 \n",
      " 17  Total_Trans_Amt           10127 non-null  int64   \n",
      " 18  Total_Trans_Ct            10127 non-null  int64   \n",
      " 19  Total_Ct_Chng_Q4_Q1       10127 non-null  float64 \n",
      " 20  Avg_Utilization_Ratio     10127 non-null  float64 \n",
      " 21  age_bin                   10127 non-null  category\n",
      "dtypes: category(1), float64(8), int64(13)\n",
      "memory usage: 1.6 MB\n"
     ]
    }
   ],
   "source": [
    "df.info()"
   ]
  },
  {
   "cell_type": "code",
   "execution_count": 63,
   "id": "65d0e7f4",
   "metadata": {},
   "outputs": [
    {
     "data": {
      "text/plain": [
       "SimpleImputer(strategy='most_frequent')"
      ]
     },
     "execution_count": 63,
     "metadata": {},
     "output_type": "execute_result"
    }
   ],
   "source": [
    "# 대표값 이용 결측치 대체 모듈 \n",
    "from sklearn.impute import SimpleImputer\n",
    "# 각 데이터에 사용할 인스턴스 생성\n",
    "SI_mode =SimpleImputer(strategy = 'most_frequent') # 대표값 중 최빈값으로 결측치를 대체해준다.\n",
    "# 학습\n",
    "SI_mode.fit(df)\n",
    "df = pd.DataFrame(SI_mode.transform(df),\n",
    "                            columns = df.columns)"
   ]
  },
  {
   "cell_type": "code",
   "execution_count": 64,
   "id": "dce8876a",
   "metadata": {},
   "outputs": [
    {
     "data": {
      "text/plain": [
       "CLIENTNUM                   0\n",
       "Attrition_Flag              0\n",
       "Customer_Age                0\n",
       "Gender                      0\n",
       "Dependent_count             0\n",
       "Education_Level             0\n",
       "Marital_Status              0\n",
       "Income_Category             0\n",
       "Card_Category               0\n",
       "Months_on_book              0\n",
       "Total_Relationship_Count    0\n",
       "Months_Inactive_12_mon      0\n",
       "Contacts_Count_12_mon       0\n",
       "Credit_Limit                0\n",
       "Total_Revolving_Bal         0\n",
       "Avg_Open_To_Buy             0\n",
       "Total_Amt_Chng_Q4_Q1        0\n",
       "Total_Trans_Amt             0\n",
       "Total_Trans_Ct              0\n",
       "Total_Ct_Chng_Q4_Q1         0\n",
       "Avg_Utilization_Ratio       0\n",
       "age_bin                     0\n",
       "dtype: int64"
      ]
     },
     "execution_count": 64,
     "metadata": {},
     "output_type": "execute_result"
    }
   ],
   "source": [
    "# 결측치가 대체를 확인할 수 있다.\n",
    "df.isnull().sum()"
   ]
  },
  {
   "cell_type": "code",
   "execution_count": null,
   "id": "a193cd3f",
   "metadata": {},
   "outputs": [],
   "source": []
  },
  {
   "cell_type": "code",
   "execution_count": 65,
   "id": "1eeee4bd",
   "metadata": {},
   "outputs": [
    {
     "name": "stdout",
     "output_type": "stream",
     "text": [
      "<class 'pandas.core.frame.DataFrame'>\n",
      "RangeIndex: 10127 entries, 0 to 10126\n",
      "Data columns (total 22 columns):\n",
      " #   Column                    Non-Null Count  Dtype \n",
      "---  ------                    --------------  ----- \n",
      " 0   CLIENTNUM                 10127 non-null  object\n",
      " 1   Attrition_Flag            10127 non-null  object\n",
      " 2   Customer_Age              10127 non-null  object\n",
      " 3   Gender                    10127 non-null  object\n",
      " 4   Dependent_count           10127 non-null  object\n",
      " 5   Education_Level           10127 non-null  object\n",
      " 6   Marital_Status            10127 non-null  object\n",
      " 7   Income_Category           10127 non-null  object\n",
      " 8   Card_Category             10127 non-null  object\n",
      " 9   Months_on_book            10127 non-null  object\n",
      " 10  Total_Relationship_Count  10127 non-null  object\n",
      " 11  Months_Inactive_12_mon    10127 non-null  object\n",
      " 12  Contacts_Count_12_mon     10127 non-null  object\n",
      " 13  Credit_Limit              10127 non-null  object\n",
      " 14  Total_Revolving_Bal       10127 non-null  object\n",
      " 15  Avg_Open_To_Buy           10127 non-null  object\n",
      " 16  Total_Amt_Chng_Q4_Q1      10127 non-null  object\n",
      " 17  Total_Trans_Amt           10127 non-null  object\n",
      " 18  Total_Trans_Ct            10127 non-null  object\n",
      " 19  Total_Ct_Chng_Q4_Q1       10127 non-null  object\n",
      " 20  Avg_Utilization_Ratio     10127 non-null  object\n",
      " 21  age_bin                   10127 non-null  object\n",
      "dtypes: object(22)\n",
      "memory usage: 1.7+ MB\n"
     ]
    }
   ],
   "source": [
    "df.info()"
   ]
  },
  {
   "cell_type": "code",
   "execution_count": 66,
   "id": "a5e210e9",
   "metadata": {},
   "outputs": [],
   "source": [
    "#중간에 dtype이 모두 object로 바뀌어서 에러가 났다.\n",
    "\n",
    "df[Numerics]=df[Numerics].astype(\"float\")\n",
    "df[Labels]=df[Labels].astype(\"int\")\n",
    "df[Orders]=df[Orders].astype(\"int\")\n",
    "df[\"Attrition_Flag\"]=df[\"Attrition_Flag\"].astype(\"int\")\n",
    "\n",
    "# 여기서 모든 데이터 타입을 float으로 바꾸어도 되는 것인지 궁금하다."
   ]
  },
  {
   "cell_type": "code",
   "execution_count": 67,
   "id": "a212469d",
   "metadata": {},
   "outputs": [
    {
     "name": "stdout",
     "output_type": "stream",
     "text": [
      "<class 'pandas.core.frame.DataFrame'>\n",
      "RangeIndex: 10127 entries, 0 to 10126\n",
      "Data columns (total 22 columns):\n",
      " #   Column                    Non-Null Count  Dtype  \n",
      "---  ------                    --------------  -----  \n",
      " 0   CLIENTNUM                 10127 non-null  object \n",
      " 1   Attrition_Flag            10127 non-null  int32  \n",
      " 2   Customer_Age              10127 non-null  float64\n",
      " 3   Gender                    10127 non-null  int32  \n",
      " 4   Dependent_count           10127 non-null  float64\n",
      " 5   Education_Level           10127 non-null  int32  \n",
      " 6   Marital_Status            10127 non-null  int32  \n",
      " 7   Income_Category           10127 non-null  int32  \n",
      " 8   Card_Category             10127 non-null  int32  \n",
      " 9   Months_on_book            10127 non-null  float64\n",
      " 10  Total_Relationship_Count  10127 non-null  float64\n",
      " 11  Months_Inactive_12_mon    10127 non-null  float64\n",
      " 12  Contacts_Count_12_mon     10127 non-null  float64\n",
      " 13  Credit_Limit              10127 non-null  float64\n",
      " 14  Total_Revolving_Bal       10127 non-null  float64\n",
      " 15  Avg_Open_To_Buy           10127 non-null  float64\n",
      " 16  Total_Amt_Chng_Q4_Q1      10127 non-null  float64\n",
      " 17  Total_Trans_Amt           10127 non-null  float64\n",
      " 18  Total_Trans_Ct            10127 non-null  float64\n",
      " 19  Total_Ct_Chng_Q4_Q1       10127 non-null  float64\n",
      " 20  Avg_Utilization_Ratio     10127 non-null  float64\n",
      " 21  age_bin                   10127 non-null  object \n",
      "dtypes: float64(14), int32(6), object(2)\n",
      "memory usage: 1.5+ MB\n"
     ]
    }
   ],
   "source": [
    "df.info()"
   ]
  },
  {
   "cell_type": "code",
   "execution_count": null,
   "id": "b64ee791",
   "metadata": {},
   "outputs": [],
   "source": []
  },
  {
   "cell_type": "markdown",
   "id": "ff35479a",
   "metadata": {},
   "source": [
    "#### 4-(3) 상관관계가 높은 피처 제거"
   ]
  },
  {
   "cell_type": "code",
   "execution_count": 68,
   "id": "07311e77",
   "metadata": {
    "scrolled": false
   },
   "outputs": [
    {
     "data": {
      "text/plain": [
       "(<Figure size 1440x648 with 1 Axes>, <AxesSubplot:>)"
      ]
     },
     "execution_count": 68,
     "metadata": {},
     "output_type": "execute_result"
    },
    {
     "data": {
      "text/plain": [
       "<AxesSubplot:>"
      ]
     },
     "execution_count": 68,
     "metadata": {},
     "output_type": "execute_result"
    },
    {
     "data": {
      "image/png": "[encoded data removed]",
      "text/plain": [
       "<Figure size 1440x648 with 2 Axes>"
      ]
     },
     "metadata": {},
     "output_type": "display_data"
    }
   ],
   "source": [
    "plt.subplots(figsize=(20,9))\n",
    "plt.tick_params(axis='x',labelcolor='white')\n",
    "plt.tick_params(axis='y',labelcolor='white')\n",
    "sns.heatmap(df[Numerics].corr(),annot = True )"
   ]
  },
  {
   "cell_type": "markdown",
   "id": "4dbc8e67",
   "metadata": {},
   "source": [
    "### 피처 간의 상관계수로 열 제거 판단"
   ]
  },
  {
   "cell_type": "markdown",
   "id": "7ed73a90",
   "metadata": {},
   "source": [
    "(1) **`Month_on_book`**과 **`Customer_Age`**의 상관계수는 0.79로 높지만, 삭제 X\n",
    "- 각각의 피처 할부기간, 고객 나이를 의미\n",
    "- 도메인 관점에서 분석하면 각각의 상관관계 적은 피처로 생각 가능해서 삭제하지 않음\n",
    "\n",
    "\n",
    "(2) **`Credit_Limit`**와 **`Avg_Utilization_Ratio`**의 상관계수가 0.48로 높아서, 삭제\n",
    "- 같은 변수에서 파생되어진 피처\n",
    "- 둘중 하나의 변수만 나두고 나머지 하나는 삭제"
   ]
  },
  {
   "cell_type": "code",
   "execution_count": null,
   "id": "a7a83488",
   "metadata": {},
   "outputs": [],
   "source": []
  },
  {
   "cell_type": "markdown",
   "id": "44d31770",
   "metadata": {},
   "source": [
    "**Attrition_Flag(범주형)과 수치형 피처 변수들의 상관관계를 파악** \n",
    "- 상관계수를 파악하기 위해 pointbiserialr 사용 "
   ]
  },
  {
   "cell_type": "markdown",
   "id": "320b7f21",
   "metadata": {},
   "source": [
    "# 여기서 p-value의 의미 해석하기 ??????**\n",
    "- 내용 협의"
   ]
  },
  {
   "cell_type": "code",
   "execution_count": 69,
   "id": "821b4f32",
   "metadata": {},
   "outputs": [
    {
     "name": "stdout",
     "output_type": "stream",
     "text": [
      "Attrition_Flag를  기준으로 상관관계 분석\n",
      "---------------------------------------------------\n",
      "\n",
      "Avg_Open_To_Buy 상관관계와 P-value\n",
      "결과\n",
      "상관관계 : -0.0003\n",
      "P-value : 0.97711609\n",
      "---------------------------------------------------\n",
      "\n",
      "Credit_Limit 상관관계와 P-value\n",
      "결과\n",
      "상관관계 : -0.0239\n",
      "P-value : 0.01628536\n",
      "---------------------------------------------------\n",
      "\n",
      "Total_Revolving_Bal 상관관계와 P-value\n",
      "결과\n",
      "상관관계 : -0.2631\n",
      "P-value : 0.00000000\n",
      "---------------------------------------------------\n",
      "\n",
      "Avg_Utilization_Ratio 상관관계와 P-value\n",
      "결과\n",
      "상관관계 : -0.1784\n",
      "P-value : 0.00000000\n",
      "---------------------------------------------------\n",
      "\n",
      "Total_Trans_Amt 상관관계와 P-value\n",
      "결과\n",
      "상관관계 : -0.1686\n",
      "P-value : 0.00000000\n",
      "---------------------------------------------------\n",
      "\n",
      "Total_Trans_Ct 상관관계와 P-value\n",
      "결과\n",
      "상관관계 : -0.3714\n",
      "P-value : 0.00000000\n",
      "---------------------------------------------------\n",
      "\n",
      "Total_Amt_Chng_Q4_Q1 상관관계와 P-value\n",
      "결과\n",
      "상관관계 : -0.1311\n",
      "P-value : 0.00000000\n",
      "---------------------------------------------------\n",
      "\n",
      "Total_Ct_Chng_Q4_Q1 상관관계와 P-value\n",
      "결과\n",
      "상관관계 : -0.2901\n",
      "P-value : 0.00000000\n",
      "---------------------------------------------------\n",
      "\n"
     ]
    }
   ],
   "source": [
    "from scipy.stats import pointbiserialr\n",
    "\n",
    "features = ['Avg_Open_To_Buy','Credit_Limit','Total_Revolving_Bal','Avg_Utilization_Ratio','Total_Trans_Amt','Total_Trans_Ct','Total_Amt_Chng_Q4_Q1','Total_Ct_Chng_Q4_Q1'] \n",
    "\n",
    "print(\"Attrition_Flag를  기준으로 상관관계 분석\")\n",
    "print('---------------------------------------------------')\n",
    "print('')\n",
    "\n",
    "for feature in features:\n",
    "    target_feature_corr, target_feature_pvalue = pointbiserialr(df['Attrition_Flag'], df[feature])\n",
    "    print(feature,\"상관관계와 P-value\")\n",
    "    print('결과') \n",
    "    print('상관관계 : {0:.4f}'.format(target_feature_corr))\n",
    "    print('P-value : {0:.8f}'.format(target_feature_pvalue))\n",
    "    print('---------------------------------------------------')\n",
    "    print('')\n",
    "   "
   ]
  },
  {
   "cell_type": "markdown",
   "id": "4fc1fce0",
   "metadata": {},
   "source": [
    "**상관관계가 낮은 열 제거**\n",
    "- Avg_Open_To_Buy, Avg_Utilization_Ratio, Total_Trans_Amt, Total_Amt_Chng_Q4_Q1 삭제(총 4개 삭제)"
   ]
  },
  {
   "cell_type": "code",
   "execution_count": 70,
   "id": "46fe4585",
   "metadata": {},
   "outputs": [],
   "source": [
    "df.drop([\"CLIENTNUM\", # 식별자 삭제\n",
    "         \"Avg_Open_To_Buy\",\n",
    "         \"Avg_Utilization_Ratio\",\n",
    "         \"Total_Trans_Amt\",\n",
    "         \"age_bin\",\n",
    "         \"Total_Amt_Chng_Q4_Q1\"], axis=1,inplace=True)"
   ]
  },
  {
   "cell_type": "code",
   "execution_count": null,
   "id": "5d989dcc",
   "metadata": {},
   "outputs": [],
   "source": []
  },
  {
   "cell_type": "markdown",
   "id": "5b0b743b",
   "metadata": {},
   "source": [
    "#### 4 - (4) 수치형 변수 log변환 정규화 변환"
   ]
  },
  {
   "cell_type": "code",
   "execution_count": 71,
   "id": "a003a572",
   "metadata": {},
   "outputs": [],
   "source": [
    "# 수치형 변수 중에 drop시킨 변수를 제외한 나머지 변수들을 모은 리스트를 만든다.\n",
    "Numerics = ['Customer_Age','Dependent_count','Months_on_book',\n",
    "       'Total_Relationship_Count', 'Months_Inactive_12_mon',\n",
    "       'Contacts_Count_12_mon', 'Credit_Limit', 'Total_Revolving_Bal',\n",
    "        'Total_Ct_Chng_Q4_Q1', \n",
    "       'Total_Trans_Ct'] "
   ]
  },
  {
   "cell_type": "code",
   "execution_count": 72,
   "id": "5d0cf07c",
   "metadata": {},
   "outputs": [
    {
     "data": {
      "text/plain": [
       "<AxesSubplot:xlabel='Credit_Limit', ylabel='Count'>"
      ]
     },
     "execution_count": 72,
     "metadata": {},
     "output_type": "execute_result"
    },
    {
     "data": {
      "image/png": "[encoded data removed]",
      "text/plain": [
       "<Figure size 432x432 with 1 Axes>"
      ]
     },
     "metadata": {
      "needs_background": "light"
     },
     "output_type": "display_data"
    }
   ],
   "source": [
    "# Credit_Limit의 분포를 히스토그램으로 시각화\n",
    "sns.histplot(df[\"Credit_Limit\"])"
   ]
  },
  {
   "cell_type": "code",
   "execution_count": 73,
   "id": "3ffd92d8",
   "metadata": {},
   "outputs": [],
   "source": [
    "# 편향이 심한 Credit_Limit은 로그 변환을 해주도록한다.\n",
    "\n",
    "df[\"Credit_Limit\"]=np.log1p(df[\"Credit_Limit\"])"
   ]
  },
  {
   "cell_type": "code",
   "execution_count": 74,
   "id": "b05377d8",
   "metadata": {},
   "outputs": [
    {
     "data": {
      "text/plain": [
       "0        9.448727\n",
       "1        9.018817\n",
       "2        8.137103\n",
       "3        8.105911\n",
       "4        8.458928\n",
       "           ...   \n",
       "10122    8.295049\n",
       "10123    8.361241\n",
       "10124    8.596004\n",
       "10125    8.572060\n",
       "10126    9.248503\n",
       "Name: Credit_Limit, Length: 10127, dtype: float64"
      ]
     },
     "execution_count": 74,
     "metadata": {},
     "output_type": "execute_result"
    }
   ],
   "source": [
    "df[\"Credit_Limit\"]"
   ]
  },
  {
   "cell_type": "code",
   "execution_count": 75,
   "id": "abd98f40",
   "metadata": {},
   "outputs": [
    {
     "data": {
      "text/plain": [
       "<AxesSubplot:xlabel='Credit_Limit', ylabel='Count'>"
      ]
     },
     "execution_count": 75,
     "metadata": {},
     "output_type": "execute_result"
    },
    {
     "data": {
      "image/png": "[encoded data removed]",
      "text/plain": [
       "<Figure size 432x432 with 1 Axes>"
      ]
     },
     "metadata": {
      "needs_background": "light"
     },
     "output_type": "display_data"
    }
   ],
   "source": [
    "sns.histplot(df[\"Credit_Limit\"])\n",
    "# 편향이 조금 완화 된것을 확인 할 수 있다."
   ]
  },
  {
   "cell_type": "markdown",
   "id": "bbc16437",
   "metadata": {},
   "source": [
    "**표준 정규화로 변환**\n",
    "- 평균 : 0, 표준편차 :1 "
   ]
  },
  {
   "cell_type": "code",
   "execution_count": 76,
   "id": "b565ff89",
   "metadata": {},
   "outputs": [],
   "source": [
    "from sklearn.preprocessing import StandardScaler\n",
    "scaler = StandardScaler()\n",
    "\n",
    "for numeric in ['Customer_Age','Credit_Limit','Total_Revolving_Bal','Total_Ct_Chng_Q4_Q1','Total_Trans_Ct']:\n",
    "    df[numeric] = scaler.fit_transform(df[numeric].values.reshape(-1,1))"
   ]
  },
  {
   "cell_type": "code",
   "execution_count": 77,
   "id": "321c3f16",
   "metadata": {},
   "outputs": [
    {
     "data": {
      "text/html": [
       "<div>\n",
       "<style scoped>\n",
       "    .dataframe tbody tr th:only-of-type {\n",
       "        vertical-align: middle;\n",
       "    }\n",
       "\n",
       "    .dataframe tbody tr th {\n",
       "        vertical-align: top;\n",
       "    }\n",
       "\n",
       "    .dataframe thead th {\n",
       "        text-align: right;\n",
       "    }\n",
       "</style>\n",
       "<table border=\"1\" class=\"dataframe\">\n",
       "  <thead>\n",
       "    <tr style=\"text-align: right;\">\n",
       "      <th></th>\n",
       "      <th>Customer_Age</th>\n",
       "      <th>Dependent_count</th>\n",
       "      <th>Months_on_book</th>\n",
       "      <th>Total_Relationship_Count</th>\n",
       "      <th>Months_Inactive_12_mon</th>\n",
       "      <th>Contacts_Count_12_mon</th>\n",
       "      <th>Credit_Limit</th>\n",
       "      <th>Total_Revolving_Bal</th>\n",
       "      <th>Total_Ct_Chng_Q4_Q1</th>\n",
       "      <th>Total_Trans_Ct</th>\n",
       "    </tr>\n",
       "  </thead>\n",
       "  <tbody>\n",
       "    <tr>\n",
       "      <th>0</th>\n",
       "      <td>-0.165406</td>\n",
       "      <td>3.0</td>\n",
       "      <td>39.0</td>\n",
       "      <td>5.0</td>\n",
       "      <td>1.0</td>\n",
       "      <td>3.0</td>\n",
       "      <td>0.905210</td>\n",
       "      <td>-0.473422</td>\n",
       "      <td>3.834003</td>\n",
       "      <td>-0.973895</td>\n",
       "    </tr>\n",
       "    <tr>\n",
       "      <th>1</th>\n",
       "      <td>0.333570</td>\n",
       "      <td>5.0</td>\n",
       "      <td>44.0</td>\n",
       "      <td>6.0</td>\n",
       "      <td>1.0</td>\n",
       "      <td>2.0</td>\n",
       "      <td>0.444695</td>\n",
       "      <td>-0.366667</td>\n",
       "      <td>12.608573</td>\n",
       "      <td>-1.357340</td>\n",
       "    </tr>\n",
       "    <tr>\n",
       "      <th>2</th>\n",
       "      <td>0.583058</td>\n",
       "      <td>3.0</td>\n",
       "      <td>36.0</td>\n",
       "      <td>4.0</td>\n",
       "      <td>1.0</td>\n",
       "      <td>0.0</td>\n",
       "      <td>-0.499786</td>\n",
       "      <td>-1.426858</td>\n",
       "      <td>6.807864</td>\n",
       "      <td>-1.911206</td>\n",
       "    </tr>\n",
       "    <tr>\n",
       "      <th>3</th>\n",
       "      <td>-0.789126</td>\n",
       "      <td>4.0</td>\n",
       "      <td>34.0</td>\n",
       "      <td>3.0</td>\n",
       "      <td>4.0</td>\n",
       "      <td>1.0</td>\n",
       "      <td>-0.533199</td>\n",
       "      <td>1.661686</td>\n",
       "      <td>6.807864</td>\n",
       "      <td>-1.911206</td>\n",
       "    </tr>\n",
       "    <tr>\n",
       "      <th>4</th>\n",
       "      <td>-0.789126</td>\n",
       "      <td>3.0</td>\n",
       "      <td>21.0</td>\n",
       "      <td>5.0</td>\n",
       "      <td>1.0</td>\n",
       "      <td>0.0</td>\n",
       "      <td>-0.155051</td>\n",
       "      <td>-1.426858</td>\n",
       "      <td>7.509325</td>\n",
       "      <td>-1.570365</td>\n",
       "    </tr>\n",
       "  </tbody>\n",
       "</table>\n",
       "</div>"
      ],
      "text/plain": [
       "   Customer_Age  Dependent_count  Months_on_book  Total_Relationship_Count  \\\n",
       "0     -0.165406              3.0            39.0                       5.0   \n",
       "1      0.333570              5.0            44.0                       6.0   \n",
       "2      0.583058              3.0            36.0                       4.0   \n",
       "3     -0.789126              4.0            34.0                       3.0   \n",
       "4     -0.789126              3.0            21.0                       5.0   \n",
       "\n",
       "   Months_Inactive_12_mon  Contacts_Count_12_mon  Credit_Limit  \\\n",
       "0                     1.0                    3.0      0.905210   \n",
       "1                     1.0                    2.0      0.444695   \n",
       "2                     1.0                    0.0     -0.499786   \n",
       "3                     4.0                    1.0     -0.533199   \n",
       "4                     1.0                    0.0     -0.155051   \n",
       "\n",
       "   Total_Revolving_Bal  Total_Ct_Chng_Q4_Q1  Total_Trans_Ct  \n",
       "0            -0.473422             3.834003       -0.973895  \n",
       "1            -0.366667            12.608573       -1.357340  \n",
       "2            -1.426858             6.807864       -1.911206  \n",
       "3             1.661686             6.807864       -1.911206  \n",
       "4            -1.426858             7.509325       -1.570365  "
      ]
     },
     "execution_count": 77,
     "metadata": {},
     "output_type": "execute_result"
    }
   ],
   "source": [
    "# 수치형 데이터 표준화 확인\n",
    "df[Numerics].head()"
   ]
  },
  {
   "cell_type": "code",
   "execution_count": null,
   "id": "181e6f65",
   "metadata": {},
   "outputs": [],
   "source": []
  },
  {
   "cell_type": "code",
   "execution_count": null,
   "id": "bb5d2b8f",
   "metadata": {},
   "outputs": [],
   "source": []
  },
  {
   "cell_type": "markdown",
   "id": "57583234",
   "metadata": {},
   "source": [
    "## 5. 모델링"
   ]
  },
  {
   "cell_type": "markdown",
   "id": "426e19a1",
   "metadata": {},
   "source": [
    "#### 사용할 알고리즘\n",
    "- LogisticRegression\n",
    "- XGBoost\n",
    "- LightGBM"
   ]
  },
  {
   "cell_type": "markdown",
   "id": "478797ad",
   "metadata": {},
   "source": [
    "### 안성준 표작성 부탁\n",
    "- 결과치 표"
   ]
  },
  {
   "cell_type": "markdown",
   "id": "a0fe2ab3",
   "metadata": {},
   "source": [
    "### 5 - (1)지도학습"
   ]
  },
  {
   "cell_type": "markdown",
   "id": "c0fa75ab",
   "metadata": {},
   "source": [
    "### 사용 함수"
   ]
  },
  {
   "cell_type": "code",
   "execution_count": 78,
   "id": "0c10a448",
   "metadata": {},
   "outputs": [],
   "source": [
    "from sklearn.metrics import confusion_matrix, accuracy_score, precision_score, recall_score, f1_score\n",
    "from sklearn.metrics import roc_auc_score\n",
    "\n",
    "# 수정된 get_clf_eval() 함수 \n",
    "def get_clf_eval(y_test, pred=None, pred_proba=None):\n",
    "    confusion = confusion_matrix(y_test, pred)\n",
    "    accuracy = accuracy_score(y_test , pred)\n",
    "    precision = precision_score(y_test, pred)\n",
    "    recall = recall_score(y_test, pred)\n",
    "    f1 = f1_score(y_test,pred)\n",
    "    \n",
    "#     # ROC-AUC 추가 \n",
    "#     roc_auc = roc_auc_score(y_test, pred_proba)\n",
    "    print('오차 행렬')\n",
    "    print(confusion)\n",
    "#     # ROC-AUC print 추가\n",
    "    print('정확도: {0:.4f}, 정밀도: {1:.4f}, 재현율: {2:.4f},\\\n",
    "     F1: {3:.4f}'.format(accuracy, precision, recall, f1)) #, roc_auc))"
   ]
  },
  {
   "cell_type": "code",
   "execution_count": 79,
   "id": "324cac25",
   "metadata": {},
   "outputs": [],
   "source": [
    "# 테스트를 수행할 모든 임곗값을 리스트 객체로 저장. \n",
    "thresholds = [0.05,0.11,0.2,0.3, 0.4, 0.45, 0.50, 0.55, 0.60]\n",
    "\n",
    "def get_eval_by_threshold(y_test , pred_proba_c1, thresholds):\n",
    "    # thresholds list객체내의 값을 차례로 iteration하면서 Evaluation 수행.\n",
    "    for custom_threshold in thresholds:\n",
    "        binarizer = Binarizer(threshold=custom_threshold).fit(pred_proba_c1) \n",
    "        custom_predict = binarizer.transform(pred_proba_c1)\n",
    "        print('\\n임곗값:',custom_threshold)\n",
    "        get_clf_eval(y_test , custom_predict)"
   ]
  },
  {
   "cell_type": "code",
   "execution_count": 80,
   "id": "009f2e24",
   "metadata": {},
   "outputs": [],
   "source": [
    "# 함수 만들기\n",
    "import matplotlib.pyplot as plt\n",
    "import matplotlib.ticker as ticker\n",
    "%matplotlib inline\n",
    "\n",
    "# y_test : 실제 값  pred_proba_c1: 예측 확률 값\n",
    "def precision_recall_curve_plot(y_test , pred_proba_c1): \n",
    "    # threshold ndarray와 이 threshold에 따른 정밀도, 재현율 ndarray 추출. \n",
    "    precisions, recalls, thresholds = precision_recall_curve( y_test, pred_proba_c1)\n",
    "    \n",
    "    # X축을 threshold값으로, Y축은 정밀도, 재현율 값으로 각각 Plot 수행. \n",
    "    # 정밀도는 점선으로 표시\n",
    "    plt.figure(figsize=(8,6))\n",
    "    threshold_boundary = thresholds.shape[0] # (143,)에서 143 추출\n",
    "    # thresholds : 143이고, precisions과 recalls는 144개로 x, y축 값의 개수가 맞지 않으므로\n",
    "    # precisions, recalls로 그래프 그리면 오류 \n",
    "    # y 값을 [0:threshold_boundary] ([0:143])로 143개 추출해서 x축 개수와 맞춤\n",
    "    plt.plot(thresholds, precisions[0:threshold_boundary], linestyle='--', label='precision') \n",
    "    plt.plot(thresholds, recalls[0:threshold_boundary],label='recall')\n",
    "    \n",
    "    # threshold 값 X 축의 Scale을 0.1 단위로 변경\n",
    "    # xlim() : X축 범위를 지정하거나 반환\n",
    "    start, end = plt.xlim() # X축 범위 반환\n",
    "    plt.xticks(np.round(np.arange(start, end, 0.1),2))\n",
    "    \n",
    "    # x축, y축 label과 legend, 그리고 grid 설정\n",
    "    plt.xlabel('Threshold value'); plt.ylabel('Precision and Recall value')\n",
    "    plt.legend(); plt.grid()\n",
    "    plt.show()"
   ]
  },
  {
   "cell_type": "code",
   "execution_count": 81,
   "id": "4f1a3e38",
   "metadata": {},
   "outputs": [],
   "source": [
    "def get_model_train_eval(model, ftr_train=None, ftr_test=None, tgt_train=None, tgt_test=None) :\n",
    "    model.fit(ftr_train, tgt_train)\n",
    "    pred = model.predict(ftr_test)\n",
    "    pred_proba = model.predict_proba(ftr_test)[:,1]\n",
    "    get_clf_eval(tgt_test,pred,pred_proba) ## 평가진행 함수 호출"
   ]
  },
  {
   "cell_type": "markdown",
   "id": "b3f7d1a4",
   "metadata": {},
   "source": [
    "### 학습/평가 데이터 분리"
   ]
  },
  {
   "cell_type": "code",
   "execution_count": 148,
   "id": "a2bbe0c4",
   "metadata": {},
   "outputs": [],
   "source": [
    "X = df.iloc[:,1:] # 피처 변수 \n",
    "y = df.iloc[:,:1] # 타겟 변수 분리 "
   ]
  },
  {
   "cell_type": "code",
   "execution_count": 149,
   "id": "99033050",
   "metadata": {},
   "outputs": [],
   "source": [
    "# 학습 데이터와 평가 데이터로 분리\n",
    "from sklearn.model_selection import train_test_split\n",
    "X_train, X_test, y_train, y_test = train_test_split(X, y, random_state=42, stratify=y)"
   ]
  },
  {
   "cell_type": "markdown",
   "id": "a01be79b",
   "metadata": {},
   "source": [
    "### 사용자 알고리즘 명"
   ]
  },
  {
   "cell_type": "markdown",
   "id": "9dd7e778",
   "metadata": {},
   "source": [
    "- LogisticRegression\n",
    "- XGBoost\n",
    "- LightGBM\n"
   ]
  },
  {
   "cell_type": "markdown",
   "id": "a18b2ff3",
   "metadata": {},
   "source": [
    "## 기본 모델링"
   ]
  },
  {
   "cell_type": "code",
   "execution_count": 150,
   "id": "c992e3cf",
   "metadata": {
    "scrolled": true
   },
   "outputs": [
    {
     "data": {
      "text/plain": [
       "DecisionTreeClassifier(random_state=11)"
      ]
     },
     "execution_count": 150,
     "metadata": {},
     "output_type": "execute_result"
    },
    {
     "name": "stdout",
     "output_type": "stream",
     "text": [
      "오차 행렬\n",
      "[[1990  135]\n",
      " [ 146  261]]\n",
      "정확도: 0.8890, 정밀도: 0.6591, 재현율: 0.6413,     F1: 0.6501\n"
     ]
    },
    {
     "name": "stderr",
     "output_type": "stream",
     "text": [
      "<ipython-input-150-8215bf5dfc44>:23: DataConversionWarning: A column-vector y was passed when a 1d array was expected. Please change the shape of y to (n_samples,), for example using ravel().\n",
      "  rf_clf.fit(X_train, y_train)\n"
     ]
    },
    {
     "data": {
      "text/plain": [
       "RandomForestClassifier(random_state=11)"
      ]
     },
     "execution_count": 150,
     "metadata": {},
     "output_type": "execute_result"
    },
    {
     "name": "stdout",
     "output_type": "stream",
     "text": [
      "오차 행렬\n",
      "[[2089   36]\n",
      " [ 155  252]]\n",
      "정확도: 0.9246, 정밀도: 0.8750, 재현율: 0.6192,     F1: 0.7252\n"
     ]
    },
    {
     "name": "stderr",
     "output_type": "stream",
     "text": [
      "D:\\anaconda3\\lib\\site-packages\\sklearn\\utils\\validation.py:63: DataConversionWarning: A column-vector y was passed when a 1d array was expected. Please change the shape of y to (n_samples, ), for example using ravel().\n",
      "  return f(*args, **kwargs)\n",
      "D:\\anaconda3\\lib\\site-packages\\sklearn\\linear_model\\_logistic.py:763: ConvergenceWarning: lbfgs failed to converge (status=1):\n",
      "STOP: TOTAL NO. of ITERATIONS REACHED LIMIT.\n",
      "\n",
      "Increase the number of iterations (max_iter) or scale the data as shown in:\n",
      "    https://scikit-learn.org/stable/modules/preprocessing.html\n",
      "Please also refer to the documentation for alternative solver options:\n",
      "    https://scikit-learn.org/stable/modules/linear_model.html#logistic-regression\n",
      "  n_iter_i = _check_optimize_result(\n"
     ]
    },
    {
     "data": {
      "text/plain": [
       "LogisticRegression()"
      ]
     },
     "execution_count": 150,
     "metadata": {},
     "output_type": "execute_result"
    },
    {
     "name": "stdout",
     "output_type": "stream",
     "text": [
      "오차 행렬\n",
      "[[2065   60]\n",
      " [ 202  205]]\n",
      "정확도: 0.8965, 정밀도: 0.7736, 재현율: 0.5037,     F1: 0.6101\n"
     ]
    },
    {
     "name": "stderr",
     "output_type": "stream",
     "text": [
      "D:\\anaconda3\\lib\\site-packages\\sklearn\\neighbors\\_classification.py:179: DataConversionWarning: A column-vector y was passed when a 1d array was expected. Please change the shape of y to (n_samples,), for example using ravel().\n",
      "  return self._fit(X, y)\n"
     ]
    },
    {
     "data": {
      "text/plain": [
       "KNeighborsClassifier()"
      ]
     },
     "execution_count": 150,
     "metadata": {},
     "output_type": "execute_result"
    },
    {
     "name": "stdout",
     "output_type": "stream",
     "text": [
      "오차 행렬\n",
      "[[2088   37]\n",
      " [ 243  164]]\n",
      "정확도: 0.8894, 정밀도: 0.8159, 재현율: 0.4029,     F1: 0.5395\n"
     ]
    },
    {
     "name": "stderr",
     "output_type": "stream",
     "text": [
      "D:\\anaconda3\\lib\\site-packages\\sklearn\\utils\\validation.py:63: DataConversionWarning: A column-vector y was passed when a 1d array was expected. Please change the shape of y to (n_samples, ), for example using ravel().\n",
      "  return f(*args, **kwargs)\n"
     ]
    },
    {
     "data": {
      "text/plain": [
       "GradientBoostingClassifier(random_state=11)"
      ]
     },
     "execution_count": 150,
     "metadata": {},
     "output_type": "execute_result"
    },
    {
     "name": "stdout",
     "output_type": "stream",
     "text": [
      "오차 행렬\n",
      "[[2073   52]\n",
      " [ 144  263]]\n",
      "정확도: 0.9226, 정밀도: 0.8349, 재현율: 0.6462,     F1: 0.7285\n",
      "[14:37:11] WARNING: ..\\src\\learner.cc:1061: Starting in XGBoost 1.3.0, the default evaluation metric used with the objective 'binary:logistic' was changed from 'error' to 'logloss'. Explicitly set eval_metric if you'd like to restore the old behavior.\n"
     ]
    },
    {
     "name": "stderr",
     "output_type": "stream",
     "text": [
      "D:\\anaconda3\\lib\\site-packages\\xgboost\\sklearn.py:888: UserWarning: The use of label encoder in XGBClassifier is deprecated and will be removed in a future release. To remove this warning, do the following: 1) Pass option use_label_encoder=False when constructing XGBClassifier object; and 2) Encode your labels (y) as integers starting with 0, i.e. 0, 1, 2, ..., [num_class - 1].\n",
      "  warnings.warn(label_encoder_deprecation_msg, UserWarning)\n",
      "D:\\anaconda3\\lib\\site-packages\\sklearn\\utils\\validation.py:63: DataConversionWarning: A column-vector y was passed when a 1d array was expected. Please change the shape of y to (n_samples, ), for example using ravel().\n",
      "  return f(*args, **kwargs)\n"
     ]
    },
    {
     "data": {
      "text/plain": [
       "XGBClassifier(base_score=0.5, booster='gbtree', colsample_bylevel=1,\n",
       "              colsample_bynode=1, colsample_bytree=1, gamma=0, gpu_id=-1,\n",
       "              importance_type='gain', interaction_constraints='',\n",
       "              learning_rate=0.300000012, max_delta_step=0, max_depth=6,\n",
       "              min_child_weight=1, missing=nan, monotone_constraints='()',\n",
       "              n_estimators=100, n_jobs=12, num_parallel_tree=1, random_state=0,\n",
       "              reg_alpha=0, reg_lambda=1, scale_pos_weight=1, subsample=1,\n",
       "              tree_method='exact', validate_parameters=1, verbosity=None)"
      ]
     },
     "execution_count": 150,
     "metadata": {},
     "output_type": "execute_result"
    },
    {
     "name": "stdout",
     "output_type": "stream",
     "text": [
      "오차 행렬\n",
      "[[2071   54]\n",
      " [ 130  277]]\n",
      "정확도: 0.9273, 정밀도: 0.8369, 재현율: 0.6806,     F1: 0.7507\n"
     ]
    }
   ],
   "source": [
    "from sklearn.tree import DecisionTreeClassifier # 의사결정 나무\n",
    "from sklearn.ensemble import RandomForestClassifier # 랜덤 포레스트\n",
    "from sklearn.linear_model import LogisticRegression # 로지스틱 회귀\n",
    "from sklearn.neighbors import KNeighborsClassifier # k-최근접이웃\n",
    "from sklearn.ensemble import GradientBoostingClassifier # GBM\n",
    "from xgboost import XGBClassifier # XGBM\n",
    "\n",
    "\n",
    "# 사이킷런 Classifier 클래스 생성\n",
    "dt_clf = DecisionTreeClassifier(random_state=11)\n",
    "rf_clf = RandomForestClassifier(random_state=11)\n",
    "lr_clf = LogisticRegression()\n",
    "kn_clf = KNeighborsClassifier(n_neighbors=5)\n",
    "gb_clf = GradientBoostingClassifier(random_state=11)\n",
    "\n",
    "# DecisionTreeClassifier 학습/예측/평가\n",
    "dt_clf.fit(X_train, y_train)\n",
    "dt_pred = dt_clf.predict(X_test)\n",
    "dt_pred_proba = dt_clf.predict_proba(X_test)[:,1]\n",
    "get_clf_eval(y_test, dt_pred, dt_pred_proba)\n",
    "\n",
    "# RandomForestClassifier\n",
    "rf_clf.fit(X_train, y_train)\n",
    "rf_pred = rf_clf.predict(X_test)\n",
    "rf_pred_proba = rf_clf.predict_proba(X_test)[:,1]\n",
    "get_clf_eval(y_test, rf_pred, rf_pred_proba)\n",
    "\n",
    "# LogistRegression\n",
    "lr_clf.fit(X_train, y_train)\n",
    "lr_pred = lr_clf.predict(X_test)\n",
    "lr_pred_proba = lr_clf.predict_proba(X_test)[:,1]\n",
    "get_clf_eval(y_test, lr_pred, lr_pred_proba)\n",
    "\n",
    "# KNeighborsClassifier\n",
    "kn_clf.fit(X_train, y_train)\n",
    "kn_pred = kn_clf.predict(X_test)\n",
    "kn_pred_proba = kn_clf.predict_proba(X_test)[:,1]\n",
    "get_clf_eval(y_test, kn_pred, kn_pred_proba)\n",
    "\n",
    "# GBM\n",
    "gb_clf.fit(X_train, y_train)\n",
    "gb_pred = gb_clf.predict(X_test)\n",
    "gb_pred_proba = gb_clf.predict_proba(X_test)[:,1]\n",
    "get_clf_eval(y_test, gb_pred, gb_pred_proba)\n",
    "\n",
    "# XGBM\n",
    "xgb_wrapper = XGBClassifier()\n",
    "xgb_wrapper.fit(X_train, y_train)\n",
    "w_preds = xgb_wrapper.predict(X_test)\n",
    "w_pred_proba = xgb_wrapper.predict_proba(X_test)[:,1]\n",
    "get_clf_eval(y_test, w_preds, w_pred_proba)\n"
   ]
  },
  {
   "cell_type": "markdown",
   "id": "abb18684",
   "metadata": {},
   "source": [
    "## Smote (업샘플링)"
   ]
  },
  {
   "cell_type": "code",
   "execution_count": 151,
   "id": "674950e3",
   "metadata": {},
   "outputs": [
    {
     "name": "stdout",
     "output_type": "stream",
     "text": [
      "SMOTE 적용 전 학습용 피처/레이블 데이터 세트 (7595, 15) (7595, 1)\n",
      "SMOTE 적용 전 학습용 피처/레이블 데이터 세트 (12750, 15) (12750, 1)\n"
     ]
    }
   ],
   "source": [
    "from imblearn.over_sampling import SMOTE\n",
    "\n",
    "smote = SMOTE(random_state=11)\n",
    "X_train_over, y_train_over = smote.fit_resample(X_train, y_train)\n",
    "print('SMOTE 적용 전 학습용 피처/레이블 데이터 세트', X_train.shape, y_train.shape)\n",
    "print('SMOTE 적용 전 학습용 피처/레이블 데이터 세트', X_train_over.shape, y_train_over.shape)"
   ]
  },
  {
   "cell_type": "code",
   "execution_count": 152,
   "id": "124477d0",
   "metadata": {},
   "outputs": [],
   "source": [
    "X_train = X_train_over\n",
    "y_train = y_train_over"
   ]
  },
  {
   "cell_type": "code",
   "execution_count": 153,
   "id": "81022f55",
   "metadata": {},
   "outputs": [
    {
     "data": {
      "text/plain": [
       "DecisionTreeClassifier(random_state=11)"
      ]
     },
     "execution_count": 153,
     "metadata": {},
     "output_type": "execute_result"
    },
    {
     "name": "stdout",
     "output_type": "stream",
     "text": [
      "오차 행렬\n",
      "[[1948  177]\n",
      " [ 124  283]]\n",
      "정확도: 0.8811, 정밀도: 0.6152, 재현율: 0.6953,     F1: 0.6528\n"
     ]
    },
    {
     "name": "stderr",
     "output_type": "stream",
     "text": [
      "<ipython-input-153-662c08e0d5f2>:8: DataConversionWarning: A column-vector y was passed when a 1d array was expected. Please change the shape of y to (n_samples,), for example using ravel().\n",
      "  rf_clf.fit(X_train, y_train)\n"
     ]
    },
    {
     "data": {
      "text/plain": [
       "RandomForestClassifier(random_state=11)"
      ]
     },
     "execution_count": 153,
     "metadata": {},
     "output_type": "execute_result"
    },
    {
     "name": "stdout",
     "output_type": "stream",
     "text": [
      "오차 행렬\n",
      "[[2046   79]\n",
      " [ 114  293]]\n",
      "정확도: 0.9238, 정밀도: 0.7876, 재현율: 0.7199,     F1: 0.7522\n"
     ]
    },
    {
     "name": "stderr",
     "output_type": "stream",
     "text": [
      "D:\\anaconda3\\lib\\site-packages\\sklearn\\utils\\validation.py:63: DataConversionWarning: A column-vector y was passed when a 1d array was expected. Please change the shape of y to (n_samples, ), for example using ravel().\n",
      "  return f(*args, **kwargs)\n"
     ]
    },
    {
     "data": {
      "text/plain": [
       "LogisticRegression()"
      ]
     },
     "execution_count": 153,
     "metadata": {},
     "output_type": "execute_result"
    },
    {
     "name": "stdout",
     "output_type": "stream",
     "text": [
      "오차 행렬\n",
      "[[1798  327]\n",
      " [ 104  303]]\n",
      "정확도: 0.8298, 정밀도: 0.4810, 재현율: 0.7445,     F1: 0.5844\n"
     ]
    },
    {
     "name": "stderr",
     "output_type": "stream",
     "text": [
      "D:\\anaconda3\\lib\\site-packages\\sklearn\\neighbors\\_classification.py:179: DataConversionWarning: A column-vector y was passed when a 1d array was expected. Please change the shape of y to (n_samples,), for example using ravel().\n",
      "  return self._fit(X, y)\n"
     ]
    },
    {
     "data": {
      "text/plain": [
       "KNeighborsClassifier()"
      ]
     },
     "execution_count": 153,
     "metadata": {},
     "output_type": "execute_result"
    },
    {
     "name": "stdout",
     "output_type": "stream",
     "text": [
      "오차 행렬\n",
      "[[1750  375]\n",
      " [ 107  300]]\n",
      "정확도: 0.8096, 정밀도: 0.4444, 재현율: 0.7371,     F1: 0.5545\n"
     ]
    },
    {
     "name": "stderr",
     "output_type": "stream",
     "text": [
      "D:\\anaconda3\\lib\\site-packages\\sklearn\\utils\\validation.py:63: DataConversionWarning: A column-vector y was passed when a 1d array was expected. Please change the shape of y to (n_samples, ), for example using ravel().\n",
      "  return f(*args, **kwargs)\n"
     ]
    },
    {
     "data": {
      "text/plain": [
       "GradientBoostingClassifier(random_state=11)"
      ]
     },
     "execution_count": 153,
     "metadata": {},
     "output_type": "execute_result"
    },
    {
     "name": "stdout",
     "output_type": "stream",
     "text": [
      "오차 행렬\n",
      "[[2016  109]\n",
      " [ 106  301]]\n",
      "정확도: 0.9151, 정밀도: 0.7341, 재현율: 0.7396,     F1: 0.7368\n",
      "[14:37:22] WARNING: ..\\src\\learner.cc:1061: Starting in XGBoost 1.3.0, the default evaluation metric used with the objective 'binary:logistic' was changed from 'error' to 'logloss'. Explicitly set eval_metric if you'd like to restore the old behavior.\n"
     ]
    },
    {
     "name": "stderr",
     "output_type": "stream",
     "text": [
      "D:\\anaconda3\\lib\\site-packages\\xgboost\\sklearn.py:888: UserWarning: The use of label encoder in XGBClassifier is deprecated and will be removed in a future release. To remove this warning, do the following: 1) Pass option use_label_encoder=False when constructing XGBClassifier object; and 2) Encode your labels (y) as integers starting with 0, i.e. 0, 1, 2, ..., [num_class - 1].\n",
      "  warnings.warn(label_encoder_deprecation_msg, UserWarning)\n",
      "D:\\anaconda3\\lib\\site-packages\\sklearn\\utils\\validation.py:63: DataConversionWarning: A column-vector y was passed when a 1d array was expected. Please change the shape of y to (n_samples, ), for example using ravel().\n",
      "  return f(*args, **kwargs)\n"
     ]
    },
    {
     "data": {
      "text/plain": [
       "XGBClassifier(base_score=0.5, booster='gbtree', colsample_bylevel=1,\n",
       "              colsample_bynode=1, colsample_bytree=1, gamma=0, gpu_id=-1,\n",
       "              importance_type='gain', interaction_constraints='',\n",
       "              learning_rate=0.300000012, max_delta_step=0, max_depth=6,\n",
       "              min_child_weight=1, missing=nan, monotone_constraints='()',\n",
       "              n_estimators=100, n_jobs=12, num_parallel_tree=1, random_state=0,\n",
       "              reg_alpha=0, reg_lambda=1, scale_pos_weight=1, subsample=1,\n",
       "              tree_method='exact', validate_parameters=1, verbosity=None)"
      ]
     },
     "execution_count": 153,
     "metadata": {},
     "output_type": "execute_result"
    },
    {
     "name": "stdout",
     "output_type": "stream",
     "text": [
      "오차 행렬\n",
      "[[2058   67]\n",
      " [ 110  297]]\n",
      "정확도: 0.9301, 정밀도: 0.8159, 재현율: 0.7297,     F1: 0.7704\n"
     ]
    }
   ],
   "source": [
    "# DecisionTreeClassifier 학습/예측/평가\n",
    "dt_clf.fit(X_train, y_train)\n",
    "dt_pred = dt_clf.predict(X_test)\n",
    "dt_pred_proba = dt_clf.predict_proba(X_test)[:,1]\n",
    "get_clf_eval(y_test, dt_pred, dt_pred_proba)\n",
    "\n",
    "# RandomForestClassifier\n",
    "rf_clf.fit(X_train, y_train)\n",
    "rf_pred = rf_clf.predict(X_test)\n",
    "rf_pred_proba = rf_clf.predict_proba(X_test)[:,1]\n",
    "get_clf_eval(y_test, rf_pred, rf_pred_proba)\n",
    "\n",
    "# LogistRegression\n",
    "lr_clf.fit(X_train, y_train)\n",
    "lr_pred = lr_clf.predict(X_test)\n",
    "lr_pred_proba = lr_clf.predict_proba(X_test)[:,1]\n",
    "get_clf_eval(y_test, lr_pred, lr_pred_proba)\n",
    "\n",
    "# KNeighborsClassifier\n",
    "kn_clf.fit(X_train, y_train)\n",
    "kn_pred = kn_clf.predict(X_test)\n",
    "kn_pred_proba = kn_clf.predict_proba(X_test)[:,1]\n",
    "get_clf_eval(y_test, kn_pred, kn_pred_proba)\n",
    "\n",
    "# GBM\n",
    "gb_clf.fit(X_train, y_train)\n",
    "gb_pred = gb_clf.predict(X_test)\n",
    "gb_pred_proba = gb_clf.predict_proba(X_test)[:,1]\n",
    "get_clf_eval(y_test, gb_pred, gb_pred_proba)\n",
    "\n",
    "# XGBM\n",
    "xgb_wrapper = XGBClassifier()\n",
    "xgb_wrapper.fit(X_train, y_train)\n",
    "w_preds = xgb_wrapper.predict(X_test)\n",
    "w_pred_proba = xgb_wrapper.predict_proba(X_test)[:,1]\n",
    "get_clf_eval(y_test, w_preds, w_pred_proba)\n",
    "\n"
   ]
  },
  {
   "cell_type": "markdown",
   "id": "a569b9de",
   "metadata": {},
   "source": [
    "## 하이퍼 파라미터 "
   ]
  },
  {
   "cell_type": "markdown",
   "id": "185e5f42",
   "metadata": {},
   "source": [
    "### Decision Tree"
   ]
  },
  {
   "cell_type": "code",
   "execution_count": 119,
   "id": "41fbed7a",
   "metadata": {},
   "outputs": [
    {
     "name": "stdout",
     "output_type": "stream",
     "text": [
      "Fitting 5 folds for each of 7 candidates, totalling 35 fits\n"
     ]
    },
    {
     "data": {
      "text/plain": [
       "GridSearchCV(cv=5, estimator=DecisionTreeClassifier(random_state=11),\n",
       "             param_grid={'max_depth': [6, 8, 10, 12, 16, 20, 24]},\n",
       "             scoring='recall', verbose=1)"
      ]
     },
     "execution_count": 119,
     "metadata": {},
     "output_type": "execute_result"
    },
    {
     "name": "stdout",
     "output_type": "stream",
     "text": [
      "GridSearchCV 최고 평균 재현율 수치 : 0.9217\n",
      "GridSearchCV 최적 하이퍼 파라미터 : {'max_depth': 12}\n"
     ]
    }
   ],
   "source": [
    "from sklearn.model_selection import GridSearchCV\n",
    "\n",
    "params = {\n",
    "    'max_depth':[6,8,10,12,16,20,24]\n",
    "}\n",
    "\n",
    "grid_cv = GridSearchCV(dt_clf, param_grid=params, scoring='recall', cv=5, verbose=1)\n",
    "grid_cv.fit(X_train, y_train)\n",
    "print('GridSearchCV 최고 평균 재현율 수치 : {0:.4f}'.format(grid_cv.best_score_))\n",
    "print('GridSearchCV 최적 하이퍼 파라미터 :',grid_cv.best_params_)"
   ]
  },
  {
   "cell_type": "code",
   "execution_count": 120,
   "id": "964a0ad0",
   "metadata": {
    "scrolled": true
   },
   "outputs": [
    {
     "name": "stdout",
     "output_type": "stream",
     "text": [
      "오차 행렬\n",
      "[[1931  194]\n",
      " [ 111  296]]\n",
      "정확도: 0.8795, 정밀도: 0.6041, 재현율: 0.7273,     F1: 0.6600\n"
     ]
    }
   ],
   "source": [
    "best_dt_clf = grid_cv.best_estimator_\n",
    "pred1 = best_dt_clf.predict(X_test)\n",
    "pred_proba1 = best_dt_clf.predict_proba(X_test)[:,1]\n",
    "dt_results = get_clf_eval(y_test, pred1, pred_proba1)"
   ]
  },
  {
   "cell_type": "markdown",
   "id": "38b5997c",
   "metadata": {},
   "source": [
    "### RandomForestClassifier"
   ]
  },
  {
   "cell_type": "code",
   "execution_count": 122,
   "id": "b7b8a6e3",
   "metadata": {},
   "outputs": [
    {
     "name": "stdout",
     "output_type": "stream",
     "text": [
      "Fitting 5 folds for each of 7 candidates, totalling 35 fits\n"
     ]
    },
    {
     "name": "stderr",
     "output_type": "stream",
     "text": [
      "D:\\anaconda3\\lib\\site-packages\\sklearn\\model_selection\\_validation.py:593: DataConversionWarning: A column-vector y was passed when a 1d array was expected. Please change the shape of y to (n_samples,), for example using ravel().\n",
      "  estimator.fit(X_train, y_train, **fit_params)\n",
      "D:\\anaconda3\\lib\\site-packages\\sklearn\\model_selection\\_validation.py:593: DataConversionWarning: A column-vector y was passed when a 1d array was expected. Please change the shape of y to (n_samples,), for example using ravel().\n",
      "  estimator.fit(X_train, y_train, **fit_params)\n",
      "D:\\anaconda3\\lib\\site-packages\\sklearn\\model_selection\\_validation.py:593: DataConversionWarning: A column-vector y was passed when a 1d array was expected. Please change the shape of y to (n_samples,), for example using ravel().\n",
      "  estimator.fit(X_train, y_train, **fit_params)\n",
      "D:\\anaconda3\\lib\\site-packages\\sklearn\\model_selection\\_validation.py:593: DataConversionWarning: A column-vector y was passed when a 1d array was expected. Please change the shape of y to (n_samples,), for example using ravel().\n",
      "  estimator.fit(X_train, y_train, **fit_params)\n",
      "D:\\anaconda3\\lib\\site-packages\\sklearn\\model_selection\\_validation.py:593: DataConversionWarning: A column-vector y was passed when a 1d array was expected. Please change the shape of y to (n_samples,), for example using ravel().\n",
      "  estimator.fit(X_train, y_train, **fit_params)\n",
      "D:\\anaconda3\\lib\\site-packages\\sklearn\\model_selection\\_validation.py:593: DataConversionWarning: A column-vector y was passed when a 1d array was expected. Please change the shape of y to (n_samples,), for example using ravel().\n",
      "  estimator.fit(X_train, y_train, **fit_params)\n",
      "D:\\anaconda3\\lib\\site-packages\\sklearn\\model_selection\\_validation.py:593: DataConversionWarning: A column-vector y was passed when a 1d array was expected. Please change the shape of y to (n_samples,), for example using ravel().\n",
      "  estimator.fit(X_train, y_train, **fit_params)\n",
      "D:\\anaconda3\\lib\\site-packages\\sklearn\\model_selection\\_validation.py:593: DataConversionWarning: A column-vector y was passed when a 1d array was expected. Please change the shape of y to (n_samples,), for example using ravel().\n",
      "  estimator.fit(X_train, y_train, **fit_params)\n",
      "D:\\anaconda3\\lib\\site-packages\\sklearn\\model_selection\\_validation.py:593: DataConversionWarning: A column-vector y was passed when a 1d array was expected. Please change the shape of y to (n_samples,), for example using ravel().\n",
      "  estimator.fit(X_train, y_train, **fit_params)\n",
      "D:\\anaconda3\\lib\\site-packages\\sklearn\\model_selection\\_validation.py:593: DataConversionWarning: A column-vector y was passed when a 1d array was expected. Please change the shape of y to (n_samples,), for example using ravel().\n",
      "  estimator.fit(X_train, y_train, **fit_params)\n",
      "D:\\anaconda3\\lib\\site-packages\\sklearn\\model_selection\\_validation.py:593: DataConversionWarning: A column-vector y was passed when a 1d array was expected. Please change the shape of y to (n_samples,), for example using ravel().\n",
      "  estimator.fit(X_train, y_train, **fit_params)\n",
      "D:\\anaconda3\\lib\\site-packages\\sklearn\\model_selection\\_validation.py:593: DataConversionWarning: A column-vector y was passed when a 1d array was expected. Please change the shape of y to (n_samples,), for example using ravel().\n",
      "  estimator.fit(X_train, y_train, **fit_params)\n",
      "D:\\anaconda3\\lib\\site-packages\\sklearn\\model_selection\\_validation.py:593: DataConversionWarning: A column-vector y was passed when a 1d array was expected. Please change the shape of y to (n_samples,), for example using ravel().\n",
      "  estimator.fit(X_train, y_train, **fit_params)\n",
      "D:\\anaconda3\\lib\\site-packages\\sklearn\\model_selection\\_validation.py:593: DataConversionWarning: A column-vector y was passed when a 1d array was expected. Please change the shape of y to (n_samples,), for example using ravel().\n",
      "  estimator.fit(X_train, y_train, **fit_params)\n",
      "D:\\anaconda3\\lib\\site-packages\\sklearn\\model_selection\\_validation.py:593: DataConversionWarning: A column-vector y was passed when a 1d array was expected. Please change the shape of y to (n_samples,), for example using ravel().\n",
      "  estimator.fit(X_train, y_train, **fit_params)\n",
      "D:\\anaconda3\\lib\\site-packages\\sklearn\\model_selection\\_validation.py:593: DataConversionWarning: A column-vector y was passed when a 1d array was expected. Please change the shape of y to (n_samples,), for example using ravel().\n",
      "  estimator.fit(X_train, y_train, **fit_params)\n",
      "D:\\anaconda3\\lib\\site-packages\\sklearn\\model_selection\\_validation.py:593: DataConversionWarning: A column-vector y was passed when a 1d array was expected. Please change the shape of y to (n_samples,), for example using ravel().\n",
      "  estimator.fit(X_train, y_train, **fit_params)\n",
      "D:\\anaconda3\\lib\\site-packages\\sklearn\\model_selection\\_validation.py:593: DataConversionWarning: A column-vector y was passed when a 1d array was expected. Please change the shape of y to (n_samples,), for example using ravel().\n",
      "  estimator.fit(X_train, y_train, **fit_params)\n",
      "D:\\anaconda3\\lib\\site-packages\\sklearn\\model_selection\\_validation.py:593: DataConversionWarning: A column-vector y was passed when a 1d array was expected. Please change the shape of y to (n_samples,), for example using ravel().\n",
      "  estimator.fit(X_train, y_train, **fit_params)\n",
      "D:\\anaconda3\\lib\\site-packages\\sklearn\\model_selection\\_validation.py:593: DataConversionWarning: A column-vector y was passed when a 1d array was expected. Please change the shape of y to (n_samples,), for example using ravel().\n",
      "  estimator.fit(X_train, y_train, **fit_params)\n",
      "D:\\anaconda3\\lib\\site-packages\\sklearn\\model_selection\\_validation.py:593: DataConversionWarning: A column-vector y was passed when a 1d array was expected. Please change the shape of y to (n_samples,), for example using ravel().\n",
      "  estimator.fit(X_train, y_train, **fit_params)\n",
      "D:\\anaconda3\\lib\\site-packages\\sklearn\\model_selection\\_validation.py:593: DataConversionWarning: A column-vector y was passed when a 1d array was expected. Please change the shape of y to (n_samples,), for example using ravel().\n",
      "  estimator.fit(X_train, y_train, **fit_params)\n",
      "D:\\anaconda3\\lib\\site-packages\\sklearn\\model_selection\\_validation.py:593: DataConversionWarning: A column-vector y was passed when a 1d array was expected. Please change the shape of y to (n_samples,), for example using ravel().\n",
      "  estimator.fit(X_train, y_train, **fit_params)\n",
      "D:\\anaconda3\\lib\\site-packages\\sklearn\\model_selection\\_validation.py:593: DataConversionWarning: A column-vector y was passed when a 1d array was expected. Please change the shape of y to (n_samples,), for example using ravel().\n",
      "  estimator.fit(X_train, y_train, **fit_params)\n",
      "D:\\anaconda3\\lib\\site-packages\\sklearn\\model_selection\\_validation.py:593: DataConversionWarning: A column-vector y was passed when a 1d array was expected. Please change the shape of y to (n_samples,), for example using ravel().\n",
      "  estimator.fit(X_train, y_train, **fit_params)\n",
      "D:\\anaconda3\\lib\\site-packages\\sklearn\\model_selection\\_validation.py:593: DataConversionWarning: A column-vector y was passed when a 1d array was expected. Please change the shape of y to (n_samples,), for example using ravel().\n",
      "  estimator.fit(X_train, y_train, **fit_params)\n",
      "D:\\anaconda3\\lib\\site-packages\\sklearn\\model_selection\\_validation.py:593: DataConversionWarning: A column-vector y was passed when a 1d array was expected. Please change the shape of y to (n_samples,), for example using ravel().\n",
      "  estimator.fit(X_train, y_train, **fit_params)\n",
      "D:\\anaconda3\\lib\\site-packages\\sklearn\\model_selection\\_validation.py:593: DataConversionWarning: A column-vector y was passed when a 1d array was expected. Please change the shape of y to (n_samples,), for example using ravel().\n",
      "  estimator.fit(X_train, y_train, **fit_params)\n",
      "D:\\anaconda3\\lib\\site-packages\\sklearn\\model_selection\\_validation.py:593: DataConversionWarning: A column-vector y was passed when a 1d array was expected. Please change the shape of y to (n_samples,), for example using ravel().\n",
      "  estimator.fit(X_train, y_train, **fit_params)\n",
      "D:\\anaconda3\\lib\\site-packages\\sklearn\\model_selection\\_validation.py:593: DataConversionWarning: A column-vector y was passed when a 1d array was expected. Please change the shape of y to (n_samples,), for example using ravel().\n",
      "  estimator.fit(X_train, y_train, **fit_params)\n"
     ]
    },
    {
     "name": "stderr",
     "output_type": "stream",
     "text": [
      "D:\\anaconda3\\lib\\site-packages\\sklearn\\model_selection\\_validation.py:593: DataConversionWarning: A column-vector y was passed when a 1d array was expected. Please change the shape of y to (n_samples,), for example using ravel().\n",
      "  estimator.fit(X_train, y_train, **fit_params)\n",
      "D:\\anaconda3\\lib\\site-packages\\sklearn\\model_selection\\_validation.py:593: DataConversionWarning: A column-vector y was passed when a 1d array was expected. Please change the shape of y to (n_samples,), for example using ravel().\n",
      "  estimator.fit(X_train, y_train, **fit_params)\n",
      "D:\\anaconda3\\lib\\site-packages\\sklearn\\model_selection\\_validation.py:593: DataConversionWarning: A column-vector y was passed when a 1d array was expected. Please change the shape of y to (n_samples,), for example using ravel().\n",
      "  estimator.fit(X_train, y_train, **fit_params)\n",
      "D:\\anaconda3\\lib\\site-packages\\sklearn\\model_selection\\_validation.py:593: DataConversionWarning: A column-vector y was passed when a 1d array was expected. Please change the shape of y to (n_samples,), for example using ravel().\n",
      "  estimator.fit(X_train, y_train, **fit_params)\n",
      "D:\\anaconda3\\lib\\site-packages\\sklearn\\model_selection\\_validation.py:593: DataConversionWarning: A column-vector y was passed when a 1d array was expected. Please change the shape of y to (n_samples,), for example using ravel().\n",
      "  estimator.fit(X_train, y_train, **fit_params)\n",
      "D:\\anaconda3\\lib\\site-packages\\sklearn\\model_selection\\_search.py:880: DataConversionWarning: A column-vector y was passed when a 1d array was expected. Please change the shape of y to (n_samples,), for example using ravel().\n",
      "  self.best_estimator_.fit(X, y, **fit_params)\n"
     ]
    },
    {
     "data": {
      "text/plain": [
       "GridSearchCV(cv=5, estimator=RandomForestClassifier(random_state=11),\n",
       "             param_grid={'max_depth': [6, 8, 10, 12, 16, 20, 24]},\n",
       "             scoring='recall', verbose=1)"
      ]
     },
     "execution_count": 122,
     "metadata": {},
     "output_type": "execute_result"
    },
    {
     "name": "stdout",
     "output_type": "stream",
     "text": [
      "GridSearchCV 최고 평균 재현율 수치 : 0.9581\n",
      "GridSearchCV 최적 하이퍼 파라미터 : {'max_depth': 16}\n"
     ]
    }
   ],
   "source": [
    "from sklearn.model_selection import GridSearchCV\n",
    "\n",
    "params = {\n",
    "    'max_depth':[6,8,10,12,16,20,24]\n",
    "}\n",
    "\n",
    "grid_cv = GridSearchCV(rf_clf, param_grid=params, scoring='recall', cv=5, verbose=1)\n",
    "grid_cv.fit(X_train, y_train)\n",
    "print('GridSearchCV 최고 평균 재현율 수치 : {0:.4f}'.format(grid_cv.best_score_))\n",
    "print('GridSearchCV 최적 하이퍼 파라미터 :',grid_cv.best_params_)"
   ]
  },
  {
   "cell_type": "code",
   "execution_count": 123,
   "id": "eab264c0",
   "metadata": {
    "scrolled": true
   },
   "outputs": [
    {
     "name": "stdout",
     "output_type": "stream",
     "text": [
      "오차 행렬\n",
      "[[2045   80]\n",
      " [ 106  301]]\n",
      "정확도: 0.9265, 정밀도: 0.7900, 재현율: 0.7396,     F1: 0.7640\n"
     ]
    }
   ],
   "source": [
    "best_rf_clf = grid_cv.best_estimator_\n",
    "pred1 = best_rf_clf.predict(X_test)\n",
    "pred_proba1 = best_rf_clf.predict_proba(X_test)[:,1]\n",
    "dt_results = get_clf_eval(y_test, pred1, pred_proba1)"
   ]
  },
  {
   "cell_type": "markdown",
   "id": "b085e076",
   "metadata": {},
   "source": [
    "### LoigisticRegression\n",
    "\n",
    "\n",
    "LogisticRegression은 MaxDepth 파라미터가 존재하지 않음."
   ]
  },
  {
   "cell_type": "code",
   "execution_count": 124,
   "id": "37036b72",
   "metadata": {},
   "outputs": [
    {
     "name": "stdout",
     "output_type": "stream",
     "text": [
      "Fitting 5 folds for each of 7 candidates, totalling 35 fits\n"
     ]
    },
    {
     "ename": "ValueError",
     "evalue": "Invalid parameter max_depth for estimator LogisticRegression(). Check the list of available parameters with `estimator.get_params().keys()`.",
     "output_type": "error",
     "traceback": [
      "\u001b[1;31m---------------------------------------------------------------------------\u001b[0m",
      "\u001b[1;31mValueError\u001b[0m                                Traceback (most recent call last)",
      "\u001b[1;32m<ipython-input-124-3c2c1c20eddc>\u001b[0m in \u001b[0;36m<module>\u001b[1;34m\u001b[0m\n\u001b[0;32m      6\u001b[0m \u001b[1;33m\u001b[0m\u001b[0m\n\u001b[0;32m      7\u001b[0m \u001b[0mgrid_cv\u001b[0m \u001b[1;33m=\u001b[0m \u001b[0mGridSearchCV\u001b[0m\u001b[1;33m(\u001b[0m\u001b[0mlr_clf\u001b[0m\u001b[1;33m,\u001b[0m \u001b[0mparam_grid\u001b[0m\u001b[1;33m=\u001b[0m\u001b[0mparams\u001b[0m\u001b[1;33m,\u001b[0m \u001b[0mscoring\u001b[0m\u001b[1;33m=\u001b[0m\u001b[1;34m'recall'\u001b[0m\u001b[1;33m,\u001b[0m \u001b[0mcv\u001b[0m\u001b[1;33m=\u001b[0m\u001b[1;36m5\u001b[0m\u001b[1;33m,\u001b[0m \u001b[0mverbose\u001b[0m\u001b[1;33m=\u001b[0m\u001b[1;36m1\u001b[0m\u001b[1;33m)\u001b[0m\u001b[1;33m\u001b[0m\u001b[1;33m\u001b[0m\u001b[0m\n\u001b[1;32m----> 8\u001b[1;33m \u001b[0mgrid_cv\u001b[0m\u001b[1;33m.\u001b[0m\u001b[0mfit\u001b[0m\u001b[1;33m(\u001b[0m\u001b[0mX_train\u001b[0m\u001b[1;33m,\u001b[0m \u001b[0my_train\u001b[0m\u001b[1;33m)\u001b[0m\u001b[1;33m\u001b[0m\u001b[1;33m\u001b[0m\u001b[0m\n\u001b[0m\u001b[0;32m      9\u001b[0m \u001b[0mprint\u001b[0m\u001b[1;33m(\u001b[0m\u001b[1;34m'GridSearchCV 최고 평균 재현율 수치 : {0:.4f}'\u001b[0m\u001b[1;33m.\u001b[0m\u001b[0mformat\u001b[0m\u001b[1;33m(\u001b[0m\u001b[0mgrid_cv\u001b[0m\u001b[1;33m.\u001b[0m\u001b[0mbest_score_\u001b[0m\u001b[1;33m)\u001b[0m\u001b[1;33m)\u001b[0m\u001b[1;33m\u001b[0m\u001b[1;33m\u001b[0m\u001b[0m\n\u001b[0;32m     10\u001b[0m \u001b[0mprint\u001b[0m\u001b[1;33m(\u001b[0m\u001b[1;34m'GridSearchCV 최적 하이퍼 파라미터 :'\u001b[0m\u001b[1;33m,\u001b[0m\u001b[0mgrid_cv\u001b[0m\u001b[1;33m.\u001b[0m\u001b[0mbest_params_\u001b[0m\u001b[1;33m)\u001b[0m\u001b[1;33m\u001b[0m\u001b[1;33m\u001b[0m\u001b[0m\n",
      "\u001b[1;32mD:\\anaconda3\\lib\\site-packages\\sklearn\\utils\\validation.py\u001b[0m in \u001b[0;36minner_f\u001b[1;34m(*args, **kwargs)\u001b[0m\n\u001b[0;32m     61\u001b[0m             \u001b[0mextra_args\u001b[0m \u001b[1;33m=\u001b[0m \u001b[0mlen\u001b[0m\u001b[1;33m(\u001b[0m\u001b[0margs\u001b[0m\u001b[1;33m)\u001b[0m \u001b[1;33m-\u001b[0m \u001b[0mlen\u001b[0m\u001b[1;33m(\u001b[0m\u001b[0mall_args\u001b[0m\u001b[1;33m)\u001b[0m\u001b[1;33m\u001b[0m\u001b[1;33m\u001b[0m\u001b[0m\n\u001b[0;32m     62\u001b[0m             \u001b[1;32mif\u001b[0m \u001b[0mextra_args\u001b[0m \u001b[1;33m<=\u001b[0m \u001b[1;36m0\u001b[0m\u001b[1;33m:\u001b[0m\u001b[1;33m\u001b[0m\u001b[1;33m\u001b[0m\u001b[0m\n\u001b[1;32m---> 63\u001b[1;33m                 \u001b[1;32mreturn\u001b[0m \u001b[0mf\u001b[0m\u001b[1;33m(\u001b[0m\u001b[1;33m*\u001b[0m\u001b[0margs\u001b[0m\u001b[1;33m,\u001b[0m \u001b[1;33m**\u001b[0m\u001b[0mkwargs\u001b[0m\u001b[1;33m)\u001b[0m\u001b[1;33m\u001b[0m\u001b[1;33m\u001b[0m\u001b[0m\n\u001b[0m\u001b[0;32m     64\u001b[0m \u001b[1;33m\u001b[0m\u001b[0m\n\u001b[0;32m     65\u001b[0m             \u001b[1;31m# extra_args > 0\u001b[0m\u001b[1;33m\u001b[0m\u001b[1;33m\u001b[0m\u001b[1;33m\u001b[0m\u001b[0m\n",
      "\u001b[1;32mD:\\anaconda3\\lib\\site-packages\\sklearn\\model_selection\\_search.py\u001b[0m in \u001b[0;36mfit\u001b[1;34m(self, X, y, groups, **fit_params)\u001b[0m\n\u001b[0;32m    839\u001b[0m                 \u001b[1;32mreturn\u001b[0m \u001b[0mresults\u001b[0m\u001b[1;33m\u001b[0m\u001b[1;33m\u001b[0m\u001b[0m\n\u001b[0;32m    840\u001b[0m \u001b[1;33m\u001b[0m\u001b[0m\n\u001b[1;32m--> 841\u001b[1;33m             \u001b[0mself\u001b[0m\u001b[1;33m.\u001b[0m\u001b[0m_run_search\u001b[0m\u001b[1;33m(\u001b[0m\u001b[0mevaluate_candidates\u001b[0m\u001b[1;33m)\u001b[0m\u001b[1;33m\u001b[0m\u001b[1;33m\u001b[0m\u001b[0m\n\u001b[0m\u001b[0;32m    842\u001b[0m \u001b[1;33m\u001b[0m\u001b[0m\n\u001b[0;32m    843\u001b[0m             \u001b[1;31m# multimetric is determined here because in the case of a callable\u001b[0m\u001b[1;33m\u001b[0m\u001b[1;33m\u001b[0m\u001b[1;33m\u001b[0m\u001b[0m\n",
      "\u001b[1;32mD:\\anaconda3\\lib\\site-packages\\sklearn\\model_selection\\_search.py\u001b[0m in \u001b[0;36m_run_search\u001b[1;34m(self, evaluate_candidates)\u001b[0m\n\u001b[0;32m   1286\u001b[0m     \u001b[1;32mdef\u001b[0m \u001b[0m_run_search\u001b[0m\u001b[1;33m(\u001b[0m\u001b[0mself\u001b[0m\u001b[1;33m,\u001b[0m \u001b[0mevaluate_candidates\u001b[0m\u001b[1;33m)\u001b[0m\u001b[1;33m:\u001b[0m\u001b[1;33m\u001b[0m\u001b[1;33m\u001b[0m\u001b[0m\n\u001b[0;32m   1287\u001b[0m         \u001b[1;34m\"\"\"Search all candidates in param_grid\"\"\"\u001b[0m\u001b[1;33m\u001b[0m\u001b[1;33m\u001b[0m\u001b[0m\n\u001b[1;32m-> 1288\u001b[1;33m         \u001b[0mevaluate_candidates\u001b[0m\u001b[1;33m(\u001b[0m\u001b[0mParameterGrid\u001b[0m\u001b[1;33m(\u001b[0m\u001b[0mself\u001b[0m\u001b[1;33m.\u001b[0m\u001b[0mparam_grid\u001b[0m\u001b[1;33m)\u001b[0m\u001b[1;33m)\u001b[0m\u001b[1;33m\u001b[0m\u001b[1;33m\u001b[0m\u001b[0m\n\u001b[0m\u001b[0;32m   1289\u001b[0m \u001b[1;33m\u001b[0m\u001b[0m\n\u001b[0;32m   1290\u001b[0m \u001b[1;33m\u001b[0m\u001b[0m\n",
      "\u001b[1;32mD:\\anaconda3\\lib\\site-packages\\sklearn\\model_selection\\_search.py\u001b[0m in \u001b[0;36mevaluate_candidates\u001b[1;34m(candidate_params, cv, more_results)\u001b[0m\n\u001b[0;32m    793\u001b[0m                               n_splits, n_candidates, n_candidates * n_splits))\n\u001b[0;32m    794\u001b[0m \u001b[1;33m\u001b[0m\u001b[0m\n\u001b[1;32m--> 795\u001b[1;33m                 out = parallel(delayed(_fit_and_score)(clone(base_estimator),\n\u001b[0m\u001b[0;32m    796\u001b[0m                                                        \u001b[0mX\u001b[0m\u001b[1;33m,\u001b[0m \u001b[0my\u001b[0m\u001b[1;33m,\u001b[0m\u001b[1;33m\u001b[0m\u001b[1;33m\u001b[0m\u001b[0m\n\u001b[0;32m    797\u001b[0m                                                        \u001b[0mtrain\u001b[0m\u001b[1;33m=\u001b[0m\u001b[0mtrain\u001b[0m\u001b[1;33m,\u001b[0m \u001b[0mtest\u001b[0m\u001b[1;33m=\u001b[0m\u001b[0mtest\u001b[0m\u001b[1;33m,\u001b[0m\u001b[1;33m\u001b[0m\u001b[1;33m\u001b[0m\u001b[0m\n",
      "\u001b[1;32mD:\\anaconda3\\lib\\site-packages\\joblib\\parallel.py\u001b[0m in \u001b[0;36m__call__\u001b[1;34m(self, iterable)\u001b[0m\n\u001b[0;32m   1039\u001b[0m             \u001b[1;31m# remaining jobs.\u001b[0m\u001b[1;33m\u001b[0m\u001b[1;33m\u001b[0m\u001b[1;33m\u001b[0m\u001b[0m\n\u001b[0;32m   1040\u001b[0m             \u001b[0mself\u001b[0m\u001b[1;33m.\u001b[0m\u001b[0m_iterating\u001b[0m \u001b[1;33m=\u001b[0m \u001b[1;32mFalse\u001b[0m\u001b[1;33m\u001b[0m\u001b[1;33m\u001b[0m\u001b[0m\n\u001b[1;32m-> 1041\u001b[1;33m             \u001b[1;32mif\u001b[0m \u001b[0mself\u001b[0m\u001b[1;33m.\u001b[0m\u001b[0mdispatch_one_batch\u001b[0m\u001b[1;33m(\u001b[0m\u001b[0miterator\u001b[0m\u001b[1;33m)\u001b[0m\u001b[1;33m:\u001b[0m\u001b[1;33m\u001b[0m\u001b[1;33m\u001b[0m\u001b[0m\n\u001b[0m\u001b[0;32m   1042\u001b[0m                 \u001b[0mself\u001b[0m\u001b[1;33m.\u001b[0m\u001b[0m_iterating\u001b[0m \u001b[1;33m=\u001b[0m \u001b[0mself\u001b[0m\u001b[1;33m.\u001b[0m\u001b[0m_original_iterator\u001b[0m \u001b[1;32mis\u001b[0m \u001b[1;32mnot\u001b[0m \u001b[1;32mNone\u001b[0m\u001b[1;33m\u001b[0m\u001b[1;33m\u001b[0m\u001b[0m\n\u001b[0;32m   1043\u001b[0m \u001b[1;33m\u001b[0m\u001b[0m\n",
      "\u001b[1;32mD:\\anaconda3\\lib\\site-packages\\joblib\\parallel.py\u001b[0m in \u001b[0;36mdispatch_one_batch\u001b[1;34m(self, iterator)\u001b[0m\n\u001b[0;32m    857\u001b[0m                 \u001b[1;32mreturn\u001b[0m \u001b[1;32mFalse\u001b[0m\u001b[1;33m\u001b[0m\u001b[1;33m\u001b[0m\u001b[0m\n\u001b[0;32m    858\u001b[0m             \u001b[1;32melse\u001b[0m\u001b[1;33m:\u001b[0m\u001b[1;33m\u001b[0m\u001b[1;33m\u001b[0m\u001b[0m\n\u001b[1;32m--> 859\u001b[1;33m                 \u001b[0mself\u001b[0m\u001b[1;33m.\u001b[0m\u001b[0m_dispatch\u001b[0m\u001b[1;33m(\u001b[0m\u001b[0mtasks\u001b[0m\u001b[1;33m)\u001b[0m\u001b[1;33m\u001b[0m\u001b[1;33m\u001b[0m\u001b[0m\n\u001b[0m\u001b[0;32m    860\u001b[0m                 \u001b[1;32mreturn\u001b[0m \u001b[1;32mTrue\u001b[0m\u001b[1;33m\u001b[0m\u001b[1;33m\u001b[0m\u001b[0m\n\u001b[0;32m    861\u001b[0m \u001b[1;33m\u001b[0m\u001b[0m\n",
      "\u001b[1;32mD:\\anaconda3\\lib\\site-packages\\joblib\\parallel.py\u001b[0m in \u001b[0;36m_dispatch\u001b[1;34m(self, batch)\u001b[0m\n\u001b[0;32m    775\u001b[0m         \u001b[1;32mwith\u001b[0m \u001b[0mself\u001b[0m\u001b[1;33m.\u001b[0m\u001b[0m_lock\u001b[0m\u001b[1;33m:\u001b[0m\u001b[1;33m\u001b[0m\u001b[1;33m\u001b[0m\u001b[0m\n\u001b[0;32m    776\u001b[0m             \u001b[0mjob_idx\u001b[0m \u001b[1;33m=\u001b[0m \u001b[0mlen\u001b[0m\u001b[1;33m(\u001b[0m\u001b[0mself\u001b[0m\u001b[1;33m.\u001b[0m\u001b[0m_jobs\u001b[0m\u001b[1;33m)\u001b[0m\u001b[1;33m\u001b[0m\u001b[1;33m\u001b[0m\u001b[0m\n\u001b[1;32m--> 777\u001b[1;33m             \u001b[0mjob\u001b[0m \u001b[1;33m=\u001b[0m \u001b[0mself\u001b[0m\u001b[1;33m.\u001b[0m\u001b[0m_backend\u001b[0m\u001b[1;33m.\u001b[0m\u001b[0mapply_async\u001b[0m\u001b[1;33m(\u001b[0m\u001b[0mbatch\u001b[0m\u001b[1;33m,\u001b[0m \u001b[0mcallback\u001b[0m\u001b[1;33m=\u001b[0m\u001b[0mcb\u001b[0m\u001b[1;33m)\u001b[0m\u001b[1;33m\u001b[0m\u001b[1;33m\u001b[0m\u001b[0m\n\u001b[0m\u001b[0;32m    778\u001b[0m             \u001b[1;31m# A job can complete so quickly than its callback is\u001b[0m\u001b[1;33m\u001b[0m\u001b[1;33m\u001b[0m\u001b[1;33m\u001b[0m\u001b[0m\n\u001b[0;32m    779\u001b[0m             \u001b[1;31m# called before we get here, causing self._jobs to\u001b[0m\u001b[1;33m\u001b[0m\u001b[1;33m\u001b[0m\u001b[1;33m\u001b[0m\u001b[0m\n",
      "\u001b[1;32mD:\\anaconda3\\lib\\site-packages\\joblib\\_parallel_backends.py\u001b[0m in \u001b[0;36mapply_async\u001b[1;34m(self, func, callback)\u001b[0m\n\u001b[0;32m    206\u001b[0m     \u001b[1;32mdef\u001b[0m \u001b[0mapply_async\u001b[0m\u001b[1;33m(\u001b[0m\u001b[0mself\u001b[0m\u001b[1;33m,\u001b[0m \u001b[0mfunc\u001b[0m\u001b[1;33m,\u001b[0m \u001b[0mcallback\u001b[0m\u001b[1;33m=\u001b[0m\u001b[1;32mNone\u001b[0m\u001b[1;33m)\u001b[0m\u001b[1;33m:\u001b[0m\u001b[1;33m\u001b[0m\u001b[1;33m\u001b[0m\u001b[0m\n\u001b[0;32m    207\u001b[0m         \u001b[1;34m\"\"\"Schedule a func to be run\"\"\"\u001b[0m\u001b[1;33m\u001b[0m\u001b[1;33m\u001b[0m\u001b[0m\n\u001b[1;32m--> 208\u001b[1;33m         \u001b[0mresult\u001b[0m \u001b[1;33m=\u001b[0m \u001b[0mImmediateResult\u001b[0m\u001b[1;33m(\u001b[0m\u001b[0mfunc\u001b[0m\u001b[1;33m)\u001b[0m\u001b[1;33m\u001b[0m\u001b[1;33m\u001b[0m\u001b[0m\n\u001b[0m\u001b[0;32m    209\u001b[0m         \u001b[1;32mif\u001b[0m \u001b[0mcallback\u001b[0m\u001b[1;33m:\u001b[0m\u001b[1;33m\u001b[0m\u001b[1;33m\u001b[0m\u001b[0m\n\u001b[0;32m    210\u001b[0m             \u001b[0mcallback\u001b[0m\u001b[1;33m(\u001b[0m\u001b[0mresult\u001b[0m\u001b[1;33m)\u001b[0m\u001b[1;33m\u001b[0m\u001b[1;33m\u001b[0m\u001b[0m\n",
      "\u001b[1;32mD:\\anaconda3\\lib\\site-packages\\joblib\\_parallel_backends.py\u001b[0m in \u001b[0;36m__init__\u001b[1;34m(self, batch)\u001b[0m\n\u001b[0;32m    570\u001b[0m         \u001b[1;31m# Don't delay the application, to avoid keeping the input\u001b[0m\u001b[1;33m\u001b[0m\u001b[1;33m\u001b[0m\u001b[1;33m\u001b[0m\u001b[0m\n\u001b[0;32m    571\u001b[0m         \u001b[1;31m# arguments in memory\u001b[0m\u001b[1;33m\u001b[0m\u001b[1;33m\u001b[0m\u001b[1;33m\u001b[0m\u001b[0m\n\u001b[1;32m--> 572\u001b[1;33m         \u001b[0mself\u001b[0m\u001b[1;33m.\u001b[0m\u001b[0mresults\u001b[0m \u001b[1;33m=\u001b[0m \u001b[0mbatch\u001b[0m\u001b[1;33m(\u001b[0m\u001b[1;33m)\u001b[0m\u001b[1;33m\u001b[0m\u001b[1;33m\u001b[0m\u001b[0m\n\u001b[0m\u001b[0;32m    573\u001b[0m \u001b[1;33m\u001b[0m\u001b[0m\n\u001b[0;32m    574\u001b[0m     \u001b[1;32mdef\u001b[0m \u001b[0mget\u001b[0m\u001b[1;33m(\u001b[0m\u001b[0mself\u001b[0m\u001b[1;33m)\u001b[0m\u001b[1;33m:\u001b[0m\u001b[1;33m\u001b[0m\u001b[1;33m\u001b[0m\u001b[0m\n",
      "\u001b[1;32mD:\\anaconda3\\lib\\site-packages\\joblib\\parallel.py\u001b[0m in \u001b[0;36m__call__\u001b[1;34m(self)\u001b[0m\n\u001b[0;32m    260\u001b[0m         \u001b[1;31m# change the default number of processes to -1\u001b[0m\u001b[1;33m\u001b[0m\u001b[1;33m\u001b[0m\u001b[1;33m\u001b[0m\u001b[0m\n\u001b[0;32m    261\u001b[0m         \u001b[1;32mwith\u001b[0m \u001b[0mparallel_backend\u001b[0m\u001b[1;33m(\u001b[0m\u001b[0mself\u001b[0m\u001b[1;33m.\u001b[0m\u001b[0m_backend\u001b[0m\u001b[1;33m,\u001b[0m \u001b[0mn_jobs\u001b[0m\u001b[1;33m=\u001b[0m\u001b[0mself\u001b[0m\u001b[1;33m.\u001b[0m\u001b[0m_n_jobs\u001b[0m\u001b[1;33m)\u001b[0m\u001b[1;33m:\u001b[0m\u001b[1;33m\u001b[0m\u001b[1;33m\u001b[0m\u001b[0m\n\u001b[1;32m--> 262\u001b[1;33m             return [func(*args, **kwargs)\n\u001b[0m\u001b[0;32m    263\u001b[0m                     for func, args, kwargs in self.items]\n\u001b[0;32m    264\u001b[0m \u001b[1;33m\u001b[0m\u001b[0m\n",
      "\u001b[1;32mD:\\anaconda3\\lib\\site-packages\\joblib\\parallel.py\u001b[0m in \u001b[0;36m<listcomp>\u001b[1;34m(.0)\u001b[0m\n\u001b[0;32m    260\u001b[0m         \u001b[1;31m# change the default number of processes to -1\u001b[0m\u001b[1;33m\u001b[0m\u001b[1;33m\u001b[0m\u001b[1;33m\u001b[0m\u001b[0m\n\u001b[0;32m    261\u001b[0m         \u001b[1;32mwith\u001b[0m \u001b[0mparallel_backend\u001b[0m\u001b[1;33m(\u001b[0m\u001b[0mself\u001b[0m\u001b[1;33m.\u001b[0m\u001b[0m_backend\u001b[0m\u001b[1;33m,\u001b[0m \u001b[0mn_jobs\u001b[0m\u001b[1;33m=\u001b[0m\u001b[0mself\u001b[0m\u001b[1;33m.\u001b[0m\u001b[0m_n_jobs\u001b[0m\u001b[1;33m)\u001b[0m\u001b[1;33m:\u001b[0m\u001b[1;33m\u001b[0m\u001b[1;33m\u001b[0m\u001b[0m\n\u001b[1;32m--> 262\u001b[1;33m             return [func(*args, **kwargs)\n\u001b[0m\u001b[0;32m    263\u001b[0m                     for func, args, kwargs in self.items]\n\u001b[0;32m    264\u001b[0m \u001b[1;33m\u001b[0m\u001b[0m\n",
      "\u001b[1;32mD:\\anaconda3\\lib\\site-packages\\sklearn\\utils\\fixes.py\u001b[0m in \u001b[0;36m__call__\u001b[1;34m(self, *args, **kwargs)\u001b[0m\n\u001b[0;32m    220\u001b[0m     \u001b[1;32mdef\u001b[0m \u001b[0m__call__\u001b[0m\u001b[1;33m(\u001b[0m\u001b[0mself\u001b[0m\u001b[1;33m,\u001b[0m \u001b[1;33m*\u001b[0m\u001b[0margs\u001b[0m\u001b[1;33m,\u001b[0m \u001b[1;33m**\u001b[0m\u001b[0mkwargs\u001b[0m\u001b[1;33m)\u001b[0m\u001b[1;33m:\u001b[0m\u001b[1;33m\u001b[0m\u001b[1;33m\u001b[0m\u001b[0m\n\u001b[0;32m    221\u001b[0m         \u001b[1;32mwith\u001b[0m \u001b[0mconfig_context\u001b[0m\u001b[1;33m(\u001b[0m\u001b[1;33m**\u001b[0m\u001b[0mself\u001b[0m\u001b[1;33m.\u001b[0m\u001b[0mconfig\u001b[0m\u001b[1;33m)\u001b[0m\u001b[1;33m:\u001b[0m\u001b[1;33m\u001b[0m\u001b[1;33m\u001b[0m\u001b[0m\n\u001b[1;32m--> 222\u001b[1;33m             \u001b[1;32mreturn\u001b[0m \u001b[0mself\u001b[0m\u001b[1;33m.\u001b[0m\u001b[0mfunction\u001b[0m\u001b[1;33m(\u001b[0m\u001b[1;33m*\u001b[0m\u001b[0margs\u001b[0m\u001b[1;33m,\u001b[0m \u001b[1;33m**\u001b[0m\u001b[0mkwargs\u001b[0m\u001b[1;33m)\u001b[0m\u001b[1;33m\u001b[0m\u001b[1;33m\u001b[0m\u001b[0m\n\u001b[0m",
      "\u001b[1;32mD:\\anaconda3\\lib\\site-packages\\sklearn\\model_selection\\_validation.py\u001b[0m in \u001b[0;36m_fit_and_score\u001b[1;34m(estimator, X, y, scorer, train, test, verbose, parameters, fit_params, return_train_score, return_parameters, return_n_test_samples, return_times, return_estimator, split_progress, candidate_progress, error_score)\u001b[0m\n\u001b[0;32m    579\u001b[0m             \u001b[0mcloned_parameters\u001b[0m\u001b[1;33m[\u001b[0m\u001b[0mk\u001b[0m\u001b[1;33m]\u001b[0m \u001b[1;33m=\u001b[0m \u001b[0mclone\u001b[0m\u001b[1;33m(\u001b[0m\u001b[0mv\u001b[0m\u001b[1;33m,\u001b[0m \u001b[0msafe\u001b[0m\u001b[1;33m=\u001b[0m\u001b[1;32mFalse\u001b[0m\u001b[1;33m)\u001b[0m\u001b[1;33m\u001b[0m\u001b[1;33m\u001b[0m\u001b[0m\n\u001b[0;32m    580\u001b[0m \u001b[1;33m\u001b[0m\u001b[0m\n\u001b[1;32m--> 581\u001b[1;33m         \u001b[0mestimator\u001b[0m \u001b[1;33m=\u001b[0m \u001b[0mestimator\u001b[0m\u001b[1;33m.\u001b[0m\u001b[0mset_params\u001b[0m\u001b[1;33m(\u001b[0m\u001b[1;33m**\u001b[0m\u001b[0mcloned_parameters\u001b[0m\u001b[1;33m)\u001b[0m\u001b[1;33m\u001b[0m\u001b[1;33m\u001b[0m\u001b[0m\n\u001b[0m\u001b[0;32m    582\u001b[0m \u001b[1;33m\u001b[0m\u001b[0m\n\u001b[0;32m    583\u001b[0m     \u001b[0mstart_time\u001b[0m \u001b[1;33m=\u001b[0m \u001b[0mtime\u001b[0m\u001b[1;33m.\u001b[0m\u001b[0mtime\u001b[0m\u001b[1;33m(\u001b[0m\u001b[1;33m)\u001b[0m\u001b[1;33m\u001b[0m\u001b[1;33m\u001b[0m\u001b[0m\n",
      "\u001b[1;32mD:\\anaconda3\\lib\\site-packages\\sklearn\\base.py\u001b[0m in \u001b[0;36mset_params\u001b[1;34m(self, **params)\u001b[0m\n\u001b[0;32m    228\u001b[0m             \u001b[0mkey\u001b[0m\u001b[1;33m,\u001b[0m \u001b[0mdelim\u001b[0m\u001b[1;33m,\u001b[0m \u001b[0msub_key\u001b[0m \u001b[1;33m=\u001b[0m \u001b[0mkey\u001b[0m\u001b[1;33m.\u001b[0m\u001b[0mpartition\u001b[0m\u001b[1;33m(\u001b[0m\u001b[1;34m'__'\u001b[0m\u001b[1;33m)\u001b[0m\u001b[1;33m\u001b[0m\u001b[1;33m\u001b[0m\u001b[0m\n\u001b[0;32m    229\u001b[0m             \u001b[1;32mif\u001b[0m \u001b[0mkey\u001b[0m \u001b[1;32mnot\u001b[0m \u001b[1;32min\u001b[0m \u001b[0mvalid_params\u001b[0m\u001b[1;33m:\u001b[0m\u001b[1;33m\u001b[0m\u001b[1;33m\u001b[0m\u001b[0m\n\u001b[1;32m--> 230\u001b[1;33m                 raise ValueError('Invalid parameter %s for estimator %s. '\n\u001b[0m\u001b[0;32m    231\u001b[0m                                  \u001b[1;34m'Check the list of available parameters '\u001b[0m\u001b[1;33m\u001b[0m\u001b[1;33m\u001b[0m\u001b[0m\n\u001b[0;32m    232\u001b[0m                                  \u001b[1;34m'with `estimator.get_params().keys()`.'\u001b[0m \u001b[1;33m%\u001b[0m\u001b[1;33m\u001b[0m\u001b[1;33m\u001b[0m\u001b[0m\n",
      "\u001b[1;31mValueError\u001b[0m: Invalid parameter max_depth for estimator LogisticRegression(). Check the list of available parameters with `estimator.get_params().keys()`."
     ]
    }
   ],
   "source": [
    "# from sklearn.model_selection import GridSearchCV\n",
    "\n",
    "# params = {\n",
    "#     'max_depth':[6,8,10,12,16,20,24]\n",
    "# }\n",
    "\n",
    "# grid_cv = GridSearchCV(lr_clf, param_grid=params, scoring='recall', cv=5, verbose=1)\n",
    "# grid_cv.fit(X_train, y_train)\n",
    "# print('GridSearchCV 최고 평균 재현율 수치 : {0:.4f}'.format(grid_cv.best_score_))\n",
    "# print('GridSearchCV 최적 하이퍼 파라미터 :',grid_cv.best_params_)"
   ]
  },
  {
   "cell_type": "code",
   "execution_count": null,
   "id": "a98db3d1",
   "metadata": {},
   "outputs": [],
   "source": [
    "# best_lr_clf = grid_cv.best_estimator_\n",
    "# pred1 = best_lr_clf.predict(X_test)\n",
    "# pred_proba1 = best_lr_clf.predict_proba(X_test)[:,1]\n",
    "# dt_results = get_clf_eval(y_test, pred1, pred_proba1)"
   ]
  },
  {
   "cell_type": "markdown",
   "id": "24e9df8f",
   "metadata": {},
   "source": [
    "### KNeightborsClassifier\n",
    "\n",
    "\n",
    "\n",
    "\n",
    "KNeighborsClassifer는 MaxDepth Parameter가 존재하지 않음."
   ]
  },
  {
   "cell_type": "code",
   "execution_count": 125,
   "id": "3c9c2c33",
   "metadata": {},
   "outputs": [
    {
     "name": "stdout",
     "output_type": "stream",
     "text": [
      "Fitting 5 folds for each of 7 candidates, totalling 35 fits\n"
     ]
    },
    {
     "ename": "ValueError",
     "evalue": "Invalid parameter max_depth for estimator KNeighborsClassifier(). Check the list of available parameters with `estimator.get_params().keys()`.",
     "output_type": "error",
     "traceback": [
      "\u001b[1;31m---------------------------------------------------------------------------\u001b[0m",
      "\u001b[1;31mValueError\u001b[0m                                Traceback (most recent call last)",
      "\u001b[1;32m<ipython-input-125-9d02d090e35d>\u001b[0m in \u001b[0;36m<module>\u001b[1;34m\u001b[0m\n\u001b[0;32m      6\u001b[0m \u001b[1;33m\u001b[0m\u001b[0m\n\u001b[0;32m      7\u001b[0m \u001b[0mgrid_cv\u001b[0m \u001b[1;33m=\u001b[0m \u001b[0mGridSearchCV\u001b[0m\u001b[1;33m(\u001b[0m\u001b[0mkn_clf\u001b[0m\u001b[1;33m,\u001b[0m \u001b[0mparam_grid\u001b[0m\u001b[1;33m=\u001b[0m\u001b[0mparams\u001b[0m\u001b[1;33m,\u001b[0m \u001b[0mscoring\u001b[0m\u001b[1;33m=\u001b[0m\u001b[1;34m'recall'\u001b[0m\u001b[1;33m,\u001b[0m \u001b[0mcv\u001b[0m\u001b[1;33m=\u001b[0m\u001b[1;36m5\u001b[0m\u001b[1;33m,\u001b[0m \u001b[0mverbose\u001b[0m\u001b[1;33m=\u001b[0m\u001b[1;36m1\u001b[0m\u001b[1;33m)\u001b[0m\u001b[1;33m\u001b[0m\u001b[1;33m\u001b[0m\u001b[0m\n\u001b[1;32m----> 8\u001b[1;33m \u001b[0mgrid_cv\u001b[0m\u001b[1;33m.\u001b[0m\u001b[0mfit\u001b[0m\u001b[1;33m(\u001b[0m\u001b[0mX_train\u001b[0m\u001b[1;33m,\u001b[0m \u001b[0my_train\u001b[0m\u001b[1;33m)\u001b[0m\u001b[1;33m\u001b[0m\u001b[1;33m\u001b[0m\u001b[0m\n\u001b[0m\u001b[0;32m      9\u001b[0m \u001b[0mprint\u001b[0m\u001b[1;33m(\u001b[0m\u001b[1;34m'GridSearchCV 최고 평균 재현율 수치 : {0:.4f}'\u001b[0m\u001b[1;33m.\u001b[0m\u001b[0mformat\u001b[0m\u001b[1;33m(\u001b[0m\u001b[0mgrid_cv\u001b[0m\u001b[1;33m.\u001b[0m\u001b[0mbest_score_\u001b[0m\u001b[1;33m)\u001b[0m\u001b[1;33m)\u001b[0m\u001b[1;33m\u001b[0m\u001b[1;33m\u001b[0m\u001b[0m\n\u001b[0;32m     10\u001b[0m \u001b[0mprint\u001b[0m\u001b[1;33m(\u001b[0m\u001b[1;34m'GridSearchCV 최적 하이퍼 파라미터 :'\u001b[0m\u001b[1;33m,\u001b[0m\u001b[0mgrid_cv\u001b[0m\u001b[1;33m.\u001b[0m\u001b[0mbest_params_\u001b[0m\u001b[1;33m)\u001b[0m\u001b[1;33m\u001b[0m\u001b[1;33m\u001b[0m\u001b[0m\n",
      "\u001b[1;32mD:\\anaconda3\\lib\\site-packages\\sklearn\\utils\\validation.py\u001b[0m in \u001b[0;36minner_f\u001b[1;34m(*args, **kwargs)\u001b[0m\n\u001b[0;32m     61\u001b[0m             \u001b[0mextra_args\u001b[0m \u001b[1;33m=\u001b[0m \u001b[0mlen\u001b[0m\u001b[1;33m(\u001b[0m\u001b[0margs\u001b[0m\u001b[1;33m)\u001b[0m \u001b[1;33m-\u001b[0m \u001b[0mlen\u001b[0m\u001b[1;33m(\u001b[0m\u001b[0mall_args\u001b[0m\u001b[1;33m)\u001b[0m\u001b[1;33m\u001b[0m\u001b[1;33m\u001b[0m\u001b[0m\n\u001b[0;32m     62\u001b[0m             \u001b[1;32mif\u001b[0m \u001b[0mextra_args\u001b[0m \u001b[1;33m<=\u001b[0m \u001b[1;36m0\u001b[0m\u001b[1;33m:\u001b[0m\u001b[1;33m\u001b[0m\u001b[1;33m\u001b[0m\u001b[0m\n\u001b[1;32m---> 63\u001b[1;33m                 \u001b[1;32mreturn\u001b[0m \u001b[0mf\u001b[0m\u001b[1;33m(\u001b[0m\u001b[1;33m*\u001b[0m\u001b[0margs\u001b[0m\u001b[1;33m,\u001b[0m \u001b[1;33m**\u001b[0m\u001b[0mkwargs\u001b[0m\u001b[1;33m)\u001b[0m\u001b[1;33m\u001b[0m\u001b[1;33m\u001b[0m\u001b[0m\n\u001b[0m\u001b[0;32m     64\u001b[0m \u001b[1;33m\u001b[0m\u001b[0m\n\u001b[0;32m     65\u001b[0m             \u001b[1;31m# extra_args > 0\u001b[0m\u001b[1;33m\u001b[0m\u001b[1;33m\u001b[0m\u001b[1;33m\u001b[0m\u001b[0m\n",
      "\u001b[1;32mD:\\anaconda3\\lib\\site-packages\\sklearn\\model_selection\\_search.py\u001b[0m in \u001b[0;36mfit\u001b[1;34m(self, X, y, groups, **fit_params)\u001b[0m\n\u001b[0;32m    839\u001b[0m                 \u001b[1;32mreturn\u001b[0m \u001b[0mresults\u001b[0m\u001b[1;33m\u001b[0m\u001b[1;33m\u001b[0m\u001b[0m\n\u001b[0;32m    840\u001b[0m \u001b[1;33m\u001b[0m\u001b[0m\n\u001b[1;32m--> 841\u001b[1;33m             \u001b[0mself\u001b[0m\u001b[1;33m.\u001b[0m\u001b[0m_run_search\u001b[0m\u001b[1;33m(\u001b[0m\u001b[0mevaluate_candidates\u001b[0m\u001b[1;33m)\u001b[0m\u001b[1;33m\u001b[0m\u001b[1;33m\u001b[0m\u001b[0m\n\u001b[0m\u001b[0;32m    842\u001b[0m \u001b[1;33m\u001b[0m\u001b[0m\n\u001b[0;32m    843\u001b[0m             \u001b[1;31m# multimetric is determined here because in the case of a callable\u001b[0m\u001b[1;33m\u001b[0m\u001b[1;33m\u001b[0m\u001b[1;33m\u001b[0m\u001b[0m\n",
      "\u001b[1;32mD:\\anaconda3\\lib\\site-packages\\sklearn\\model_selection\\_search.py\u001b[0m in \u001b[0;36m_run_search\u001b[1;34m(self, evaluate_candidates)\u001b[0m\n\u001b[0;32m   1286\u001b[0m     \u001b[1;32mdef\u001b[0m \u001b[0m_run_search\u001b[0m\u001b[1;33m(\u001b[0m\u001b[0mself\u001b[0m\u001b[1;33m,\u001b[0m \u001b[0mevaluate_candidates\u001b[0m\u001b[1;33m)\u001b[0m\u001b[1;33m:\u001b[0m\u001b[1;33m\u001b[0m\u001b[1;33m\u001b[0m\u001b[0m\n\u001b[0;32m   1287\u001b[0m         \u001b[1;34m\"\"\"Search all candidates in param_grid\"\"\"\u001b[0m\u001b[1;33m\u001b[0m\u001b[1;33m\u001b[0m\u001b[0m\n\u001b[1;32m-> 1288\u001b[1;33m         \u001b[0mevaluate_candidates\u001b[0m\u001b[1;33m(\u001b[0m\u001b[0mParameterGrid\u001b[0m\u001b[1;33m(\u001b[0m\u001b[0mself\u001b[0m\u001b[1;33m.\u001b[0m\u001b[0mparam_grid\u001b[0m\u001b[1;33m)\u001b[0m\u001b[1;33m)\u001b[0m\u001b[1;33m\u001b[0m\u001b[1;33m\u001b[0m\u001b[0m\n\u001b[0m\u001b[0;32m   1289\u001b[0m \u001b[1;33m\u001b[0m\u001b[0m\n\u001b[0;32m   1290\u001b[0m \u001b[1;33m\u001b[0m\u001b[0m\n",
      "\u001b[1;32mD:\\anaconda3\\lib\\site-packages\\sklearn\\model_selection\\_search.py\u001b[0m in \u001b[0;36mevaluate_candidates\u001b[1;34m(candidate_params, cv, more_results)\u001b[0m\n\u001b[0;32m    793\u001b[0m                               n_splits, n_candidates, n_candidates * n_splits))\n\u001b[0;32m    794\u001b[0m \u001b[1;33m\u001b[0m\u001b[0m\n\u001b[1;32m--> 795\u001b[1;33m                 out = parallel(delayed(_fit_and_score)(clone(base_estimator),\n\u001b[0m\u001b[0;32m    796\u001b[0m                                                        \u001b[0mX\u001b[0m\u001b[1;33m,\u001b[0m \u001b[0my\u001b[0m\u001b[1;33m,\u001b[0m\u001b[1;33m\u001b[0m\u001b[1;33m\u001b[0m\u001b[0m\n\u001b[0;32m    797\u001b[0m                                                        \u001b[0mtrain\u001b[0m\u001b[1;33m=\u001b[0m\u001b[0mtrain\u001b[0m\u001b[1;33m,\u001b[0m \u001b[0mtest\u001b[0m\u001b[1;33m=\u001b[0m\u001b[0mtest\u001b[0m\u001b[1;33m,\u001b[0m\u001b[1;33m\u001b[0m\u001b[1;33m\u001b[0m\u001b[0m\n",
      "\u001b[1;32mD:\\anaconda3\\lib\\site-packages\\joblib\\parallel.py\u001b[0m in \u001b[0;36m__call__\u001b[1;34m(self, iterable)\u001b[0m\n\u001b[0;32m   1039\u001b[0m             \u001b[1;31m# remaining jobs.\u001b[0m\u001b[1;33m\u001b[0m\u001b[1;33m\u001b[0m\u001b[1;33m\u001b[0m\u001b[0m\n\u001b[0;32m   1040\u001b[0m             \u001b[0mself\u001b[0m\u001b[1;33m.\u001b[0m\u001b[0m_iterating\u001b[0m \u001b[1;33m=\u001b[0m \u001b[1;32mFalse\u001b[0m\u001b[1;33m\u001b[0m\u001b[1;33m\u001b[0m\u001b[0m\n\u001b[1;32m-> 1041\u001b[1;33m             \u001b[1;32mif\u001b[0m \u001b[0mself\u001b[0m\u001b[1;33m.\u001b[0m\u001b[0mdispatch_one_batch\u001b[0m\u001b[1;33m(\u001b[0m\u001b[0miterator\u001b[0m\u001b[1;33m)\u001b[0m\u001b[1;33m:\u001b[0m\u001b[1;33m\u001b[0m\u001b[1;33m\u001b[0m\u001b[0m\n\u001b[0m\u001b[0;32m   1042\u001b[0m                 \u001b[0mself\u001b[0m\u001b[1;33m.\u001b[0m\u001b[0m_iterating\u001b[0m \u001b[1;33m=\u001b[0m \u001b[0mself\u001b[0m\u001b[1;33m.\u001b[0m\u001b[0m_original_iterator\u001b[0m \u001b[1;32mis\u001b[0m \u001b[1;32mnot\u001b[0m \u001b[1;32mNone\u001b[0m\u001b[1;33m\u001b[0m\u001b[1;33m\u001b[0m\u001b[0m\n\u001b[0;32m   1043\u001b[0m \u001b[1;33m\u001b[0m\u001b[0m\n",
      "\u001b[1;32mD:\\anaconda3\\lib\\site-packages\\joblib\\parallel.py\u001b[0m in \u001b[0;36mdispatch_one_batch\u001b[1;34m(self, iterator)\u001b[0m\n\u001b[0;32m    857\u001b[0m                 \u001b[1;32mreturn\u001b[0m \u001b[1;32mFalse\u001b[0m\u001b[1;33m\u001b[0m\u001b[1;33m\u001b[0m\u001b[0m\n\u001b[0;32m    858\u001b[0m             \u001b[1;32melse\u001b[0m\u001b[1;33m:\u001b[0m\u001b[1;33m\u001b[0m\u001b[1;33m\u001b[0m\u001b[0m\n\u001b[1;32m--> 859\u001b[1;33m                 \u001b[0mself\u001b[0m\u001b[1;33m.\u001b[0m\u001b[0m_dispatch\u001b[0m\u001b[1;33m(\u001b[0m\u001b[0mtasks\u001b[0m\u001b[1;33m)\u001b[0m\u001b[1;33m\u001b[0m\u001b[1;33m\u001b[0m\u001b[0m\n\u001b[0m\u001b[0;32m    860\u001b[0m                 \u001b[1;32mreturn\u001b[0m \u001b[1;32mTrue\u001b[0m\u001b[1;33m\u001b[0m\u001b[1;33m\u001b[0m\u001b[0m\n\u001b[0;32m    861\u001b[0m \u001b[1;33m\u001b[0m\u001b[0m\n",
      "\u001b[1;32mD:\\anaconda3\\lib\\site-packages\\joblib\\parallel.py\u001b[0m in \u001b[0;36m_dispatch\u001b[1;34m(self, batch)\u001b[0m\n\u001b[0;32m    775\u001b[0m         \u001b[1;32mwith\u001b[0m \u001b[0mself\u001b[0m\u001b[1;33m.\u001b[0m\u001b[0m_lock\u001b[0m\u001b[1;33m:\u001b[0m\u001b[1;33m\u001b[0m\u001b[1;33m\u001b[0m\u001b[0m\n\u001b[0;32m    776\u001b[0m             \u001b[0mjob_idx\u001b[0m \u001b[1;33m=\u001b[0m \u001b[0mlen\u001b[0m\u001b[1;33m(\u001b[0m\u001b[0mself\u001b[0m\u001b[1;33m.\u001b[0m\u001b[0m_jobs\u001b[0m\u001b[1;33m)\u001b[0m\u001b[1;33m\u001b[0m\u001b[1;33m\u001b[0m\u001b[0m\n\u001b[1;32m--> 777\u001b[1;33m             \u001b[0mjob\u001b[0m \u001b[1;33m=\u001b[0m \u001b[0mself\u001b[0m\u001b[1;33m.\u001b[0m\u001b[0m_backend\u001b[0m\u001b[1;33m.\u001b[0m\u001b[0mapply_async\u001b[0m\u001b[1;33m(\u001b[0m\u001b[0mbatch\u001b[0m\u001b[1;33m,\u001b[0m \u001b[0mcallback\u001b[0m\u001b[1;33m=\u001b[0m\u001b[0mcb\u001b[0m\u001b[1;33m)\u001b[0m\u001b[1;33m\u001b[0m\u001b[1;33m\u001b[0m\u001b[0m\n\u001b[0m\u001b[0;32m    778\u001b[0m             \u001b[1;31m# A job can complete so quickly than its callback is\u001b[0m\u001b[1;33m\u001b[0m\u001b[1;33m\u001b[0m\u001b[1;33m\u001b[0m\u001b[0m\n\u001b[0;32m    779\u001b[0m             \u001b[1;31m# called before we get here, causing self._jobs to\u001b[0m\u001b[1;33m\u001b[0m\u001b[1;33m\u001b[0m\u001b[1;33m\u001b[0m\u001b[0m\n",
      "\u001b[1;32mD:\\anaconda3\\lib\\site-packages\\joblib\\_parallel_backends.py\u001b[0m in \u001b[0;36mapply_async\u001b[1;34m(self, func, callback)\u001b[0m\n\u001b[0;32m    206\u001b[0m     \u001b[1;32mdef\u001b[0m \u001b[0mapply_async\u001b[0m\u001b[1;33m(\u001b[0m\u001b[0mself\u001b[0m\u001b[1;33m,\u001b[0m \u001b[0mfunc\u001b[0m\u001b[1;33m,\u001b[0m \u001b[0mcallback\u001b[0m\u001b[1;33m=\u001b[0m\u001b[1;32mNone\u001b[0m\u001b[1;33m)\u001b[0m\u001b[1;33m:\u001b[0m\u001b[1;33m\u001b[0m\u001b[1;33m\u001b[0m\u001b[0m\n\u001b[0;32m    207\u001b[0m         \u001b[1;34m\"\"\"Schedule a func to be run\"\"\"\u001b[0m\u001b[1;33m\u001b[0m\u001b[1;33m\u001b[0m\u001b[0m\n\u001b[1;32m--> 208\u001b[1;33m         \u001b[0mresult\u001b[0m \u001b[1;33m=\u001b[0m \u001b[0mImmediateResult\u001b[0m\u001b[1;33m(\u001b[0m\u001b[0mfunc\u001b[0m\u001b[1;33m)\u001b[0m\u001b[1;33m\u001b[0m\u001b[1;33m\u001b[0m\u001b[0m\n\u001b[0m\u001b[0;32m    209\u001b[0m         \u001b[1;32mif\u001b[0m \u001b[0mcallback\u001b[0m\u001b[1;33m:\u001b[0m\u001b[1;33m\u001b[0m\u001b[1;33m\u001b[0m\u001b[0m\n\u001b[0;32m    210\u001b[0m             \u001b[0mcallback\u001b[0m\u001b[1;33m(\u001b[0m\u001b[0mresult\u001b[0m\u001b[1;33m)\u001b[0m\u001b[1;33m\u001b[0m\u001b[1;33m\u001b[0m\u001b[0m\n",
      "\u001b[1;32mD:\\anaconda3\\lib\\site-packages\\joblib\\_parallel_backends.py\u001b[0m in \u001b[0;36m__init__\u001b[1;34m(self, batch)\u001b[0m\n\u001b[0;32m    570\u001b[0m         \u001b[1;31m# Don't delay the application, to avoid keeping the input\u001b[0m\u001b[1;33m\u001b[0m\u001b[1;33m\u001b[0m\u001b[1;33m\u001b[0m\u001b[0m\n\u001b[0;32m    571\u001b[0m         \u001b[1;31m# arguments in memory\u001b[0m\u001b[1;33m\u001b[0m\u001b[1;33m\u001b[0m\u001b[1;33m\u001b[0m\u001b[0m\n\u001b[1;32m--> 572\u001b[1;33m         \u001b[0mself\u001b[0m\u001b[1;33m.\u001b[0m\u001b[0mresults\u001b[0m \u001b[1;33m=\u001b[0m \u001b[0mbatch\u001b[0m\u001b[1;33m(\u001b[0m\u001b[1;33m)\u001b[0m\u001b[1;33m\u001b[0m\u001b[1;33m\u001b[0m\u001b[0m\n\u001b[0m\u001b[0;32m    573\u001b[0m \u001b[1;33m\u001b[0m\u001b[0m\n\u001b[0;32m    574\u001b[0m     \u001b[1;32mdef\u001b[0m \u001b[0mget\u001b[0m\u001b[1;33m(\u001b[0m\u001b[0mself\u001b[0m\u001b[1;33m)\u001b[0m\u001b[1;33m:\u001b[0m\u001b[1;33m\u001b[0m\u001b[1;33m\u001b[0m\u001b[0m\n",
      "\u001b[1;32mD:\\anaconda3\\lib\\site-packages\\joblib\\parallel.py\u001b[0m in \u001b[0;36m__call__\u001b[1;34m(self)\u001b[0m\n\u001b[0;32m    260\u001b[0m         \u001b[1;31m# change the default number of processes to -1\u001b[0m\u001b[1;33m\u001b[0m\u001b[1;33m\u001b[0m\u001b[1;33m\u001b[0m\u001b[0m\n\u001b[0;32m    261\u001b[0m         \u001b[1;32mwith\u001b[0m \u001b[0mparallel_backend\u001b[0m\u001b[1;33m(\u001b[0m\u001b[0mself\u001b[0m\u001b[1;33m.\u001b[0m\u001b[0m_backend\u001b[0m\u001b[1;33m,\u001b[0m \u001b[0mn_jobs\u001b[0m\u001b[1;33m=\u001b[0m\u001b[0mself\u001b[0m\u001b[1;33m.\u001b[0m\u001b[0m_n_jobs\u001b[0m\u001b[1;33m)\u001b[0m\u001b[1;33m:\u001b[0m\u001b[1;33m\u001b[0m\u001b[1;33m\u001b[0m\u001b[0m\n\u001b[1;32m--> 262\u001b[1;33m             return [func(*args, **kwargs)\n\u001b[0m\u001b[0;32m    263\u001b[0m                     for func, args, kwargs in self.items]\n\u001b[0;32m    264\u001b[0m \u001b[1;33m\u001b[0m\u001b[0m\n",
      "\u001b[1;32mD:\\anaconda3\\lib\\site-packages\\joblib\\parallel.py\u001b[0m in \u001b[0;36m<listcomp>\u001b[1;34m(.0)\u001b[0m\n\u001b[0;32m    260\u001b[0m         \u001b[1;31m# change the default number of processes to -1\u001b[0m\u001b[1;33m\u001b[0m\u001b[1;33m\u001b[0m\u001b[1;33m\u001b[0m\u001b[0m\n\u001b[0;32m    261\u001b[0m         \u001b[1;32mwith\u001b[0m \u001b[0mparallel_backend\u001b[0m\u001b[1;33m(\u001b[0m\u001b[0mself\u001b[0m\u001b[1;33m.\u001b[0m\u001b[0m_backend\u001b[0m\u001b[1;33m,\u001b[0m \u001b[0mn_jobs\u001b[0m\u001b[1;33m=\u001b[0m\u001b[0mself\u001b[0m\u001b[1;33m.\u001b[0m\u001b[0m_n_jobs\u001b[0m\u001b[1;33m)\u001b[0m\u001b[1;33m:\u001b[0m\u001b[1;33m\u001b[0m\u001b[1;33m\u001b[0m\u001b[0m\n\u001b[1;32m--> 262\u001b[1;33m             return [func(*args, **kwargs)\n\u001b[0m\u001b[0;32m    263\u001b[0m                     for func, args, kwargs in self.items]\n\u001b[0;32m    264\u001b[0m \u001b[1;33m\u001b[0m\u001b[0m\n",
      "\u001b[1;32mD:\\anaconda3\\lib\\site-packages\\sklearn\\utils\\fixes.py\u001b[0m in \u001b[0;36m__call__\u001b[1;34m(self, *args, **kwargs)\u001b[0m\n\u001b[0;32m    220\u001b[0m     \u001b[1;32mdef\u001b[0m \u001b[0m__call__\u001b[0m\u001b[1;33m(\u001b[0m\u001b[0mself\u001b[0m\u001b[1;33m,\u001b[0m \u001b[1;33m*\u001b[0m\u001b[0margs\u001b[0m\u001b[1;33m,\u001b[0m \u001b[1;33m**\u001b[0m\u001b[0mkwargs\u001b[0m\u001b[1;33m)\u001b[0m\u001b[1;33m:\u001b[0m\u001b[1;33m\u001b[0m\u001b[1;33m\u001b[0m\u001b[0m\n\u001b[0;32m    221\u001b[0m         \u001b[1;32mwith\u001b[0m \u001b[0mconfig_context\u001b[0m\u001b[1;33m(\u001b[0m\u001b[1;33m**\u001b[0m\u001b[0mself\u001b[0m\u001b[1;33m.\u001b[0m\u001b[0mconfig\u001b[0m\u001b[1;33m)\u001b[0m\u001b[1;33m:\u001b[0m\u001b[1;33m\u001b[0m\u001b[1;33m\u001b[0m\u001b[0m\n\u001b[1;32m--> 222\u001b[1;33m             \u001b[1;32mreturn\u001b[0m \u001b[0mself\u001b[0m\u001b[1;33m.\u001b[0m\u001b[0mfunction\u001b[0m\u001b[1;33m(\u001b[0m\u001b[1;33m*\u001b[0m\u001b[0margs\u001b[0m\u001b[1;33m,\u001b[0m \u001b[1;33m**\u001b[0m\u001b[0mkwargs\u001b[0m\u001b[1;33m)\u001b[0m\u001b[1;33m\u001b[0m\u001b[1;33m\u001b[0m\u001b[0m\n\u001b[0m",
      "\u001b[1;32mD:\\anaconda3\\lib\\site-packages\\sklearn\\model_selection\\_validation.py\u001b[0m in \u001b[0;36m_fit_and_score\u001b[1;34m(estimator, X, y, scorer, train, test, verbose, parameters, fit_params, return_train_score, return_parameters, return_n_test_samples, return_times, return_estimator, split_progress, candidate_progress, error_score)\u001b[0m\n\u001b[0;32m    579\u001b[0m             \u001b[0mcloned_parameters\u001b[0m\u001b[1;33m[\u001b[0m\u001b[0mk\u001b[0m\u001b[1;33m]\u001b[0m \u001b[1;33m=\u001b[0m \u001b[0mclone\u001b[0m\u001b[1;33m(\u001b[0m\u001b[0mv\u001b[0m\u001b[1;33m,\u001b[0m \u001b[0msafe\u001b[0m\u001b[1;33m=\u001b[0m\u001b[1;32mFalse\u001b[0m\u001b[1;33m)\u001b[0m\u001b[1;33m\u001b[0m\u001b[1;33m\u001b[0m\u001b[0m\n\u001b[0;32m    580\u001b[0m \u001b[1;33m\u001b[0m\u001b[0m\n\u001b[1;32m--> 581\u001b[1;33m         \u001b[0mestimator\u001b[0m \u001b[1;33m=\u001b[0m \u001b[0mestimator\u001b[0m\u001b[1;33m.\u001b[0m\u001b[0mset_params\u001b[0m\u001b[1;33m(\u001b[0m\u001b[1;33m**\u001b[0m\u001b[0mcloned_parameters\u001b[0m\u001b[1;33m)\u001b[0m\u001b[1;33m\u001b[0m\u001b[1;33m\u001b[0m\u001b[0m\n\u001b[0m\u001b[0;32m    582\u001b[0m \u001b[1;33m\u001b[0m\u001b[0m\n\u001b[0;32m    583\u001b[0m     \u001b[0mstart_time\u001b[0m \u001b[1;33m=\u001b[0m \u001b[0mtime\u001b[0m\u001b[1;33m.\u001b[0m\u001b[0mtime\u001b[0m\u001b[1;33m(\u001b[0m\u001b[1;33m)\u001b[0m\u001b[1;33m\u001b[0m\u001b[1;33m\u001b[0m\u001b[0m\n",
      "\u001b[1;32mD:\\anaconda3\\lib\\site-packages\\sklearn\\base.py\u001b[0m in \u001b[0;36mset_params\u001b[1;34m(self, **params)\u001b[0m\n\u001b[0;32m    228\u001b[0m             \u001b[0mkey\u001b[0m\u001b[1;33m,\u001b[0m \u001b[0mdelim\u001b[0m\u001b[1;33m,\u001b[0m \u001b[0msub_key\u001b[0m \u001b[1;33m=\u001b[0m \u001b[0mkey\u001b[0m\u001b[1;33m.\u001b[0m\u001b[0mpartition\u001b[0m\u001b[1;33m(\u001b[0m\u001b[1;34m'__'\u001b[0m\u001b[1;33m)\u001b[0m\u001b[1;33m\u001b[0m\u001b[1;33m\u001b[0m\u001b[0m\n\u001b[0;32m    229\u001b[0m             \u001b[1;32mif\u001b[0m \u001b[0mkey\u001b[0m \u001b[1;32mnot\u001b[0m \u001b[1;32min\u001b[0m \u001b[0mvalid_params\u001b[0m\u001b[1;33m:\u001b[0m\u001b[1;33m\u001b[0m\u001b[1;33m\u001b[0m\u001b[0m\n\u001b[1;32m--> 230\u001b[1;33m                 raise ValueError('Invalid parameter %s for estimator %s. '\n\u001b[0m\u001b[0;32m    231\u001b[0m                                  \u001b[1;34m'Check the list of available parameters '\u001b[0m\u001b[1;33m\u001b[0m\u001b[1;33m\u001b[0m\u001b[0m\n\u001b[0;32m    232\u001b[0m                                  \u001b[1;34m'with `estimator.get_params().keys()`.'\u001b[0m \u001b[1;33m%\u001b[0m\u001b[1;33m\u001b[0m\u001b[1;33m\u001b[0m\u001b[0m\n",
      "\u001b[1;31mValueError\u001b[0m: Invalid parameter max_depth for estimator KNeighborsClassifier(). Check the list of available parameters with `estimator.get_params().keys()`."
     ]
    }
   ],
   "source": [
    "from sklearn.model_selection import GridSearchCV\n",
    "\n",
    "params = {\n",
    "    'max_depth':[6,8,10,12,16,20,24]\n",
    "}\n",
    "\n",
    "grid_cv = GridSearchCV(kn_clf, param_grid=params, scoring='recall', cv=5, verbose=1)\n",
    "grid_cv.fit(X_train, y_train)\n",
    "print('GridSearchCV 최고 평균 재현율 수치 : {0:.4f}'.format(grid_cv.best_score_))\n",
    "print('GridSearchCV 최적 하이퍼 파라미터 :',grid_cv.best_params_)"
   ]
  },
  {
   "cell_type": "code",
   "execution_count": null,
   "id": "e474cc2d",
   "metadata": {},
   "outputs": [],
   "source": [
    "best_kn_clf = grid_cv.best_estimator_\n",
    "pred1 = best_kn_clf.predict(X_test)\n",
    "pred_proba1 = best_kn_clf.predict_proba(X_test)[:,1]\n",
    "dt_results = get_clf_eval(y_test, pred1, pred_proba1)"
   ]
  },
  {
   "cell_type": "markdown",
   "id": "77c91648",
   "metadata": {},
   "source": [
    "### GBM"
   ]
  },
  {
   "cell_type": "code",
   "execution_count": 127,
   "id": "f57df124",
   "metadata": {},
   "outputs": [
    {
     "name": "stdout",
     "output_type": "stream",
     "text": [
      "Fitting 5 folds for each of 7 candidates, totalling 35 fits\n"
     ]
    },
    {
     "name": "stderr",
     "output_type": "stream",
     "text": [
      "D:\\anaconda3\\lib\\site-packages\\sklearn\\utils\\validation.py:63: DataConversionWarning: A column-vector y was passed when a 1d array was expected. Please change the shape of y to (n_samples, ), for example using ravel().\n",
      "  return f(*args, **kwargs)\n",
      "D:\\anaconda3\\lib\\site-packages\\sklearn\\utils\\validation.py:63: DataConversionWarning: A column-vector y was passed when a 1d array was expected. Please change the shape of y to (n_samples, ), for example using ravel().\n",
      "  return f(*args, **kwargs)\n",
      "D:\\anaconda3\\lib\\site-packages\\sklearn\\utils\\validation.py:63: DataConversionWarning: A column-vector y was passed when a 1d array was expected. Please change the shape of y to (n_samples, ), for example using ravel().\n",
      "  return f(*args, **kwargs)\n",
      "D:\\anaconda3\\lib\\site-packages\\sklearn\\utils\\validation.py:63: DataConversionWarning: A column-vector y was passed when a 1d array was expected. Please change the shape of y to (n_samples, ), for example using ravel().\n",
      "  return f(*args, **kwargs)\n",
      "D:\\anaconda3\\lib\\site-packages\\sklearn\\utils\\validation.py:63: DataConversionWarning: A column-vector y was passed when a 1d array was expected. Please change the shape of y to (n_samples, ), for example using ravel().\n",
      "  return f(*args, **kwargs)\n",
      "D:\\anaconda3\\lib\\site-packages\\sklearn\\utils\\validation.py:63: DataConversionWarning: A column-vector y was passed when a 1d array was expected. Please change the shape of y to (n_samples, ), for example using ravel().\n",
      "  return f(*args, **kwargs)\n",
      "D:\\anaconda3\\lib\\site-packages\\sklearn\\utils\\validation.py:63: DataConversionWarning: A column-vector y was passed when a 1d array was expected. Please change the shape of y to (n_samples, ), for example using ravel().\n",
      "  return f(*args, **kwargs)\n",
      "D:\\anaconda3\\lib\\site-packages\\sklearn\\utils\\validation.py:63: DataConversionWarning: A column-vector y was passed when a 1d array was expected. Please change the shape of y to (n_samples, ), for example using ravel().\n",
      "  return f(*args, **kwargs)\n",
      "D:\\anaconda3\\lib\\site-packages\\sklearn\\utils\\validation.py:63: DataConversionWarning: A column-vector y was passed when a 1d array was expected. Please change the shape of y to (n_samples, ), for example using ravel().\n",
      "  return f(*args, **kwargs)\n",
      "D:\\anaconda3\\lib\\site-packages\\sklearn\\utils\\validation.py:63: DataConversionWarning: A column-vector y was passed when a 1d array was expected. Please change the shape of y to (n_samples, ), for example using ravel().\n",
      "  return f(*args, **kwargs)\n",
      "D:\\anaconda3\\lib\\site-packages\\sklearn\\utils\\validation.py:63: DataConversionWarning: A column-vector y was passed when a 1d array was expected. Please change the shape of y to (n_samples, ), for example using ravel().\n",
      "  return f(*args, **kwargs)\n",
      "D:\\anaconda3\\lib\\site-packages\\sklearn\\utils\\validation.py:63: DataConversionWarning: A column-vector y was passed when a 1d array was expected. Please change the shape of y to (n_samples, ), for example using ravel().\n",
      "  return f(*args, **kwargs)\n",
      "D:\\anaconda3\\lib\\site-packages\\sklearn\\utils\\validation.py:63: DataConversionWarning: A column-vector y was passed when a 1d array was expected. Please change the shape of y to (n_samples, ), for example using ravel().\n",
      "  return f(*args, **kwargs)\n",
      "D:\\anaconda3\\lib\\site-packages\\sklearn\\utils\\validation.py:63: DataConversionWarning: A column-vector y was passed when a 1d array was expected. Please change the shape of y to (n_samples, ), for example using ravel().\n",
      "  return f(*args, **kwargs)\n",
      "D:\\anaconda3\\lib\\site-packages\\sklearn\\utils\\validation.py:63: DataConversionWarning: A column-vector y was passed when a 1d array was expected. Please change the shape of y to (n_samples, ), for example using ravel().\n",
      "  return f(*args, **kwargs)\n",
      "D:\\anaconda3\\lib\\site-packages\\sklearn\\utils\\validation.py:63: DataConversionWarning: A column-vector y was passed when a 1d array was expected. Please change the shape of y to (n_samples, ), for example using ravel().\n",
      "  return f(*args, **kwargs)\n",
      "D:\\anaconda3\\lib\\site-packages\\sklearn\\utils\\validation.py:63: DataConversionWarning: A column-vector y was passed when a 1d array was expected. Please change the shape of y to (n_samples, ), for example using ravel().\n",
      "  return f(*args, **kwargs)\n",
      "D:\\anaconda3\\lib\\site-packages\\sklearn\\utils\\validation.py:63: DataConversionWarning: A column-vector y was passed when a 1d array was expected. Please change the shape of y to (n_samples, ), for example using ravel().\n",
      "  return f(*args, **kwargs)\n",
      "D:\\anaconda3\\lib\\site-packages\\sklearn\\utils\\validation.py:63: DataConversionWarning: A column-vector y was passed when a 1d array was expected. Please change the shape of y to (n_samples, ), for example using ravel().\n",
      "  return f(*args, **kwargs)\n",
      "D:\\anaconda3\\lib\\site-packages\\sklearn\\utils\\validation.py:63: DataConversionWarning: A column-vector y was passed when a 1d array was expected. Please change the shape of y to (n_samples, ), for example using ravel().\n",
      "  return f(*args, **kwargs)\n",
      "D:\\anaconda3\\lib\\site-packages\\sklearn\\utils\\validation.py:63: DataConversionWarning: A column-vector y was passed when a 1d array was expected. Please change the shape of y to (n_samples, ), for example using ravel().\n",
      "  return f(*args, **kwargs)\n",
      "D:\\anaconda3\\lib\\site-packages\\sklearn\\utils\\validation.py:63: DataConversionWarning: A column-vector y was passed when a 1d array was expected. Please change the shape of y to (n_samples, ), for example using ravel().\n",
      "  return f(*args, **kwargs)\n",
      "D:\\anaconda3\\lib\\site-packages\\sklearn\\utils\\validation.py:63: DataConversionWarning: A column-vector y was passed when a 1d array was expected. Please change the shape of y to (n_samples, ), for example using ravel().\n",
      "  return f(*args, **kwargs)\n",
      "D:\\anaconda3\\lib\\site-packages\\sklearn\\utils\\validation.py:63: DataConversionWarning: A column-vector y was passed when a 1d array was expected. Please change the shape of y to (n_samples, ), for example using ravel().\n",
      "  return f(*args, **kwargs)\n",
      "D:\\anaconda3\\lib\\site-packages\\sklearn\\utils\\validation.py:63: DataConversionWarning: A column-vector y was passed when a 1d array was expected. Please change the shape of y to (n_samples, ), for example using ravel().\n",
      "  return f(*args, **kwargs)\n",
      "D:\\anaconda3\\lib\\site-packages\\sklearn\\utils\\validation.py:63: DataConversionWarning: A column-vector y was passed when a 1d array was expected. Please change the shape of y to (n_samples, ), for example using ravel().\n",
      "  return f(*args, **kwargs)\n",
      "D:\\anaconda3\\lib\\site-packages\\sklearn\\utils\\validation.py:63: DataConversionWarning: A column-vector y was passed when a 1d array was expected. Please change the shape of y to (n_samples, ), for example using ravel().\n",
      "  return f(*args, **kwargs)\n",
      "D:\\anaconda3\\lib\\site-packages\\sklearn\\utils\\validation.py:63: DataConversionWarning: A column-vector y was passed when a 1d array was expected. Please change the shape of y to (n_samples, ), for example using ravel().\n",
      "  return f(*args, **kwargs)\n",
      "D:\\anaconda3\\lib\\site-packages\\sklearn\\utils\\validation.py:63: DataConversionWarning: A column-vector y was passed when a 1d array was expected. Please change the shape of y to (n_samples, ), for example using ravel().\n",
      "  return f(*args, **kwargs)\n",
      "D:\\anaconda3\\lib\\site-packages\\sklearn\\utils\\validation.py:63: DataConversionWarning: A column-vector y was passed when a 1d array was expected. Please change the shape of y to (n_samples, ), for example using ravel().\n",
      "  return f(*args, **kwargs)\n",
      "D:\\anaconda3\\lib\\site-packages\\sklearn\\utils\\validation.py:63: DataConversionWarning: A column-vector y was passed when a 1d array was expected. Please change the shape of y to (n_samples, ), for example using ravel().\n",
      "  return f(*args, **kwargs)\n",
      "D:\\anaconda3\\lib\\site-packages\\sklearn\\utils\\validation.py:63: DataConversionWarning: A column-vector y was passed when a 1d array was expected. Please change the shape of y to (n_samples, ), for example using ravel().\n",
      "  return f(*args, **kwargs)\n",
      "D:\\anaconda3\\lib\\site-packages\\sklearn\\utils\\validation.py:63: DataConversionWarning: A column-vector y was passed when a 1d array was expected. Please change the shape of y to (n_samples, ), for example using ravel().\n",
      "  return f(*args, **kwargs)\n",
      "D:\\anaconda3\\lib\\site-packages\\sklearn\\utils\\validation.py:63: DataConversionWarning: A column-vector y was passed when a 1d array was expected. Please change the shape of y to (n_samples, ), for example using ravel().\n",
      "  return f(*args, **kwargs)\n"
     ]
    },
    {
     "name": "stderr",
     "output_type": "stream",
     "text": [
      "D:\\anaconda3\\lib\\site-packages\\sklearn\\utils\\validation.py:63: DataConversionWarning: A column-vector y was passed when a 1d array was expected. Please change the shape of y to (n_samples, ), for example using ravel().\n",
      "  return f(*args, **kwargs)\n",
      "D:\\anaconda3\\lib\\site-packages\\sklearn\\utils\\validation.py:63: DataConversionWarning: A column-vector y was passed when a 1d array was expected. Please change the shape of y to (n_samples, ), for example using ravel().\n",
      "  return f(*args, **kwargs)\n"
     ]
    },
    {
     "data": {
      "text/plain": [
       "GridSearchCV(cv=5, estimator=GradientBoostingClassifier(random_state=11),\n",
       "             param_grid={'max_depth': [6, 8, 10, 12, 16, 20, 24]},\n",
       "             scoring='recall', verbose=1)"
      ]
     },
     "execution_count": 127,
     "metadata": {},
     "output_type": "execute_result"
    },
    {
     "name": "stdout",
     "output_type": "stream",
     "text": [
      "GridSearchCV 최고 평균 재현율 수치 : 0.9517\n",
      "GridSearchCV 최적 하이퍼 파라미터 : {'max_depth': 12}\n"
     ]
    }
   ],
   "source": [
    "# from sklearn.model_selection import GridSearchCV\n",
    "\n",
    "# params = {\n",
    "#     'max_depth':[6,8,10,12,16,20,24]\n",
    "# }\n",
    "\n",
    "# grid_cv = GridSearchCV(gb_clf, param_grid=params, scoring='recall', cv=5, verbose=1)\n",
    "# grid_cv.fit(X_train, y_train)\n",
    "# print('GridSearchCV 최고 평균 재현율 수치 : {0:.4f}'.format(grid_cv.best_score_))\n",
    "# print('GridSearchCV 최적 하이퍼 파라미터 :',grid_cv.best_params_)"
   ]
  },
  {
   "cell_type": "code",
   "execution_count": 128,
   "id": "061cf8fb",
   "metadata": {},
   "outputs": [
    {
     "name": "stdout",
     "output_type": "stream",
     "text": [
      "오차 행렬\n",
      "[[2036   89]\n",
      " [ 117  290]]\n",
      "정확도: 0.9186, 정밀도: 0.7652, 재현율: 0.7125,     F1: 0.7379\n"
     ]
    }
   ],
   "source": [
    "# best_gb_clf = grid_cv.best_estimator_\n",
    "# pred1 = best_gb_clf.predict(X_test)\n",
    "# pred_proba1 = best_gb_clf.predict_proba(X_test)[:,1]\n",
    "# dt_results = get_clf_eval(y_test, pred1, pred_proba1)"
   ]
  },
  {
   "cell_type": "code",
   "execution_count": null,
   "id": "c2e91ddf",
   "metadata": {},
   "outputs": [],
   "source": [
    "### XGBM"
   ]
  },
  {
   "cell_type": "code",
   "execution_count": 129,
   "id": "d0e6d3fc",
   "metadata": {},
   "outputs": [
    {
     "name": "stdout",
     "output_type": "stream",
     "text": [
      "Fitting 5 folds for each of 7 candidates, totalling 35 fits\n",
      "[14:25:22] WARNING: ..\\src\\learner.cc:1061: Starting in XGBoost 1.3.0, the default evaluation metric used with the objective 'binary:logistic' was changed from 'error' to 'logloss'. Explicitly set eval_metric if you'd like to restore the old behavior.\n"
     ]
    },
    {
     "name": "stderr",
     "output_type": "stream",
     "text": [
      "D:\\anaconda3\\lib\\site-packages\\xgboost\\sklearn.py:888: UserWarning: The use of label encoder in XGBClassifier is deprecated and will be removed in a future release. To remove this warning, do the following: 1) Pass option use_label_encoder=False when constructing XGBClassifier object; and 2) Encode your labels (y) as integers starting with 0, i.e. 0, 1, 2, ..., [num_class - 1].\n",
      "  warnings.warn(label_encoder_deprecation_msg, UserWarning)\n",
      "D:\\anaconda3\\lib\\site-packages\\sklearn\\utils\\validation.py:63: DataConversionWarning: A column-vector y was passed when a 1d array was expected. Please change the shape of y to (n_samples, ), for example using ravel().\n",
      "  return f(*args, **kwargs)\n",
      "D:\\anaconda3\\lib\\site-packages\\xgboost\\sklearn.py:888: UserWarning: The use of label encoder in XGBClassifier is deprecated and will be removed in a future release. To remove this warning, do the following: 1) Pass option use_label_encoder=False when constructing XGBClassifier object; and 2) Encode your labels (y) as integers starting with 0, i.e. 0, 1, 2, ..., [num_class - 1].\n",
      "  warnings.warn(label_encoder_deprecation_msg, UserWarning)\n",
      "D:\\anaconda3\\lib\\site-packages\\sklearn\\utils\\validation.py:63: DataConversionWarning: A column-vector y was passed when a 1d array was expected. Please change the shape of y to (n_samples, ), for example using ravel().\n",
      "  return f(*args, **kwargs)\n"
     ]
    },
    {
     "name": "stdout",
     "output_type": "stream",
     "text": [
      "[14:25:22] WARNING: ..\\src\\learner.cc:1061: Starting in XGBoost 1.3.0, the default evaluation metric used with the objective 'binary:logistic' was changed from 'error' to 'logloss'. Explicitly set eval_metric if you'd like to restore the old behavior.\n"
     ]
    },
    {
     "name": "stderr",
     "output_type": "stream",
     "text": [
      "D:\\anaconda3\\lib\\site-packages\\xgboost\\sklearn.py:888: UserWarning: The use of label encoder in XGBClassifier is deprecated and will be removed in a future release. To remove this warning, do the following: 1) Pass option use_label_encoder=False when constructing XGBClassifier object; and 2) Encode your labels (y) as integers starting with 0, i.e. 0, 1, 2, ..., [num_class - 1].\n",
      "  warnings.warn(label_encoder_deprecation_msg, UserWarning)\n",
      "D:\\anaconda3\\lib\\site-packages\\sklearn\\utils\\validation.py:63: DataConversionWarning: A column-vector y was passed when a 1d array was expected. Please change the shape of y to (n_samples, ), for example using ravel().\n",
      "  return f(*args, **kwargs)\n"
     ]
    },
    {
     "name": "stdout",
     "output_type": "stream",
     "text": [
      "[14:25:23] WARNING: ..\\src\\learner.cc:1061: Starting in XGBoost 1.3.0, the default evaluation metric used with the objective 'binary:logistic' was changed from 'error' to 'logloss'. Explicitly set eval_metric if you'd like to restore the old behavior.\n"
     ]
    },
    {
     "name": "stderr",
     "output_type": "stream",
     "text": [
      "D:\\anaconda3\\lib\\site-packages\\xgboost\\sklearn.py:888: UserWarning: The use of label encoder in XGBClassifier is deprecated and will be removed in a future release. To remove this warning, do the following: 1) Pass option use_label_encoder=False when constructing XGBClassifier object; and 2) Encode your labels (y) as integers starting with 0, i.e. 0, 1, 2, ..., [num_class - 1].\n",
      "  warnings.warn(label_encoder_deprecation_msg, UserWarning)\n",
      "D:\\anaconda3\\lib\\site-packages\\sklearn\\utils\\validation.py:63: DataConversionWarning: A column-vector y was passed when a 1d array was expected. Please change the shape of y to (n_samples, ), for example using ravel().\n",
      "  return f(*args, **kwargs)\n"
     ]
    },
    {
     "name": "stdout",
     "output_type": "stream",
     "text": [
      "[14:25:23] WARNING: ..\\src\\learner.cc:1061: Starting in XGBoost 1.3.0, the default evaluation metric used with the objective 'binary:logistic' was changed from 'error' to 'logloss'. Explicitly set eval_metric if you'd like to restore the old behavior.\n"
     ]
    },
    {
     "name": "stderr",
     "output_type": "stream",
     "text": [
      "D:\\anaconda3\\lib\\site-packages\\xgboost\\sklearn.py:888: UserWarning: The use of label encoder in XGBClassifier is deprecated and will be removed in a future release. To remove this warning, do the following: 1) Pass option use_label_encoder=False when constructing XGBClassifier object; and 2) Encode your labels (y) as integers starting with 0, i.e. 0, 1, 2, ..., [num_class - 1].\n",
      "  warnings.warn(label_encoder_deprecation_msg, UserWarning)\n",
      "D:\\anaconda3\\lib\\site-packages\\sklearn\\utils\\validation.py:63: DataConversionWarning: A column-vector y was passed when a 1d array was expected. Please change the shape of y to (n_samples, ), for example using ravel().\n",
      "  return f(*args, **kwargs)\n"
     ]
    },
    {
     "name": "stdout",
     "output_type": "stream",
     "text": [
      "[14:25:24] WARNING: ..\\src\\learner.cc:1061: Starting in XGBoost 1.3.0, the default evaluation metric used with the objective 'binary:logistic' was changed from 'error' to 'logloss'. Explicitly set eval_metric if you'd like to restore the old behavior.\n"
     ]
    },
    {
     "name": "stderr",
     "output_type": "stream",
     "text": [
      "D:\\anaconda3\\lib\\site-packages\\xgboost\\sklearn.py:888: UserWarning: The use of label encoder in XGBClassifier is deprecated and will be removed in a future release. To remove this warning, do the following: 1) Pass option use_label_encoder=False when constructing XGBClassifier object; and 2) Encode your labels (y) as integers starting with 0, i.e. 0, 1, 2, ..., [num_class - 1].\n",
      "  warnings.warn(label_encoder_deprecation_msg, UserWarning)\n",
      "D:\\anaconda3\\lib\\site-packages\\sklearn\\utils\\validation.py:63: DataConversionWarning: A column-vector y was passed when a 1d array was expected. Please change the shape of y to (n_samples, ), for example using ravel().\n",
      "  return f(*args, **kwargs)\n"
     ]
    },
    {
     "name": "stdout",
     "output_type": "stream",
     "text": [
      "[14:25:24] WARNING: ..\\src\\learner.cc:1061: Starting in XGBoost 1.3.0, the default evaluation metric used with the objective 'binary:logistic' was changed from 'error' to 'logloss'. Explicitly set eval_metric if you'd like to restore the old behavior.\n"
     ]
    },
    {
     "name": "stderr",
     "output_type": "stream",
     "text": [
      "D:\\anaconda3\\lib\\site-packages\\xgboost\\sklearn.py:888: UserWarning: The use of label encoder in XGBClassifier is deprecated and will be removed in a future release. To remove this warning, do the following: 1) Pass option use_label_encoder=False when constructing XGBClassifier object; and 2) Encode your labels (y) as integers starting with 0, i.e. 0, 1, 2, ..., [num_class - 1].\n",
      "  warnings.warn(label_encoder_deprecation_msg, UserWarning)\n",
      "D:\\anaconda3\\lib\\site-packages\\sklearn\\utils\\validation.py:63: DataConversionWarning: A column-vector y was passed when a 1d array was expected. Please change the shape of y to (n_samples, ), for example using ravel().\n",
      "  return f(*args, **kwargs)\n"
     ]
    },
    {
     "name": "stdout",
     "output_type": "stream",
     "text": [
      "[14:25:24] WARNING: ..\\src\\learner.cc:1061: Starting in XGBoost 1.3.0, the default evaluation metric used with the objective 'binary:logistic' was changed from 'error' to 'logloss'. Explicitly set eval_metric if you'd like to restore the old behavior.\n"
     ]
    },
    {
     "name": "stderr",
     "output_type": "stream",
     "text": [
      "D:\\anaconda3\\lib\\site-packages\\xgboost\\sklearn.py:888: UserWarning: The use of label encoder in XGBClassifier is deprecated and will be removed in a future release. To remove this warning, do the following: 1) Pass option use_label_encoder=False when constructing XGBClassifier object; and 2) Encode your labels (y) as integers starting with 0, i.e. 0, 1, 2, ..., [num_class - 1].\n",
      "  warnings.warn(label_encoder_deprecation_msg, UserWarning)\n",
      "D:\\anaconda3\\lib\\site-packages\\sklearn\\utils\\validation.py:63: DataConversionWarning: A column-vector y was passed when a 1d array was expected. Please change the shape of y to (n_samples, ), for example using ravel().\n",
      "  return f(*args, **kwargs)\n"
     ]
    },
    {
     "name": "stdout",
     "output_type": "stream",
     "text": [
      "[14:25:25] WARNING: ..\\src\\learner.cc:1061: Starting in XGBoost 1.3.0, the default evaluation metric used with the objective 'binary:logistic' was changed from 'error' to 'logloss'. Explicitly set eval_metric if you'd like to restore the old behavior.\n"
     ]
    },
    {
     "name": "stderr",
     "output_type": "stream",
     "text": [
      "D:\\anaconda3\\lib\\site-packages\\xgboost\\sklearn.py:888: UserWarning: The use of label encoder in XGBClassifier is deprecated and will be removed in a future release. To remove this warning, do the following: 1) Pass option use_label_encoder=False when constructing XGBClassifier object; and 2) Encode your labels (y) as integers starting with 0, i.e. 0, 1, 2, ..., [num_class - 1].\n",
      "  warnings.warn(label_encoder_deprecation_msg, UserWarning)\n",
      "D:\\anaconda3\\lib\\site-packages\\sklearn\\utils\\validation.py:63: DataConversionWarning: A column-vector y was passed when a 1d array was expected. Please change the shape of y to (n_samples, ), for example using ravel().\n",
      "  return f(*args, **kwargs)\n"
     ]
    },
    {
     "name": "stdout",
     "output_type": "stream",
     "text": [
      "[14:25:26] WARNING: ..\\src\\learner.cc:1061: Starting in XGBoost 1.3.0, the default evaluation metric used with the objective 'binary:logistic' was changed from 'error' to 'logloss'. Explicitly set eval_metric if you'd like to restore the old behavior.\n"
     ]
    },
    {
     "name": "stderr",
     "output_type": "stream",
     "text": [
      "D:\\anaconda3\\lib\\site-packages\\xgboost\\sklearn.py:888: UserWarning: The use of label encoder in XGBClassifier is deprecated and will be removed in a future release. To remove this warning, do the following: 1) Pass option use_label_encoder=False when constructing XGBClassifier object; and 2) Encode your labels (y) as integers starting with 0, i.e. 0, 1, 2, ..., [num_class - 1].\n",
      "  warnings.warn(label_encoder_deprecation_msg, UserWarning)\n",
      "D:\\anaconda3\\lib\\site-packages\\sklearn\\utils\\validation.py:63: DataConversionWarning: A column-vector y was passed when a 1d array was expected. Please change the shape of y to (n_samples, ), for example using ravel().\n",
      "  return f(*args, **kwargs)\n"
     ]
    },
    {
     "name": "stdout",
     "output_type": "stream",
     "text": [
      "[14:25:26] WARNING: ..\\src\\learner.cc:1061: Starting in XGBoost 1.3.0, the default evaluation metric used with the objective 'binary:logistic' was changed from 'error' to 'logloss'. Explicitly set eval_metric if you'd like to restore the old behavior.\n"
     ]
    },
    {
     "name": "stderr",
     "output_type": "stream",
     "text": [
      "D:\\anaconda3\\lib\\site-packages\\xgboost\\sklearn.py:888: UserWarning: The use of label encoder in XGBClassifier is deprecated and will be removed in a future release. To remove this warning, do the following: 1) Pass option use_label_encoder=False when constructing XGBClassifier object; and 2) Encode your labels (y) as integers starting with 0, i.e. 0, 1, 2, ..., [num_class - 1].\n",
      "  warnings.warn(label_encoder_deprecation_msg, UserWarning)\n",
      "D:\\anaconda3\\lib\\site-packages\\sklearn\\utils\\validation.py:63: DataConversionWarning: A column-vector y was passed when a 1d array was expected. Please change the shape of y to (n_samples, ), for example using ravel().\n",
      "  return f(*args, **kwargs)\n"
     ]
    },
    {
     "name": "stdout",
     "output_type": "stream",
     "text": [
      "[14:25:27] WARNING: ..\\src\\learner.cc:1061: Starting in XGBoost 1.3.0, the default evaluation metric used with the objective 'binary:logistic' was changed from 'error' to 'logloss'. Explicitly set eval_metric if you'd like to restore the old behavior.\n"
     ]
    },
    {
     "name": "stderr",
     "output_type": "stream",
     "text": [
      "D:\\anaconda3\\lib\\site-packages\\xgboost\\sklearn.py:888: UserWarning: The use of label encoder in XGBClassifier is deprecated and will be removed in a future release. To remove this warning, do the following: 1) Pass option use_label_encoder=False when constructing XGBClassifier object; and 2) Encode your labels (y) as integers starting with 0, i.e. 0, 1, 2, ..., [num_class - 1].\n",
      "  warnings.warn(label_encoder_deprecation_msg, UserWarning)\n",
      "D:\\anaconda3\\lib\\site-packages\\sklearn\\utils\\validation.py:63: DataConversionWarning: A column-vector y was passed when a 1d array was expected. Please change the shape of y to (n_samples, ), for example using ravel().\n",
      "  return f(*args, **kwargs)\n"
     ]
    },
    {
     "name": "stdout",
     "output_type": "stream",
     "text": [
      "[14:25:27] WARNING: ..\\src\\learner.cc:1061: Starting in XGBoost 1.3.0, the default evaluation metric used with the objective 'binary:logistic' was changed from 'error' to 'logloss'. Explicitly set eval_metric if you'd like to restore the old behavior.\n"
     ]
    },
    {
     "name": "stderr",
     "output_type": "stream",
     "text": [
      "D:\\anaconda3\\lib\\site-packages\\xgboost\\sklearn.py:888: UserWarning: The use of label encoder in XGBClassifier is deprecated and will be removed in a future release. To remove this warning, do the following: 1) Pass option use_label_encoder=False when constructing XGBClassifier object; and 2) Encode your labels (y) as integers starting with 0, i.e. 0, 1, 2, ..., [num_class - 1].\n",
      "  warnings.warn(label_encoder_deprecation_msg, UserWarning)\n",
      "D:\\anaconda3\\lib\\site-packages\\sklearn\\utils\\validation.py:63: DataConversionWarning: A column-vector y was passed when a 1d array was expected. Please change the shape of y to (n_samples, ), for example using ravel().\n",
      "  return f(*args, **kwargs)\n"
     ]
    },
    {
     "name": "stdout",
     "output_type": "stream",
     "text": [
      "[14:25:28] WARNING: ..\\src\\learner.cc:1061: Starting in XGBoost 1.3.0, the default evaluation metric used with the objective 'binary:logistic' was changed from 'error' to 'logloss'. Explicitly set eval_metric if you'd like to restore the old behavior.\n"
     ]
    },
    {
     "name": "stderr",
     "output_type": "stream",
     "text": [
      "D:\\anaconda3\\lib\\site-packages\\xgboost\\sklearn.py:888: UserWarning: The use of label encoder in XGBClassifier is deprecated and will be removed in a future release. To remove this warning, do the following: 1) Pass option use_label_encoder=False when constructing XGBClassifier object; and 2) Encode your labels (y) as integers starting with 0, i.e. 0, 1, 2, ..., [num_class - 1].\n",
      "  warnings.warn(label_encoder_deprecation_msg, UserWarning)\n",
      "D:\\anaconda3\\lib\\site-packages\\sklearn\\utils\\validation.py:63: DataConversionWarning: A column-vector y was passed when a 1d array was expected. Please change the shape of y to (n_samples, ), for example using ravel().\n",
      "  return f(*args, **kwargs)\n"
     ]
    },
    {
     "name": "stdout",
     "output_type": "stream",
     "text": [
      "[14:25:28] WARNING: ..\\src\\learner.cc:1061: Starting in XGBoost 1.3.0, the default evaluation metric used with the objective 'binary:logistic' was changed from 'error' to 'logloss'. Explicitly set eval_metric if you'd like to restore the old behavior.\n"
     ]
    },
    {
     "name": "stderr",
     "output_type": "stream",
     "text": [
      "D:\\anaconda3\\lib\\site-packages\\xgboost\\sklearn.py:888: UserWarning: The use of label encoder in XGBClassifier is deprecated and will be removed in a future release. To remove this warning, do the following: 1) Pass option use_label_encoder=False when constructing XGBClassifier object; and 2) Encode your labels (y) as integers starting with 0, i.e. 0, 1, 2, ..., [num_class - 1].\n",
      "  warnings.warn(label_encoder_deprecation_msg, UserWarning)\n",
      "D:\\anaconda3\\lib\\site-packages\\sklearn\\utils\\validation.py:63: DataConversionWarning: A column-vector y was passed when a 1d array was expected. Please change the shape of y to (n_samples, ), for example using ravel().\n",
      "  return f(*args, **kwargs)\n"
     ]
    },
    {
     "name": "stdout",
     "output_type": "stream",
     "text": [
      "[14:25:29] WARNING: ..\\src\\learner.cc:1061: Starting in XGBoost 1.3.0, the default evaluation metric used with the objective 'binary:logistic' was changed from 'error' to 'logloss'. Explicitly set eval_metric if you'd like to restore the old behavior.\n"
     ]
    },
    {
     "name": "stderr",
     "output_type": "stream",
     "text": [
      "D:\\anaconda3\\lib\\site-packages\\xgboost\\sklearn.py:888: UserWarning: The use of label encoder in XGBClassifier is deprecated and will be removed in a future release. To remove this warning, do the following: 1) Pass option use_label_encoder=False when constructing XGBClassifier object; and 2) Encode your labels (y) as integers starting with 0, i.e. 0, 1, 2, ..., [num_class - 1].\n",
      "  warnings.warn(label_encoder_deprecation_msg, UserWarning)\n",
      "D:\\anaconda3\\lib\\site-packages\\sklearn\\utils\\validation.py:63: DataConversionWarning: A column-vector y was passed when a 1d array was expected. Please change the shape of y to (n_samples, ), for example using ravel().\n",
      "  return f(*args, **kwargs)\n"
     ]
    },
    {
     "name": "stdout",
     "output_type": "stream",
     "text": [
      "[14:25:29] WARNING: ..\\src\\learner.cc:1061: Starting in XGBoost 1.3.0, the default evaluation metric used with the objective 'binary:logistic' was changed from 'error' to 'logloss'. Explicitly set eval_metric if you'd like to restore the old behavior.\n"
     ]
    },
    {
     "name": "stderr",
     "output_type": "stream",
     "text": [
      "D:\\anaconda3\\lib\\site-packages\\xgboost\\sklearn.py:888: UserWarning: The use of label encoder in XGBClassifier is deprecated and will be removed in a future release. To remove this warning, do the following: 1) Pass option use_label_encoder=False when constructing XGBClassifier object; and 2) Encode your labels (y) as integers starting with 0, i.e. 0, 1, 2, ..., [num_class - 1].\n",
      "  warnings.warn(label_encoder_deprecation_msg, UserWarning)\n",
      "D:\\anaconda3\\lib\\site-packages\\sklearn\\utils\\validation.py:63: DataConversionWarning: A column-vector y was passed when a 1d array was expected. Please change the shape of y to (n_samples, ), for example using ravel().\n",
      "  return f(*args, **kwargs)\n"
     ]
    },
    {
     "name": "stdout",
     "output_type": "stream",
     "text": [
      "[14:25:30] WARNING: ..\\src\\learner.cc:1061: Starting in XGBoost 1.3.0, the default evaluation metric used with the objective 'binary:logistic' was changed from 'error' to 'logloss'. Explicitly set eval_metric if you'd like to restore the old behavior.\n"
     ]
    },
    {
     "name": "stderr",
     "output_type": "stream",
     "text": [
      "D:\\anaconda3\\lib\\site-packages\\xgboost\\sklearn.py:888: UserWarning: The use of label encoder in XGBClassifier is deprecated and will be removed in a future release. To remove this warning, do the following: 1) Pass option use_label_encoder=False when constructing XGBClassifier object; and 2) Encode your labels (y) as integers starting with 0, i.e. 0, 1, 2, ..., [num_class - 1].\n",
      "  warnings.warn(label_encoder_deprecation_msg, UserWarning)\n",
      "D:\\anaconda3\\lib\\site-packages\\sklearn\\utils\\validation.py:63: DataConversionWarning: A column-vector y was passed when a 1d array was expected. Please change the shape of y to (n_samples, ), for example using ravel().\n",
      "  return f(*args, **kwargs)\n"
     ]
    },
    {
     "name": "stdout",
     "output_type": "stream",
     "text": [
      "[14:25:30] WARNING: ..\\src\\learner.cc:1061: Starting in XGBoost 1.3.0, the default evaluation metric used with the objective 'binary:logistic' was changed from 'error' to 'logloss'. Explicitly set eval_metric if you'd like to restore the old behavior.\n"
     ]
    },
    {
     "name": "stderr",
     "output_type": "stream",
     "text": [
      "D:\\anaconda3\\lib\\site-packages\\xgboost\\sklearn.py:888: UserWarning: The use of label encoder in XGBClassifier is deprecated and will be removed in a future release. To remove this warning, do the following: 1) Pass option use_label_encoder=False when constructing XGBClassifier object; and 2) Encode your labels (y) as integers starting with 0, i.e. 0, 1, 2, ..., [num_class - 1].\n",
      "  warnings.warn(label_encoder_deprecation_msg, UserWarning)\n",
      "D:\\anaconda3\\lib\\site-packages\\sklearn\\utils\\validation.py:63: DataConversionWarning: A column-vector y was passed when a 1d array was expected. Please change the shape of y to (n_samples, ), for example using ravel().\n",
      "  return f(*args, **kwargs)\n"
     ]
    },
    {
     "name": "stdout",
     "output_type": "stream",
     "text": [
      "[14:25:31] WARNING: ..\\src\\learner.cc:1061: Starting in XGBoost 1.3.0, the default evaluation metric used with the objective 'binary:logistic' was changed from 'error' to 'logloss'. Explicitly set eval_metric if you'd like to restore the old behavior.\n"
     ]
    },
    {
     "name": "stderr",
     "output_type": "stream",
     "text": [
      "D:\\anaconda3\\lib\\site-packages\\xgboost\\sklearn.py:888: UserWarning: The use of label encoder in XGBClassifier is deprecated and will be removed in a future release. To remove this warning, do the following: 1) Pass option use_label_encoder=False when constructing XGBClassifier object; and 2) Encode your labels (y) as integers starting with 0, i.e. 0, 1, 2, ..., [num_class - 1].\n",
      "  warnings.warn(label_encoder_deprecation_msg, UserWarning)\n",
      "D:\\anaconda3\\lib\\site-packages\\sklearn\\utils\\validation.py:63: DataConversionWarning: A column-vector y was passed when a 1d array was expected. Please change the shape of y to (n_samples, ), for example using ravel().\n",
      "  return f(*args, **kwargs)\n"
     ]
    },
    {
     "name": "stdout",
     "output_type": "stream",
     "text": [
      "[14:25:32] WARNING: ..\\src\\learner.cc:1061: Starting in XGBoost 1.3.0, the default evaluation metric used with the objective 'binary:logistic' was changed from 'error' to 'logloss'. Explicitly set eval_metric if you'd like to restore the old behavior.\n"
     ]
    },
    {
     "name": "stderr",
     "output_type": "stream",
     "text": [
      "D:\\anaconda3\\lib\\site-packages\\xgboost\\sklearn.py:888: UserWarning: The use of label encoder in XGBClassifier is deprecated and will be removed in a future release. To remove this warning, do the following: 1) Pass option use_label_encoder=False when constructing XGBClassifier object; and 2) Encode your labels (y) as integers starting with 0, i.e. 0, 1, 2, ..., [num_class - 1].\n",
      "  warnings.warn(label_encoder_deprecation_msg, UserWarning)\n",
      "D:\\anaconda3\\lib\\site-packages\\sklearn\\utils\\validation.py:63: DataConversionWarning: A column-vector y was passed when a 1d array was expected. Please change the shape of y to (n_samples, ), for example using ravel().\n",
      "  return f(*args, **kwargs)\n"
     ]
    },
    {
     "name": "stdout",
     "output_type": "stream",
     "text": [
      "[14:25:32] WARNING: ..\\src\\learner.cc:1061: Starting in XGBoost 1.3.0, the default evaluation metric used with the objective 'binary:logistic' was changed from 'error' to 'logloss'. Explicitly set eval_metric if you'd like to restore the old behavior.\n"
     ]
    },
    {
     "name": "stderr",
     "output_type": "stream",
     "text": [
      "D:\\anaconda3\\lib\\site-packages\\xgboost\\sklearn.py:888: UserWarning: The use of label encoder in XGBClassifier is deprecated and will be removed in a future release. To remove this warning, do the following: 1) Pass option use_label_encoder=False when constructing XGBClassifier object; and 2) Encode your labels (y) as integers starting with 0, i.e. 0, 1, 2, ..., [num_class - 1].\n",
      "  warnings.warn(label_encoder_deprecation_msg, UserWarning)\n",
      "D:\\anaconda3\\lib\\site-packages\\sklearn\\utils\\validation.py:63: DataConversionWarning: A column-vector y was passed when a 1d array was expected. Please change the shape of y to (n_samples, ), for example using ravel().\n",
      "  return f(*args, **kwargs)\n"
     ]
    },
    {
     "name": "stdout",
     "output_type": "stream",
     "text": [
      "[14:25:33] WARNING: ..\\src\\learner.cc:1061: Starting in XGBoost 1.3.0, the default evaluation metric used with the objective 'binary:logistic' was changed from 'error' to 'logloss'. Explicitly set eval_metric if you'd like to restore the old behavior.\n"
     ]
    },
    {
     "name": "stderr",
     "output_type": "stream",
     "text": [
      "D:\\anaconda3\\lib\\site-packages\\xgboost\\sklearn.py:888: UserWarning: The use of label encoder in XGBClassifier is deprecated and will be removed in a future release. To remove this warning, do the following: 1) Pass option use_label_encoder=False when constructing XGBClassifier object; and 2) Encode your labels (y) as integers starting with 0, i.e. 0, 1, 2, ..., [num_class - 1].\n",
      "  warnings.warn(label_encoder_deprecation_msg, UserWarning)\n",
      "D:\\anaconda3\\lib\\site-packages\\sklearn\\utils\\validation.py:63: DataConversionWarning: A column-vector y was passed when a 1d array was expected. Please change the shape of y to (n_samples, ), for example using ravel().\n",
      "  return f(*args, **kwargs)\n"
     ]
    },
    {
     "name": "stdout",
     "output_type": "stream",
     "text": [
      "[14:25:34] WARNING: ..\\src\\learner.cc:1061: Starting in XGBoost 1.3.0, the default evaluation metric used with the objective 'binary:logistic' was changed from 'error' to 'logloss'. Explicitly set eval_metric if you'd like to restore the old behavior.\n"
     ]
    },
    {
     "name": "stderr",
     "output_type": "stream",
     "text": [
      "D:\\anaconda3\\lib\\site-packages\\xgboost\\sklearn.py:888: UserWarning: The use of label encoder in XGBClassifier is deprecated and will be removed in a future release. To remove this warning, do the following: 1) Pass option use_label_encoder=False when constructing XGBClassifier object; and 2) Encode your labels (y) as integers starting with 0, i.e. 0, 1, 2, ..., [num_class - 1].\n",
      "  warnings.warn(label_encoder_deprecation_msg, UserWarning)\n",
      "D:\\anaconda3\\lib\\site-packages\\sklearn\\utils\\validation.py:63: DataConversionWarning: A column-vector y was passed when a 1d array was expected. Please change the shape of y to (n_samples, ), for example using ravel().\n",
      "  return f(*args, **kwargs)\n"
     ]
    },
    {
     "name": "stdout",
     "output_type": "stream",
     "text": [
      "[14:25:34] WARNING: ..\\src\\learner.cc:1061: Starting in XGBoost 1.3.0, the default evaluation metric used with the objective 'binary:logistic' was changed from 'error' to 'logloss'. Explicitly set eval_metric if you'd like to restore the old behavior.\n"
     ]
    },
    {
     "name": "stderr",
     "output_type": "stream",
     "text": [
      "D:\\anaconda3\\lib\\site-packages\\xgboost\\sklearn.py:888: UserWarning: The use of label encoder in XGBClassifier is deprecated and will be removed in a future release. To remove this warning, do the following: 1) Pass option use_label_encoder=False when constructing XGBClassifier object; and 2) Encode your labels (y) as integers starting with 0, i.e. 0, 1, 2, ..., [num_class - 1].\n",
      "  warnings.warn(label_encoder_deprecation_msg, UserWarning)\n",
      "D:\\anaconda3\\lib\\site-packages\\sklearn\\utils\\validation.py:63: DataConversionWarning: A column-vector y was passed when a 1d array was expected. Please change the shape of y to (n_samples, ), for example using ravel().\n",
      "  return f(*args, **kwargs)\n"
     ]
    },
    {
     "name": "stdout",
     "output_type": "stream",
     "text": [
      "[14:25:35] WARNING: ..\\src\\learner.cc:1061: Starting in XGBoost 1.3.0, the default evaluation metric used with the objective 'binary:logistic' was changed from 'error' to 'logloss'. Explicitly set eval_metric if you'd like to restore the old behavior.\n"
     ]
    },
    {
     "name": "stderr",
     "output_type": "stream",
     "text": [
      "D:\\anaconda3\\lib\\site-packages\\xgboost\\sklearn.py:888: UserWarning: The use of label encoder in XGBClassifier is deprecated and will be removed in a future release. To remove this warning, do the following: 1) Pass option use_label_encoder=False when constructing XGBClassifier object; and 2) Encode your labels (y) as integers starting with 0, i.e. 0, 1, 2, ..., [num_class - 1].\n",
      "  warnings.warn(label_encoder_deprecation_msg, UserWarning)\n",
      "D:\\anaconda3\\lib\\site-packages\\sklearn\\utils\\validation.py:63: DataConversionWarning: A column-vector y was passed when a 1d array was expected. Please change the shape of y to (n_samples, ), for example using ravel().\n",
      "  return f(*args, **kwargs)\n"
     ]
    },
    {
     "name": "stdout",
     "output_type": "stream",
     "text": [
      "[14:25:36] WARNING: ..\\src\\learner.cc:1061: Starting in XGBoost 1.3.0, the default evaluation metric used with the objective 'binary:logistic' was changed from 'error' to 'logloss'. Explicitly set eval_metric if you'd like to restore the old behavior.\n"
     ]
    },
    {
     "name": "stderr",
     "output_type": "stream",
     "text": [
      "D:\\anaconda3\\lib\\site-packages\\xgboost\\sklearn.py:888: UserWarning: The use of label encoder in XGBClassifier is deprecated and will be removed in a future release. To remove this warning, do the following: 1) Pass option use_label_encoder=False when constructing XGBClassifier object; and 2) Encode your labels (y) as integers starting with 0, i.e. 0, 1, 2, ..., [num_class - 1].\n",
      "  warnings.warn(label_encoder_deprecation_msg, UserWarning)\n",
      "D:\\anaconda3\\lib\\site-packages\\sklearn\\utils\\validation.py:63: DataConversionWarning: A column-vector y was passed when a 1d array was expected. Please change the shape of y to (n_samples, ), for example using ravel().\n",
      "  return f(*args, **kwargs)\n"
     ]
    },
    {
     "name": "stdout",
     "output_type": "stream",
     "text": [
      "[14:25:36] WARNING: ..\\src\\learner.cc:1061: Starting in XGBoost 1.3.0, the default evaluation metric used with the objective 'binary:logistic' was changed from 'error' to 'logloss'. Explicitly set eval_metric if you'd like to restore the old behavior.\n"
     ]
    },
    {
     "name": "stderr",
     "output_type": "stream",
     "text": [
      "D:\\anaconda3\\lib\\site-packages\\xgboost\\sklearn.py:888: UserWarning: The use of label encoder in XGBClassifier is deprecated and will be removed in a future release. To remove this warning, do the following: 1) Pass option use_label_encoder=False when constructing XGBClassifier object; and 2) Encode your labels (y) as integers starting with 0, i.e. 0, 1, 2, ..., [num_class - 1].\n",
      "  warnings.warn(label_encoder_deprecation_msg, UserWarning)\n",
      "D:\\anaconda3\\lib\\site-packages\\sklearn\\utils\\validation.py:63: DataConversionWarning: A column-vector y was passed when a 1d array was expected. Please change the shape of y to (n_samples, ), for example using ravel().\n",
      "  return f(*args, **kwargs)\n"
     ]
    },
    {
     "name": "stdout",
     "output_type": "stream",
     "text": [
      "[14:25:37] WARNING: ..\\src\\learner.cc:1061: Starting in XGBoost 1.3.0, the default evaluation metric used with the objective 'binary:logistic' was changed from 'error' to 'logloss'. Explicitly set eval_metric if you'd like to restore the old behavior.\n"
     ]
    },
    {
     "name": "stderr",
     "output_type": "stream",
     "text": [
      "D:\\anaconda3\\lib\\site-packages\\xgboost\\sklearn.py:888: UserWarning: The use of label encoder in XGBClassifier is deprecated and will be removed in a future release. To remove this warning, do the following: 1) Pass option use_label_encoder=False when constructing XGBClassifier object; and 2) Encode your labels (y) as integers starting with 0, i.e. 0, 1, 2, ..., [num_class - 1].\n",
      "  warnings.warn(label_encoder_deprecation_msg, UserWarning)\n",
      "D:\\anaconda3\\lib\\site-packages\\sklearn\\utils\\validation.py:63: DataConversionWarning: A column-vector y was passed when a 1d array was expected. Please change the shape of y to (n_samples, ), for example using ravel().\n",
      "  return f(*args, **kwargs)\n"
     ]
    },
    {
     "name": "stdout",
     "output_type": "stream",
     "text": [
      "[14:25:37] WARNING: ..\\src\\learner.cc:1061: Starting in XGBoost 1.3.0, the default evaluation metric used with the objective 'binary:logistic' was changed from 'error' to 'logloss'. Explicitly set eval_metric if you'd like to restore the old behavior.\n"
     ]
    },
    {
     "name": "stderr",
     "output_type": "stream",
     "text": [
      "D:\\anaconda3\\lib\\site-packages\\xgboost\\sklearn.py:888: UserWarning: The use of label encoder in XGBClassifier is deprecated and will be removed in a future release. To remove this warning, do the following: 1) Pass option use_label_encoder=False when constructing XGBClassifier object; and 2) Encode your labels (y) as integers starting with 0, i.e. 0, 1, 2, ..., [num_class - 1].\n",
      "  warnings.warn(label_encoder_deprecation_msg, UserWarning)\n",
      "D:\\anaconda3\\lib\\site-packages\\sklearn\\utils\\validation.py:63: DataConversionWarning: A column-vector y was passed when a 1d array was expected. Please change the shape of y to (n_samples, ), for example using ravel().\n",
      "  return f(*args, **kwargs)\n"
     ]
    },
    {
     "name": "stdout",
     "output_type": "stream",
     "text": [
      "[14:25:38] WARNING: ..\\src\\learner.cc:1061: Starting in XGBoost 1.3.0, the default evaluation metric used with the objective 'binary:logistic' was changed from 'error' to 'logloss'. Explicitly set eval_metric if you'd like to restore the old behavior.\n"
     ]
    },
    {
     "name": "stderr",
     "output_type": "stream",
     "text": [
      "D:\\anaconda3\\lib\\site-packages\\xgboost\\sklearn.py:888: UserWarning: The use of label encoder in XGBClassifier is deprecated and will be removed in a future release. To remove this warning, do the following: 1) Pass option use_label_encoder=False when constructing XGBClassifier object; and 2) Encode your labels (y) as integers starting with 0, i.e. 0, 1, 2, ..., [num_class - 1].\n",
      "  warnings.warn(label_encoder_deprecation_msg, UserWarning)\n",
      "D:\\anaconda3\\lib\\site-packages\\sklearn\\utils\\validation.py:63: DataConversionWarning: A column-vector y was passed when a 1d array was expected. Please change the shape of y to (n_samples, ), for example using ravel().\n",
      "  return f(*args, **kwargs)\n"
     ]
    },
    {
     "name": "stdout",
     "output_type": "stream",
     "text": [
      "[14:25:39] WARNING: ..\\src\\learner.cc:1061: Starting in XGBoost 1.3.0, the default evaluation metric used with the objective 'binary:logistic' was changed from 'error' to 'logloss'. Explicitly set eval_metric if you'd like to restore the old behavior.\n"
     ]
    },
    {
     "name": "stderr",
     "output_type": "stream",
     "text": [
      "D:\\anaconda3\\lib\\site-packages\\xgboost\\sklearn.py:888: UserWarning: The use of label encoder in XGBClassifier is deprecated and will be removed in a future release. To remove this warning, do the following: 1) Pass option use_label_encoder=False when constructing XGBClassifier object; and 2) Encode your labels (y) as integers starting with 0, i.e. 0, 1, 2, ..., [num_class - 1].\n",
      "  warnings.warn(label_encoder_deprecation_msg, UserWarning)\n",
      "D:\\anaconda3\\lib\\site-packages\\sklearn\\utils\\validation.py:63: DataConversionWarning: A column-vector y was passed when a 1d array was expected. Please change the shape of y to (n_samples, ), for example using ravel().\n",
      "  return f(*args, **kwargs)\n"
     ]
    },
    {
     "name": "stdout",
     "output_type": "stream",
     "text": [
      "[14:25:39] WARNING: ..\\src\\learner.cc:1061: Starting in XGBoost 1.3.0, the default evaluation metric used with the objective 'binary:logistic' was changed from 'error' to 'logloss'. Explicitly set eval_metric if you'd like to restore the old behavior.\n"
     ]
    },
    {
     "name": "stderr",
     "output_type": "stream",
     "text": [
      "D:\\anaconda3\\lib\\site-packages\\xgboost\\sklearn.py:888: UserWarning: The use of label encoder in XGBClassifier is deprecated and will be removed in a future release. To remove this warning, do the following: 1) Pass option use_label_encoder=False when constructing XGBClassifier object; and 2) Encode your labels (y) as integers starting with 0, i.e. 0, 1, 2, ..., [num_class - 1].\n",
      "  warnings.warn(label_encoder_deprecation_msg, UserWarning)\n",
      "D:\\anaconda3\\lib\\site-packages\\sklearn\\utils\\validation.py:63: DataConversionWarning: A column-vector y was passed when a 1d array was expected. Please change the shape of y to (n_samples, ), for example using ravel().\n",
      "  return f(*args, **kwargs)\n"
     ]
    },
    {
     "name": "stdout",
     "output_type": "stream",
     "text": [
      "[14:25:40] WARNING: ..\\src\\learner.cc:1061: Starting in XGBoost 1.3.0, the default evaluation metric used with the objective 'binary:logistic' was changed from 'error' to 'logloss'. Explicitly set eval_metric if you'd like to restore the old behavior.\n"
     ]
    },
    {
     "name": "stderr",
     "output_type": "stream",
     "text": [
      "D:\\anaconda3\\lib\\site-packages\\xgboost\\sklearn.py:888: UserWarning: The use of label encoder in XGBClassifier is deprecated and will be removed in a future release. To remove this warning, do the following: 1) Pass option use_label_encoder=False when constructing XGBClassifier object; and 2) Encode your labels (y) as integers starting with 0, i.e. 0, 1, 2, ..., [num_class - 1].\n",
      "  warnings.warn(label_encoder_deprecation_msg, UserWarning)\n",
      "D:\\anaconda3\\lib\\site-packages\\sklearn\\utils\\validation.py:63: DataConversionWarning: A column-vector y was passed when a 1d array was expected. Please change the shape of y to (n_samples, ), for example using ravel().\n",
      "  return f(*args, **kwargs)\n"
     ]
    },
    {
     "name": "stdout",
     "output_type": "stream",
     "text": [
      "[14:25:40] WARNING: ..\\src\\learner.cc:1061: Starting in XGBoost 1.3.0, the default evaluation metric used with the objective 'binary:logistic' was changed from 'error' to 'logloss'. Explicitly set eval_metric if you'd like to restore the old behavior.\n"
     ]
    },
    {
     "name": "stderr",
     "output_type": "stream",
     "text": [
      "D:\\anaconda3\\lib\\site-packages\\xgboost\\sklearn.py:888: UserWarning: The use of label encoder in XGBClassifier is deprecated and will be removed in a future release. To remove this warning, do the following: 1) Pass option use_label_encoder=False when constructing XGBClassifier object; and 2) Encode your labels (y) as integers starting with 0, i.e. 0, 1, 2, ..., [num_class - 1].\n",
      "  warnings.warn(label_encoder_deprecation_msg, UserWarning)\n",
      "D:\\anaconda3\\lib\\site-packages\\sklearn\\utils\\validation.py:63: DataConversionWarning: A column-vector y was passed when a 1d array was expected. Please change the shape of y to (n_samples, ), for example using ravel().\n",
      "  return f(*args, **kwargs)\n"
     ]
    },
    {
     "name": "stdout",
     "output_type": "stream",
     "text": [
      "[14:25:41] WARNING: ..\\src\\learner.cc:1061: Starting in XGBoost 1.3.0, the default evaluation metric used with the objective 'binary:logistic' was changed from 'error' to 'logloss'. Explicitly set eval_metric if you'd like to restore the old behavior.\n"
     ]
    },
    {
     "name": "stderr",
     "output_type": "stream",
     "text": [
      "D:\\anaconda3\\lib\\site-packages\\xgboost\\sklearn.py:888: UserWarning: The use of label encoder in XGBClassifier is deprecated and will be removed in a future release. To remove this warning, do the following: 1) Pass option use_label_encoder=False when constructing XGBClassifier object; and 2) Encode your labels (y) as integers starting with 0, i.e. 0, 1, 2, ..., [num_class - 1].\n",
      "  warnings.warn(label_encoder_deprecation_msg, UserWarning)\n",
      "D:\\anaconda3\\lib\\site-packages\\sklearn\\utils\\validation.py:63: DataConversionWarning: A column-vector y was passed when a 1d array was expected. Please change the shape of y to (n_samples, ), for example using ravel().\n",
      "  return f(*args, **kwargs)\n"
     ]
    },
    {
     "name": "stdout",
     "output_type": "stream",
     "text": [
      "[14:25:42] WARNING: ..\\src\\learner.cc:1061: Starting in XGBoost 1.3.0, the default evaluation metric used with the objective 'binary:logistic' was changed from 'error' to 'logloss'. Explicitly set eval_metric if you'd like to restore the old behavior.\n"
     ]
    },
    {
     "data": {
      "text/plain": [
       "GridSearchCV(cv=5,\n",
       "             estimator=XGBClassifier(base_score=0.5, booster='gbtree',\n",
       "                                     colsample_bylevel=1, colsample_bynode=1,\n",
       "                                     colsample_bytree=1, gamma=0, gpu_id=-1,\n",
       "                                     importance_type='gain',\n",
       "                                     interaction_constraints='',\n",
       "                                     learning_rate=0.300000012,\n",
       "                                     max_delta_step=0, max_depth=6,\n",
       "                                     min_child_weight=1, missing=nan,\n",
       "                                     monotone_constraints='()',\n",
       "                                     n_estimators=100, n_jobs=12,\n",
       "                                     num_parallel_tree=1, random_state=0,\n",
       "                                     reg_alpha=0, reg_lambda=1,\n",
       "                                     scale_pos_weight=1, subsample=1,\n",
       "                                     tree_method='exact', validate_parameters=1,\n",
       "                                     verbosity=None),\n",
       "             param_grid={'max_depth': [6, 8, 10, 12, 16, 20, 24]},\n",
       "             scoring='recall', verbose=1)"
      ]
     },
     "execution_count": 129,
     "metadata": {},
     "output_type": "execute_result"
    },
    {
     "name": "stdout",
     "output_type": "stream",
     "text": [
      "GridSearchCV 최고 평균 재현율 수치 : 0.9343\n",
      "GridSearchCV 최적 하이퍼 파라미터 : {'max_depth': 24}\n"
     ]
    }
   ],
   "source": [
    "from sklearn.model_selection import GridSearchCV\n",
    "\n",
    "params = {\n",
    "    'max_depth':[6,8,10,12,16,20,24]\n",
    "}\n",
    "\n",
    "grid_cv = GridSearchCV(xgb_wrapper, param_grid=params, scoring='recall', cv=5, verbose=1)\n",
    "grid_cv.fit(X_train, y_train)\n",
    "print('GridSearchCV 최고 평균 재현율 수치 : {0:.4f}'.format(grid_cv.best_score_))\n",
    "print('GridSearchCV 최적 하이퍼 파라미터 :',grid_cv.best_params_)"
   ]
  },
  {
   "cell_type": "code",
   "execution_count": 130,
   "id": "6ec0a3b0",
   "metadata": {},
   "outputs": [
    {
     "name": "stdout",
     "output_type": "stream",
     "text": [
      "오차 행렬\n",
      "[[2045   80]\n",
      " [ 109  298]]\n",
      "정확도: 0.9254, 정밀도: 0.7884, 재현율: 0.7322,     F1: 0.7592\n"
     ]
    }
   ],
   "source": [
    "best_xgb_wrapper = grid_cv.best_estimator_\n",
    "pred1 = best_xgb_wrapper.predict(X_test)\n",
    "pred_proba1 = best_xgb_wrapper.predict_proba(X_test)[:,1]\n",
    "dt_results = get_clf_eval(y_test, pred1, pred_proba1)"
   ]
  },
  {
   "cell_type": "code",
   "execution_count": null,
   "id": "46d02e5d",
   "metadata": {},
   "outputs": [],
   "source": []
  },
  {
   "cell_type": "markdown",
   "id": "a130fa72",
   "metadata": {},
   "source": [
    "# Trade-OFF"
   ]
  },
  {
   "cell_type": "markdown",
   "id": "a34e3c7b",
   "metadata": {},
   "source": [
    "## Logistic Regression"
   ]
  },
  {
   "cell_type": "code",
   "execution_count": 142,
   "id": "20068f5e",
   "metadata": {
    "scrolled": true
   },
   "outputs": [
    {
     "data": {
      "text/plain": [
       "array([[0.98987432, 0.01012568],\n",
       "       [0.40316748, 0.59683252],\n",
       "       [0.09263656, 0.90736344],\n",
       "       ...,\n",
       "       [0.95904584, 0.04095416],\n",
       "       [0.97620543, 0.02379457],\n",
       "       [0.79121199, 0.20878801]])"
      ]
     },
     "execution_count": 142,
     "metadata": {},
     "output_type": "execute_result"
    }
   ],
   "source": [
    "pred_proba= lr_clf.predict_proba(X_test)\n",
    "pred_proba"
   ]
  },
  {
   "cell_type": "code",
   "execution_count": 143,
   "id": "74c6f542",
   "metadata": {},
   "outputs": [
    {
     "name": "stdout",
     "output_type": "stream",
     "text": [
      "오차 행렬\n",
      "[[1549  576]\n",
      " [  65  342]]\n",
      "정확도: 0.7468, 정밀도: 0.3725, 재현율: 0.8403,     F1: 0.5162\n"
     ]
    }
   ],
   "source": [
    "from sklearn.preprocessing import Binarizer\n",
    "\n",
    "#Binarizer의 threshold 설정값. 분류 결정 임계값 = 0.3로 설정.  \n",
    "c_threshold = 0.3\n",
    "\n",
    "# predict_proba() 반환값이 [0확률, 1확률]로 반환 - positive 클래스 컬럼만 추출해서 Binarizer를 적용\n",
    "pred_proba_1 = pred_proba[:,1].reshape(-1,1)\n",
    "\n",
    "bina = Binarizer(threshold=c_threshold).fit(pred_proba_1)\n",
    "custom_predict = bina.transform(pred_proba_1)\n",
    "\n",
    "get_clf_eval(y_test,custom_predict )"
   ]
  },
  {
   "cell_type": "code",
   "execution_count": 144,
   "id": "22ddca53",
   "metadata": {},
   "outputs": [],
   "source": [
    "from sklearn.metrics import precision_recall_curve\n",
    "\n",
    "# 레이블 값이 1일때의 예측 확률을 추출 \n",
    "pred_proba_class1 = lr_clf.predict_proba(X_test)[:, 1] \n",
    "\n",
    "# 실제값 데이터 셋과 레이블 값이 1일 때의 예측 확률을 precision_recall_curve 인자로 입력 \n",
    "precisions, recalls, thresholds = precision_recall_curve(y_test, pred_proba_class1)"
   ]
  },
  {
   "cell_type": "code",
   "execution_count": 145,
   "id": "3ea7c20f",
   "metadata": {},
   "outputs": [
    {
     "data": {
      "image/png": "[encoded data removed]",
      "text/plain": [
       "<Figure size 576x432 with 1 Axes>"
      ]
     },
     "metadata": {
      "needs_background": "light"
     },
     "output_type": "display_data"
    }
   ],
   "source": [
    "precision_recall_curve_plot(y_test, lr_clf.predict_proba(X_test)[:, 1] )"
   ]
  },
  {
   "cell_type": "code",
   "execution_count": 146,
   "id": "837ef1d6",
   "metadata": {},
   "outputs": [],
   "source": [
    "# 테스트를 수행할 모든 임곗값을 리스트 객체로 저장. \n",
    "thresholds = [0.6,0.65,0.68,0.7,0.72,0.75]"
   ]
  },
  {
   "cell_type": "code",
   "execution_count": 147,
   "id": "9ce8c6c6",
   "metadata": {},
   "outputs": [
    {
     "name": "stdout",
     "output_type": "stream",
     "text": [
      "\n",
      "임곗값: 0.6\n",
      "오차 행렬\n",
      "[[1898  227]\n",
      " [ 138  269]]\n",
      "정확도: 0.8558, 정밀도: 0.5423, 재현율: 0.6609,     F1: 0.5958\n",
      "\n",
      "임곗값: 0.65\n",
      "오차 행렬\n",
      "[[1934  191]\n",
      " [ 149  258]]\n",
      "정확도: 0.8657, 정밀도: 0.5746, 재현율: 0.6339,     F1: 0.6028\n",
      "\n",
      "임곗값: 0.68\n",
      "오차 행렬\n",
      "[[1952  173]\n",
      " [ 155  252]]\n",
      "정확도: 0.8705, 정밀도: 0.5929, 재현율: 0.6192,     F1: 0.6058\n",
      "\n",
      "임곗값: 0.7\n",
      "오차 행렬\n",
      "[[1963  162]\n",
      " [ 160  247]]\n",
      "정확도: 0.8728, 정밀도: 0.6039, 재현율: 0.6069,     F1: 0.6054\n",
      "\n",
      "임곗값: 0.72\n",
      "오차 행렬\n",
      "[[1978  147]\n",
      " [ 162  245]]\n",
      "정확도: 0.8780, 정밀도: 0.6250, 재현율: 0.6020,     F1: 0.6133\n",
      "\n",
      "임곗값: 0.75\n",
      "오차 행렬\n",
      "[[1998  127]\n",
      " [ 170  237]]\n",
      "정확도: 0.8827, 정밀도: 0.6511, 재현율: 0.5823,     F1: 0.6148\n"
     ]
    }
   ],
   "source": [
    "get_eval_by_threshold(y_test,pred_proba[:,1].reshape(-1,1),thresholds)"
   ]
  },
  {
   "cell_type": "code",
   "execution_count": 138,
   "id": "08b661c9",
   "metadata": {},
   "outputs": [],
   "source": [
    "from sklearn.metrics import precision_recall_curve\n",
    "\n",
    "# 레이블 값이 1일때의 예측 확률을 추출 \n",
    "pred_proba_class1 = lr_clf.predict_proba(X_test)[:, 1] \n",
    "\n",
    "# 실제값 데이터 셋과 레이블 값이 1일 때의 예측 확률을 precision_recall_curve 인자로 입력 \n",
    "precisions, recalls, thresholds = precision_recall_curve(y_test, pred_proba_class1)"
   ]
  },
  {
   "cell_type": "code",
   "execution_count": 91,
   "id": "9c6a69ee",
   "metadata": {},
   "outputs": [
    {
     "data": {
      "image/png": "[encoded data removed]",
      "text/plain": [
       "<Figure size 576x432 with 1 Axes>"
      ]
     },
     "metadata": {
      "needs_background": "light"
     },
     "output_type": "display_data"
    }
   ],
   "source": [
    "precision_recall_curve_plot(y_test, lr_clf.predict_proba(X_test)[:, 1] )"
   ]
  },
  {
   "cell_type": "code",
   "execution_count": null,
   "id": "a472b316",
   "metadata": {},
   "outputs": [],
   "source": []
  },
  {
   "cell_type": "markdown",
   "id": "455a7470",
   "metadata": {},
   "source": [
    "### LGBM"
   ]
  },
  {
   "cell_type": "code",
   "execution_count": 92,
   "id": "8b6020c7",
   "metadata": {
    "scrolled": true
   },
   "outputs": [
    {
     "name": "stderr",
     "output_type": "stream",
     "text": [
      "D:\\anaconda3\\lib\\site-packages\\sklearn\\utils\\validation.py:63: DataConversionWarning: A column-vector y was passed when a 1d array was expected. Please change the shape of y to (n_samples, ), for example using ravel().\n",
      "  return f(*args, **kwargs)\n"
     ]
    },
    {
     "name": "stdout",
     "output_type": "stream",
     "text": [
      "오차 행렬\n",
      "[[2063   62]\n",
      " [ 125  282]]\n",
      "정확도: 0.9261, 정밀도: 0.8198, 재현율: 0.6929,     F1: 0.7510\n"
     ]
    }
   ],
   "source": [
    "from lightgbm import LGBMClassifier\n",
    "\n",
    "lgbm_clf = LGBMClassifier(n_estimators = 1000, num_leaves = 64, n_jobs = -1, boost_from_average = False)\n",
    "get_model_train_eval(lgbm_clf, ftr_train=X_train, ftr_test=X_test, tgt_train=y_train, tgt_test=y_test)"
   ]
  },
  {
   "cell_type": "code",
   "execution_count": 93,
   "id": "69906cc9",
   "metadata": {
    "scrolled": false
   },
   "outputs": [
    {
     "name": "stdout",
     "output_type": "stream",
     "text": [
      "[1]\tvalid_0's binary_logloss: 0.393357\n",
      "Training until validation scores don't improve for 100 rounds\n",
      "[2]\tvalid_0's binary_logloss: 0.36189\n",
      "[3]\tvalid_0's binary_logloss: 0.336674\n",
      "[4]\tvalid_0's binary_logloss: 0.317892\n",
      "[5]\tvalid_0's binary_logloss: 0.302543\n",
      "[6]\tvalid_0's binary_logloss: 0.289785\n",
      "[7]\tvalid_0's binary_logloss: 0.278442\n",
      "[8]\tvalid_0's binary_logloss: 0.268781\n",
      "[9]\tvalid_0's binary_logloss: 0.260124\n",
      "[10]\tvalid_0's binary_logloss: 0.2525\n",
      "[11]\tvalid_0's binary_logloss: 0.246068\n",
      "[12]\tvalid_0's binary_logloss: 0.240281\n",
      "[13]\tvalid_0's binary_logloss: 0.23437\n",
      "[14]\tvalid_0's binary_logloss: 0.229837\n",
      "[15]\tvalid_0's binary_logloss: 0.225454\n",
      "[16]\tvalid_0's binary_logloss: 0.221981\n",
      "[17]\tvalid_0's binary_logloss: 0.218789\n",
      "[18]\tvalid_0's binary_logloss: 0.215839\n",
      "[19]\tvalid_0's binary_logloss: 0.211871\n",
      "[20]\tvalid_0's binary_logloss: 0.209401\n",
      "[21]\tvalid_0's binary_logloss: 0.207118\n",
      "[22]\tvalid_0's binary_logloss: 0.204722\n",
      "[23]\tvalid_0's binary_logloss: 0.202081\n",
      "[24]\tvalid_0's binary_logloss: 0.200351\n",
      "[25]\tvalid_0's binary_logloss: 0.199319\n",
      "[26]\tvalid_0's binary_logloss: 0.197627\n",
      "[27]\tvalid_0's binary_logloss: 0.196113\n",
      "[28]\tvalid_0's binary_logloss: 0.194665\n",
      "[29]\tvalid_0's binary_logloss: 0.193958\n",
      "[30]\tvalid_0's binary_logloss: 0.193065\n",
      "[31]\tvalid_0's binary_logloss: 0.192623\n",
      "[32]\tvalid_0's binary_logloss: 0.191908\n",
      "[33]\tvalid_0's binary_logloss: 0.190382\n",
      "[34]\tvalid_0's binary_logloss: 0.189567\n",
      "[35]\tvalid_0's binary_logloss: 0.188672\n",
      "[36]\tvalid_0's binary_logloss: 0.188319\n",
      "[37]\tvalid_0's binary_logloss: 0.187762\n",
      "[38]\tvalid_0's binary_logloss: 0.187183\n",
      "[39]\tvalid_0's binary_logloss: 0.186728\n",
      "[40]\tvalid_0's binary_logloss: 0.185929\n",
      "[41]\tvalid_0's binary_logloss: 0.185237\n",
      "[42]\tvalid_0's binary_logloss: 0.184957\n",
      "[43]\tvalid_0's binary_logloss: 0.184196\n",
      "[44]\tvalid_0's binary_logloss: 0.184242\n",
      "[45]\tvalid_0's binary_logloss: 0.183391\n",
      "[46]\tvalid_0's binary_logloss: 0.182925\n",
      "[47]\tvalid_0's binary_logloss: 0.182903\n",
      "[48]\tvalid_0's binary_logloss: 0.182441\n",
      "[49]\tvalid_0's binary_logloss: 0.181924\n",
      "[50]\tvalid_0's binary_logloss: 0.182087\n",
      "[51]\tvalid_0's binary_logloss: 0.181982\n",
      "[52]\tvalid_0's binary_logloss: 0.181726\n",
      "[53]\tvalid_0's binary_logloss: 0.181463\n",
      "[54]\tvalid_0's binary_logloss: 0.180714\n",
      "[55]\tvalid_0's binary_logloss: 0.179999\n",
      "[56]\tvalid_0's binary_logloss: 0.179657\n",
      "[57]\tvalid_0's binary_logloss: 0.179347\n",
      "[58]\tvalid_0's binary_logloss: 0.178848\n",
      "[59]\tvalid_0's binary_logloss: 0.178486\n",
      "[60]\tvalid_0's binary_logloss: 0.178474\n",
      "[61]\tvalid_0's binary_logloss: 0.178349\n",
      "[62]\tvalid_0's binary_logloss: 0.178231\n",
      "[63]\tvalid_0's binary_logloss: 0.177874\n",
      "[64]\tvalid_0's binary_logloss: 0.177718\n",
      "[65]\tvalid_0's binary_logloss: 0.177515\n",
      "[66]\tvalid_0's binary_logloss: 0.177653\n",
      "[67]\tvalid_0's binary_logloss: 0.177573\n",
      "[68]\tvalid_0's binary_logloss: 0.17708\n",
      "[69]\tvalid_0's binary_logloss: 0.176752\n",
      "[70]\tvalid_0's binary_logloss: 0.176857\n",
      "[71]\tvalid_0's binary_logloss: 0.176715\n",
      "[72]\tvalid_0's binary_logloss: 0.176499\n",
      "[73]\tvalid_0's binary_logloss: 0.176799\n",
      "[74]\tvalid_0's binary_logloss: 0.176854\n",
      "[75]\tvalid_0's binary_logloss: 0.176442\n",
      "[76]\tvalid_0's binary_logloss: 0.175605\n",
      "[77]\tvalid_0's binary_logloss: 0.17539\n",
      "[78]\tvalid_0's binary_logloss: 0.175567\n",
      "[79]\tvalid_0's binary_logloss: 0.175283\n",
      "[80]\tvalid_0's binary_logloss: 0.175304\n",
      "[81]\tvalid_0's binary_logloss: 0.175213\n",
      "[82]\tvalid_0's binary_logloss: 0.175103\n",
      "[83]\tvalid_0's binary_logloss: 0.175315\n",
      "[84]\tvalid_0's binary_logloss: 0.175466\n",
      "[85]\tvalid_0's binary_logloss: 0.175821\n",
      "[86]\tvalid_0's binary_logloss: 0.175711\n",
      "[87]\tvalid_0's binary_logloss: 0.175798\n",
      "[88]\tvalid_0's binary_logloss: 0.175894\n",
      "[89]\tvalid_0's binary_logloss: 0.175764\n",
      "[90]\tvalid_0's binary_logloss: 0.175808\n",
      "[91]\tvalid_0's binary_logloss: 0.175954\n",
      "[92]\tvalid_0's binary_logloss: 0.176122\n",
      "[93]\tvalid_0's binary_logloss: 0.176078\n",
      "[94]\tvalid_0's binary_logloss: 0.176324\n",
      "[95]\tvalid_0's binary_logloss: 0.176443\n",
      "[96]\tvalid_0's binary_logloss: 0.176439\n",
      "[97]\tvalid_0's binary_logloss: 0.176286\n",
      "[98]\tvalid_0's binary_logloss: 0.176272\n",
      "[99]\tvalid_0's binary_logloss: 0.176392\n",
      "[100]\tvalid_0's binary_logloss: 0.176197\n",
      "[101]\tvalid_0's binary_logloss: 0.17643\n",
      "[102]\tvalid_0's binary_logloss: 0.176287\n",
      "[103]\tvalid_0's binary_logloss: 0.176192\n",
      "[104]\tvalid_0's binary_logloss: 0.176221\n",
      "[105]\tvalid_0's binary_logloss: 0.176364\n",
      "[106]\tvalid_0's binary_logloss: 0.176603\n",
      "[107]\tvalid_0's binary_logloss: 0.176733\n",
      "[108]\tvalid_0's binary_logloss: 0.176768\n",
      "[109]\tvalid_0's binary_logloss: 0.177053\n",
      "[110]\tvalid_0's binary_logloss: 0.176742\n",
      "[111]\tvalid_0's binary_logloss: 0.176947\n",
      "[112]\tvalid_0's binary_logloss: 0.17692\n",
      "[113]\tvalid_0's binary_logloss: 0.177139\n",
      "[114]\tvalid_0's binary_logloss: 0.176994\n",
      "[115]\tvalid_0's binary_logloss: 0.177268\n",
      "[116]\tvalid_0's binary_logloss: 0.177406\n",
      "[117]\tvalid_0's binary_logloss: 0.177116\n",
      "[118]\tvalid_0's binary_logloss: 0.177126\n",
      "[119]\tvalid_0's binary_logloss: 0.177325\n",
      "[120]\tvalid_0's binary_logloss: 0.177643\n"
     ]
    },
    {
     "name": "stderr",
     "output_type": "stream",
     "text": [
      "D:\\anaconda3\\lib\\site-packages\\sklearn\\utils\\validation.py:63: DataConversionWarning: A column-vector y was passed when a 1d array was expected. Please change the shape of y to (n_samples, ), for example using ravel().\n",
      "  return f(*args, **kwargs)\n"
     ]
    },
    {
     "name": "stdout",
     "output_type": "stream",
     "text": [
      "[121]\tvalid_0's binary_logloss: 0.177414\n",
      "[122]\tvalid_0's binary_logloss: 0.177813\n",
      "[123]\tvalid_0's binary_logloss: 0.178075\n",
      "[124]\tvalid_0's binary_logloss: 0.178441\n",
      "[125]\tvalid_0's binary_logloss: 0.178746\n",
      "[126]\tvalid_0's binary_logloss: 0.178764\n",
      "[127]\tvalid_0's binary_logloss: 0.178709\n",
      "[128]\tvalid_0's binary_logloss: 0.179027\n",
      "[129]\tvalid_0's binary_logloss: 0.179403\n",
      "[130]\tvalid_0's binary_logloss: 0.179725\n",
      "[131]\tvalid_0's binary_logloss: 0.180247\n",
      "[132]\tvalid_0's binary_logloss: 0.180619\n",
      "[133]\tvalid_0's binary_logloss: 0.180825\n",
      "[134]\tvalid_0's binary_logloss: 0.181341\n",
      "[135]\tvalid_0's binary_logloss: 0.181556\n",
      "[136]\tvalid_0's binary_logloss: 0.181511\n",
      "[137]\tvalid_0's binary_logloss: 0.181657\n",
      "[138]\tvalid_0's binary_logloss: 0.181792\n",
      "[139]\tvalid_0's binary_logloss: 0.182185\n",
      "[140]\tvalid_0's binary_logloss: 0.182286\n",
      "[141]\tvalid_0's binary_logloss: 0.182353\n",
      "[142]\tvalid_0's binary_logloss: 0.182512\n",
      "[143]\tvalid_0's binary_logloss: 0.182143\n",
      "[144]\tvalid_0's binary_logloss: 0.18242\n",
      "[145]\tvalid_0's binary_logloss: 0.182418\n",
      "[146]\tvalid_0's binary_logloss: 0.182641\n",
      "[147]\tvalid_0's binary_logloss: 0.182697\n",
      "[148]\tvalid_0's binary_logloss: 0.182863\n",
      "[149]\tvalid_0's binary_logloss: 0.182926\n",
      "[150]\tvalid_0's binary_logloss: 0.182949\n",
      "[151]\tvalid_0's binary_logloss: 0.183033\n",
      "[152]\tvalid_0's binary_logloss: 0.182859\n",
      "[153]\tvalid_0's binary_logloss: 0.183077\n",
      "[154]\tvalid_0's binary_logloss: 0.183457\n",
      "[155]\tvalid_0's binary_logloss: 0.183424\n",
      "[156]\tvalid_0's binary_logloss: 0.183708\n",
      "[157]\tvalid_0's binary_logloss: 0.183778\n",
      "[158]\tvalid_0's binary_logloss: 0.184015\n",
      "[159]\tvalid_0's binary_logloss: 0.184089\n",
      "[160]\tvalid_0's binary_logloss: 0.184354\n",
      "[161]\tvalid_0's binary_logloss: 0.184733\n",
      "[162]\tvalid_0's binary_logloss: 0.185058\n",
      "[163]\tvalid_0's binary_logloss: 0.185538\n",
      "[164]\tvalid_0's binary_logloss: 0.185976\n",
      "[165]\tvalid_0's binary_logloss: 0.186036\n",
      "[166]\tvalid_0's binary_logloss: 0.186422\n",
      "[167]\tvalid_0's binary_logloss: 0.186739\n",
      "[168]\tvalid_0's binary_logloss: 0.186816\n",
      "[169]\tvalid_0's binary_logloss: 0.187147\n",
      "[170]\tvalid_0's binary_logloss: 0.187528\n",
      "[171]\tvalid_0's binary_logloss: 0.187408\n",
      "[172]\tvalid_0's binary_logloss: 0.187615\n",
      "[173]\tvalid_0's binary_logloss: 0.188201\n",
      "[174]\tvalid_0's binary_logloss: 0.188417\n",
      "[175]\tvalid_0's binary_logloss: 0.188472\n",
      "[176]\tvalid_0's binary_logloss: 0.188739\n",
      "[177]\tvalid_0's binary_logloss: 0.18869\n",
      "[178]\tvalid_0's binary_logloss: 0.189094\n",
      "[179]\tvalid_0's binary_logloss: 0.189324\n",
      "[180]\tvalid_0's binary_logloss: 0.18963\n",
      "[181]\tvalid_0's binary_logloss: 0.189915\n",
      "[182]\tvalid_0's binary_logloss: 0.189919\n",
      "Early stopping, best iteration is:\n",
      "[82]\tvalid_0's binary_logloss: 0.175103\n"
     ]
    },
    {
     "data": {
      "text/plain": [
       "LGBMClassifier(n_estimators=400)"
      ]
     },
     "execution_count": 93,
     "metadata": {},
     "output_type": "execute_result"
    }
   ],
   "source": [
    "lgbm_wrapper = LGBMClassifier(n_estimators = 400)\n",
    "\n",
    "evals = [(X_test, y_test)]\n",
    "\n",
    "# 학습 : 조기 중단 수행 가능(XGBoost와 동일)\n",
    "\n",
    "lgbm_wrapper.fit(X_train, y_train, early_stopping_rounds=100,\n",
    "                eval_metric='logloss', eval_set=evals, verbose=True)\n",
    "\n",
    "# 예측\n",
    "preds = lgbm_wrapper.predict(X_test)\n",
    "pred_proba = lgbm_wrapper.predict_proba(X_test)"
   ]
  },
  {
   "cell_type": "code",
   "execution_count": 94,
   "id": "7038bfe6",
   "metadata": {},
   "outputs": [
    {
     "data": {
      "text/plain": [
       "array([[9.94666513e-01, 5.33348737e-03],\n",
       "       [9.91609678e-01, 8.39032161e-03],\n",
       "       [3.01244385e-02, 9.69875561e-01],\n",
       "       [9.93367443e-01, 6.63255685e-03],\n",
       "       [9.91628029e-01, 8.37197090e-03],\n",
       "       [9.97491992e-01, 2.50800798e-03],\n",
       "       [9.92086621e-01, 7.91337926e-03],\n",
       "       [9.16936521e-01, 8.30634794e-02],\n",
       "       [9.92440310e-01, 7.55969001e-03],\n",
       "       [9.99539569e-01, 4.60430727e-04]])"
      ]
     },
     "execution_count": 94,
     "metadata": {},
     "output_type": "execute_result"
    }
   ],
   "source": [
    "pred_proba[:10]"
   ]
  },
  {
   "cell_type": "code",
   "execution_count": 95,
   "id": "bb9c74d5",
   "metadata": {},
   "outputs": [],
   "source": [
    "# 테스트를 수행할 모든 임곗값을 리스트 객체로 저장. \n",
    "thresholds = [0.31,0.32,0.34,0.33,0.37, 0.4, 0.45, 0.50, 0.55, 0.60]"
   ]
  },
  {
   "cell_type": "code",
   "execution_count": 96,
   "id": "6640131e",
   "metadata": {},
   "outputs": [
    {
     "name": "stdout",
     "output_type": "stream",
     "text": [
      "\n",
      "임곗값: 0.31\n",
      "오차 행렬\n",
      "[[2026   99]\n",
      " [  84  323]]\n",
      "정확도: 0.9277, 정밀도: 0.7654, 재현율: 0.7936,     F1: 0.7793\n",
      "\n",
      "임곗값: 0.32\n",
      "오차 행렬\n",
      "[[2029   96]\n",
      " [  85  322]]\n",
      "정확도: 0.9285, 정밀도: 0.7703, 재현율: 0.7912,     F1: 0.7806\n",
      "\n",
      "임곗값: 0.34\n",
      "오차 행렬\n",
      "[[2037   88]\n",
      " [  90  317]]\n",
      "정확도: 0.9297, 정밀도: 0.7827, 재현율: 0.7789,     F1: 0.7808\n",
      "\n",
      "임곗값: 0.33\n",
      "오차 행렬\n",
      "[[2032   93]\n",
      " [  86  321]]\n",
      "정확도: 0.9293, 정밀도: 0.7754, 재현율: 0.7887,     F1: 0.7820\n",
      "\n",
      "임곗값: 0.37\n",
      "오차 행렬\n",
      "[[2045   80]\n",
      " [ 103  304]]\n",
      "정확도: 0.9277, 정밀도: 0.7917, 재현율: 0.7469,     F1: 0.7686\n",
      "\n",
      "임곗값: 0.4\n",
      "오차 행렬\n",
      "[[2049   76]\n",
      " [ 108  299]]\n",
      "정확도: 0.9273, 정밀도: 0.7973, 재현율: 0.7346,     F1: 0.7647\n",
      "\n",
      "임곗값: 0.45\n",
      "오차 행렬\n",
      "[[2064   61]\n",
      " [ 116  291]]\n",
      "정확도: 0.9301, 정밀도: 0.8267, 재현율: 0.7150,     F1: 0.7668\n",
      "\n",
      "임곗값: 0.5\n",
      "오차 행렬\n",
      "[[2068   57]\n",
      " [ 125  282]]\n",
      "정확도: 0.9281, 정밀도: 0.8319, 재현율: 0.6929,     F1: 0.7560\n",
      "\n",
      "임곗값: 0.55\n",
      "오차 행렬\n",
      "[[2076   49]\n",
      " [ 137  270]]\n",
      "정확도: 0.9265, 정밀도: 0.8464, 재현율: 0.6634,     F1: 0.7438\n",
      "\n",
      "임곗값: 0.6\n",
      "오차 행렬\n",
      "[[2082   43]\n",
      " [ 142  265]]\n",
      "정확도: 0.9269, 정밀도: 0.8604, 재현율: 0.6511,     F1: 0.7413\n"
     ]
    }
   ],
   "source": [
    "get_eval_by_threshold(y_test,pred_proba[:,1].reshape(-1,1),thresholds)"
   ]
  },
  {
   "cell_type": "code",
   "execution_count": 97,
   "id": "c28c9918",
   "metadata": {},
   "outputs": [],
   "source": [
    "from sklearn.metrics import precision_recall_curve\n",
    "\n",
    "# 레이블 값이 1일때의 예측 확률을 추출 \n",
    "pred_proba_class1 = lgbm_clf.predict_proba(X_test)[:, 1] \n",
    "\n",
    "# 실제값 데이터 셋과 레이블 값이 1일 때의 예측 확률을 precision_recall_curve 인자로 입력 \n",
    "precisions, recalls, thresholds = precision_recall_curve(y_test, pred_proba_class1)"
   ]
  },
  {
   "cell_type": "code",
   "execution_count": 98,
   "id": "7591894b",
   "metadata": {},
   "outputs": [
    {
     "data": {
      "image/png": "[encoded data removed]",
      "text/plain": [
       "<Figure size 576x432 with 1 Axes>"
      ]
     },
     "metadata": {
      "needs_background": "light"
     },
     "output_type": "display_data"
    }
   ],
   "source": [
    "precision_recall_curve_plot(y_test, lgbm_wrapper.predict_proba(X_test)[:, 1]  )"
   ]
  },
  {
   "cell_type": "markdown",
   "id": "0e6dd333",
   "metadata": {},
   "source": [
    "## XGBoost"
   ]
  },
  {
   "cell_type": "code",
   "execution_count": 99,
   "id": "7affbda2",
   "metadata": {},
   "outputs": [
    {
     "name": "stdout",
     "output_type": "stream",
     "text": [
      "[0]\ttrain-logloss:0.62001\teval-logloss:0.62367\n",
      "[1]\ttrain-logloss:0.55994\teval-logloss:0.56690\n",
      "[2]\ttrain-logloss:0.50965\teval-logloss:0.51916\n",
      "[3]\ttrain-logloss:0.46681\teval-logloss:0.47856\n",
      "[4]\ttrain-logloss:0.42977\teval-logloss:0.44413\n",
      "[5]\ttrain-logloss:0.39776\teval-logloss:0.41449\n",
      "[6]\ttrain-logloss:0.37010\teval-logloss:0.38931\n",
      "[7]\ttrain-logloss:0.34576\teval-logloss:0.36682\n",
      "[8]\ttrain-logloss:0.32435\teval-logloss:0.34758\n",
      "[9]\ttrain-logloss:0.30557\teval-logloss:0.33058\n",
      "[10]\ttrain-logloss:0.28853\teval-logloss:0.31589\n",
      "[11]\ttrain-logloss:0.27361\teval-logloss:0.30302\n",
      "[12]\ttrain-logloss:0.26013\teval-logloss:0.29125\n",
      "[13]\ttrain-logloss:0.24835\teval-logloss:0.28084\n",
      "[14]\ttrain-logloss:0.23761\teval-logloss:0.27211\n",
      "[15]\ttrain-logloss:0.22711\teval-logloss:0.26405\n",
      "[16]\ttrain-logloss:0.21849\teval-logloss:0.25717\n",
      "[17]\ttrain-logloss:0.21047\teval-logloss:0.25088\n",
      "[18]\ttrain-logloss:0.20351\teval-logloss:0.24523\n",
      "[19]\ttrain-logloss:0.19624\teval-logloss:0.23960\n",
      "[20]\ttrain-logloss:0.19030\teval-logloss:0.23468\n",
      "[21]\ttrain-logloss:0.18494\teval-logloss:0.23023\n",
      "[22]\ttrain-logloss:0.17949\teval-logloss:0.22665\n",
      "[23]\ttrain-logloss:0.17486\teval-logloss:0.22318\n",
      "[24]\ttrain-logloss:0.17056\teval-logloss:0.22030\n",
      "[25]\ttrain-logloss:0.16653\teval-logloss:0.21720\n",
      "[26]\ttrain-logloss:0.16227\teval-logloss:0.21454\n",
      "[27]\ttrain-logloss:0.15889\teval-logloss:0.21186\n",
      "[28]\ttrain-logloss:0.15534\teval-logloss:0.20911\n",
      "[29]\ttrain-logloss:0.15207\teval-logloss:0.20695\n",
      "[30]\ttrain-logloss:0.14935\teval-logloss:0.20521\n",
      "[31]\ttrain-logloss:0.14688\teval-logloss:0.20364\n",
      "[32]\ttrain-logloss:0.14424\teval-logloss:0.20182\n",
      "[33]\ttrain-logloss:0.14222\teval-logloss:0.20017\n",
      "[34]\ttrain-logloss:0.13980\teval-logloss:0.19922\n",
      "[35]\ttrain-logloss:0.13796\teval-logloss:0.19801\n",
      "[36]\ttrain-logloss:0.13513\teval-logloss:0.19647\n",
      "[37]\ttrain-logloss:0.13350\teval-logloss:0.19564\n",
      "[38]\ttrain-logloss:0.13169\teval-logloss:0.19424\n",
      "[39]\ttrain-logloss:0.12901\teval-logloss:0.19312\n",
      "[40]\ttrain-logloss:0.12776\teval-logloss:0.19237\n",
      "[41]\ttrain-logloss:0.12557\teval-logloss:0.19163\n",
      "[42]\ttrain-logloss:0.12445\teval-logloss:0.19124\n",
      "[43]\ttrain-logloss:0.12306\teval-logloss:0.19043\n",
      "[44]\ttrain-logloss:0.12191\teval-logloss:0.18967\n",
      "[45]\ttrain-logloss:0.12024\teval-logloss:0.18916\n",
      "[46]\ttrain-logloss:0.11840\teval-logloss:0.18859\n",
      "[47]\ttrain-logloss:0.11738\teval-logloss:0.18782\n",
      "[48]\ttrain-logloss:0.11655\teval-logloss:0.18757\n",
      "[49]\ttrain-logloss:0.11579\teval-logloss:0.18696\n",
      "[50]\ttrain-logloss:0.11521\teval-logloss:0.18666\n",
      "[51]\ttrain-logloss:0.11387\teval-logloss:0.18649\n",
      "[52]\ttrain-logloss:0.11310\teval-logloss:0.18606\n",
      "[53]\ttrain-logloss:0.11267\teval-logloss:0.18588\n",
      "[54]\ttrain-logloss:0.11216\teval-logloss:0.18544\n",
      "[55]\ttrain-logloss:0.11044\teval-logloss:0.18518\n",
      "[56]\ttrain-logloss:0.10951\teval-logloss:0.18468\n",
      "[57]\ttrain-logloss:0.10884\teval-logloss:0.18423\n",
      "[58]\ttrain-logloss:0.10761\teval-logloss:0.18380\n",
      "[59]\ttrain-logloss:0.10730\teval-logloss:0.18364\n",
      "[60]\ttrain-logloss:0.10623\teval-logloss:0.18335\n",
      "[61]\ttrain-logloss:0.10571\teval-logloss:0.18313\n",
      "[62]\ttrain-logloss:0.10454\teval-logloss:0.18285\n",
      "[63]\ttrain-logloss:0.10371\teval-logloss:0.18268\n",
      "[64]\ttrain-logloss:0.10346\teval-logloss:0.18256\n",
      "[65]\ttrain-logloss:0.10319\teval-logloss:0.18247\n",
      "[66]\ttrain-logloss:0.10223\teval-logloss:0.18180\n",
      "[67]\ttrain-logloss:0.10113\teval-logloss:0.18191\n",
      "[68]\ttrain-logloss:0.10072\teval-logloss:0.18164\n",
      "[69]\ttrain-logloss:0.09996\teval-logloss:0.18193\n",
      "[70]\ttrain-logloss:0.09961\teval-logloss:0.18188\n",
      "[71]\ttrain-logloss:0.09922\teval-logloss:0.18149\n",
      "[72]\ttrain-logloss:0.09895\teval-logloss:0.18142\n",
      "[73]\ttrain-logloss:0.09875\teval-logloss:0.18121\n",
      "[74]\ttrain-logloss:0.09766\teval-logloss:0.18111\n",
      "[75]\ttrain-logloss:0.09713\teval-logloss:0.18122\n",
      "[76]\ttrain-logloss:0.09612\teval-logloss:0.18118\n",
      "[77]\ttrain-logloss:0.09542\teval-logloss:0.18101\n",
      "[78]\ttrain-logloss:0.09443\teval-logloss:0.18077\n",
      "[79]\ttrain-logloss:0.09418\teval-logloss:0.18059\n",
      "[80]\ttrain-logloss:0.09383\teval-logloss:0.18042\n",
      "[81]\ttrain-logloss:0.09319\teval-logloss:0.18040\n",
      "[82]\ttrain-logloss:0.09229\teval-logloss:0.18052\n",
      "[83]\ttrain-logloss:0.09188\teval-logloss:0.18006\n",
      "[84]\ttrain-logloss:0.09160\teval-logloss:0.18000\n",
      "[85]\ttrain-logloss:0.09072\teval-logloss:0.17972\n",
      "[86]\ttrain-logloss:0.09043\teval-logloss:0.17956\n",
      "[87]\ttrain-logloss:0.09013\teval-logloss:0.17933\n",
      "[88]\ttrain-logloss:0.08971\teval-logloss:0.17923\n",
      "[89]\ttrain-logloss:0.08959\teval-logloss:0.17918\n",
      "[90]\ttrain-logloss:0.08887\teval-logloss:0.17903\n",
      "[91]\ttrain-logloss:0.08841\teval-logloss:0.17895\n",
      "[92]\ttrain-logloss:0.08743\teval-logloss:0.17886\n",
      "[93]\ttrain-logloss:0.08716\teval-logloss:0.17876\n",
      "[94]\ttrain-logloss:0.08629\teval-logloss:0.17851\n",
      "[95]\ttrain-logloss:0.08543\teval-logloss:0.17856\n",
      "[96]\ttrain-logloss:0.08491\teval-logloss:0.17854\n",
      "[97]\ttrain-logloss:0.08481\teval-logloss:0.17856\n",
      "[98]\ttrain-logloss:0.08445\teval-logloss:0.17866\n",
      "[99]\ttrain-logloss:0.08425\teval-logloss:0.17852\n",
      "[100]\ttrain-logloss:0.08366\teval-logloss:0.17843\n",
      "[101]\ttrain-logloss:0.08292\teval-logloss:0.17861\n",
      "[102]\ttrain-logloss:0.08244\teval-logloss:0.17887\n",
      "[103]\ttrain-logloss:0.08203\teval-logloss:0.17874\n",
      "[104]\ttrain-logloss:0.08155\teval-logloss:0.17871\n",
      "[105]\ttrain-logloss:0.08129\teval-logloss:0.17864\n",
      "[106]\ttrain-logloss:0.08115\teval-logloss:0.17883\n",
      "[107]\ttrain-logloss:0.08072\teval-logloss:0.17893\n",
      "[108]\ttrain-logloss:0.07966\teval-logloss:0.17848\n",
      "[109]\ttrain-logloss:0.07930\teval-logloss:0.17827\n",
      "[110]\ttrain-logloss:0.07876\teval-logloss:0.17839\n",
      "[111]\ttrain-logloss:0.07841\teval-logloss:0.17860\n",
      "[112]\ttrain-logloss:0.07822\teval-logloss:0.17866\n",
      "[113]\ttrain-logloss:0.07804\teval-logloss:0.17836\n",
      "[114]\ttrain-logloss:0.07724\teval-logloss:0.17847\n",
      "[115]\ttrain-logloss:0.07711\teval-logloss:0.17840\n",
      "[116]\ttrain-logloss:0.07681\teval-logloss:0.17846\n",
      "[117]\ttrain-logloss:0.07647\teval-logloss:0.17875\n",
      "[118]\ttrain-logloss:0.07629\teval-logloss:0.17862\n",
      "[119]\ttrain-logloss:0.07587\teval-logloss:0.17870\n",
      "[120]\ttrain-logloss:0.07576\teval-logloss:0.17867\n",
      "[121]\ttrain-logloss:0.07535\teval-logloss:0.17870\n",
      "[122]\ttrain-logloss:0.07504\teval-logloss:0.17885\n",
      "[123]\ttrain-logloss:0.07477\teval-logloss:0.17903\n",
      "[124]\ttrain-logloss:0.07452\teval-logloss:0.17878\n",
      "[125]\ttrain-logloss:0.07436\teval-logloss:0.17876\n",
      "[126]\ttrain-logloss:0.07406\teval-logloss:0.17857\n",
      "[127]\ttrain-logloss:0.07369\teval-logloss:0.17836\n",
      "[128]\ttrain-logloss:0.07361\teval-logloss:0.17830\n",
      "[129]\ttrain-logloss:0.07339\teval-logloss:0.17843\n",
      "[130]\ttrain-logloss:0.07268\teval-logloss:0.17844\n",
      "[131]\ttrain-logloss:0.07230\teval-logloss:0.17837\n",
      "[132]\ttrain-logloss:0.07148\teval-logloss:0.17816\n",
      "[133]\ttrain-logloss:0.07111\teval-logloss:0.17816\n",
      "[134]\ttrain-logloss:0.07098\teval-logloss:0.17819\n",
      "[135]\ttrain-logloss:0.07071\teval-logloss:0.17814\n",
      "[136]\ttrain-logloss:0.07057\teval-logloss:0.17801\n",
      "[137]\ttrain-logloss:0.07024\teval-logloss:0.17804\n",
      "[138]\ttrain-logloss:0.06940\teval-logloss:0.17783\n",
      "[139]\ttrain-logloss:0.06912\teval-logloss:0.17804\n",
      "[140]\ttrain-logloss:0.06882\teval-logloss:0.17811\n",
      "[141]\ttrain-logloss:0.06855\teval-logloss:0.17835\n",
      "[142]\ttrain-logloss:0.06827\teval-logloss:0.17826\n",
      "[143]\ttrain-logloss:0.06758\teval-logloss:0.17818\n",
      "[144]\ttrain-logloss:0.06736\teval-logloss:0.17838\n",
      "[145]\ttrain-logloss:0.06711\teval-logloss:0.17850\n",
      "[146]\ttrain-logloss:0.06660\teval-logloss:0.17870\n",
      "[147]\ttrain-logloss:0.06631\teval-logloss:0.17896\n",
      "[148]\ttrain-logloss:0.06592\teval-logloss:0.17922\n",
      "[149]\ttrain-logloss:0.06561\teval-logloss:0.17945\n",
      "[150]\ttrain-logloss:0.06483\teval-logloss:0.17929\n",
      "[151]\ttrain-logloss:0.06457\teval-logloss:0.17925\n",
      "[152]\ttrain-logloss:0.06431\teval-logloss:0.17942\n",
      "[153]\ttrain-logloss:0.06412\teval-logloss:0.17924\n",
      "[154]\ttrain-logloss:0.06351\teval-logloss:0.17932\n",
      "[155]\ttrain-logloss:0.06329\teval-logloss:0.17938\n",
      "[156]\ttrain-logloss:0.06291\teval-logloss:0.17958\n",
      "[157]\ttrain-logloss:0.06248\teval-logloss:0.17961\n",
      "[158]\ttrain-logloss:0.06220\teval-logloss:0.17971\n",
      "[159]\ttrain-logloss:0.06167\teval-logloss:0.17977\n",
      "[160]\ttrain-logloss:0.06125\teval-logloss:0.17970\n",
      "[161]\ttrain-logloss:0.06100\teval-logloss:0.17980\n",
      "[162]\ttrain-logloss:0.06077\teval-logloss:0.17992\n",
      "[163]\ttrain-logloss:0.06072\teval-logloss:0.17998\n",
      "[164]\ttrain-logloss:0.06053\teval-logloss:0.18013\n",
      "[165]\ttrain-logloss:0.06015\teval-logloss:0.18039\n",
      "[166]\ttrain-logloss:0.06005\teval-logloss:0.18026\n",
      "[167]\ttrain-logloss:0.05982\teval-logloss:0.18049\n",
      "[168]\ttrain-logloss:0.05973\teval-logloss:0.18052\n",
      "[169]\ttrain-logloss:0.05952\teval-logloss:0.18055\n"
     ]
    },
    {
     "name": "stdout",
     "output_type": "stream",
     "text": [
      "[170]\ttrain-logloss:0.05917\teval-logloss:0.18046\n",
      "[171]\ttrain-logloss:0.05885\teval-logloss:0.18045\n",
      "[172]\ttrain-logloss:0.05862\teval-logloss:0.18063\n",
      "[173]\ttrain-logloss:0.05826\teval-logloss:0.18080\n",
      "[174]\ttrain-logloss:0.05774\teval-logloss:0.18119\n",
      "[175]\ttrain-logloss:0.05742\teval-logloss:0.18109\n",
      "[176]\ttrain-logloss:0.05724\teval-logloss:0.18107\n",
      "[177]\ttrain-logloss:0.05658\teval-logloss:0.18097\n",
      "[178]\ttrain-logloss:0.05611\teval-logloss:0.18081\n",
      "[179]\ttrain-logloss:0.05592\teval-logloss:0.18087\n",
      "[180]\ttrain-logloss:0.05569\teval-logloss:0.18078\n",
      "[181]\ttrain-logloss:0.05529\teval-logloss:0.18079\n",
      "[182]\ttrain-logloss:0.05461\teval-logloss:0.18056\n",
      "[183]\ttrain-logloss:0.05427\teval-logloss:0.18107\n",
      "[184]\ttrain-logloss:0.05397\teval-logloss:0.18144\n",
      "[185]\ttrain-logloss:0.05341\teval-logloss:0.18143\n",
      "[186]\ttrain-logloss:0.05320\teval-logloss:0.18135\n",
      "[187]\ttrain-logloss:0.05273\teval-logloss:0.18147\n",
      "[188]\ttrain-logloss:0.05239\teval-logloss:0.18143\n",
      "[189]\ttrain-logloss:0.05219\teval-logloss:0.18127\n",
      "[190]\ttrain-logloss:0.05179\teval-logloss:0.18138\n",
      "[191]\ttrain-logloss:0.05137\teval-logloss:0.18142\n",
      "[192]\ttrain-logloss:0.05110\teval-logloss:0.18134\n",
      "[193]\ttrain-logloss:0.05080\teval-logloss:0.18135\n",
      "[194]\ttrain-logloss:0.05062\teval-logloss:0.18140\n",
      "[195]\ttrain-logloss:0.05040\teval-logloss:0.18142\n",
      "[196]\ttrain-logloss:0.05013\teval-logloss:0.18144\n",
      "[197]\ttrain-logloss:0.04999\teval-logloss:0.18151\n",
      "[198]\ttrain-logloss:0.04957\teval-logloss:0.18170\n",
      "[199]\ttrain-logloss:0.04940\teval-logloss:0.18192\n",
      "[200]\ttrain-logloss:0.04931\teval-logloss:0.18191\n",
      "[201]\ttrain-logloss:0.04913\teval-logloss:0.18178\n",
      "[202]\ttrain-logloss:0.04863\teval-logloss:0.18180\n",
      "[203]\ttrain-logloss:0.04826\teval-logloss:0.18165\n",
      "[204]\ttrain-logloss:0.04794\teval-logloss:0.18165\n",
      "[205]\ttrain-logloss:0.04775\teval-logloss:0.18196\n",
      "[206]\ttrain-logloss:0.04759\teval-logloss:0.18189\n",
      "[207]\ttrain-logloss:0.04721\teval-logloss:0.18198\n",
      "[208]\ttrain-logloss:0.04680\teval-logloss:0.18210\n",
      "[209]\ttrain-logloss:0.04664\teval-logloss:0.18222\n",
      "[210]\ttrain-logloss:0.04630\teval-logloss:0.18258\n",
      "[211]\ttrain-logloss:0.04613\teval-logloss:0.18260\n",
      "[212]\ttrain-logloss:0.04600\teval-logloss:0.18269\n",
      "[213]\ttrain-logloss:0.04565\teval-logloss:0.18253\n",
      "[214]\ttrain-logloss:0.04544\teval-logloss:0.18279\n",
      "[215]\ttrain-logloss:0.04511\teval-logloss:0.18289\n",
      "[216]\ttrain-logloss:0.04495\teval-logloss:0.18298\n",
      "[217]\ttrain-logloss:0.04470\teval-logloss:0.18315\n",
      "[218]\ttrain-logloss:0.04450\teval-logloss:0.18328\n",
      "[219]\ttrain-logloss:0.04439\teval-logloss:0.18344\n",
      "[220]\ttrain-logloss:0.04421\teval-logloss:0.18355\n",
      "[221]\ttrain-logloss:0.04410\teval-logloss:0.18374\n",
      "[222]\ttrain-logloss:0.04387\teval-logloss:0.18353\n",
      "[223]\ttrain-logloss:0.04360\teval-logloss:0.18382\n",
      "[224]\ttrain-logloss:0.04345\teval-logloss:0.18412\n",
      "[225]\ttrain-logloss:0.04331\teval-logloss:0.18428\n",
      "[226]\ttrain-logloss:0.04309\teval-logloss:0.18447\n",
      "[227]\ttrain-logloss:0.04300\teval-logloss:0.18451\n",
      "[228]\ttrain-logloss:0.04276\teval-logloss:0.18471\n",
      "[229]\ttrain-logloss:0.04243\teval-logloss:0.18490\n",
      "[230]\ttrain-logloss:0.04230\teval-logloss:0.18503\n",
      "[231]\ttrain-logloss:0.04177\teval-logloss:0.18507\n",
      "[232]\ttrain-logloss:0.04160\teval-logloss:0.18508\n",
      "[233]\ttrain-logloss:0.04124\teval-logloss:0.18551\n",
      "[234]\ttrain-logloss:0.04120\teval-logloss:0.18556\n",
      "[235]\ttrain-logloss:0.04087\teval-logloss:0.18565\n",
      "[236]\ttrain-logloss:0.04070\teval-logloss:0.18564\n",
      "[237]\ttrain-logloss:0.04045\teval-logloss:0.18575\n"
     ]
    }
   ],
   "source": [
    "import xgboost as xgb\n",
    "from xgboost import plot_importance\n",
    "\n",
    "# 학습용/테스트용 모두 변환 해야 함\n",
    "\n",
    "dtrain = xgb.DMatrix(data=X_train,label = y_train)\n",
    "\n",
    "dtest = xgb.DMatrix(data= X_test,label=y_test)\n",
    "\n",
    "params = { 'max_depth':6,\n",
    "           'eta': 0.1,  # learning_rate\n",
    "           'objective':'binary:logistic', \n",
    "           'eval_metric':'logloss',\n",
    "#          'silent' : 0,  # 출력메시지 간략화\n",
    "#           'verbosity':0\n",
    "        }\n",
    "num_rounds = 400  # 부스팅 반복 횟수\n",
    "\n",
    "\n",
    "\n",
    "# train 데이터 셋은 ‘train’ , evaluation 데이터 셋은 ‘eval'로 명기\n",
    "wlist = [(dtrain,'train'),(dtest,'eval') ] # eval 평가용\n",
    "\n",
    "xgb_model = xgb.train(params =params,\n",
    "                     dtrain = dtrain,\n",
    "                     num_boost_round = num_rounds,\n",
    "                     early_stopping_rounds = 100, #조기종료 설정 # 너무 낮게 설명하면 최소 오차를 찾지 못함\n",
    "                     evals = wlist)\n",
    "\n",
    "\n",
    "# 211이후 100번 더 반복 동안 성능 평가 지수가 향상되지 못해서 학습 종료 - 단 311까지 학습을 종료한 모델을 사용\n",
    "# 211이 best여도 311까지는 학습을 해야 성능을 높일 수 있음"
   ]
  },
  {
   "cell_type": "code",
   "execution_count": 100,
   "id": "de9c87a6",
   "metadata": {},
   "outputs": [
    {
     "name": "stdout",
     "output_type": "stream",
     "text": [
      "predict( ) 수행 결과값을 10개만 표시, 예측 확률 값으로 표시됨\n",
      "[0.001 0.008 0.99  0.008 0.003 0.001 0.002 0.039 0.    0.   ]\n"
     ]
    }
   ],
   "source": [
    "pred_probs = xgb_model.predict(dtest)\n",
    "\n",
    "\n",
    "print('predict( ) 수행 결과값을 10개만 표시, 예측 확률 값으로 표시됨')\n",
    "print(np.round(pred_probs[:10],3))"
   ]
  },
  {
   "cell_type": "code",
   "execution_count": 101,
   "id": "98365a62",
   "metadata": {},
   "outputs": [
    {
     "name": "stdout",
     "output_type": "stream",
     "text": [
      "[0 0 1 0 0 0 0 0 0 0]\n"
     ]
    }
   ],
   "source": [
    "# 예측 확률로 예측값이 반환 되므로 임계값을 정해 0또는 1로 변환해야 함\n",
    "\n",
    "preds = [1 if x > 0.5 else 0 for x in pred_probs]\n",
    "\n",
    "print(np.round(preds[:10],3))"
   ]
  },
  {
   "cell_type": "code",
   "execution_count": 102,
   "id": "22c495a3",
   "metadata": {},
   "outputs": [
    {
     "data": {
      "text/plain": [
       "<AxesSubplot:title={'center':'Feature importance'}, xlabel='F score', ylabel='Features'>"
      ]
     },
     "execution_count": 102,
     "metadata": {},
     "output_type": "execute_result"
    },
    {
     "data": {
      "image/png": "[encoded data removed]",
      "text/plain": [
       "<Figure size 720x864 with 1 Axes>"
      ]
     },
     "metadata": {
      "needs_background": "light"
     },
     "output_type": "display_data"
    }
   ],
   "source": [
    "import matplotlib.pyplot as plt\n",
    "%matplotlib inline\n",
    "\n",
    "\n",
    "fig, ax = plt.subplots(figsize=(10, 12)) # 축 반환\n",
    "plot_importance(xgb_model, ax=ax) # 학습이 된 xgb_model과 축\n"
   ]
  },
  {
   "cell_type": "markdown",
   "id": "d0992013",
   "metadata": {},
   "source": [
    "## XGBClassifier 함수"
   ]
  },
  {
   "cell_type": "code",
   "execution_count": 103,
   "id": "cacb2773",
   "metadata": {},
   "outputs": [],
   "source": [
    "# 사이킷런 래퍼 XGBoost 클래스인 XGBClassifier 임포트\n",
    "from xgboost import XGBClassifier\n"
   ]
  },
  {
   "cell_type": "code",
   "execution_count": 104,
   "id": "15e60f97",
   "metadata": {},
   "outputs": [],
   "source": [
    "evals = [(X_test,y_test)]"
   ]
  },
  {
   "cell_type": "code",
   "execution_count": 105,
   "id": "3fa6dd2d",
   "metadata": {},
   "outputs": [],
   "source": [
    "# 모델 객체 인스턴스 생성\n",
    "\n",
    "xgb_wrapper = XGBClassifier(n_estimators=400,learning_rate=0.1,max_depth=3)"
   ]
  },
  {
   "cell_type": "code",
   "execution_count": 106,
   "id": "ca6d56a2",
   "metadata": {},
   "outputs": [
    {
     "name": "stdout",
     "output_type": "stream",
     "text": [
      "[0]\tvalidation_0-logloss:0.62806\n",
      "[1]\tvalidation_0-logloss:0.57505\n",
      "[2]\tvalidation_0-logloss:0.53120\n",
      "[3]\tvalidation_0-logloss:0.49422\n",
      "[4]\tvalidation_0-logloss:0.46336\n",
      "[5]\tvalidation_0-logloss:0.43681\n",
      "[6]\tvalidation_0-logloss:0.41324\n",
      "[7]\tvalidation_0-logloss:0.39328\n",
      "[8]\tvalidation_0-logloss:0.37478\n",
      "[9]\tvalidation_0-logloss:0.35888\n",
      "[10]\tvalidation_0-logloss:0.34515\n",
      "[11]\tvalidation_0-logloss:0.33294\n",
      "[12]\tvalidation_0-logloss:0.32191\n",
      "[13]\tvalidation_0-logloss:0.31220\n",
      "[14]\tvalidation_0-logloss:0.30362\n",
      "[15]\tvalidation_0-logloss:0.29606\n",
      "[16]\tvalidation_0-logloss:0.28970\n",
      "[17]\tvalidation_0-logloss:0.28409\n",
      "[18]\tvalidation_0-logloss:0.27825\n",
      "[19]\tvalidation_0-logloss:0.27367\n",
      "[20]\tvalidation_0-logloss:0.26884\n",
      "[21]\tvalidation_0-logloss:0.26470\n",
      "[22]\tvalidation_0-logloss:0.26070\n",
      "[23]\tvalidation_0-logloss:0.25677\n",
      "[24]\tvalidation_0-logloss:0.25335\n",
      "[25]\tvalidation_0-logloss:0.25082\n",
      "[26]\tvalidation_0-logloss:0.24830\n",
      "[27]\tvalidation_0-logloss:0.24608\n",
      "[28]\tvalidation_0-logloss:0.24388\n",
      "[29]\tvalidation_0-logloss:0.24156\n",
      "[30]\tvalidation_0-logloss:0.23984\n",
      "[31]\tvalidation_0-logloss:0.23737\n",
      "[32]\tvalidation_0-logloss:0.23549\n",
      "[33]\tvalidation_0-logloss:0.23412\n",
      "[34]\tvalidation_0-logloss:0.23221\n",
      "[35]\tvalidation_0-logloss:0.23067\n",
      "[36]\tvalidation_0-logloss:0.22922\n",
      "[37]\tvalidation_0-logloss:0.22740\n",
      "[38]\tvalidation_0-logloss:0.22632\n",
      "[39]\tvalidation_0-logloss:0.22521\n",
      "[40]\tvalidation_0-logloss:0.22444\n",
      "[41]\tvalidation_0-logloss:0.22333\n",
      "[42]\tvalidation_0-logloss:0.22247\n",
      "[43]\tvalidation_0-logloss:0.22142\n",
      "[44]\tvalidation_0-logloss:0.22035\n",
      "[45]\tvalidation_0-logloss:0.21913\n",
      "[46]\tvalidation_0-logloss:0.21850\n"
     ]
    },
    {
     "name": "stderr",
     "output_type": "stream",
     "text": [
      "D:\\anaconda3\\lib\\site-packages\\xgboost\\sklearn.py:888: UserWarning: The use of label encoder in XGBClassifier is deprecated and will be removed in a future release. To remove this warning, do the following: 1) Pass option use_label_encoder=False when constructing XGBClassifier object; and 2) Encode your labels (y) as integers starting with 0, i.e. 0, 1, 2, ..., [num_class - 1].\n",
      "  warnings.warn(label_encoder_deprecation_msg, UserWarning)\n",
      "D:\\anaconda3\\lib\\site-packages\\sklearn\\utils\\validation.py:63: DataConversionWarning: A column-vector y was passed when a 1d array was expected. Please change the shape of y to (n_samples, ), for example using ravel().\n",
      "  return f(*args, **kwargs)\n"
     ]
    },
    {
     "name": "stdout",
     "output_type": "stream",
     "text": [
      "[47]\tvalidation_0-logloss:0.21767\n",
      "[48]\tvalidation_0-logloss:0.21680\n",
      "[49]\tvalidation_0-logloss:0.21617\n",
      "[50]\tvalidation_0-logloss:0.21534\n",
      "[51]\tvalidation_0-logloss:0.21438\n",
      "[52]\tvalidation_0-logloss:0.21369\n",
      "[53]\tvalidation_0-logloss:0.21300\n",
      "[54]\tvalidation_0-logloss:0.21213\n",
      "[55]\tvalidation_0-logloss:0.21161\n",
      "[56]\tvalidation_0-logloss:0.21084\n",
      "[57]\tvalidation_0-logloss:0.21015\n",
      "[58]\tvalidation_0-logloss:0.20951\n",
      "[59]\tvalidation_0-logloss:0.20924\n",
      "[60]\tvalidation_0-logloss:0.20849\n",
      "[61]\tvalidation_0-logloss:0.20788\n",
      "[62]\tvalidation_0-logloss:0.20753\n",
      "[63]\tvalidation_0-logloss:0.20733\n",
      "[64]\tvalidation_0-logloss:0.20645\n",
      "[65]\tvalidation_0-logloss:0.20599\n",
      "[66]\tvalidation_0-logloss:0.20585\n",
      "[67]\tvalidation_0-logloss:0.20556\n",
      "[68]\tvalidation_0-logloss:0.20502\n",
      "[69]\tvalidation_0-logloss:0.20444\n",
      "[70]\tvalidation_0-logloss:0.20383\n",
      "[71]\tvalidation_0-logloss:0.20362\n",
      "[72]\tvalidation_0-logloss:0.20292\n",
      "[73]\tvalidation_0-logloss:0.20265\n",
      "[74]\tvalidation_0-logloss:0.20128\n",
      "[75]\tvalidation_0-logloss:0.20110\n",
      "[76]\tvalidation_0-logloss:0.20100\n",
      "[77]\tvalidation_0-logloss:0.20081\n",
      "[78]\tvalidation_0-logloss:0.20046\n",
      "[79]\tvalidation_0-logloss:0.20019\n",
      "[80]\tvalidation_0-logloss:0.19994\n",
      "[81]\tvalidation_0-logloss:0.19966\n",
      "[82]\tvalidation_0-logloss:0.19946\n",
      "[83]\tvalidation_0-logloss:0.19903\n",
      "[84]\tvalidation_0-logloss:0.19882\n",
      "[85]\tvalidation_0-logloss:0.19822\n",
      "[86]\tvalidation_0-logloss:0.19774\n",
      "[87]\tvalidation_0-logloss:0.19748\n",
      "[88]\tvalidation_0-logloss:0.19736\n",
      "[89]\tvalidation_0-logloss:0.19729\n",
      "[90]\tvalidation_0-logloss:0.19687\n",
      "[91]\tvalidation_0-logloss:0.19676\n",
      "[92]\tvalidation_0-logloss:0.19640\n",
      "[93]\tvalidation_0-logloss:0.19627\n",
      "[94]\tvalidation_0-logloss:0.19620\n",
      "[95]\tvalidation_0-logloss:0.19573\n",
      "[96]\tvalidation_0-logloss:0.19534\n",
      "[97]\tvalidation_0-logloss:0.19513\n",
      "[98]\tvalidation_0-logloss:0.19492\n",
      "[99]\tvalidation_0-logloss:0.19466\n",
      "[100]\tvalidation_0-logloss:0.19416\n",
      "[101]\tvalidation_0-logloss:0.19411\n",
      "[102]\tvalidation_0-logloss:0.19403\n",
      "[103]\tvalidation_0-logloss:0.19373\n",
      "[104]\tvalidation_0-logloss:0.19339\n",
      "[105]\tvalidation_0-logloss:0.19272\n",
      "[106]\tvalidation_0-logloss:0.19248\n",
      "[107]\tvalidation_0-logloss:0.19227\n",
      "[108]\tvalidation_0-logloss:0.19206\n",
      "[109]\tvalidation_0-logloss:0.19156\n",
      "[110]\tvalidation_0-logloss:0.19150\n",
      "[111]\tvalidation_0-logloss:0.19124\n",
      "[112]\tvalidation_0-logloss:0.19105\n",
      "[113]\tvalidation_0-logloss:0.19100\n",
      "[114]\tvalidation_0-logloss:0.19079\n",
      "[115]\tvalidation_0-logloss:0.19061\n",
      "[116]\tvalidation_0-logloss:0.19031\n",
      "[117]\tvalidation_0-logloss:0.19004\n",
      "[118]\tvalidation_0-logloss:0.18985\n",
      "[119]\tvalidation_0-logloss:0.18979\n",
      "[120]\tvalidation_0-logloss:0.18926\n",
      "[121]\tvalidation_0-logloss:0.18916\n",
      "[122]\tvalidation_0-logloss:0.18896\n",
      "[123]\tvalidation_0-logloss:0.18901\n",
      "[124]\tvalidation_0-logloss:0.18888\n",
      "[125]\tvalidation_0-logloss:0.18882\n",
      "[126]\tvalidation_0-logloss:0.18878\n",
      "[127]\tvalidation_0-logloss:0.18852\n",
      "[128]\tvalidation_0-logloss:0.18802\n",
      "[129]\tvalidation_0-logloss:0.18789\n",
      "[130]\tvalidation_0-logloss:0.18781\n",
      "[131]\tvalidation_0-logloss:0.18756\n",
      "[132]\tvalidation_0-logloss:0.18705\n",
      "[133]\tvalidation_0-logloss:0.18673\n",
      "[134]\tvalidation_0-logloss:0.18653\n",
      "[135]\tvalidation_0-logloss:0.18650\n",
      "[136]\tvalidation_0-logloss:0.18662\n",
      "[137]\tvalidation_0-logloss:0.18659\n",
      "[138]\tvalidation_0-logloss:0.18661\n",
      "[139]\tvalidation_0-logloss:0.18667\n",
      "[140]\tvalidation_0-logloss:0.18660\n",
      "[141]\tvalidation_0-logloss:0.18634\n",
      "[142]\tvalidation_0-logloss:0.18588\n",
      "[143]\tvalidation_0-logloss:0.18571\n",
      "[144]\tvalidation_0-logloss:0.18589\n",
      "[145]\tvalidation_0-logloss:0.18572\n",
      "[146]\tvalidation_0-logloss:0.18570\n",
      "[147]\tvalidation_0-logloss:0.18546\n",
      "[148]\tvalidation_0-logloss:0.18550\n",
      "[149]\tvalidation_0-logloss:0.18543\n",
      "[150]\tvalidation_0-logloss:0.18507\n",
      "[151]\tvalidation_0-logloss:0.18502\n",
      "[152]\tvalidation_0-logloss:0.18482\n",
      "[153]\tvalidation_0-logloss:0.18457\n",
      "[154]\tvalidation_0-logloss:0.18447\n",
      "[155]\tvalidation_0-logloss:0.18445\n",
      "[156]\tvalidation_0-logloss:0.18441\n",
      "[157]\tvalidation_0-logloss:0.18421\n",
      "[158]\tvalidation_0-logloss:0.18415\n",
      "[159]\tvalidation_0-logloss:0.18435\n",
      "[160]\tvalidation_0-logloss:0.18397\n",
      "[161]\tvalidation_0-logloss:0.18386\n",
      "[162]\tvalidation_0-logloss:0.18393\n",
      "[163]\tvalidation_0-logloss:0.18377\n",
      "[164]\tvalidation_0-logloss:0.18356\n",
      "[165]\tvalidation_0-logloss:0.18330\n",
      "[166]\tvalidation_0-logloss:0.18310\n",
      "[167]\tvalidation_0-logloss:0.18306\n",
      "[168]\tvalidation_0-logloss:0.18298\n",
      "[169]\tvalidation_0-logloss:0.18284\n",
      "[170]\tvalidation_0-logloss:0.18288\n",
      "[171]\tvalidation_0-logloss:0.18265\n",
      "[172]\tvalidation_0-logloss:0.18260\n",
      "[173]\tvalidation_0-logloss:0.18265\n",
      "[174]\tvalidation_0-logloss:0.18249\n",
      "[175]\tvalidation_0-logloss:0.18244\n",
      "[176]\tvalidation_0-logloss:0.18267\n",
      "[177]\tvalidation_0-logloss:0.18274\n",
      "[178]\tvalidation_0-logloss:0.18276\n",
      "[179]\tvalidation_0-logloss:0.18263\n",
      "[180]\tvalidation_0-logloss:0.18239\n",
      "[181]\tvalidation_0-logloss:0.18214\n",
      "[182]\tvalidation_0-logloss:0.18219\n",
      "[183]\tvalidation_0-logloss:0.18165\n",
      "[184]\tvalidation_0-logloss:0.18158\n",
      "[185]\tvalidation_0-logloss:0.18152\n",
      "[186]\tvalidation_0-logloss:0.18160\n",
      "[187]\tvalidation_0-logloss:0.18157\n",
      "[188]\tvalidation_0-logloss:0.18155\n",
      "[189]\tvalidation_0-logloss:0.18153\n",
      "[190]\tvalidation_0-logloss:0.18125\n",
      "[191]\tvalidation_0-logloss:0.18122\n",
      "[192]\tvalidation_0-logloss:0.18131\n",
      "[193]\tvalidation_0-logloss:0.18121\n",
      "[194]\tvalidation_0-logloss:0.18118\n",
      "[195]\tvalidation_0-logloss:0.18110\n",
      "[196]\tvalidation_0-logloss:0.18100\n",
      "[197]\tvalidation_0-logloss:0.18096\n",
      "[198]\tvalidation_0-logloss:0.18094\n",
      "[199]\tvalidation_0-logloss:0.18091\n",
      "[200]\tvalidation_0-logloss:0.18090\n",
      "[201]\tvalidation_0-logloss:0.18091\n",
      "[202]\tvalidation_0-logloss:0.18087\n",
      "[203]\tvalidation_0-logloss:0.18061\n",
      "[204]\tvalidation_0-logloss:0.18024\n",
      "[205]\tvalidation_0-logloss:0.18018\n",
      "[206]\tvalidation_0-logloss:0.17980\n",
      "[207]\tvalidation_0-logloss:0.17973\n",
      "[208]\tvalidation_0-logloss:0.17976\n",
      "[209]\tvalidation_0-logloss:0.17976\n",
      "[210]\tvalidation_0-logloss:0.17979\n",
      "[211]\tvalidation_0-logloss:0.17980\n",
      "[212]\tvalidation_0-logloss:0.17993\n",
      "[213]\tvalidation_0-logloss:0.17972\n",
      "[214]\tvalidation_0-logloss:0.17954\n",
      "[215]\tvalidation_0-logloss:0.17950\n",
      "[216]\tvalidation_0-logloss:0.17961\n",
      "[217]\tvalidation_0-logloss:0.17971\n",
      "[218]\tvalidation_0-logloss:0.17969\n",
      "[219]\tvalidation_0-logloss:0.17965\n",
      "[220]\tvalidation_0-logloss:0.17960\n",
      "[221]\tvalidation_0-logloss:0.17961\n",
      "[222]\tvalidation_0-logloss:0.17960\n",
      "[223]\tvalidation_0-logloss:0.17951\n",
      "[224]\tvalidation_0-logloss:0.17950\n",
      "[225]\tvalidation_0-logloss:0.17947\n",
      "[226]\tvalidation_0-logloss:0.17919\n",
      "[227]\tvalidation_0-logloss:0.17908\n",
      "[228]\tvalidation_0-logloss:0.17911\n",
      "[229]\tvalidation_0-logloss:0.17919\n",
      "[230]\tvalidation_0-logloss:0.17889\n",
      "[231]\tvalidation_0-logloss:0.17890\n",
      "[232]\tvalidation_0-logloss:0.17870\n",
      "[233]\tvalidation_0-logloss:0.17861\n",
      "[234]\tvalidation_0-logloss:0.17849\n",
      "[235]\tvalidation_0-logloss:0.17842\n",
      "[236]\tvalidation_0-logloss:0.17847\n",
      "[237]\tvalidation_0-logloss:0.17809\n",
      "[238]\tvalidation_0-logloss:0.17811\n",
      "[239]\tvalidation_0-logloss:0.17805\n",
      "[240]\tvalidation_0-logloss:0.17808\n",
      "[241]\tvalidation_0-logloss:0.17822\n",
      "[242]\tvalidation_0-logloss:0.17821\n",
      "[243]\tvalidation_0-logloss:0.17819\n",
      "[244]\tvalidation_0-logloss:0.17817\n",
      "[245]\tvalidation_0-logloss:0.17825\n",
      "[246]\tvalidation_0-logloss:0.17828\n",
      "[247]\tvalidation_0-logloss:0.17827\n",
      "[248]\tvalidation_0-logloss:0.17824\n",
      "[249]\tvalidation_0-logloss:0.17826\n",
      "[250]\tvalidation_0-logloss:0.17826\n",
      "[251]\tvalidation_0-logloss:0.17826\n",
      "[252]\tvalidation_0-logloss:0.17805\n",
      "[253]\tvalidation_0-logloss:0.17788\n",
      "[254]\tvalidation_0-logloss:0.17775\n",
      "[255]\tvalidation_0-logloss:0.17772\n",
      "[256]\tvalidation_0-logloss:0.17766\n",
      "[257]\tvalidation_0-logloss:0.17767\n",
      "[258]\tvalidation_0-logloss:0.17761\n",
      "[259]\tvalidation_0-logloss:0.17758\n",
      "[260]\tvalidation_0-logloss:0.17771\n",
      "[261]\tvalidation_0-logloss:0.17761\n",
      "[262]\tvalidation_0-logloss:0.17763\n",
      "[263]\tvalidation_0-logloss:0.17773\n",
      "[264]\tvalidation_0-logloss:0.17773\n",
      "[265]\tvalidation_0-logloss:0.17762\n",
      "[266]\tvalidation_0-logloss:0.17761\n",
      "[267]\tvalidation_0-logloss:0.17757\n",
      "[268]\tvalidation_0-logloss:0.17744\n",
      "[269]\tvalidation_0-logloss:0.17735\n",
      "[270]\tvalidation_0-logloss:0.17744\n",
      "[271]\tvalidation_0-logloss:0.17746\n",
      "[272]\tvalidation_0-logloss:0.17744\n",
      "[273]\tvalidation_0-logloss:0.17748\n",
      "[274]\tvalidation_0-logloss:0.17753\n",
      "[275]\tvalidation_0-logloss:0.17751\n",
      "[276]\tvalidation_0-logloss:0.17757\n",
      "[277]\tvalidation_0-logloss:0.17744\n",
      "[278]\tvalidation_0-logloss:0.17714\n",
      "[279]\tvalidation_0-logloss:0.17727\n",
      "[280]\tvalidation_0-logloss:0.17699\n",
      "[281]\tvalidation_0-logloss:0.17697\n",
      "[282]\tvalidation_0-logloss:0.17694\n"
     ]
    },
    {
     "name": "stdout",
     "output_type": "stream",
     "text": [
      "[283]\tvalidation_0-logloss:0.17686\n",
      "[284]\tvalidation_0-logloss:0.17675\n",
      "[285]\tvalidation_0-logloss:0.17666\n",
      "[286]\tvalidation_0-logloss:0.17665\n",
      "[287]\tvalidation_0-logloss:0.17672\n",
      "[288]\tvalidation_0-logloss:0.17673\n",
      "[289]\tvalidation_0-logloss:0.17660\n",
      "[290]\tvalidation_0-logloss:0.17661\n",
      "[291]\tvalidation_0-logloss:0.17667\n",
      "[292]\tvalidation_0-logloss:0.17663\n",
      "[293]\tvalidation_0-logloss:0.17642\n",
      "[294]\tvalidation_0-logloss:0.17633\n",
      "[295]\tvalidation_0-logloss:0.17621\n",
      "[296]\tvalidation_0-logloss:0.17625\n",
      "[297]\tvalidation_0-logloss:0.17624\n",
      "[298]\tvalidation_0-logloss:0.17628\n",
      "[299]\tvalidation_0-logloss:0.17613\n",
      "[300]\tvalidation_0-logloss:0.17615\n",
      "[301]\tvalidation_0-logloss:0.17611\n",
      "[302]\tvalidation_0-logloss:0.17606\n",
      "[303]\tvalidation_0-logloss:0.17604\n",
      "[304]\tvalidation_0-logloss:0.17596\n",
      "[305]\tvalidation_0-logloss:0.17594\n",
      "[306]\tvalidation_0-logloss:0.17594\n",
      "[307]\tvalidation_0-logloss:0.17580\n",
      "[308]\tvalidation_0-logloss:0.17577\n",
      "[309]\tvalidation_0-logloss:0.17581\n",
      "[310]\tvalidation_0-logloss:0.17581\n",
      "[311]\tvalidation_0-logloss:0.17590\n",
      "[312]\tvalidation_0-logloss:0.17577\n",
      "[313]\tvalidation_0-logloss:0.17565\n",
      "[314]\tvalidation_0-logloss:0.17559\n",
      "[315]\tvalidation_0-logloss:0.17566\n",
      "[316]\tvalidation_0-logloss:0.17557\n",
      "[317]\tvalidation_0-logloss:0.17563\n",
      "[318]\tvalidation_0-logloss:0.17573\n",
      "[319]\tvalidation_0-logloss:0.17575\n",
      "[320]\tvalidation_0-logloss:0.17577\n",
      "[321]\tvalidation_0-logloss:0.17571\n",
      "[322]\tvalidation_0-logloss:0.17571\n",
      "[323]\tvalidation_0-logloss:0.17577\n",
      "[324]\tvalidation_0-logloss:0.17583\n",
      "[325]\tvalidation_0-logloss:0.17570\n",
      "[326]\tvalidation_0-logloss:0.17580\n",
      "[327]\tvalidation_0-logloss:0.17573\n",
      "[328]\tvalidation_0-logloss:0.17569\n",
      "[329]\tvalidation_0-logloss:0.17572\n",
      "[330]\tvalidation_0-logloss:0.17554\n",
      "[331]\tvalidation_0-logloss:0.17566\n",
      "[332]\tvalidation_0-logloss:0.17574\n",
      "[333]\tvalidation_0-logloss:0.17540\n",
      "[334]\tvalidation_0-logloss:0.17553\n",
      "[335]\tvalidation_0-logloss:0.17555\n",
      "[336]\tvalidation_0-logloss:0.17555\n",
      "[337]\tvalidation_0-logloss:0.17558\n",
      "[338]\tvalidation_0-logloss:0.17562\n",
      "[339]\tvalidation_0-logloss:0.17564\n",
      "[340]\tvalidation_0-logloss:0.17555\n",
      "[341]\tvalidation_0-logloss:0.17541\n",
      "[342]\tvalidation_0-logloss:0.17535\n",
      "[343]\tvalidation_0-logloss:0.17540\n",
      "[344]\tvalidation_0-logloss:0.17543\n",
      "[345]\tvalidation_0-logloss:0.17542\n",
      "[346]\tvalidation_0-logloss:0.17540\n",
      "[347]\tvalidation_0-logloss:0.17532\n",
      "[348]\tvalidation_0-logloss:0.17532\n",
      "[349]\tvalidation_0-logloss:0.17535\n",
      "[350]\tvalidation_0-logloss:0.17530\n",
      "[351]\tvalidation_0-logloss:0.17535\n",
      "[352]\tvalidation_0-logloss:0.17545\n",
      "[353]\tvalidation_0-logloss:0.17550\n",
      "[354]\tvalidation_0-logloss:0.17548\n",
      "[355]\tvalidation_0-logloss:0.17552\n",
      "[356]\tvalidation_0-logloss:0.17546\n",
      "[357]\tvalidation_0-logloss:0.17541\n",
      "[358]\tvalidation_0-logloss:0.17536\n",
      "[359]\tvalidation_0-logloss:0.17542\n",
      "[360]\tvalidation_0-logloss:0.17532\n",
      "[361]\tvalidation_0-logloss:0.17536\n",
      "[362]\tvalidation_0-logloss:0.17539\n",
      "[363]\tvalidation_0-logloss:0.17532\n",
      "[364]\tvalidation_0-logloss:0.17513\n",
      "[365]\tvalidation_0-logloss:0.17507\n",
      "[366]\tvalidation_0-logloss:0.17505\n",
      "[367]\tvalidation_0-logloss:0.17516\n",
      "[368]\tvalidation_0-logloss:0.17518\n",
      "[369]\tvalidation_0-logloss:0.17520\n",
      "[370]\tvalidation_0-logloss:0.17537\n",
      "[371]\tvalidation_0-logloss:0.17545\n",
      "[372]\tvalidation_0-logloss:0.17519\n",
      "[373]\tvalidation_0-logloss:0.17503\n",
      "[374]\tvalidation_0-logloss:0.17509\n",
      "[375]\tvalidation_0-logloss:0.17510\n",
      "[376]\tvalidation_0-logloss:0.17513\n",
      "[377]\tvalidation_0-logloss:0.17519\n",
      "[378]\tvalidation_0-logloss:0.17524\n",
      "[379]\tvalidation_0-logloss:0.17517\n",
      "[380]\tvalidation_0-logloss:0.17517\n",
      "[381]\tvalidation_0-logloss:0.17520\n",
      "[382]\tvalidation_0-logloss:0.17520\n",
      "[383]\tvalidation_0-logloss:0.17495\n",
      "[384]\tvalidation_0-logloss:0.17496\n",
      "[385]\tvalidation_0-logloss:0.17512\n",
      "[386]\tvalidation_0-logloss:0.17508\n",
      "[387]\tvalidation_0-logloss:0.17510\n",
      "[388]\tvalidation_0-logloss:0.17511\n",
      "[389]\tvalidation_0-logloss:0.17489\n",
      "[390]\tvalidation_0-logloss:0.17489\n",
      "[391]\tvalidation_0-logloss:0.17489\n",
      "[392]\tvalidation_0-logloss:0.17505\n",
      "[393]\tvalidation_0-logloss:0.17501\n",
      "[394]\tvalidation_0-logloss:0.17503\n",
      "[395]\tvalidation_0-logloss:0.17494\n",
      "[396]\tvalidation_0-logloss:0.17490\n",
      "[397]\tvalidation_0-logloss:0.17489\n",
      "[398]\tvalidation_0-logloss:0.17485\n",
      "[399]\tvalidation_0-logloss:0.17488\n"
     ]
    },
    {
     "data": {
      "text/plain": [
       "XGBClassifier(base_score=0.5, booster='gbtree', colsample_bylevel=1,\n",
       "              colsample_bynode=1, colsample_bytree=1, gamma=0, gpu_id=-1,\n",
       "              importance_type='gain', interaction_constraints='',\n",
       "              learning_rate=0.1, max_delta_step=0, max_depth=3,\n",
       "              min_child_weight=1, missing=nan, monotone_constraints='()',\n",
       "              n_estimators=400, n_jobs=12, num_parallel_tree=1, random_state=0,\n",
       "              reg_alpha=0, reg_lambda=1, scale_pos_weight=1, subsample=1,\n",
       "              tree_method='exact', validate_parameters=1, verbosity=None)"
      ]
     },
     "execution_count": 106,
     "metadata": {},
     "output_type": "execute_result"
    }
   ],
   "source": [
    "xgb_wrapper.fit(X_train,y_train,early_stopping_rounds = 100,\n",
    "               eval_set = evals, eval_metric='logloss',verbose=True)"
   ]
  },
  {
   "cell_type": "code",
   "execution_count": 107,
   "id": "3b1ac1a4",
   "metadata": {},
   "outputs": [],
   "source": [
    "w_preds = xgb_wrapper.predict(X_test)\n",
    "w_pred_proba = xgb_wrapper.predict_proba(X_test)[:,1]\n"
   ]
  },
  {
   "cell_type": "code",
   "execution_count": 108,
   "id": "bbd37e05",
   "metadata": {},
   "outputs": [
    {
     "name": "stdout",
     "output_type": "stream",
     "text": [
      "오차 행렬\n",
      "[[2075   50]\n",
      " [ 125  282]]\n",
      "정확도: 0.9309, 정밀도: 0.8494, 재현율: 0.6929,     F1: 0.7632\n"
     ]
    }
   ],
   "source": [
    "get_clf_eval(y_test,w_preds)\n"
   ]
  },
  {
   "cell_type": "code",
   "execution_count": 109,
   "id": "a4476de8",
   "metadata": {},
   "outputs": [
    {
     "data": {
      "text/plain": [
       "array([[9.9720985e-01, 2.7901821e-03],\n",
       "       [9.8048323e-01, 1.9516788e-02],\n",
       "       [1.9200444e-02, 9.8079956e-01],\n",
       "       [9.8662227e-01, 1.3377710e-02],\n",
       "       [9.7391582e-01, 2.6084198e-02],\n",
       "       [9.9732763e-01, 2.6723885e-03],\n",
       "       [9.8710078e-01, 1.2899218e-02],\n",
       "       [9.6275920e-01, 3.7240788e-02],\n",
       "       [9.9897408e-01, 1.0259096e-03],\n",
       "       [9.9988645e-01, 1.1354437e-04]], dtype=float32)"
      ]
     },
     "execution_count": 109,
     "metadata": {},
     "output_type": "execute_result"
    }
   ],
   "source": [
    "w_pred_proba = xgb_wrapper.predict_proba(X_test)\n",
    "\n",
    "pred_proba = w_pred_proba\n",
    "\n",
    "pred_proba[:10]"
   ]
  },
  {
   "cell_type": "code",
   "execution_count": 110,
   "id": "b717d6aa",
   "metadata": {},
   "outputs": [],
   "source": [
    "# 테스트를 수행할 모든 임곗값을 리스트 객체로 저장. \n",
    "thresholds = [0.29,0.32,0.33,0.37, 0.4, 0.45, 0.50, 0.55, 0.60]"
   ]
  },
  {
   "cell_type": "code",
   "execution_count": 111,
   "id": "21bfa8be",
   "metadata": {},
   "outputs": [
    {
     "name": "stdout",
     "output_type": "stream",
     "text": [
      "\n",
      "임곗값: 0.29\n",
      "오차 행렬\n",
      "[[2022  103]\n",
      " [  90  317]]\n",
      "정확도: 0.9238, 정밀도: 0.7548, 재현율: 0.7789,     F1: 0.7666\n",
      "\n",
      "임곗값: 0.32\n",
      "오차 행렬\n",
      "[[2029   96]\n",
      " [  94  313]]\n",
      "정확도: 0.9250, 정밀도: 0.7653, 재현율: 0.7690,     F1: 0.7672\n",
      "\n",
      "임곗값: 0.33\n",
      "오차 행렬\n",
      "[[2033   92]\n",
      " [  95  312]]\n",
      "정확도: 0.9261, 정밀도: 0.7723, 재현율: 0.7666,     F1: 0.7694\n",
      "\n",
      "임곗값: 0.37\n",
      "오차 행렬\n",
      "[[2046   79]\n",
      " [ 101  306]]\n",
      "정확도: 0.9289, 정밀도: 0.7948, 재현율: 0.7518,     F1: 0.7727\n",
      "\n",
      "임곗값: 0.4\n",
      "오차 행렬\n",
      "[[2055   70]\n",
      " [ 111  296]]\n",
      "정확도: 0.9285, 정밀도: 0.8087, 재현율: 0.7273,     F1: 0.7658\n",
      "\n",
      "임곗값: 0.45\n",
      "오차 행렬\n",
      "[[2066   59]\n",
      " [ 116  291]]\n",
      "정확도: 0.9309, 정밀도: 0.8314, 재현율: 0.7150,     F1: 0.7688\n",
      "\n",
      "임곗값: 0.5\n",
      "오차 행렬\n",
      "[[2075   50]\n",
      " [ 125  282]]\n",
      "정확도: 0.9309, 정밀도: 0.8494, 재현율: 0.6929,     F1: 0.7632\n",
      "\n",
      "임곗값: 0.55\n",
      "오차 행렬\n",
      "[[2081   44]\n",
      " [ 132  275]]\n",
      "정확도: 0.9305, 정밀도: 0.8621, 재현율: 0.6757,     F1: 0.7576\n",
      "\n",
      "임곗값: 0.6\n",
      "오차 행렬\n",
      "[[2085   40]\n",
      " [ 136  271]]\n",
      "정확도: 0.9305, 정밀도: 0.8714, 재현율: 0.6658,     F1: 0.7549\n"
     ]
    }
   ],
   "source": [
    "get_eval_by_threshold(y_test,pred_proba[:,1].reshape(-1,1),thresholds)"
   ]
  },
  {
   "cell_type": "code",
   "execution_count": 112,
   "id": "c5b086d6",
   "metadata": {},
   "outputs": [],
   "source": [
    "from sklearn.metrics import precision_recall_curve\n",
    "\n",
    "# 레이블 값이 1일때의 예측 확률을 추출 \n",
    "pred_proba_class1 = xgb_wrapper.predict_proba(X_test)[:, 1] \n",
    "\n",
    "# 실제값 데이터 셋과 레이블 값이 1일 때의 예측 확률을 precision_recall_curve 인자로 입력 \n",
    "precisions, recalls, thresholds = precision_recall_curve(y_test, pred_proba_class1)"
   ]
  },
  {
   "cell_type": "code",
   "execution_count": 113,
   "id": "e583046a",
   "metadata": {},
   "outputs": [
    {
     "data": {
      "image/png": "[encoded data removed]",
      "text/plain": [
       "<Figure size 576x432 with 1 Axes>"
      ]
     },
     "metadata": {
      "needs_background": "light"
     },
     "output_type": "display_data"
    }
   ],
   "source": [
    "precision_recall_curve_plot(y_test, xgb_wrapper.predict_proba(X_test)[:, 1]  )"
   ]
  }
 ],
 "metadata": {
  "kernelspec": {
   "display_name": "Python 3",
   "language": "python",
   "name": "python3"
  },
  "language_info": {
   "codemirror_mode": {
    "name": "ipython",
    "version": 3
   },
   "file_extension": ".py",
   "mimetype": "text/x-python",
   "name": "python",
   "nbconvert_exporter": "python",
   "pygments_lexer": "ipython3",
   "version": "3.8.8"
  }
 },
 "nbformat": 4,
 "nbformat_minor": 5
}
