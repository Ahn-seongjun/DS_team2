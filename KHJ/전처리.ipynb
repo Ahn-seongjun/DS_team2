{
 "cells": [
  {
   "cell_type": "code",
   "execution_count": 43,
   "id": "d03aace3",
   "metadata": {},
   "outputs": [],
   "source": [
    "\n",
    "import matplotlib.pyplot as plt\n",
    "import numpy as np\n",
    "import pandas as pd\n",
    "%matplotlib inline\n",
    "import seaborn as sns"
   ]
  },
  {
   "cell_type": "code",
   "execution_count": 44,
   "id": "258eeb36",
   "metadata": {},
   "outputs": [],
   "source": [
    "# 한글 문제\n",
    "# matplotlit의 기본 폰트에서 한글 지원되지 않기 때문에\n",
    "# matplotlib의 폰트 변경 필요\n",
    "import platform\n",
    "\n",
    "from matplotlib import font_manager, rc\n",
    "plt.rcParams['axes.unicode_minus'] = False\n",
    "\n",
    "if platform.system() == 'Darwin':  # 맥OS \n",
    "    rc('font', family='AppleGothic')\n",
    "elif platform.system() == 'Windows':  # 윈도우\n",
    "    path = \"c:/Windows/Fonts/malgun.ttf\"\n",
    "    font_name = font_manager.FontProperties(fname=path).get_name()\n",
    "    rc('font', family=font_name)\n",
    "else:\n",
    "    print('Unknown system...  sorry~~~')"
   ]
  },
  {
   "cell_type": "code",
   "execution_count": 45,
   "id": "bf1a8ef7",
   "metadata": {},
   "outputs": [
    {
     "data": {
      "text/html": [
       "<div>\n",
       "<style scoped>\n",
       "    .dataframe tbody tr th:only-of-type {\n",
       "        vertical-align: middle;\n",
       "    }\n",
       "\n",
       "    .dataframe tbody tr th {\n",
       "        vertical-align: top;\n",
       "    }\n",
       "\n",
       "    .dataframe thead th {\n",
       "        text-align: right;\n",
       "    }\n",
       "</style>\n",
       "<table border=\"1\" class=\"dataframe\">\n",
       "  <thead>\n",
       "    <tr style=\"text-align: right;\">\n",
       "      <th></th>\n",
       "      <th>CLIENTNUM</th>\n",
       "      <th>Attrition_Flag</th>\n",
       "      <th>Customer_Age</th>\n",
       "      <th>Gender</th>\n",
       "      <th>Dependent_count</th>\n",
       "      <th>Education_Level</th>\n",
       "      <th>Marital_Status</th>\n",
       "      <th>Income_Category</th>\n",
       "      <th>Card_Category</th>\n",
       "      <th>Months_on_book</th>\n",
       "      <th>...</th>\n",
       "      <th>Credit_Limit</th>\n",
       "      <th>Total_Revolving_Bal</th>\n",
       "      <th>Avg_Open_To_Buy</th>\n",
       "      <th>Total_Amt_Chng_Q4_Q1</th>\n",
       "      <th>Total_Trans_Amt</th>\n",
       "      <th>Total_Trans_Ct</th>\n",
       "      <th>Total_Ct_Chng_Q4_Q1</th>\n",
       "      <th>Avg_Utilization_Ratio</th>\n",
       "      <th>Naive_Bayes_Classifier_Attrition_Flag_Card_Category_Contacts_Count_12_mon_Dependent_count_Education_Level_Months_Inactive_12_mon_1</th>\n",
       "      <th>Naive_Bayes_Classifier_Attrition_Flag_Card_Category_Contacts_Count_12_mon_Dependent_count_Education_Level_Months_Inactive_12_mon_2</th>\n",
       "    </tr>\n",
       "  </thead>\n",
       "  <tbody>\n",
       "    <tr>\n",
       "      <th>0</th>\n",
       "      <td>768805383</td>\n",
       "      <td>Existing Customer</td>\n",
       "      <td>45</td>\n",
       "      <td>M</td>\n",
       "      <td>3</td>\n",
       "      <td>High School</td>\n",
       "      <td>Married</td>\n",
       "      <td>$60K - $80K</td>\n",
       "      <td>Blue</td>\n",
       "      <td>39</td>\n",
       "      <td>...</td>\n",
       "      <td>12691.0</td>\n",
       "      <td>777</td>\n",
       "      <td>11914.0</td>\n",
       "      <td>1.335</td>\n",
       "      <td>1144</td>\n",
       "      <td>42</td>\n",
       "      <td>1.625</td>\n",
       "      <td>0.061</td>\n",
       "      <td>0.000093</td>\n",
       "      <td>0.99991</td>\n",
       "    </tr>\n",
       "    <tr>\n",
       "      <th>1</th>\n",
       "      <td>818770008</td>\n",
       "      <td>Existing Customer</td>\n",
       "      <td>49</td>\n",
       "      <td>F</td>\n",
       "      <td>5</td>\n",
       "      <td>Graduate</td>\n",
       "      <td>Single</td>\n",
       "      <td>Less than $40K</td>\n",
       "      <td>Blue</td>\n",
       "      <td>44</td>\n",
       "      <td>...</td>\n",
       "      <td>8256.0</td>\n",
       "      <td>864</td>\n",
       "      <td>7392.0</td>\n",
       "      <td>1.541</td>\n",
       "      <td>1291</td>\n",
       "      <td>33</td>\n",
       "      <td>3.714</td>\n",
       "      <td>0.105</td>\n",
       "      <td>0.000057</td>\n",
       "      <td>0.99994</td>\n",
       "    </tr>\n",
       "    <tr>\n",
       "      <th>2</th>\n",
       "      <td>713982108</td>\n",
       "      <td>Existing Customer</td>\n",
       "      <td>51</td>\n",
       "      <td>M</td>\n",
       "      <td>3</td>\n",
       "      <td>Graduate</td>\n",
       "      <td>Married</td>\n",
       "      <td>$80K - $120K</td>\n",
       "      <td>Blue</td>\n",
       "      <td>36</td>\n",
       "      <td>...</td>\n",
       "      <td>3418.0</td>\n",
       "      <td>0</td>\n",
       "      <td>3418.0</td>\n",
       "      <td>2.594</td>\n",
       "      <td>1887</td>\n",
       "      <td>20</td>\n",
       "      <td>2.333</td>\n",
       "      <td>0.000</td>\n",
       "      <td>0.000021</td>\n",
       "      <td>0.99998</td>\n",
       "    </tr>\n",
       "    <tr>\n",
       "      <th>3</th>\n",
       "      <td>769911858</td>\n",
       "      <td>Existing Customer</td>\n",
       "      <td>40</td>\n",
       "      <td>F</td>\n",
       "      <td>4</td>\n",
       "      <td>High School</td>\n",
       "      <td>Unknown</td>\n",
       "      <td>Less than $40K</td>\n",
       "      <td>Blue</td>\n",
       "      <td>34</td>\n",
       "      <td>...</td>\n",
       "      <td>3313.0</td>\n",
       "      <td>2517</td>\n",
       "      <td>796.0</td>\n",
       "      <td>1.405</td>\n",
       "      <td>1171</td>\n",
       "      <td>20</td>\n",
       "      <td>2.333</td>\n",
       "      <td>0.760</td>\n",
       "      <td>0.000134</td>\n",
       "      <td>0.99987</td>\n",
       "    </tr>\n",
       "    <tr>\n",
       "      <th>4</th>\n",
       "      <td>709106358</td>\n",
       "      <td>Existing Customer</td>\n",
       "      <td>40</td>\n",
       "      <td>M</td>\n",
       "      <td>3</td>\n",
       "      <td>Uneducated</td>\n",
       "      <td>Married</td>\n",
       "      <td>$60K - $80K</td>\n",
       "      <td>Blue</td>\n",
       "      <td>21</td>\n",
       "      <td>...</td>\n",
       "      <td>4716.0</td>\n",
       "      <td>0</td>\n",
       "      <td>4716.0</td>\n",
       "      <td>2.175</td>\n",
       "      <td>816</td>\n",
       "      <td>28</td>\n",
       "      <td>2.500</td>\n",
       "      <td>0.000</td>\n",
       "      <td>0.000022</td>\n",
       "      <td>0.99998</td>\n",
       "    </tr>\n",
       "  </tbody>\n",
       "</table>\n",
       "<p>5 rows × 23 columns</p>\n",
       "</div>"
      ],
      "text/plain": [
       "   CLIENTNUM     Attrition_Flag  Customer_Age Gender  Dependent_count  \\\n",
       "0  768805383  Existing Customer            45      M                3   \n",
       "1  818770008  Existing Customer            49      F                5   \n",
       "2  713982108  Existing Customer            51      M                3   \n",
       "3  769911858  Existing Customer            40      F                4   \n",
       "4  709106358  Existing Customer            40      M                3   \n",
       "\n",
       "  Education_Level Marital_Status Income_Category Card_Category  \\\n",
       "0     High School        Married     $60K - $80K          Blue   \n",
       "1        Graduate         Single  Less than $40K          Blue   \n",
       "2        Graduate        Married    $80K - $120K          Blue   \n",
       "3     High School        Unknown  Less than $40K          Blue   \n",
       "4      Uneducated        Married     $60K - $80K          Blue   \n",
       "\n",
       "   Months_on_book  ...  Credit_Limit  Total_Revolving_Bal  Avg_Open_To_Buy  \\\n",
       "0              39  ...       12691.0                  777          11914.0   \n",
       "1              44  ...        8256.0                  864           7392.0   \n",
       "2              36  ...        3418.0                    0           3418.0   \n",
       "3              34  ...        3313.0                 2517            796.0   \n",
       "4              21  ...        4716.0                    0           4716.0   \n",
       "\n",
       "   Total_Amt_Chng_Q4_Q1  Total_Trans_Amt  Total_Trans_Ct  Total_Ct_Chng_Q4_Q1  \\\n",
       "0                 1.335             1144              42                1.625   \n",
       "1                 1.541             1291              33                3.714   \n",
       "2                 2.594             1887              20                2.333   \n",
       "3                 1.405             1171              20                2.333   \n",
       "4                 2.175              816              28                2.500   \n",
       "\n",
       "   Avg_Utilization_Ratio  \\\n",
       "0                  0.061   \n",
       "1                  0.105   \n",
       "2                  0.000   \n",
       "3                  0.760   \n",
       "4                  0.000   \n",
       "\n",
       "   Naive_Bayes_Classifier_Attrition_Flag_Card_Category_Contacts_Count_12_mon_Dependent_count_Education_Level_Months_Inactive_12_mon_1  \\\n",
       "0                                           0.000093                                                                                    \n",
       "1                                           0.000057                                                                                    \n",
       "2                                           0.000021                                                                                    \n",
       "3                                           0.000134                                                                                    \n",
       "4                                           0.000022                                                                                    \n",
       "\n",
       "   Naive_Bayes_Classifier_Attrition_Flag_Card_Category_Contacts_Count_12_mon_Dependent_count_Education_Level_Months_Inactive_12_mon_2  \n",
       "0                                            0.99991                                                                                   \n",
       "1                                            0.99994                                                                                   \n",
       "2                                            0.99998                                                                                   \n",
       "3                                            0.99987                                                                                   \n",
       "4                                            0.99998                                                                                   \n",
       "\n",
       "[5 rows x 23 columns]"
      ]
     },
     "execution_count": 45,
     "metadata": {},
     "output_type": "execute_result"
    }
   ],
   "source": [
    "df = pd.read_csv(\"/Users/sewoongmoon/*Data/BankChurners.csv\")\n",
    "df.head()"
   ]
  },
  {
   "cell_type": "code",
   "execution_count": 84,
   "id": "85daeb63",
   "metadata": {},
   "outputs": [
    {
     "data": {
      "text/html": [
       "<div>\n",
       "<style scoped>\n",
       "    .dataframe tbody tr th:only-of-type {\n",
       "        vertical-align: middle;\n",
       "    }\n",
       "\n",
       "    .dataframe tbody tr th {\n",
       "        vertical-align: top;\n",
       "    }\n",
       "\n",
       "    .dataframe thead th {\n",
       "        text-align: right;\n",
       "    }\n",
       "</style>\n",
       "<table border=\"1\" class=\"dataframe\">\n",
       "  <thead>\n",
       "    <tr style=\"text-align: right;\">\n",
       "      <th></th>\n",
       "      <th>Months_on_book</th>\n",
       "      <th>Total_Relationship_Count</th>\n",
       "      <th>Card_Category</th>\n",
       "      <th>Attrition_Flag</th>\n",
       "    </tr>\n",
       "  </thead>\n",
       "  <tbody>\n",
       "    <tr>\n",
       "      <th>0</th>\n",
       "      <td>39</td>\n",
       "      <td>5</td>\n",
       "      <td>Blue</td>\n",
       "      <td>Existing Customer</td>\n",
       "    </tr>\n",
       "    <tr>\n",
       "      <th>1</th>\n",
       "      <td>44</td>\n",
       "      <td>6</td>\n",
       "      <td>Blue</td>\n",
       "      <td>Existing Customer</td>\n",
       "    </tr>\n",
       "    <tr>\n",
       "      <th>2</th>\n",
       "      <td>36</td>\n",
       "      <td>4</td>\n",
       "      <td>Blue</td>\n",
       "      <td>Existing Customer</td>\n",
       "    </tr>\n",
       "    <tr>\n",
       "      <th>3</th>\n",
       "      <td>34</td>\n",
       "      <td>3</td>\n",
       "      <td>Blue</td>\n",
       "      <td>Existing Customer</td>\n",
       "    </tr>\n",
       "    <tr>\n",
       "      <th>4</th>\n",
       "      <td>21</td>\n",
       "      <td>5</td>\n",
       "      <td>Blue</td>\n",
       "      <td>Existing Customer</td>\n",
       "    </tr>\n",
       "    <tr>\n",
       "      <th>...</th>\n",
       "      <td>...</td>\n",
       "      <td>...</td>\n",
       "      <td>...</td>\n",
       "      <td>...</td>\n",
       "    </tr>\n",
       "    <tr>\n",
       "      <th>10122</th>\n",
       "      <td>40</td>\n",
       "      <td>3</td>\n",
       "      <td>Blue</td>\n",
       "      <td>Existing Customer</td>\n",
       "    </tr>\n",
       "    <tr>\n",
       "      <th>10123</th>\n",
       "      <td>25</td>\n",
       "      <td>4</td>\n",
       "      <td>Blue</td>\n",
       "      <td>Attrited Customer</td>\n",
       "    </tr>\n",
       "    <tr>\n",
       "      <th>10124</th>\n",
       "      <td>36</td>\n",
       "      <td>5</td>\n",
       "      <td>Blue</td>\n",
       "      <td>Attrited Customer</td>\n",
       "    </tr>\n",
       "    <tr>\n",
       "      <th>10125</th>\n",
       "      <td>36</td>\n",
       "      <td>4</td>\n",
       "      <td>Blue</td>\n",
       "      <td>Attrited Customer</td>\n",
       "    </tr>\n",
       "    <tr>\n",
       "      <th>10126</th>\n",
       "      <td>25</td>\n",
       "      <td>6</td>\n",
       "      <td>Silver</td>\n",
       "      <td>Attrited Customer</td>\n",
       "    </tr>\n",
       "  </tbody>\n",
       "</table>\n",
       "<p>10127 rows × 4 columns</p>\n",
       "</div>"
      ],
      "text/plain": [
       "       Months_on_book  Total_Relationship_Count Card_Category  \\\n",
       "0                  39                         5          Blue   \n",
       "1                  44                         6          Blue   \n",
       "2                  36                         4          Blue   \n",
       "3                  34                         3          Blue   \n",
       "4                  21                         5          Blue   \n",
       "...               ...                       ...           ...   \n",
       "10122              40                         3          Blue   \n",
       "10123              25                         4          Blue   \n",
       "10124              36                         5          Blue   \n",
       "10125              36                         4          Blue   \n",
       "10126              25                         6        Silver   \n",
       "\n",
       "          Attrition_Flag  \n",
       "0      Existing Customer  \n",
       "1      Existing Customer  \n",
       "2      Existing Customer  \n",
       "3      Existing Customer  \n",
       "4      Existing Customer  \n",
       "...                  ...  \n",
       "10122  Existing Customer  \n",
       "10123  Attrited Customer  \n",
       "10124  Attrited Customer  \n",
       "10125  Attrited Customer  \n",
       "10126  Attrited Customer  \n",
       "\n",
       "[10127 rows x 4 columns]"
      ]
     },
     "execution_count": 84,
     "metadata": {},
     "output_type": "execute_result"
    }
   ],
   "source": [
    "## 전처리 필요한 칼럼 추출\n",
    "df1 = df[[\"Months_on_book\",\"Total_Relationship_Count\",'Card_Category','Attrition_Flag']]\n",
    "df1"
   ]
  },
  {
   "cell_type": "code",
   "execution_count": null,
   "id": "5a64d487",
   "metadata": {
    "scrolled": true
   },
   "outputs": [],
   "source": [
    "# MinMax 적용"
   ]
  },
  {
   "cell_type": "code",
   "execution_count": 86,
   "id": "b8a65a5b",
   "metadata": {},
   "outputs": [
    {
     "name": "stderr",
     "output_type": "stream",
     "text": [
      "<ipython-input-86-bc1f97c64296>:3: SettingWithCopyWarning: \n",
      "A value is trying to be set on a copy of a slice from a DataFrame.\n",
      "Try using .loc[row_indexer,col_indexer] = value instead\n",
      "\n",
      "See the caveats in the documentation: https://pandas.pydata.org/pandas-docs/stable/user_guide/indexing.html#returning-a-view-versus-a-copy\n",
      "  df1[[\"Min_max_Months_on_book\",\"Min_max_Total_Relationship_Count\"]]=minmax.fit_transform(df1[[\"Months_on_book\",\"Total_Relationship_Count\"]]) #0과 1사이의 값으로 치환\n",
      "/Users/sewoongmoon/opt/anaconda3/lib/python3.8/site-packages/pandas/core/indexing.py:1738: SettingWithCopyWarning: \n",
      "A value is trying to be set on a copy of a slice from a DataFrame.\n",
      "Try using .loc[row_indexer,col_indexer] = value instead\n",
      "\n",
      "See the caveats in the documentation: https://pandas.pydata.org/pandas-docs/stable/user_guide/indexing.html#returning-a-view-versus-a-copy\n",
      "  self._setitem_single_column(loc, value[:, i].tolist(), pi)\n"
     ]
    },
    {
     "data": {
      "text/html": [
       "<div>\n",
       "<style scoped>\n",
       "    .dataframe tbody tr th:only-of-type {\n",
       "        vertical-align: middle;\n",
       "    }\n",
       "\n",
       "    .dataframe tbody tr th {\n",
       "        vertical-align: top;\n",
       "    }\n",
       "\n",
       "    .dataframe thead th {\n",
       "        text-align: right;\n",
       "    }\n",
       "</style>\n",
       "<table border=\"1\" class=\"dataframe\">\n",
       "  <thead>\n",
       "    <tr style=\"text-align: right;\">\n",
       "      <th></th>\n",
       "      <th>Months_on_book</th>\n",
       "      <th>Total_Relationship_Count</th>\n",
       "      <th>Card_Category</th>\n",
       "      <th>Attrition_Flag</th>\n",
       "      <th>Min_max_Months_on_book</th>\n",
       "      <th>Min_max_Total_Relationship_Count</th>\n",
       "    </tr>\n",
       "  </thead>\n",
       "  <tbody>\n",
       "    <tr>\n",
       "      <th>0</th>\n",
       "      <td>39</td>\n",
       "      <td>5</td>\n",
       "      <td>Blue</td>\n",
       "      <td>Existing Customer</td>\n",
       "      <td>0.604651</td>\n",
       "      <td>0.8</td>\n",
       "    </tr>\n",
       "    <tr>\n",
       "      <th>1</th>\n",
       "      <td>44</td>\n",
       "      <td>6</td>\n",
       "      <td>Blue</td>\n",
       "      <td>Existing Customer</td>\n",
       "      <td>0.720930</td>\n",
       "      <td>1.0</td>\n",
       "    </tr>\n",
       "    <tr>\n",
       "      <th>2</th>\n",
       "      <td>36</td>\n",
       "      <td>4</td>\n",
       "      <td>Blue</td>\n",
       "      <td>Existing Customer</td>\n",
       "      <td>0.534884</td>\n",
       "      <td>0.6</td>\n",
       "    </tr>\n",
       "    <tr>\n",
       "      <th>3</th>\n",
       "      <td>34</td>\n",
       "      <td>3</td>\n",
       "      <td>Blue</td>\n",
       "      <td>Existing Customer</td>\n",
       "      <td>0.488372</td>\n",
       "      <td>0.4</td>\n",
       "    </tr>\n",
       "    <tr>\n",
       "      <th>4</th>\n",
       "      <td>21</td>\n",
       "      <td>5</td>\n",
       "      <td>Blue</td>\n",
       "      <td>Existing Customer</td>\n",
       "      <td>0.186047</td>\n",
       "      <td>0.8</td>\n",
       "    </tr>\n",
       "  </tbody>\n",
       "</table>\n",
       "</div>"
      ],
      "text/plain": [
       "   Months_on_book  Total_Relationship_Count Card_Category     Attrition_Flag  \\\n",
       "0              39                         5          Blue  Existing Customer   \n",
       "1              44                         6          Blue  Existing Customer   \n",
       "2              36                         4          Blue  Existing Customer   \n",
       "3              34                         3          Blue  Existing Customer   \n",
       "4              21                         5          Blue  Existing Customer   \n",
       "\n",
       "   Min_max_Months_on_book  Min_max_Total_Relationship_Count  \n",
       "0                0.604651                               0.8  \n",
       "1                0.720930                               1.0  \n",
       "2                0.534884                               0.6  \n",
       "3                0.488372                               0.4  \n",
       "4                0.186047                               0.8  "
      ]
     },
     "execution_count": 86,
     "metadata": {},
     "output_type": "execute_result"
    }
   ],
   "source": [
    "from sklearn.preprocessing import MinMaxScaler\n",
    "minmax = MinMaxScaler()\n",
    "df1[[\"Min_max_Months_on_book\",\"Min_max_Total_Relationship_Count\"]]=minmax.fit_transform(df1[[\"Months_on_book\",\"Total_Relationship_Count\"]]) #0과 1사이의 값으로 치환\n",
    "df1[:5]"
   ]
  },
  {
   "cell_type": "code",
   "execution_count": null,
   "id": "6f286966",
   "metadata": {},
   "outputs": [],
   "source": [
    "## 이상치 확인을 위해 그래프로 확인"
   ]
  },
  {
   "cell_type": "code",
   "execution_count": null,
   "id": "ebfee1a0",
   "metadata": {},
   "outputs": [],
   "source": []
  },
  {
   "cell_type": "code",
   "execution_count": 88,
   "id": "43691883",
   "metadata": {},
   "outputs": [
    {
     "data": {
      "text/plain": [
       "<AxesSubplot:ylabel='Density'>"
      ]
     },
     "execution_count": 88,
     "metadata": {},
     "output_type": "execute_result"
    },
    {
     "data": {
      "image/png": "[encoded data removed]",
      "text/plain": [
       "<Figure size 432x288 with 1 Axes>"
      ]
     },
     "metadata": {
      "needs_background": "light"
     },
     "output_type": "display_data"
    }
   ],
   "source": [
    "df1[[\"Min_max_Months_on_book\",\"Min_max_Total_Relationship_Count\"]].plot.kde()"
   ]
  },
  {
   "cell_type": "code",
   "execution_count": 89,
   "id": "88891842",
   "metadata": {},
   "outputs": [
    {
     "data": {
      "text/plain": [
       "Months_on_book                                     56\n",
       "Total_Relationship_Count                            6\n",
       "Card_Category                                  Silver\n",
       "Attrition_Flag                      Existing Customer\n",
       "Min_max_Months_on_book                            1.0\n",
       "Min_max_Total_Relationship_Count                  1.0\n",
       "dtype: object"
      ]
     },
     "execution_count": 89,
     "metadata": {},
     "output_type": "execute_result"
    }
   ],
   "source": [
    "## 맥스, 미니멈 값이 평균값에 크게 벗어나는지- i.e 이상치가 존재하는지 확인\n",
    "maxes = df1.max()\n",
    "maxes\n"
   ]
  },
  {
   "cell_type": "code",
   "execution_count": 90,
   "id": "047b4954",
   "metadata": {},
   "outputs": [
    {
     "data": {
      "text/plain": [
       "Months_on_book                                     13\n",
       "Total_Relationship_Count                            1\n",
       "Card_Category                                    Blue\n",
       "Attrition_Flag                      Attrited Customer\n",
       "Min_max_Months_on_book                            0.0\n",
       "Min_max_Total_Relationship_Count                  0.0\n",
       "dtype: object"
      ]
     },
     "execution_count": 90,
     "metadata": {},
     "output_type": "execute_result"
    }
   ],
   "source": [
    "mins = df1.min()\n",
    "mins"
   ]
  },
  {
   "cell_type": "code",
   "execution_count": 91,
   "id": "5eacfb10",
   "metadata": {},
   "outputs": [
    {
     "data": {
      "text/plain": [
       "Months_on_book                      0\n",
       "Total_Relationship_Count            0\n",
       "Card_Category                       0\n",
       "Attrition_Flag                      0\n",
       "Min_max_Months_on_book              0\n",
       "Min_max_Total_Relationship_Count    0\n",
       "dtype: int64"
      ]
     },
     "execution_count": 91,
     "metadata": {},
     "output_type": "execute_result"
    }
   ],
   "source": [
    "df1.isnull().sum(axis=0)"
   ]
  },
  {
   "cell_type": "code",
   "execution_count": 92,
   "id": "dadc8abc",
   "metadata": {},
   "outputs": [
    {
     "data": {
      "text/plain": [
       "Months_on_book                      35.928409\n",
       "Total_Relationship_Count             3.812580\n",
       "Min_max_Months_on_book               0.533219\n",
       "Min_max_Total_Relationship_Count     0.562516\n",
       "dtype: float64"
      ]
     },
     "execution_count": 92,
     "metadata": {},
     "output_type": "execute_result"
    }
   ],
   "source": [
    "df1.mean()"
   ]
  },
  {
   "cell_type": "code",
   "execution_count": 93,
   "id": "cd746482",
   "metadata": {},
   "outputs": [
    {
     "data": {
      "text/html": [
       "<div>\n",
       "<style scoped>\n",
       "    .dataframe tbody tr th:only-of-type {\n",
       "        vertical-align: middle;\n",
       "    }\n",
       "\n",
       "    .dataframe tbody tr th {\n",
       "        vertical-align: top;\n",
       "    }\n",
       "\n",
       "    .dataframe thead th {\n",
       "        text-align: right;\n",
       "    }\n",
       "</style>\n",
       "<table border=\"1\" class=\"dataframe\">\n",
       "  <thead>\n",
       "    <tr style=\"text-align: right;\">\n",
       "      <th></th>\n",
       "      <th>Months_on_book</th>\n",
       "      <th>Total_Relationship_Count</th>\n",
       "      <th>Card_Category</th>\n",
       "      <th>Attrition_Flag</th>\n",
       "      <th>Min_max_Months_on_book</th>\n",
       "      <th>Min_max_Total_Relationship_Count</th>\n",
       "    </tr>\n",
       "  </thead>\n",
       "  <tbody>\n",
       "    <tr>\n",
       "      <th>0</th>\n",
       "      <td>39</td>\n",
       "      <td>5</td>\n",
       "      <td>Blue</td>\n",
       "      <td>Existing Customer</td>\n",
       "      <td>0.604651</td>\n",
       "      <td>0.8</td>\n",
       "    </tr>\n",
       "    <tr>\n",
       "      <th>1</th>\n",
       "      <td>44</td>\n",
       "      <td>6</td>\n",
       "      <td>Blue</td>\n",
       "      <td>Existing Customer</td>\n",
       "      <td>0.720930</td>\n",
       "      <td>1.0</td>\n",
       "    </tr>\n",
       "    <tr>\n",
       "      <th>2</th>\n",
       "      <td>36</td>\n",
       "      <td>4</td>\n",
       "      <td>Blue</td>\n",
       "      <td>Existing Customer</td>\n",
       "      <td>0.534884</td>\n",
       "      <td>0.6</td>\n",
       "    </tr>\n",
       "    <tr>\n",
       "      <th>3</th>\n",
       "      <td>34</td>\n",
       "      <td>3</td>\n",
       "      <td>Blue</td>\n",
       "      <td>Existing Customer</td>\n",
       "      <td>0.488372</td>\n",
       "      <td>0.4</td>\n",
       "    </tr>\n",
       "    <tr>\n",
       "      <th>4</th>\n",
       "      <td>21</td>\n",
       "      <td>5</td>\n",
       "      <td>Blue</td>\n",
       "      <td>Existing Customer</td>\n",
       "      <td>0.186047</td>\n",
       "      <td>0.8</td>\n",
       "    </tr>\n",
       "    <tr>\n",
       "      <th>...</th>\n",
       "      <td>...</td>\n",
       "      <td>...</td>\n",
       "      <td>...</td>\n",
       "      <td>...</td>\n",
       "      <td>...</td>\n",
       "      <td>...</td>\n",
       "    </tr>\n",
       "    <tr>\n",
       "      <th>10122</th>\n",
       "      <td>40</td>\n",
       "      <td>3</td>\n",
       "      <td>Blue</td>\n",
       "      <td>Existing Customer</td>\n",
       "      <td>0.627907</td>\n",
       "      <td>0.4</td>\n",
       "    </tr>\n",
       "    <tr>\n",
       "      <th>10123</th>\n",
       "      <td>25</td>\n",
       "      <td>4</td>\n",
       "      <td>Blue</td>\n",
       "      <td>Attrited Customer</td>\n",
       "      <td>0.279070</td>\n",
       "      <td>0.6</td>\n",
       "    </tr>\n",
       "    <tr>\n",
       "      <th>10124</th>\n",
       "      <td>36</td>\n",
       "      <td>5</td>\n",
       "      <td>Blue</td>\n",
       "      <td>Attrited Customer</td>\n",
       "      <td>0.534884</td>\n",
       "      <td>0.8</td>\n",
       "    </tr>\n",
       "    <tr>\n",
       "      <th>10125</th>\n",
       "      <td>36</td>\n",
       "      <td>4</td>\n",
       "      <td>Blue</td>\n",
       "      <td>Attrited Customer</td>\n",
       "      <td>0.534884</td>\n",
       "      <td>0.6</td>\n",
       "    </tr>\n",
       "    <tr>\n",
       "      <th>10126</th>\n",
       "      <td>25</td>\n",
       "      <td>6</td>\n",
       "      <td>Silver</td>\n",
       "      <td>Attrited Customer</td>\n",
       "      <td>0.279070</td>\n",
       "      <td>1.0</td>\n",
       "    </tr>\n",
       "  </tbody>\n",
       "</table>\n",
       "<p>10127 rows × 6 columns</p>\n",
       "</div>"
      ],
      "text/plain": [
       "       Months_on_book  Total_Relationship_Count Card_Category  \\\n",
       "0                  39                         5          Blue   \n",
       "1                  44                         6          Blue   \n",
       "2                  36                         4          Blue   \n",
       "3                  34                         3          Blue   \n",
       "4                  21                         5          Blue   \n",
       "...               ...                       ...           ...   \n",
       "10122              40                         3          Blue   \n",
       "10123              25                         4          Blue   \n",
       "10124              36                         5          Blue   \n",
       "10125              36                         4          Blue   \n",
       "10126              25                         6        Silver   \n",
       "\n",
       "          Attrition_Flag  Min_max_Months_on_book  \\\n",
       "0      Existing Customer                0.604651   \n",
       "1      Existing Customer                0.720930   \n",
       "2      Existing Customer                0.534884   \n",
       "3      Existing Customer                0.488372   \n",
       "4      Existing Customer                0.186047   \n",
       "...                  ...                     ...   \n",
       "10122  Existing Customer                0.627907   \n",
       "10123  Attrited Customer                0.279070   \n",
       "10124  Attrited Customer                0.534884   \n",
       "10125  Attrited Customer                0.534884   \n",
       "10126  Attrited Customer                0.279070   \n",
       "\n",
       "       Min_max_Total_Relationship_Count  \n",
       "0                                   0.8  \n",
       "1                                   1.0  \n",
       "2                                   0.6  \n",
       "3                                   0.4  \n",
       "4                                   0.8  \n",
       "...                                 ...  \n",
       "10122                               0.4  \n",
       "10123                               0.6  \n",
       "10124                               0.8  \n",
       "10125                               0.6  \n",
       "10126                               1.0  \n",
       "\n",
       "[10127 rows x 6 columns]"
      ]
     },
     "execution_count": 93,
     "metadata": {},
     "output_type": "execute_result"
    }
   ],
   "source": [
    "df1\n"
   ]
  },
  {
   "cell_type": "code",
   "execution_count": 94,
   "id": "f9fbb6c9",
   "metadata": {},
   "outputs": [],
   "source": [
    "## 카드 카테고리를 숫자로 변환  {블루 :1 , 실버 :2, 골드: 3 , 플레티넘 :4 }\n",
    "card_mapping = {'Blue':1, 'Silver':2, 'Gold':3, 'Platinum':4}"
   ]
  },
  {
   "cell_type": "code",
   "execution_count": 95,
   "id": "dfe11c8e",
   "metadata": {},
   "outputs": [
    {
     "name": "stderr",
     "output_type": "stream",
     "text": [
      "<ipython-input-95-fb382b17e531>:1: SettingWithCopyWarning: \n",
      "A value is trying to be set on a copy of a slice from a DataFrame.\n",
      "Try using .loc[row_indexer,col_indexer] = value instead\n",
      "\n",
      "See the caveats in the documentation: https://pandas.pydata.org/pandas-docs/stable/user_guide/indexing.html#returning-a-view-versus-a-copy\n",
      "  df1['Card'] = df1['Card_Category'].map(card_mapping)\n"
     ]
    }
   ],
   "source": [
    "df1['Card'] = df1['Card_Category'].map(card_mapping)"
   ]
  },
  {
   "cell_type": "code",
   "execution_count": 96,
   "id": "80ac43cf",
   "metadata": {},
   "outputs": [
    {
     "data": {
      "text/html": [
       "<div>\n",
       "<style scoped>\n",
       "    .dataframe tbody tr th:only-of-type {\n",
       "        vertical-align: middle;\n",
       "    }\n",
       "\n",
       "    .dataframe tbody tr th {\n",
       "        vertical-align: top;\n",
       "    }\n",
       "\n",
       "    .dataframe thead th {\n",
       "        text-align: right;\n",
       "    }\n",
       "</style>\n",
       "<table border=\"1\" class=\"dataframe\">\n",
       "  <thead>\n",
       "    <tr style=\"text-align: right;\">\n",
       "      <th></th>\n",
       "      <th>Months_on_book</th>\n",
       "      <th>Total_Relationship_Count</th>\n",
       "      <th>Card_Category</th>\n",
       "      <th>Attrition_Flag</th>\n",
       "      <th>Min_max_Months_on_book</th>\n",
       "      <th>Min_max_Total_Relationship_Count</th>\n",
       "      <th>Card</th>\n",
       "    </tr>\n",
       "  </thead>\n",
       "  <tbody>\n",
       "    <tr>\n",
       "      <th>0</th>\n",
       "      <td>39</td>\n",
       "      <td>5</td>\n",
       "      <td>Blue</td>\n",
       "      <td>Existing Customer</td>\n",
       "      <td>0.604651</td>\n",
       "      <td>0.8</td>\n",
       "      <td>1</td>\n",
       "    </tr>\n",
       "    <tr>\n",
       "      <th>1</th>\n",
       "      <td>44</td>\n",
       "      <td>6</td>\n",
       "      <td>Blue</td>\n",
       "      <td>Existing Customer</td>\n",
       "      <td>0.720930</td>\n",
       "      <td>1.0</td>\n",
       "      <td>1</td>\n",
       "    </tr>\n",
       "    <tr>\n",
       "      <th>2</th>\n",
       "      <td>36</td>\n",
       "      <td>4</td>\n",
       "      <td>Blue</td>\n",
       "      <td>Existing Customer</td>\n",
       "      <td>0.534884</td>\n",
       "      <td>0.6</td>\n",
       "      <td>1</td>\n",
       "    </tr>\n",
       "    <tr>\n",
       "      <th>3</th>\n",
       "      <td>34</td>\n",
       "      <td>3</td>\n",
       "      <td>Blue</td>\n",
       "      <td>Existing Customer</td>\n",
       "      <td>0.488372</td>\n",
       "      <td>0.4</td>\n",
       "      <td>1</td>\n",
       "    </tr>\n",
       "    <tr>\n",
       "      <th>4</th>\n",
       "      <td>21</td>\n",
       "      <td>5</td>\n",
       "      <td>Blue</td>\n",
       "      <td>Existing Customer</td>\n",
       "      <td>0.186047</td>\n",
       "      <td>0.8</td>\n",
       "      <td>1</td>\n",
       "    </tr>\n",
       "    <tr>\n",
       "      <th>...</th>\n",
       "      <td>...</td>\n",
       "      <td>...</td>\n",
       "      <td>...</td>\n",
       "      <td>...</td>\n",
       "      <td>...</td>\n",
       "      <td>...</td>\n",
       "      <td>...</td>\n",
       "    </tr>\n",
       "    <tr>\n",
       "      <th>10122</th>\n",
       "      <td>40</td>\n",
       "      <td>3</td>\n",
       "      <td>Blue</td>\n",
       "      <td>Existing Customer</td>\n",
       "      <td>0.627907</td>\n",
       "      <td>0.4</td>\n",
       "      <td>1</td>\n",
       "    </tr>\n",
       "    <tr>\n",
       "      <th>10123</th>\n",
       "      <td>25</td>\n",
       "      <td>4</td>\n",
       "      <td>Blue</td>\n",
       "      <td>Attrited Customer</td>\n",
       "      <td>0.279070</td>\n",
       "      <td>0.6</td>\n",
       "      <td>1</td>\n",
       "    </tr>\n",
       "    <tr>\n",
       "      <th>10124</th>\n",
       "      <td>36</td>\n",
       "      <td>5</td>\n",
       "      <td>Blue</td>\n",
       "      <td>Attrited Customer</td>\n",
       "      <td>0.534884</td>\n",
       "      <td>0.8</td>\n",
       "      <td>1</td>\n",
       "    </tr>\n",
       "    <tr>\n",
       "      <th>10125</th>\n",
       "      <td>36</td>\n",
       "      <td>4</td>\n",
       "      <td>Blue</td>\n",
       "      <td>Attrited Customer</td>\n",
       "      <td>0.534884</td>\n",
       "      <td>0.6</td>\n",
       "      <td>1</td>\n",
       "    </tr>\n",
       "    <tr>\n",
       "      <th>10126</th>\n",
       "      <td>25</td>\n",
       "      <td>6</td>\n",
       "      <td>Silver</td>\n",
       "      <td>Attrited Customer</td>\n",
       "      <td>0.279070</td>\n",
       "      <td>1.0</td>\n",
       "      <td>2</td>\n",
       "    </tr>\n",
       "  </tbody>\n",
       "</table>\n",
       "<p>10127 rows × 7 columns</p>\n",
       "</div>"
      ],
      "text/plain": [
       "       Months_on_book  Total_Relationship_Count Card_Category  \\\n",
       "0                  39                         5          Blue   \n",
       "1                  44                         6          Blue   \n",
       "2                  36                         4          Blue   \n",
       "3                  34                         3          Blue   \n",
       "4                  21                         5          Blue   \n",
       "...               ...                       ...           ...   \n",
       "10122              40                         3          Blue   \n",
       "10123              25                         4          Blue   \n",
       "10124              36                         5          Blue   \n",
       "10125              36                         4          Blue   \n",
       "10126              25                         6        Silver   \n",
       "\n",
       "          Attrition_Flag  Min_max_Months_on_book  \\\n",
       "0      Existing Customer                0.604651   \n",
       "1      Existing Customer                0.720930   \n",
       "2      Existing Customer                0.534884   \n",
       "3      Existing Customer                0.488372   \n",
       "4      Existing Customer                0.186047   \n",
       "...                  ...                     ...   \n",
       "10122  Existing Customer                0.627907   \n",
       "10123  Attrited Customer                0.279070   \n",
       "10124  Attrited Customer                0.534884   \n",
       "10125  Attrited Customer                0.534884   \n",
       "10126  Attrited Customer                0.279070   \n",
       "\n",
       "       Min_max_Total_Relationship_Count  Card  \n",
       "0                                   0.8     1  \n",
       "1                                   1.0     1  \n",
       "2                                   0.6     1  \n",
       "3                                   0.4     1  \n",
       "4                                   0.8     1  \n",
       "...                                 ...   ...  \n",
       "10122                               0.4     1  \n",
       "10123                               0.6     1  \n",
       "10124                               0.8     1  \n",
       "10125                               0.6     1  \n",
       "10126                               1.0     2  \n",
       "\n",
       "[10127 rows x 7 columns]"
      ]
     },
     "execution_count": 96,
     "metadata": {},
     "output_type": "execute_result"
    }
   ],
   "source": [
    "df1"
   ]
  },
  {
   "cell_type": "code",
   "execution_count": 97,
   "id": "d0a893d7",
   "metadata": {},
   "outputs": [
    {
     "data": {
      "text/plain": [
       "Months_on_book                        int64\n",
       "Total_Relationship_Count              int64\n",
       "Card_Category                        object\n",
       "Attrition_Flag                       object\n",
       "Min_max_Months_on_book              float64\n",
       "Min_max_Total_Relationship_Count    float64\n",
       "Card                                  int64\n",
       "dtype: object"
      ]
     },
     "execution_count": 97,
     "metadata": {},
     "output_type": "execute_result"
    }
   ],
   "source": [
    "df1.dtypes"
   ]
  },
  {
   "cell_type": "code",
   "execution_count": 98,
   "id": "2124157d",
   "metadata": {},
   "outputs": [],
   "source": [
    "# df1['Card'] = df1['Card'].astype('category')"
   ]
  },
  {
   "cell_type": "code",
   "execution_count": 99,
   "id": "c4d9a1f7",
   "metadata": {},
   "outputs": [],
   "source": [
    "# df1.dtypes"
   ]
  },
  {
   "cell_type": "code",
   "execution_count": 100,
   "id": "cac62286",
   "metadata": {},
   "outputs": [
    {
     "data": {
      "text/plain": [
       "<AxesSubplot:xlabel='Months_on_book', ylabel='Count'>"
      ]
     },
     "execution_count": 100,
     "metadata": {},
     "output_type": "execute_result"
    },
    {
     "data": {
      "image/png": "[encoded data removed]",
      "text/plain": [
       "<Figure size 432x288 with 1 Axes>"
      ]
     },
     "metadata": {
      "needs_background": "light"
     },
     "output_type": "display_data"
    }
   ],
   "source": [
    "sns.histplot(df1[\"Months_on_book\"])"
   ]
  },
  {
   "cell_type": "code",
   "execution_count": null,
   "id": "715d8004",
   "metadata": {},
   "outputs": [],
   "source": [
    "### 36개월이 많은 이유는? "
   ]
  },
  {
   "cell_type": "code",
   "execution_count": null,
   "id": "ca21e8f2",
   "metadata": {},
   "outputs": [],
   "source": []
  },
  {
   "cell_type": "code",
   "execution_count": 101,
   "id": "1d3357f4",
   "metadata": {},
   "outputs": [
    {
     "data": {
      "text/plain": [
       "<AxesSubplot:xlabel='Total_Relationship_Count', ylabel='Count'>"
      ]
     },
     "execution_count": 101,
     "metadata": {},
     "output_type": "execute_result"
    },
    {
     "data": {
      "image/png": "[encoded data removed]",
      "text/plain": [
       "<Figure size 432x288 with 1 Axes>"
      ]
     },
     "metadata": {
      "needs_background": "light"
     },
     "output_type": "display_data"
    }
   ],
   "source": [
    "sns.histplot(df1[\"Total_Relationship_Count\"])"
   ]
  },
  {
   "cell_type": "code",
   "execution_count": 102,
   "id": "fb455194",
   "metadata": {},
   "outputs": [
    {
     "data": {
      "text/plain": [
       "<AxesSubplot:xlabel='Card_Category', ylabel='Count'>"
      ]
     },
     "execution_count": 102,
     "metadata": {},
     "output_type": "execute_result"
    },
    {
     "data": {
      "image/png": "[encoded data removed]",
      "text/plain": [
       "<Figure size 432x288 with 1 Axes>"
      ]
     },
     "metadata": {
      "needs_background": "light"
     },
     "output_type": "display_data"
    }
   ],
   "source": [
    "sns.histplot(df1[\"Card_Category\"])"
   ]
  },
  {
   "cell_type": "code",
   "execution_count": 103,
   "id": "8f0fbdc3",
   "metadata": {},
   "outputs": [
    {
     "data": {
      "text/plain": [
       "36    2463\n",
       "37     358\n",
       "34     353\n",
       "38     347\n",
       "39     341\n",
       "40     333\n",
       "31     318\n",
       "35     317\n",
       "33     305\n",
       "30     300\n",
       "41     297\n",
       "32     289\n",
       "28     275\n",
       "43     273\n",
       "42     271\n",
       "29     241\n",
       "44     230\n",
       "45     227\n",
       "27     206\n",
       "46     197\n",
       "26     186\n",
       "47     171\n",
       "25     165\n",
       "48     162\n",
       "24     160\n",
       "49     141\n",
       "23     116\n",
       "22     105\n",
       "56     103\n",
       "50      96\n",
       "21      83\n",
       "51      80\n",
       "53      78\n",
       "20      74\n",
       "13      70\n",
       "19      63\n",
       "52      62\n",
       "18      58\n",
       "54      53\n",
       "55      42\n",
       "17      39\n",
       "15      34\n",
       "16      29\n",
       "14      16\n",
       "Name: Months_on_book, dtype: int64"
      ]
     },
     "execution_count": 103,
     "metadata": {},
     "output_type": "execute_result"
    }
   ],
   "source": [
    "\n",
    "df1[\"Months_on_book\"].value_counts()"
   ]
  },
  {
   "cell_type": "code",
   "execution_count": 105,
   "id": "0a527d7a",
   "metadata": {},
   "outputs": [],
   "source": [
    "df2 =df1.loc[df1['Months_on_book'] == 36]"
   ]
  },
  {
   "cell_type": "code",
   "execution_count": 107,
   "id": "219ff8bc",
   "metadata": {},
   "outputs": [
    {
     "data": {
      "text/plain": [
       "Existing Customer    2033\n",
       "Attrited Customer     430\n",
       "Name: Attrition_Flag, dtype: int64"
      ]
     },
     "execution_count": 107,
     "metadata": {},
     "output_type": "execute_result"
    }
   ],
   "source": [
    "df2['Attrition_Flag'].value_counts()"
   ]
  },
  {
   "cell_type": "code",
   "execution_count": 106,
   "id": "eec8fa51",
   "metadata": {},
   "outputs": [
    {
     "data": {
      "text/plain": [
       "<AxesSubplot:>"
      ]
     },
     "execution_count": 106,
     "metadata": {},
     "output_type": "execute_result"
    },
    {
     "data": {
      "image/png": "[encoded data removed]",
      "text/plain": [
       "<Figure size 432x288 with 1 Axes>"
      ]
     },
     "metadata": {
      "needs_background": "light"
     },
     "output_type": "display_data"
    }
   ],
   "source": [
    "df2['Attrition_Flag'].value_counts().plot(kind = 'bar')"
   ]
  },
  {
   "cell_type": "code",
   "execution_count": 108,
   "id": "ae63758e",
   "metadata": {},
   "outputs": [
    {
     "data": {
      "text/plain": [
       "<AxesSubplot:>"
      ]
     },
     "execution_count": 108,
     "metadata": {},
     "output_type": "execute_result"
    },
    {
     "data": {
      "image/png": "[encoded data removed]",
      "text/plain": [
       "<Figure size 432x288 with 1 Axes>"
      ]
     },
     "metadata": {
      "needs_background": "light"
     },
     "output_type": "display_data"
    }
   ],
   "source": [
    "df1['Attrition_Flag'].value_counts().plot(kind = 'bar')"
   ]
  },
  {
   "cell_type": "code",
   "execution_count": null,
   "id": "6a25dd50",
   "metadata": {},
   "outputs": [],
   "source": [
    "# 큰 차이가 없으니 살려야 하나?"
   ]
  },
  {
   "cell_type": "code",
   "execution_count": null,
   "id": "6cf6fc22",
   "metadata": {},
   "outputs": [],
   "source": [
    "plt.bar(x-0.2, y1, width, color='cyan')\n",
    "plt.bar(x, y2, width, color='orange')\n",
    "plt.bar(x+0.2, y3, width, color='green')\n",
    "plt.xticks(x, ['Team A', 'Team B', 'Team C', 'Team D', 'Team E'])\n",
    "plt.xlabel(\"Teams\")\n",
    "plt.ylabel(\"Scores\")\n",
    "plt.legend([\"Round 1\", \"Round 2\", \"Round 3\"])\n",
    "plt.show()"
   ]
  }
 ],
 "metadata": {
  "kernelspec": {
   "display_name": "Python 3 (ipykernel)",
   "language": "python",
   "name": "python3"
  },
  "language_info": {
   "codemirror_mode": {
    "name": "ipython",
    "version": 3
   },
   "file_extension": ".py",
   "mimetype": "text/x-python",
   "name": "python",
   "nbconvert_exporter": "python",
   "pygments_lexer": "ipython3",
   "version": "3.9.5"
  }
 },
 "nbformat": 4,
 "nbformat_minor": 5
}
